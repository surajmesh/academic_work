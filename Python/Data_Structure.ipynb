{
 "cells": [
  {
   "cell_type": "markdown",
   "id": "f8pItHtgkpbz",
   "metadata": {
    "id": "f8pItHtgkpbz"
   },
   "source": [
    "# <center> <u>Data Structures <u> </center>"
   ]
  },
  {
   "cell_type": "markdown",
   "id": "MWx_0nS8kpb4",
   "metadata": {
    "id": "MWx_0nS8kpb4"
   },
   "source": [
    "## 1. Lists\n",
    "\n",
    "Reference:- https://www.youtube.com/watch?v=b3O9qI5dcHE&list=PLsR_0x6BuM-GCc3iD6OQuEZHCAtYPmZfx&index=10\n",
    "\n"
   ]
  },
  {
   "cell_type": "markdown",
   "id": "UtGdnSPmkpb5",
   "metadata": {
    "id": "UtGdnSPmkpb5"
   },
   "source": [
    "<p style='text-align: right;'> 1+1+1 = 3 points</p>\n"
   ]
  },
  {
   "cell_type": "markdown",
   "id": "WAhL2Oo-kpb6",
   "metadata": {
    "id": "WAhL2Oo-kpb6"
   },
   "source": [
    "#### 1.1 Create an empty list with the name ‘a’, print the value of a and type(a).\n"
   ]
  },
  {
   "cell_type": "code",
   "execution_count": 1,
   "id": "urx8RrG0kpb6",
   "metadata": {
    "id": "urx8RrG0kpb6"
   },
   "outputs": [],
   "source": [
    "# create empty list, name it 'a'\n",
    "a =[\"suraj\",\"akhilesh\",\"sneha\",\"ashwini\"]"
   ]
  },
  {
   "cell_type": "code",
   "execution_count": 2,
   "id": "kfqiZLuKkpb8",
   "metadata": {
    "id": "kfqiZLuKkpb8",
    "outputId": "6a207d4d-9dd2-4ef1-c7d3-cff9908af87d"
   },
   "outputs": [
    {
     "data": {
      "text/plain": [
       "['suraj', 'akhilesh', 'sneha', 'ashwini']"
      ]
     },
     "execution_count": 2,
     "metadata": {},
     "output_type": "execute_result"
    }
   ],
   "source": [
    "# print the value of a\n",
    "a\n"
   ]
  },
  {
   "cell_type": "code",
   "execution_count": 3,
   "id": "eWwP4exrkpb9",
   "metadata": {
    "id": "eWwP4exrkpb9",
    "outputId": "12e05b44-6e47-4f63-e2d1-f348f9cfa857"
   },
   "outputs": [
    {
     "data": {
      "text/plain": [
       "list"
      ]
     },
     "execution_count": 3,
     "metadata": {},
     "output_type": "execute_result"
    }
   ],
   "source": [
    "# print the type of a\n",
    "\n",
    "type(a)"
   ]
  },
  {
   "cell_type": "markdown",
   "id": "32ysMWS-kpb-",
   "metadata": {
    "id": "32ysMWS-kpb-"
   },
   "source": [
    "#### 1.2.Create a list , languages = ['R','Python', 'SAS', 'Scala', 42], "
   ]
  },
  {
   "cell_type": "markdown",
   "id": "c0kXpcXjkpb-",
   "metadata": {
    "id": "c0kXpcXjkpb-"
   },
   "source": [
    "<p style='text-align: right;'> 1+1+1+1+1+1+1+1 = 7 points</p>\n"
   ]
  },
  {
   "cell_type": "code",
   "execution_count": 19,
   "id": "g-AO-p4Dkpb_",
   "metadata": {
    "id": "g-AO-p4Dkpb_"
   },
   "outputs": [],
   "source": [
    "#code here\n",
    "languages = ['R','Python', 'SAS', 'Scala', 42]"
   ]
  },
  {
   "cell_type": "markdown",
   "id": "8PF67_8SkpcA",
   "metadata": {
    "id": "8PF67_8SkpcA"
   },
   "source": [
    "Print the number of elements in the list"
   ]
  },
  {
   "cell_type": "code",
   "execution_count": 20,
   "id": "iQGAQq9VkpcA",
   "metadata": {
    "id": "iQGAQq9VkpcA",
    "outputId": "8fffcca7-8258-4d5d-b783-cab01cf23916"
   },
   "outputs": [
    {
     "name": "stdout",
     "output_type": "stream",
     "text": [
      "5\n"
     ]
    }
   ],
   "source": [
    "#code here\n",
    "print(len(languages))"
   ]
  },
  {
   "cell_type": "markdown",
   "id": "_9sgh2mmkpcA",
   "metadata": {
    "id": "_9sgh2mmkpcA"
   },
   "source": [
    "Using for loop iterate and print all the elements in the list"
   ]
  },
  {
   "cell_type": "code",
   "execution_count": 21,
   "id": "-LcM7OzqkpcB",
   "metadata": {
    "id": "-LcM7OzqkpcB",
    "outputId": "c619e8d1-a924-40d1-cfdd-0899ab237ad6"
   },
   "outputs": [
    {
     "name": "stdout",
     "output_type": "stream",
     "text": [
      "R\n",
      "Python\n",
      "SAS\n",
      "Scala\n",
      "42\n"
     ]
    }
   ],
   "source": [
    "#code here\n",
    "\n",
    "for item in languages :\n",
    "    print(item)"
   ]
  },
  {
   "cell_type": "markdown",
   "id": "jpjlH5l3kpcB",
   "metadata": {
    "id": "jpjlH5l3kpcB"
   },
   "source": [
    "Select the second item, 'Python' and store it in a new variable named 'temp'"
   ]
  },
  {
   "cell_type": "code",
   "execution_count": 22,
   "id": "IQit1VGkkpcC",
   "metadata": {
    "id": "IQit1VGkkpcC"
   },
   "outputs": [
    {
     "name": "stdout",
     "output_type": "stream",
     "text": [
      "Python\n"
     ]
    }
   ],
   "source": [
    "#code here\n",
    "temp = languages[1]\n",
    "print(temp)"
   ]
  },
  {
   "cell_type": "markdown",
   "id": "Ps13-taZkpcC",
   "metadata": {
    "id": "Ps13-taZkpcC"
   },
   "source": [
    "Print the value of temp and type(temp)"
   ]
  },
  {
   "cell_type": "code",
   "execution_count": 23,
   "id": "897kqIj0kpcC",
   "metadata": {
    "id": "897kqIj0kpcC",
    "outputId": "ebee0715-af38-4e96-9f28-9a0182a9f7f6"
   },
   "outputs": [
    {
     "name": "stdout",
     "output_type": "stream",
     "text": [
      "Python\n",
      "<class 'str'>\n"
     ]
    }
   ],
   "source": [
    "#code here\n",
    "print(temp)\n",
    "print(type(temp))\n"
   ]
  },
  {
   "cell_type": "markdown",
   "id": "V9f0P9zTkpcC",
   "metadata": {
    "id": "V9f0P9zTkpcC"
   },
   "source": [
    "Using list comprehension, print the last two elemets of list"
   ]
  },
  {
   "cell_type": "code",
   "execution_count": 24,
   "id": "rZzWEtGakpcD",
   "metadata": {
    "id": "rZzWEtGakpcD",
    "outputId": "73cee00e-963c-43e5-81f3-753ca0936ed8"
   },
   "outputs": [
    {
     "name": "stdout",
     "output_type": "stream",
     "text": [
      "['Scala', 42]\n"
     ]
    }
   ],
   "source": [
    "# code here\n",
    "fil_lang = [i for i in languages if  i == \"Scala\" or i == 42]\n",
    "print(fil_lang)"
   ]
  },
  {
   "cell_type": "markdown",
   "id": "wWY8wHfjkpcD",
   "metadata": {
    "id": "wWY8wHfjkpcD"
   },
   "source": [
    "Append the element 'Java' in the list"
   ]
  },
  {
   "cell_type": "code",
   "execution_count": 2,
   "id": "ig5OP9J3kpcD",
   "metadata": {
    "id": "ig5OP9J3kpcD"
   },
   "outputs": [
    {
     "name": "stdout",
     "output_type": "stream",
     "text": [
      "['R', 'Python', 'SAS', 'Scala', 42, 'java']\n"
     ]
    }
   ],
   "source": [
    "#code here\n",
    "languages = ['R','Python', 'SAS', 'Scala', 42]\n",
    "languages.append(\"java\")\n",
    "print(languages)"
   ]
  },
  {
   "cell_type": "markdown",
   "id": "JZF8zdS9kpcE",
   "metadata": {
    "id": "JZF8zdS9kpcE"
   },
   "source": [
    "Remove the element 42 from the list and print the list"
   ]
  },
  {
   "cell_type": "code",
   "execution_count": 9,
   "id": "eNtarY6pkpcE",
   "metadata": {
    "id": "eNtarY6pkpcE",
    "outputId": "68815cfc-3527-4a57-afc8-90d13a72b50f"
   },
   "outputs": [
    {
     "name": "stdout",
     "output_type": "stream",
     "text": [
      "['R', 'Python', 'SAS', 'Scala', 42]\n"
     ]
    },
    {
     "data": {
      "text/plain": [
       "['R', 'Python', 'SAS', 'Scala']"
      ]
     },
     "execution_count": 9,
     "metadata": {},
     "output_type": "execute_result"
    }
   ],
   "source": [
    "#code here\n",
    "\n",
    "languages.pop(-1)\n",
    "languages"
   ]
  },
  {
   "cell_type": "markdown",
   "id": "BtIptPlokpcF",
   "metadata": {
    "id": "BtIptPlokpcF"
   },
   "source": [
    "#### 1.3. Create a list, colors = [‘Red’, ‘Blue’, ‘White’]"
   ]
  },
  {
   "cell_type": "markdown",
   "id": "_zlfG-a3kpcF",
   "metadata": {
    "id": "_zlfG-a3kpcF"
   },
   "source": [
    "<p style='text-align: right;'> 1+1+1+1+1+1+1 = 6 points</p>\n"
   ]
  },
  {
   "cell_type": "code",
   "execution_count": 11,
   "id": "SgKuIBIGkpcF",
   "metadata": {
    "id": "SgKuIBIGkpcF"
   },
   "outputs": [],
   "source": [
    "#code here\n",
    "colors = [\"Red\",\"Blue\",\"White\"]"
   ]
  },
  {
   "cell_type": "markdown",
   "id": "MF0M4NlqkpcF",
   "metadata": {
    "id": "MF0M4NlqkpcF"
   },
   "source": [
    "Append the element 'Black' to colors"
   ]
  },
  {
   "cell_type": "code",
   "execution_count": 12,
   "id": "rqwFPHBOkpcF",
   "metadata": {
    "id": "rqwFPHBOkpcF"
   },
   "outputs": [
    {
     "data": {
      "text/plain": [
       "['Red', 'Blue', 'White', 'Black']"
      ]
     },
     "execution_count": 12,
     "metadata": {},
     "output_type": "execute_result"
    }
   ],
   "source": [
    "#code here\n",
    "colors.append(\"Black\")\n",
    "colors"
   ]
  },
  {
   "cell_type": "markdown",
   "id": "fyBKDowJkpcG",
   "metadata": {
    "id": "fyBKDowJkpcG"
   },
   "source": [
    "Append the color 'Orange' to second position (index=1) and print the list"
   ]
  },
  {
   "cell_type": "code",
   "execution_count": 14,
   "id": "Uu-VWRHLkpcG",
   "metadata": {
    "id": "Uu-VWRHLkpcG"
   },
   "outputs": [],
   "source": [
    "# code here\n",
    "colors.insert(1,\"Orange\")"
   ]
  },
  {
   "cell_type": "markdown",
   "id": "uwSMx8qGkpcG",
   "metadata": {
    "id": "uwSMx8qGkpcG"
   },
   "source": [
    "Print the list\n"
   ]
  },
  {
   "cell_type": "code",
   "execution_count": 15,
   "id": "Pgi-1ValkpcG",
   "metadata": {
    "id": "Pgi-1ValkpcG",
    "outputId": "f9565f74-3466-455a-adce-7ec73142acef"
   },
   "outputs": [
    {
     "data": {
      "text/plain": [
       "['Red', 'Orange', 'Blue', 'White', 'Black']"
      ]
     },
     "execution_count": 15,
     "metadata": {},
     "output_type": "execute_result"
    }
   ],
   "source": [
    "# code here\n",
    "colors"
   ]
  },
  {
   "cell_type": "markdown",
   "id": "hpe93njnkpcG",
   "metadata": {
    "id": "hpe93njnkpcG"
   },
   "source": [
    "Create another list, colors2 = [‘Grey’, ‘Sky Blue’]"
   ]
  },
  {
   "cell_type": "code",
   "execution_count": 16,
   "id": "9oSBcKnOkpcG",
   "metadata": {
    "id": "9oSBcKnOkpcG"
   },
   "outputs": [],
   "source": [
    "# code here\n",
    "colors2 = ['Gray','Sky','Blue']"
   ]
  },
  {
   "cell_type": "markdown",
   "id": "DS86K9h5kpcH",
   "metadata": {
    "id": "DS86K9h5kpcH"
   },
   "source": [
    "Add the elements of colors2 to colors using extend function in the list"
   ]
  },
  {
   "cell_type": "markdown",
   "id": "9b4UNCk2kpcH",
   "metadata": {
    "id": "9b4UNCk2kpcH"
   },
   "source": [
    "Print len of colors and its elements"
   ]
  },
  {
   "cell_type": "code",
   "execution_count": 35,
   "id": "1386e6a6",
   "metadata": {},
   "outputs": [],
   "source": [
    "colors.extend(colors2)\n",
    "col=set(colors)\n",
    "colors =list(col)"
   ]
  },
  {
   "cell_type": "code",
   "execution_count": 36,
   "id": "9CpE1EdkkpcH",
   "metadata": {
    "id": "9CpE1EdkkpcH",
    "outputId": "f8f7196a-49c1-4e7f-b576-f20ef9c89f4a"
   },
   "outputs": [
    {
     "name": "stdout",
     "output_type": "stream",
     "text": [
      "7\n"
     ]
    }
   ],
   "source": [
    "# code here\n",
    "\n",
    "print(len(colors))"
   ]
  },
  {
   "cell_type": "markdown",
   "id": "JyoPvYVDkpcI",
   "metadata": {
    "id": "JyoPvYVDkpcI"
   },
   "source": [
    "Sort the list and print it."
   ]
  },
  {
   "cell_type": "code",
   "execution_count": 37,
   "id": "5O6F7CQskpcI",
   "metadata": {
    "id": "5O6F7CQskpcI",
    "outputId": "21a80062-ca49-49fc-abe5-1eea9e93d801"
   },
   "outputs": [
    {
     "name": "stdout",
     "output_type": "stream",
     "text": [
      "['Black', 'Blue', 'Gray', 'Orange', 'Red', 'Sky', 'White']"
     ]
    }
   ],
   "source": [
    "# code here\n",
    "colors.sort()\n",
    "print(colors,end=\"\")\n"
   ]
  },
  {
   "cell_type": "markdown",
   "id": "KisfdajdkpcI",
   "metadata": {
    "id": "KisfdajdkpcI"
   },
   "source": [
    "#### 1.4. Create a string, sent = ‘Coronavirus Caused Lockdowns Around The World.”"
   ]
  },
  {
   "cell_type": "markdown",
   "id": "CJkrVqh8kpcI",
   "metadata": {
    "id": "CJkrVqh8kpcI"
   },
   "source": [
    "<p style='text-align: right;'> 7 points</p>\n"
   ]
  },
  {
   "cell_type": "code",
   "execution_count": 64,
   "id": "brkLITSLkpcI",
   "metadata": {
    "id": "brkLITSLkpcI"
   },
   "outputs": [],
   "source": [
    "# code here\n",
    "sent = \"Coronavirus Caused Lockdowns Around The World\""
   ]
  },
  {
   "cell_type": "markdown",
   "id": "th_r4MyCkpcJ",
   "metadata": {
    "id": "th_r4MyCkpcJ"
   },
   "source": [
    "Use split function to convert the string into a list of words and save it in variable words and print the same"
   ]
  },
  {
   "cell_type": "code",
   "execution_count": 65,
   "id": "DiLl93wrkpcJ",
   "metadata": {
    "id": "DiLl93wrkpcJ",
    "outputId": "b1cd62eb-87fb-4ba7-855f-e3b881f2001f"
   },
   "outputs": [
    {
     "name": "stdout",
     "output_type": "stream",
     "text": [
      "['Coronavirus', 'Caused', 'Lockdowns', 'Around', 'The', 'World']\n"
     ]
    }
   ],
   "source": [
    "# code here\n",
    "sent =sent.split()\n",
    "print(sent)\n"
   ]
  },
  {
   "cell_type": "markdown",
   "id": "c-EXQ-3YkpcJ",
   "metadata": {
    "id": "c-EXQ-3YkpcJ"
   },
   "source": [
    "Using list comprehensions, convert each word in the list to lower case and store it in variable words_lower. \n",
    "Print words_lower"
   ]
  },
  {
   "cell_type": "code",
   "execution_count": 89,
   "id": "qu9Wy0ORkpcJ",
   "metadata": {
    "id": "qu9Wy0ORkpcJ",
    "outputId": "ab0d406c-fb60-40e1-d91b-d43e69ea43ed"
   },
   "outputs": [
    {
     "name": "stdout",
     "output_type": "stream",
     "text": [
      "['Coronavirus', 'Caused', 'Lockdowns', 'Around', 'The', 'World']\n",
      "---------------------\n",
      "['coronavirus', 'caused', 'lockdowns', 'around', 'the', 'world']\n"
     ]
    }
   ],
   "source": [
    "# code here\n",
    "print(sent)\n",
    "print(\"---------------------\")\n",
    "lower_variable = [i.lower() for i in sent]\n",
    "print(lower_variable)\n"
   ]
  },
  {
   "cell_type": "markdown",
   "id": "6QbDnP8-kpcJ",
   "metadata": {
    "id": "6QbDnP8-kpcJ"
   },
   "source": [
    "Check whether ‘country’ is in the list"
   ]
  },
  {
   "cell_type": "code",
   "execution_count": 90,
   "id": "pbj4S06jkpcJ",
   "metadata": {
    "id": "pbj4S06jkpcJ",
    "outputId": "09f9c56a-2f2d-4c6d-aae4-eb20d88394fb"
   },
   "outputs": [
    {
     "name": "stdout",
     "output_type": "stream",
     "text": [
      "False\n"
     ]
    }
   ],
   "source": [
    "# code here\n",
    "print(\"country\" in sent)"
   ]
  },
  {
   "cell_type": "markdown",
   "id": "-5bXQCY-kpcK",
   "metadata": {
    "id": "-5bXQCY-kpcK"
   },
   "source": [
    "Remove the element ‘the’ from the list and print the list."
   ]
  },
  {
   "cell_type": "code",
   "execution_count": 91,
   "id": "TZ3w3rTNkpcK",
   "metadata": {
    "id": "TZ3w3rTNkpcK",
    "outputId": "96626fbc-58b6-4584-8423-3540bfb69975"
   },
   "outputs": [
    {
     "name": "stdout",
     "output_type": "stream",
     "text": [
      "['coronavirus', 'caused', 'lockdowns', 'around', 'world']\n"
     ]
    }
   ],
   "source": [
    "# code here\n",
    "\n",
    "lower_variable.pop(-2)\n",
    "print(lower_variable)"
   ]
  },
  {
   "cell_type": "markdown",
   "id": "K2urIMaHkpcK",
   "metadata": {
    "id": "K2urIMaHkpcK"
   },
   "source": [
    "Select the first 4 words from the list words_lower using slicing and store them in a new variable x4"
   ]
  },
  {
   "cell_type": "code",
   "execution_count": 95,
   "id": "hl9uTlnHkpcK",
   "metadata": {
    "id": "hl9uTlnHkpcK"
   },
   "outputs": [],
   "source": [
    "#code here\n",
    "x4 = lower_variable[:4]\n"
   ]
  },
  {
   "cell_type": "code",
   "execution_count": 96,
   "id": "ATxw84QokpcK",
   "metadata": {
    "id": "ATxw84QokpcK",
    "outputId": "48e6adbe-3f57-401f-bd77-200c59c9901d"
   },
   "outputs": [
    {
     "name": "stdout",
     "output_type": "stream",
     "text": [
      "['coronavirus', 'caused', 'lockdowns', 'around']\n"
     ]
    }
   ],
   "source": [
    "# print x4\n",
    "print(x4)"
   ]
  },
  {
   "cell_type": "markdown",
   "id": "40lbSur2kpcL",
   "metadata": {
    "id": "40lbSur2kpcL"
   },
   "source": [
    "Convert the list of elements to single string using join function and print it"
   ]
  },
  {
   "cell_type": "code",
   "execution_count": 99,
   "id": "oeN_Eyb1kpcL",
   "metadata": {
    "id": "oeN_Eyb1kpcL",
    "outputId": "4b271516-367e-4810-f437-7fce891dcad1"
   },
   "outputs": [
    {
     "name": "stdout",
     "output_type": "stream",
     "text": [
      "coronavirus caused lockdowns around\n"
     ]
    }
   ],
   "source": [
    "#code here\n",
    "print(\" \".join(x4))"
   ]
  },
  {
   "cell_type": "markdown",
   "id": "XlViORgBkpcL",
   "metadata": {
    "id": "XlViORgBkpcL"
   },
   "source": [
    "## 2. Sets\n",
    "\n",
    "Reference:-https://www.youtube.com/watch?v=B7dPo44o5jA&list=PLsR_0x6BuM-GCc3iD6OQuEZHCAtYPmZfx&index=12\n"
   ]
  },
  {
   "cell_type": "markdown",
   "id": "cGgxZPVhkpcL",
   "metadata": {
    "id": "cGgxZPVhkpcL"
   },
   "source": [
    "#### 2.1. Create stud_grades = ['A','A','B','C','C','F']"
   ]
  },
  {
   "cell_type": "markdown",
   "id": "vSfGcxrCkpcL",
   "metadata": {
    "id": "vSfGcxrCkpcL"
   },
   "source": [
    "<p style='text-align: right;'> 7 points</p>\n"
   ]
  },
  {
   "cell_type": "code",
   "execution_count": 101,
   "id": "AszrelvIkpcL",
   "metadata": {
    "id": "AszrelvIkpcL"
   },
   "outputs": [],
   "source": [
    "#code here\n",
    "stud_grades = [\"A\",'A','B','C','C','F']\n"
   ]
  },
  {
   "cell_type": "markdown",
   "id": "JbdWSm2EkpcM",
   "metadata": {
    "id": "JbdWSm2EkpcM"
   },
   "source": [
    "Print the len of stud_grades"
   ]
  },
  {
   "cell_type": "code",
   "execution_count": 102,
   "id": "FJwWPNlckpcM",
   "metadata": {
    "id": "FJwWPNlckpcM",
    "outputId": "4502c20d-0b17-4067-c225-5558b20ef59c"
   },
   "outputs": [
    {
     "name": "stdout",
     "output_type": "stream",
     "text": [
      "6\n"
     ]
    }
   ],
   "source": [
    "#code here\n",
    "print(len(stud_grades))"
   ]
  },
  {
   "cell_type": "markdown",
   "id": "syIycmhykpcM",
   "metadata": {
    "id": "syIycmhykpcM"
   },
   "source": [
    "Create a new variable, stud_grades_set = set(stud_grades)"
   ]
  },
  {
   "cell_type": "code",
   "execution_count": 105,
   "id": "h49VnI1MkpcM",
   "metadata": {
    "id": "h49VnI1MkpcM"
   },
   "outputs": [],
   "source": [
    "#code here\n",
    "stud_grades_set = set(stud_grades)"
   ]
  },
  {
   "cell_type": "markdown",
   "id": "AHG7h5i3kpcM",
   "metadata": {
    "id": "AHG7h5i3kpcM"
   },
   "source": [
    "Print stud_grades_set. "
   ]
  },
  {
   "cell_type": "code",
   "execution_count": 106,
   "id": "qDZaqBhKkpcN",
   "metadata": {
    "id": "qDZaqBhKkpcN",
    "outputId": "d9c10666-3d94-4c21-cc58-9198b27ce39a"
   },
   "outputs": [
    {
     "data": {
      "text/plain": [
       "{'A', 'B', 'C', 'F'}"
      ]
     },
     "execution_count": 106,
     "metadata": {},
     "output_type": "execute_result"
    }
   ],
   "source": [
    "#code here\n",
    "stud_grades_set"
   ]
  },
  {
   "cell_type": "markdown",
   "id": "Sniw3TCxkpcN",
   "metadata": {
    "id": "Sniw3TCxkpcN"
   },
   "source": [
    "print the type of stud_grades and stud_grades_set and print their corresponding elements. Try to understand the difference between them."
   ]
  },
  {
   "cell_type": "code",
   "execution_count": 108,
   "id": "Ur2RvyqykpcN",
   "metadata": {
    "id": "Ur2RvyqykpcN",
    "outputId": "eab4a47c-b3d3-483c-a385-316c299ddf84"
   },
   "outputs": [
    {
     "name": "stdout",
     "output_type": "stream",
     "text": [
      "<class 'list'> ['A', 'A', 'B', 'C', 'C', 'F']\n",
      "<class 'set'> {'A', 'B', 'C', 'F'}\n"
     ]
    }
   ],
   "source": [
    "#code here\n",
    "print(type(stud_grades),stud_grades)\n",
    "print(type(stud_grades_set),stud_grades_set)\n"
   ]
  },
  {
   "cell_type": "markdown",
   "id": "Ppd3J-N1kpcN",
   "metadata": {
    "id": "Ppd3J-N1kpcN"
   },
   "source": [
    "Add a new element ‘G’ to stud_grades_set"
   ]
  },
  {
   "cell_type": "code",
   "execution_count": 109,
   "id": "8hGYh9PEkpcN",
   "metadata": {
    "id": "8hGYh9PEkpcN"
   },
   "outputs": [],
   "source": [
    "#code here\n",
    "stud_grades_set.add(\"G\")\n"
   ]
  },
  {
   "cell_type": "markdown",
   "id": "1Osvv21ekpcO",
   "metadata": {
    "id": "1Osvv21ekpcO"
   },
   "source": [
    "Add element 'F' to stud_grades_set. and print it."
   ]
  },
  {
   "cell_type": "code",
   "execution_count": 111,
   "id": "Dd3eD4AgkpcO",
   "metadata": {
    "id": "Dd3eD4AgkpcO",
    "outputId": "14d5a8ce-28fe-49d9-84df-ba54021416ed"
   },
   "outputs": [
    {
     "data": {
      "text/plain": [
       "{'A', 'B', 'C', 'F', 'G'}"
      ]
     },
     "execution_count": 111,
     "metadata": {},
     "output_type": "execute_result"
    }
   ],
   "source": [
    "#code here\n",
    "stud_grades_set.add(\"F\")\n",
    "stud_grades_set\n"
   ]
  },
  {
   "cell_type": "markdown",
   "id": "XClNoELikpcO",
   "metadata": {
    "id": "XClNoELikpcO"
   },
   "source": [
    "!!Did you notice? set doesn't add an element if it's already present in it, unlike lists."
   ]
  },
  {
   "cell_type": "markdown",
   "id": "A_9hFH6mkpcO",
   "metadata": {
    "id": "A_9hFH6mkpcO"
   },
   "source": [
    "Remove ‘F’ from stud_grades_set"
   ]
  },
  {
   "cell_type": "code",
   "execution_count": 114,
   "id": "34ybEoh0kpcO",
   "metadata": {
    "id": "34ybEoh0kpcO"
   },
   "outputs": [],
   "source": [
    "#code here\n",
    "stud_grades_set.remove(\"F\")\n"
   ]
  },
  {
   "cell_type": "markdown",
   "id": "FhW3HjejkpcO",
   "metadata": {
    "id": "FhW3HjejkpcO"
   },
   "source": [
    "Print the elements and the length of stud_grades_set"
   ]
  },
  {
   "cell_type": "code",
   "execution_count": 116,
   "id": "PXFnKWdQkpcO",
   "metadata": {
    "id": "PXFnKWdQkpcO",
    "outputId": "5b989b53-eac7-448f-b8d4-acd902bc6e80"
   },
   "outputs": [
    {
     "name": "stdout",
     "output_type": "stream",
     "text": [
      "{'C', 'G', 'A', 'B'}\n",
      "4\n"
     ]
    }
   ],
   "source": [
    "#code here\n",
    "print(stud_grades_set)\n",
    "print(len(stud_grades_set))\n"
   ]
  },
  {
   "cell_type": "markdown",
   "id": "N2f4etZWkpcP",
   "metadata": {
    "id": "N2f4etZWkpcP"
   },
   "source": [
    "#### 2.2. Create colors = [‘red’,’blue’,’orange’], and fruits = [‘orange’,’grapes’,’apples’] "
   ]
  },
  {
   "cell_type": "markdown",
   "id": "mtF1BdJ8kpcP",
   "metadata": {
    "id": "mtF1BdJ8kpcP"
   },
   "source": [
    "<p style='text-align: right;'> 6 points</p>\n"
   ]
  },
  {
   "cell_type": "code",
   "execution_count": 117,
   "id": "58z0CT--kpcP",
   "metadata": {
    "id": "58z0CT--kpcP"
   },
   "outputs": [],
   "source": [
    "#code here\n",
    "colors = [\"red\",'blue','orange']\n",
    "fruits = ['orange','grapes','apples']"
   ]
  },
  {
   "cell_type": "markdown",
   "id": "3uQeGFjOkpcP",
   "metadata": {
    "id": "3uQeGFjOkpcP"
   },
   "source": [
    "Print color and fruits"
   ]
  },
  {
   "cell_type": "code",
   "execution_count": 119,
   "id": "IasMF-J8kpcP",
   "metadata": {
    "id": "IasMF-J8kpcP",
    "outputId": "c7376a8a-b8d2-4dfa-de6b-d098895c5daf"
   },
   "outputs": [
    {
     "name": "stdout",
     "output_type": "stream",
     "text": [
      "['red', 'blue', 'orange']\n",
      "['orange', 'grapes', 'apples']\n"
     ]
    }
   ],
   "source": [
    "#code here\n",
    "print(colors)\n",
    "print(fruits)"
   ]
  },
  {
   "cell_type": "markdown",
   "id": "MmbSJxhnkpcP",
   "metadata": {
    "id": "MmbSJxhnkpcP"
   },
   "source": [
    "Create colors_set, and fruits_set. (using set() ) and print them"
   ]
  },
  {
   "cell_type": "code",
   "execution_count": 121,
   "id": "T46Fv-zGkpcP",
   "metadata": {
    "id": "T46Fv-zGkpcP",
    "outputId": "732456d5-b839-4fd7-af1e-b440a6ebc382"
   },
   "outputs": [],
   "source": [
    "#code here\n",
    "colors_set = set(colors)\n",
    "fruits = set(fruits)"
   ]
  },
  {
   "cell_type": "markdown",
   "id": "I6A0suaSkpcQ",
   "metadata": {
    "id": "I6A0suaSkpcQ"
   },
   "source": [
    "Find the union of both the sets."
   ]
  },
  {
   "cell_type": "code",
   "execution_count": 122,
   "id": "JDt7qEwTkpcQ",
   "metadata": {
    "id": "JDt7qEwTkpcQ",
    "outputId": "f94cceee-9b62-4b7d-e136-4b0d5e065b71"
   },
   "outputs": [
    {
     "name": "stdout",
     "output_type": "stream",
     "text": [
      "{'blue', 'apples', 'orange', 'red', 'grapes'}\n"
     ]
    }
   ],
   "source": [
    "#code here\n",
    "union_variable = colors_set.union(fruits) \n",
    "print(union_variable)\n"
   ]
  },
  {
   "cell_type": "markdown",
   "id": "bZZhTj5PkpcQ",
   "metadata": {
    "id": "bZZhTj5PkpcQ"
   },
   "source": [
    "Find the intersection of both the sets "
   ]
  },
  {
   "cell_type": "code",
   "execution_count": 123,
   "id": "rfZTJlvKkpcQ",
   "metadata": {
    "id": "rfZTJlvKkpcQ",
    "outputId": "9a62c12c-ffd6-48ef-f356-8c4dcb747661"
   },
   "outputs": [
    {
     "name": "stdout",
     "output_type": "stream",
     "text": [
      "{'orange'}\n"
     ]
    }
   ],
   "source": [
    "#code here\n",
    "intersection_var = colors_set.intersection(fruits)\n",
    "print(intersection_var)\n"
   ]
  },
  {
   "cell_type": "markdown",
   "id": "vmFkc4sXkpcR",
   "metadata": {
    "id": "vmFkc4sXkpcR"
   },
   "source": [
    "Find the elements which are Fruits but not colors (using set.difference() )"
   ]
  },
  {
   "cell_type": "code",
   "execution_count": 126,
   "id": "UAE5Flv_kpcR",
   "metadata": {
    "id": "UAE5Flv_kpcR",
    "outputId": "a864040e-8e17-4e0c-be14-97cbefdcf8c5"
   },
   "outputs": [
    {
     "name": "stdout",
     "output_type": "stream",
     "text": [
      "{'apples', 'grapes'}\n"
     ]
    }
   ],
   "source": [
    "#code here\n",
    "print(fruits.difference(colors))\n"
   ]
  },
  {
   "cell_type": "markdown",
   "id": "DivF-svekpcR",
   "metadata": {
    "id": "DivF-svekpcR"
   },
   "source": [
    "## 3. TUPLES\n",
    "\n",
    "Reference:-https://www.youtube.com/watch?v=aMGPLCzTvmE&list=PLsR_0x6BuM-GCc3iD6OQuEZHCAtYPmZfx&index=11\n"
   ]
  },
  {
   "cell_type": "markdown",
   "id": "1Amd7ICHkpcR",
   "metadata": {
    "id": "1Amd7ICHkpcR"
   },
   "source": [
    "#### 3.1 . Create temp = [17, ’Virat’, 50.0]"
   ]
  },
  {
   "cell_type": "markdown",
   "id": "dgG43IiWkpcR",
   "metadata": {
    "id": "dgG43IiWkpcR"
   },
   "source": [
    "<p style='text-align: right;'> 7 points</p>\n"
   ]
  },
  {
   "cell_type": "code",
   "execution_count": 143,
   "id": "pCj4RYxPkpcR",
   "metadata": {
    "id": "pCj4RYxPkpcR"
   },
   "outputs": [],
   "source": [
    "#code here\n",
    "\n",
    "temp = (17,'virat',50.0)\n"
   ]
  },
  {
   "cell_type": "markdown",
   "id": "vYVDWU0mkpcS",
   "metadata": {
    "id": "vYVDWU0mkpcS"
   },
   "source": [
    "Iterate through temp and print all the items in temp"
   ]
  },
  {
   "cell_type": "code",
   "execution_count": 144,
   "id": "Abcx7FsQkpcS",
   "metadata": {
    "id": "Abcx7FsQkpcS",
    "outputId": "97dbf97d-c36c-4c86-985a-13618af5a38b"
   },
   "outputs": [
    {
     "name": "stdout",
     "output_type": "stream",
     "text": [
      "17\n",
      "virat\n",
      "50.0\n"
     ]
    }
   ],
   "source": [
    "#code here\n",
    "for i in temp :\n",
    "    print(i)\n",
    "\n"
   ]
  },
  {
   "cell_type": "markdown",
   "id": "H8IYduIMkpcS",
   "metadata": {
    "id": "H8IYduIMkpcS"
   },
   "source": [
    "replace first element with 11 in temp"
   ]
  },
  {
   "cell_type": "code",
   "execution_count": 145,
   "id": "_agIAaYokpcS",
   "metadata": {
    "id": "_agIAaYokpcS"
   },
   "outputs": [],
   "source": [
    "#code here\n",
    "temp1= list(temp)\n",
    "temp1[0] = 11\n"
   ]
  },
  {
   "cell_type": "markdown",
   "id": "L65Zu5JOkpcS",
   "metadata": {
    "id": "L65Zu5JOkpcS"
   },
   "source": [
    "Set temp1 = tuple(temp)"
   ]
  },
  {
   "cell_type": "code",
   "execution_count": 146,
   "id": "Lf_crs_FkpcS",
   "metadata": {
    "id": "Lf_crs_FkpcS"
   },
   "outputs": [],
   "source": [
    "#code here\n",
    "temp = tuple(temp1)\n"
   ]
  },
  {
   "cell_type": "markdown",
   "id": "W0_KvKjIkpcT",
   "metadata": {
    "id": "W0_KvKjIkpcT"
   },
   "source": [
    "Iterate through temp1 and print all the items in temp1. "
   ]
  },
  {
   "cell_type": "code",
   "execution_count": 147,
   "id": "6GEPWeoAkpcT",
   "metadata": {
    "id": "6GEPWeoAkpcT",
    "outputId": "f29b1674-f240-4d19-fac3-865d456268ad"
   },
   "outputs": [
    {
     "name": "stdout",
     "output_type": "stream",
     "text": [
      "11\n",
      "virat\n",
      "50.0\n"
     ]
    }
   ],
   "source": [
    "#code here\n",
    "\n",
    "for i in temp :\n",
    "    print(i)"
   ]
  },
  {
   "cell_type": "markdown",
   "id": "f9d9LXh8kpcU",
   "metadata": {
    "id": "f9d9LXh8kpcU"
   },
   "source": [
    "replace first element with 17 in temp1"
   ]
  },
  {
   "cell_type": "code",
   "execution_count": 148,
   "id": "1IkxeChfkpcU",
   "metadata": {
    "id": "1IkxeChfkpcU",
    "outputId": "3ce88187-5014-4856-d925-07845f9a40e7"
   },
   "outputs": [
    {
     "data": {
      "text/plain": [
       "(17, 'virat', 50.0)"
      ]
     },
     "execution_count": 148,
     "metadata": {},
     "output_type": "execute_result"
    }
   ],
   "source": [
    "#code here\n",
    "temp1[0] = 17\n",
    "temp =tuple(temp1)\n",
    "temp\n"
   ]
  },
  {
   "cell_type": "markdown",
   "id": "YEFosZa1kpcV",
   "metadata": {
    "id": "YEFosZa1kpcV"
   },
   "source": [
    "<b>Oops!! You got an error. Hey Don't worry! Its because Once a tuple is created, you cannot change its values unlike list.</b>"
   ]
  },
  {
   "cell_type": "markdown",
   "id": "ykhpKlS8kpcV",
   "metadata": {
    "id": "ykhpKlS8kpcV"
   },
   "source": [
    "#### 3.2 . Create city = (\"Bangalore\", 28.9949521, 72)"
   ]
  },
  {
   "cell_type": "markdown",
   "id": "ODAigBgXkpcV",
   "metadata": {
    "id": "ODAigBgXkpcV"
   },
   "source": [
    "<p style='text-align: right;'> 6 points</p>\n"
   ]
  },
  {
   "cell_type": "code",
   "execution_count": 149,
   "id": "WgGXPbe1kpcW",
   "metadata": {
    "id": "WgGXPbe1kpcW"
   },
   "outputs": [],
   "source": [
    "#code here\n",
    "city = ('Banglore',28.9949521,72)\n"
   ]
  },
  {
   "cell_type": "markdown",
   "id": "DWPnWxz5kpcW",
   "metadata": {
    "id": "DWPnWxz5kpcW"
   },
   "source": [
    "Print first element of city"
   ]
  },
  {
   "cell_type": "code",
   "execution_count": 150,
   "id": "dA6KeViMkpcW",
   "metadata": {
    "id": "dA6KeViMkpcW",
    "outputId": "ceb0426a-b525-456b-ca54-8321e348f748"
   },
   "outputs": [
    {
     "name": "stdout",
     "output_type": "stream",
     "text": [
      "Banglore\n"
     ]
    }
   ],
   "source": [
    "#code here\n",
    "print(city[0])\n"
   ]
  },
  {
   "cell_type": "markdown",
   "id": "pbsNXIF8kpcW",
   "metadata": {
    "id": "pbsNXIF8kpcW"
   },
   "source": [
    "Create city2 = (‘Chennai’, 30.01, 74)"
   ]
  },
  {
   "cell_type": "code",
   "execution_count": 152,
   "id": "WUTjcdxJkpcW",
   "metadata": {
    "id": "WUTjcdxJkpcW"
   },
   "outputs": [],
   "source": [
    "#code here\n",
    "city2 = ('Chennai', 30.01, 74)\n"
   ]
  },
  {
   "cell_type": "markdown",
   "id": "3Dj0etmhkpcX",
   "metadata": {
    "id": "3Dj0etmhkpcX"
   },
   "source": [
    "Create cities which consist of city and city2"
   ]
  },
  {
   "cell_type": "code",
   "execution_count": 162,
   "id": "fRwK84MzkpcX",
   "metadata": {
    "id": "fRwK84MzkpcX"
   },
   "outputs": [],
   "source": [
    "#code here\n",
    "cities = (city,city2)\n"
   ]
  },
  {
   "cell_type": "markdown",
   "id": "zS4zixR5kpcX",
   "metadata": {
    "id": "zS4zixR5kpcX"
   },
   "source": [
    "Print cities"
   ]
  },
  {
   "cell_type": "code",
   "execution_count": 163,
   "id": "i7VaAI5SkpcX",
   "metadata": {
    "id": "i7VaAI5SkpcX",
    "outputId": "f317eef9-a72a-4b3a-9617-c3c6a1c7a824"
   },
   "outputs": [
    {
     "name": "stdout",
     "output_type": "stream",
     "text": [
      "(('Banglore', 28.9949521, 72), ('Chennai', 30.01, 74))\n"
     ]
    }
   ],
   "source": [
    "#code here\n",
    "\n",
    "print(cities)"
   ]
  },
  {
   "cell_type": "markdown",
   "id": "oXs492EmkpcX",
   "metadata": {
    "id": "oXs492EmkpcX"
   },
   "source": [
    "Print type of first element in cities"
   ]
  },
  {
   "cell_type": "code",
   "execution_count": 165,
   "id": "09lrtqAvkpcX",
   "metadata": {
    "id": "09lrtqAvkpcX",
    "outputId": "b4dac11e-cc83-4a75-bdef-324dfa18de98"
   },
   "outputs": [
    {
     "name": "stdout",
     "output_type": "stream",
     "text": [
      "<class 'tuple'>\n"
     ]
    }
   ],
   "source": [
    "#code here\n",
    "print(type(cities[0]))\n"
   ]
  },
  {
   "cell_type": "markdown",
   "id": "na1P70SGkpcY",
   "metadata": {
    "id": "na1P70SGkpcY"
   },
   "source": [
    "print the type of cities\n"
   ]
  },
  {
   "cell_type": "code",
   "execution_count": 166,
   "id": "3l0lToaXkpcY",
   "metadata": {
    "id": "3l0lToaXkpcY",
    "outputId": "5b3835c1-3535-42ab-ea5f-215c2ee4b2a5"
   },
   "outputs": [
    {
     "name": "stdout",
     "output_type": "stream",
     "text": [
      "<class 'tuple'>\n"
     ]
    }
   ],
   "source": [
    "#code here\n",
    "\n",
    "print(type(cities))"
   ]
  },
  {
   "cell_type": "markdown",
   "id": "66u3kIwvkpcY",
   "metadata": {
    "id": "66u3kIwvkpcY"
   },
   "source": [
    "Hey that implies you made a nested tuples!!"
   ]
  },
  {
   "cell_type": "markdown",
   "id": "9IPo71RPkpcY",
   "metadata": {
    "id": "9IPo71RPkpcY"
   },
   "source": [
    "## 4. DICT\n",
    "\n",
    "Reference:-https://www.youtube.com/watch?v=U3e-L1WSSzQ&list=PLsR_0x6BuM-GCc3iD6OQuEZHCAtYPmZfx&index=13\n"
   ]
  },
  {
   "cell_type": "markdown",
   "id": "nOnQGy06kpcY",
   "metadata": {
    "id": "nOnQGy06kpcY"
   },
   "source": [
    "<p style='text-align: right;'> 11 points</p>\n"
   ]
  },
  {
   "cell_type": "markdown",
   "id": "_D3WHJsMkpcZ",
   "metadata": {
    "id": "_D3WHJsMkpcZ"
   },
   "source": [
    "#### 4.1 Create a dictionary d = {\"actor\":\"amir\",\"animal\":\"cat\",\"earth\":2,\"list\":[23,32,12]}"
   ]
  },
  {
   "cell_type": "code",
   "execution_count": 205,
   "id": "nQV3F4cTkpcZ",
   "metadata": {
    "id": "nQV3F4cTkpcZ"
   },
   "outputs": [],
   "source": [
    "#code here\n",
    "d = {'actor':'amir','animal':'cat','earth':2,'list':[23,32,12]}\n"
   ]
  },
  {
   "cell_type": "markdown",
   "id": "9XZ9f0amkpcZ",
   "metadata": {
    "id": "9XZ9f0amkpcZ"
   },
   "source": [
    "Print the value of d[0]"
   ]
  },
  {
   "cell_type": "code",
   "execution_count": 206,
   "id": "VdZOj0bVkpcZ",
   "metadata": {
    "id": "VdZOj0bVkpcZ",
    "outputId": "a2f77a3f-d39a-4594-83ed-b97ab65ba364"
   },
   "outputs": [
    {
     "ename": "KeyError",
     "evalue": "0",
     "output_type": "error",
     "traceback": [
      "\u001b[1;31m---------------------------------------------------------------------------\u001b[0m",
      "\u001b[1;31mKeyError\u001b[0m                                  Traceback (most recent call last)",
      "Input \u001b[1;32mIn [206]\u001b[0m, in \u001b[0;36m<cell line: 2>\u001b[1;34m()\u001b[0m\n\u001b[0;32m      1\u001b[0m \u001b[38;5;66;03m#code here\u001b[39;00m\n\u001b[1;32m----> 2\u001b[0m \u001b[43md\u001b[49m\u001b[43m[\u001b[49m\u001b[38;5;241;43m0\u001b[39;49m\u001b[43m]\u001b[49m\n",
      "\u001b[1;31mKeyError\u001b[0m: 0"
     ]
    }
   ],
   "source": [
    "#code here\n",
    "d[0]\n"
   ]
  },
  {
   "cell_type": "markdown",
   "id": "YnzshYWfkpcZ",
   "metadata": {
    "id": "YnzshYWfkpcZ"
   },
   "source": [
    "<b>Oops!! again an error. again a fun fact. Dictionary return the value for key if key is in the dictionary, else throws KeyError\n",
    "and we don't have key 0 here :( </b>"
   ]
  },
  {
   "cell_type": "markdown",
   "id": "seqtJ3HOkpca",
   "metadata": {
    "id": "seqtJ3HOkpca"
   },
   "source": [
    "Store the value of d[‘actor’] to a new variable actor."
   ]
  },
  {
   "cell_type": "code",
   "execution_count": 210,
   "id": "Iy-ibjR-kpca",
   "metadata": {
    "id": "Iy-ibjR-kpca"
   },
   "outputs": [],
   "source": [
    "#code here\n",
    "actor=d[\"actor\"]\n",
    "\n"
   ]
  },
  {
   "cell_type": "markdown",
   "id": "3XspSdnykpca",
   "metadata": {
    "id": "3XspSdnykpca"
   },
   "source": [
    "Print the type of actor"
   ]
  },
  {
   "cell_type": "code",
   "execution_count": 211,
   "id": "PeRcMuYHkpca",
   "metadata": {
    "id": "PeRcMuYHkpca",
    "outputId": "1b0f2a7a-d1c5-4da3-8d1c-21e410a5ec85"
   },
   "outputs": [
    {
     "name": "stdout",
     "output_type": "stream",
     "text": [
      "<class 'str'>\n"
     ]
    }
   ],
   "source": [
    "#code here\n",
    "print(type(actor))\n"
   ]
  },
  {
   "cell_type": "markdown",
   "id": "MeAKu0Y1kpca",
   "metadata": {
    "id": "MeAKu0Y1kpca"
   },
   "source": [
    "Store the value of d[‘list’] in new variable l. "
   ]
  },
  {
   "cell_type": "markdown",
   "id": "2-TgaLwtkpca",
   "metadata": {
    "id": "2-TgaLwtkpca"
   },
   "source": [
    "Print the type of l. "
   ]
  },
  {
   "cell_type": "code",
   "execution_count": 214,
   "id": "0d0e6dcc",
   "metadata": {},
   "outputs": [
    {
     "name": "stdout",
     "output_type": "stream",
     "text": [
      "<class 'list'>\n"
     ]
    }
   ],
   "source": [
    "I = d[\"list\"]\n",
    "print(type(I))"
   ]
  },
  {
   "cell_type": "code",
   "execution_count": null,
   "id": "525a3290",
   "metadata": {},
   "outputs": [],
   "source": []
  },
  {
   "cell_type": "markdown",
   "id": "YxRwuHH6kpcb",
   "metadata": {
    "id": "YxRwuHH6kpcb"
   },
   "source": [
    "Create d1 = { ‘singer’ : ‘Kr$na’ , ‘album’: ‘Still here’, ‘genre’ : ‘hip-hop’}"
   ]
  },
  {
   "cell_type": "code",
   "execution_count": 216,
   "id": "VZBmqqDvkpcb",
   "metadata": {
    "id": "VZBmqqDvkpcb"
   },
   "outputs": [
    {
     "name": "stdout",
     "output_type": "stream",
     "text": [
      "{'singer': 'kri$na', 'album': 'still here', 'genre': 'hip-hop'}\n"
     ]
    }
   ],
   "source": [
    "#code here\n",
    "d1 = {'singer':'kri$na','album':'still here','genre':'hip-hop'}\n",
    "print(d1)"
   ]
  },
  {
   "cell_type": "markdown",
   "id": "tZ2jSPPRkpcb",
   "metadata": {
    "id": "tZ2jSPPRkpcb"
   },
   "source": [
    "Merge d1 into d."
   ]
  },
  {
   "cell_type": "code",
   "execution_count": 229,
   "id": "ydfvA3s4kpcb",
   "metadata": {
    "id": "ydfvA3s4kpcb"
   },
   "outputs": [
    {
     "name": "stdout",
     "output_type": "stream",
     "text": [
      "None\n",
      "{'actor': 'amir', 'animal': 'cat', 'earth': 2, 'list': [23, 32, 12], 'singer': 'kri$na', 'album': 'still here', 'genre': 'hip-hop'}\n"
     ]
    }
   ],
   "source": [
    "#code here\n",
    "def merge(d,d1):\n",
    "    return (d.update(d1))\n",
    "\n",
    "\n",
    "d = {'actor':'amir','animal':'cat','earth':2,'list':[23,32,12]}\n",
    "d1 = {'singer':'kri$na','album':'still here','genre':'hip-hop'}\n",
    "print(merge(d,d1))\n",
    "\n",
    "print(d)\n",
    "\n"
   ]
  },
  {
   "cell_type": "markdown",
   "id": "GNNBXz-Pkpcb",
   "metadata": {
    "id": "GNNBXz-Pkpcb"
   },
   "source": [
    "print d"
   ]
  },
  {
   "cell_type": "code",
   "execution_count": 230,
   "id": "fZ_SizwPkpcc",
   "metadata": {
    "id": "fZ_SizwPkpcc",
    "outputId": "562507eb-63cd-40af-fe7f-b1882a77d778"
   },
   "outputs": [
    {
     "name": "stdout",
     "output_type": "stream",
     "text": [
      "{'actor': 'amir', 'animal': 'cat', 'earth': 2, 'list': [23, 32, 12], 'singer': 'kri$na', 'album': 'still here', 'genre': 'hip-hop'}\n"
     ]
    }
   ],
   "source": [
    "#code here\n",
    "\n",
    "print(d)\n",
    "\n"
   ]
  },
  {
   "cell_type": "markdown",
   "id": "bkjF0mNckpcc",
   "metadata": {
    "id": "bkjF0mNckpcc"
   },
   "source": [
    "Print all the keys in d"
   ]
  },
  {
   "cell_type": "code",
   "execution_count": 231,
   "id": "RgTiM-1Gkpcc",
   "metadata": {
    "id": "RgTiM-1Gkpcc",
    "outputId": "91dc5fc1-6277-46af-973e-ddf3f7faee0d"
   },
   "outputs": [
    {
     "data": {
      "text/plain": [
       "dict_keys(['actor', 'animal', 'earth', 'list', 'singer', 'album', 'genre'])"
      ]
     },
     "execution_count": 231,
     "metadata": {},
     "output_type": "execute_result"
    }
   ],
   "source": [
    "#code here\n",
    "d.keys()\n"
   ]
  },
  {
   "cell_type": "markdown",
   "id": "HeqJs6sfkpcc",
   "metadata": {
    "id": "HeqJs6sfkpcc"
   },
   "source": [
    "Print all the values in d"
   ]
  },
  {
   "cell_type": "code",
   "execution_count": 233,
   "id": "lS9DRpPZkpcc",
   "metadata": {
    "id": "lS9DRpPZkpcc",
    "outputId": "2cdeec4b-67d6-4e2a-802c-e72579ff2a7b"
   },
   "outputs": [
    {
     "data": {
      "text/plain": [
       "dict_values(['amir', 'cat', 2, [23, 32, 12], 'kri$na', 'still here', 'hip-hop'])"
      ]
     },
     "execution_count": 233,
     "metadata": {},
     "output_type": "execute_result"
    }
   ],
   "source": [
    "#code here\n",
    "d.values()\n"
   ]
  },
  {
   "cell_type": "markdown",
   "id": "AvMDYUh2kpcc",
   "metadata": {
    "id": "AvMDYUh2kpcc"
   },
   "source": [
    "Iterate over d, and print each key, value pair as given in output"
   ]
  },
  {
   "cell_type": "code",
   "execution_count": 234,
   "id": "UIGPHLApkpcd",
   "metadata": {
    "id": "UIGPHLApkpcd",
    "outputId": "f0d57c11-11cc-41ae-a501-09315ecac444"
   },
   "outputs": [
    {
     "name": "stdout",
     "output_type": "stream",
     "text": [
      "actor ---> amir\n",
      "animal ---> cat\n",
      "earth ---> 2\n",
      "list ---> [23, 32, 12]\n",
      "singer ---> kri$na\n",
      "album ---> still here\n",
      "genre ---> hip-hop\n"
     ]
    }
   ],
   "source": [
    "#code here\n",
    "\n",
    "for key,value in d.items():\n",
    "    print(key,\"--->\",value)\n"
   ]
  },
  {
   "cell_type": "markdown",
   "id": "sHcM8rF0kpcd",
   "metadata": {
    "id": "sHcM8rF0kpcd"
   },
   "source": [
    "\n",
    "Create a string, sent = ‘Coronavirus Caused Lockdowns Around The World.”\n",
    "\n",
    "Count the number of occurences of charachters in string named \"sent\" using dictionary and print the same.\n"
   ]
  },
  {
   "cell_type": "code",
   "execution_count": 12,
   "id": "DmpLDa2vkpcd",
   "metadata": {
    "id": "DmpLDa2vkpcd",
    "outputId": "b357cba5-1a94-4906-d093-10364edfc26c"
   },
   "outputs": [
    {
     "data": {
      "text/plain": [
       "{'C': 2,\n",
       " 'o': 6,\n",
       " 'r': 4,\n",
       " 'n': 3,\n",
       " 'a': 2,\n",
       " 'v': 1,\n",
       " 'i': 1,\n",
       " 'u': 3,\n",
       " 's': 3,\n",
       " ' ': 5,\n",
       " 'e': 2,\n",
       " 'd': 4,\n",
       " 'L': 1,\n",
       " 'c': 1,\n",
       " 'k': 1,\n",
       " 'w': 1,\n",
       " 'A': 1,\n",
       " 'T': 1,\n",
       " 'h': 1,\n",
       " 'W': 1,\n",
       " 'l': 1,\n",
       " '.': 1}"
      ]
     },
     "execution_count": 12,
     "metadata": {},
     "output_type": "execute_result"
    }
   ],
   "source": [
    "#code here\n",
    "\n",
    "sent = 'Coronavirus Caused Lockdowns Around The World.'\n",
    "dic1 = {}\n",
    "for i in sent :\n",
    "    dic1[i] = 0\n",
    "    for j in sent :\n",
    "        dic1[j] = dic1[i] + sent.count(j)\n",
    "    \n",
    "dic1  \n",
    "    \n",
    "\n"
   ]
  },
  {
   "cell_type": "markdown",
   "id": "b-ESQmrKkpcd",
   "metadata": {
    "id": "b-ESQmrKkpcd"
   },
   "source": [
    "# --------------------------------------------------------------------"
   ]
  },
  {
   "cell_type": "markdown",
   "id": "dxIz_yvZkpcd",
   "metadata": {
    "id": "dxIz_yvZkpcd"
   },
   "source": [
    "# Hurray!! Second milestone completed. The next challenge is waiting for you :)\n",
    "\n",
    "# --------------------------------------------------------------------\n",
    "\n",
    "-----------------\n",
    "# FeedBack\n",
    "We hope you’ve enjoyed this course so far. We’re committed to help you use \"AI for All\" course to its full potential, so that you have a great learning experience. And that’s why we need your help in form of a feedback here.\n",
    "\n",
    "Please fill this feedback form  https://zfrmz.in/MtRG5oWXBdesm6rmSM7N"
   ]
  }
 ],
 "metadata": {
  "colab": {
   "name": "Data Structure.ipynb",
   "provenance": []
  },
  "kernelspec": {
   "display_name": "Python 3 (ipykernel)",
   "language": "python",
   "name": "python3"
  },
  "language_info": {
   "codemirror_mode": {
    "name": "ipython",
    "version": 3
   },
   "file_extension": ".py",
   "mimetype": "text/x-python",
   "name": "python",
   "nbconvert_exporter": "python",
   "pygments_lexer": "ipython3",
   "version": "3.10.0"
  }
 },
 "nbformat": 4,
 "nbformat_minor": 5
}
