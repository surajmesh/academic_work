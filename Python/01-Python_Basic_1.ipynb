{
 "cells": [
  {
   "cell_type": "markdown",
   "metadata": {
    "id": "Vstr-QJsT3o_"
   },
   "source": [
    "#                                           Python Basics Concepts"
   ]
  },
  {
   "cell_type": "code",
   "execution_count": null,
   "metadata": {
    "colab": {
     "base_uri": "https://localhost:8080/",
     "height": 321
    },
    "id": "j6_2OG08Onmh",
    "outputId": "c5d2459a-83e2-46a9-fc32-527f1d2557cc"
   },
   "outputs": [
    {
     "data": {
      "text/html": [
       "\n",
       "        <iframe\n",
       "            width=\"600\"\n",
       "            height=\"300\"\n",
       "            src=\"https://www.youtube.com/embed/https://www.youtube.com/watch?v=izgBmCnp1Oc&list=PLsR_0x6BuM-HJZT6Xzj-088N4hN3KsDME&index=1\"\n",
       "            frameborder=\"0\"\n",
       "            allowfullscreen\n",
       "        ></iframe>\n",
       "        "
      ],
      "text/plain": [
       "<IPython.lib.display.YouTubeVideo at 0x7f0e7b125590>"
      ]
     },
     "execution_count": 2,
     "metadata": {},
     "output_type": "execute_result"
    }
   ],
   "source": [
    "from IPython.display import YouTubeVideo\n",
    "YouTubeVideo('https://www.youtube.com/watch?v=izgBmCnp1Oc&list=PLsR_0x6BuM-HJZT6Xzj-088N4hN3KsDME&index=1',width=600,height=300)"
   ]
  },
  {
   "cell_type": "markdown",
   "metadata": {
    "id": "IBEEdUv9T3pD"
   },
   "source": [
    "<h2>Why Python?</h2>\n",
    "\n",
    "\n",
    "<ul><li>Presence of Third Party Module</li>\n",
    "<li>Extensive Support Libraries.</li>\n",
    "<li>Open Source and Community Development.</li>\n",
    "<li>Learning Ease and Support Available.</li>\n",
    "<li>User-friendly Data Structures.</li>\n",
    "<li>Productivity and Speed.</li></ul>"
   ]
  },
  {
   "cell_type": "markdown",
   "metadata": {
    "id": "4U9a0JxgT3pD"
   },
   "source": [
    "What are Identifiers ?\n",
    "\n",
    "A Python identifier is a name used to identify a variable, function, class, module or other object.\n",
    "An identifier starts with a letter A to Z or a to z or an underscore (_) followed by zero or more \n",
    "letters, underscores and digits (0 to 9).\n",
    "\n",
    "Python does not allow punctuation characters such as @, $, and % within identifiers.Python is a case \n",
    "sensitive programming language. Thus, Manpower and manpower are two different identifiers in Python.\n",
    "\n",
    "Valid identifiers:\n",
    "\n",
    "<ul><li>ab10c: contains only letters and numbers</li>\n",
    "<li>abc_DE: contains all the valid characters</li>\n",
    "<li>_: surprisingly but Yes, underscore is a valid identifier</li>\n",
    "<li>_abc: identifier can start with an underscore</li>\n",
    "</ul>\n",
    "Invalid identifers: \n",
    "\n",
    "<ul><li>99: identifier can’t be only digits</li>\n",
    "<li>9abc: identifier can’t start with number</li>\n",
    "<li>x+y: the only special character allowed is an underscore</li>\n",
    "<li>for: it’s a reserved keyword</li></ul>"
   ]
  },
  {
   "cell_type": "markdown",
   "metadata": {
    "id": "rVhRxKnUT3pE"
   },
   "source": [
    "<h5>Worried about to confirm whether an identifier is ok or not??</h5>\n",
    "<h6>There's a built in method to confirm that.</h6>\n",
    "<h6>Let's see</h6>"
   ]
  },
  {
   "cell_type": "code",
   "execution_count": null,
   "metadata": {
    "id": "j8Dw6MYsT3pE",
    "outputId": "d674892b-9ade-4c17-9889-b6edc2a37c88"
   },
   "outputs": [
    {
     "name": "stdout",
     "output_type": "stream",
     "text": [
      "True\n",
      "False\n",
      "True\n",
      "True\n"
     ]
    }
   ],
   "source": [
    "# Run this cell and see the answer in boolean way(True, False) and don't worry if you don't understand this method right now.\n",
    "# Just keep in mind, there's a way to cross check the identifier.\n",
    "print(\"abc\".isidentifier())  # True\n",
    "print(\"99a\".isidentifier())  # False\n",
    "print(\"_\".isidentifier())  # True\n",
    "print(\"for\".isidentifier())  # True - wrong output"
   ]
  },
  {
   "cell_type": "markdown",
   "metadata": {
    "id": "jouWP2_hT3pG"
   },
   "source": [
    "<h3>Reserved words in Python</h3>"
   ]
  },
  {
   "cell_type": "markdown",
   "metadata": {
    "id": "mD9z127eT3pG"
   },
   "source": [
    "Reserved words (also called keywords) are defined with predefined meaning and syntax in the language. \n",
    "These keywords have to be used to develop programming instructions. Reserved words can’t be used as\n",
    "identifiers for other programming elements like name of variable, function etc."
   ]
  },
  {
   "cell_type": "markdown",
   "metadata": {
    "id": "diLOCHNkT3pH"
   },
   "source": [
    "<h4>Following is the list of reserved keywords in Python 3</h4>\n",
    "\n",
    "and, except, lambda, with, as, finally, nonlocal, while, assert, false, None, yield, break, for, not, class, from, or, continue\n",
    ",global, pass, def, if, raise, del, import, return, elif, in, True, else, is, try\n",
    "\n",
    "\n",
    "To see what each keyword means here, you can refer this link\n",
    "<a href=\"https://www.w3schools.com/python/python_ref_keywords.asp\">Click here</a> "
   ]
  },
  {
   "cell_type": "markdown",
   "metadata": {
    "id": "JOoTRiIHT3pH"
   },
   "source": [
    "<h5>There's another way to check reserved keywords in Python</h5>\n"
   ]
  },
  {
   "cell_type": "code",
   "execution_count": null,
   "metadata": {
    "id": "ALZx0fg9T3pI",
    "outputId": "8b2069b6-9819-48e1-815d-afa686d1a9f7"
   },
   "outputs": [
    {
     "data": {
      "text/plain": [
       "['False',\n",
       " 'None',\n",
       " 'True',\n",
       " 'and',\n",
       " 'as',\n",
       " 'assert',\n",
       " 'async',\n",
       " 'await',\n",
       " 'break',\n",
       " 'class',\n",
       " 'continue',\n",
       " 'def',\n",
       " 'del',\n",
       " 'elif',\n",
       " 'else',\n",
       " 'except',\n",
       " 'finally',\n",
       " 'for',\n",
       " 'from',\n",
       " 'global',\n",
       " 'if',\n",
       " 'import',\n",
       " 'in',\n",
       " 'is',\n",
       " 'lambda',\n",
       " 'nonlocal',\n",
       " 'not',\n",
       " 'or',\n",
       " 'pass',\n",
       " 'raise',\n",
       " 'return',\n",
       " 'try',\n",
       " 'while',\n",
       " 'with',\n",
       " 'yield']"
      ]
     },
     "execution_count": 1,
     "metadata": {},
     "output_type": "execute_result"
    }
   ],
   "source": [
    "# Run this command and you will see reserved keywords in a list(list is a data structure you will see later)\n",
    "import keyword\n",
    "keyword.kwlist"
   ]
  },
  {
   "cell_type": "markdown",
   "metadata": {
    "id": "OWOTUPKpT3pI"
   },
   "source": [
    "# Variables"
   ]
  },
  {
   "cell_type": "code",
   "execution_count": null,
   "metadata": {
    "colab": {
     "base_uri": "https://localhost:8080/",
     "height": 321
    },
    "id": "ixKyik4SQj1y",
    "outputId": "9909f016-7240-4b93-8c86-f4b80cf0464f"
   },
   "outputs": [
    {
     "data": {
      "text/html": [
       "\n",
       "        <iframe\n",
       "            width=\"600\"\n",
       "            height=\"300\"\n",
       "            src=\"https://www.youtube.com/embed/https://www.youtube.com/watch?v=YdDfEbaUPJs&list=PLsR_0x6BuM-HJZT6Xzj-088N4hN3KsDME&index=2\"\n",
       "            frameborder=\"0\"\n",
       "            allowfullscreen\n",
       "        ></iframe>\n",
       "        "
      ],
      "text/plain": [
       "<IPython.lib.display.YouTubeVideo at 0x7fc907f1fa50>"
      ]
     },
     "execution_count": 6,
     "metadata": {},
     "output_type": "execute_result"
    }
   ],
   "source": [
    "#1 Variables\n",
    "\n",
    "YouTubeVideo('https://www.youtube.com/watch?v=YdDfEbaUPJs&list=PLsR_0x6BuM-HJZT6Xzj-088N4hN3KsDME&index=2',width=600,height=300)"
   ]
  },
  {
   "cell_type": "code",
   "execution_count": 1,
   "metadata": {
    "id": "pcz4cJQuT3pI",
    "outputId": "b30d927d-ec09-43f9-86a7-e05f8e82e2a9"
   },
   "outputs": [
    {
     "name": "stdout",
     "output_type": "stream",
     "text": [
      "5\n",
      "CloudyML\n",
      "<class 'int'>\n",
      "<class 'str'>\n"
     ]
    }
   ],
   "source": [
    "# creation of a variable\n",
    "# You can use either single or double quote while defining string variable\n",
    "\n",
    "# create a variable x and pass value by looking the output\n",
    "x =  5 \n",
    "\n",
    "# create a variable y and pass value by looking the output\n",
    "y =  \"CloudyML\"  \n",
    "\n",
    "# print x and y\n",
    "\n",
    "print(x)\n",
    "print(y)\n",
    "\n",
    "# print type of x and y\n",
    "print(type(x))\n",
    "print(type(y))"
   ]
  },
  {
   "cell_type": "code",
   "execution_count": 8,
   "metadata": {
    "id": "L2oNA6WFT3pJ",
    "outputId": "ccb9de56-09d9-45a2-c16e-d2fbf7da94ad"
   },
   "outputs": [
    {
     "name": "stdout",
     "output_type": "stream",
     "text": [
      "Hack\n",
      "weekly\n",
      "group\n"
     ]
    }
   ],
   "source": [
    "# You can also assign multiple variables at the same time like this\n",
    "a, b, c = 'Hack', 'weekly', 'group'\n",
    "\n",
    "# print a b c\n",
    "print(a)\n",
    "print(b)\n",
    "print(c)\n"
   ]
  },
  {
   "cell_type": "code",
   "execution_count": 9,
   "metadata": {
    "id": "f-_iyq39en4x"
   },
   "outputs": [
    {
     "name": "stdout",
     "output_type": "stream",
     "text": [
      "suraj\n",
      "34.45\n",
      "45\n"
     ]
    }
   ],
   "source": [
    "# assign multiple variables (string, float, int) type at the same time like we did previously\n",
    "x,y,z=\"suraj\",34.45,45\n",
    "\n",
    "# print variables\n",
    "print(x)\n",
    "print(y)\n",
    "print(z)"
   ]
  },
  {
   "cell_type": "code",
   "execution_count": 10,
   "metadata": {
    "id": "_qSzgIfWT3pJ",
    "outputId": "d449cbe7-48fe-4f18-c02c-390658c5ea08"
   },
   "outputs": [
    {
     "name": "stdout",
     "output_type": "stream",
     "text": [
      "Python\n",
      "Java\n",
      "C++\n"
     ]
    }
   ],
   "source": [
    "# How to unpack things ??? Let's see\n",
    "# Unpacking a list\n",
    "languages = ['Python', 'Java', 'C++']\n",
    "\n",
    "\n",
    "# unpack all languages\n",
    "a,b,c=languages\n",
    "\n",
    "# print a b c\n",
    "\n",
    "print(a)\n",
    "print(b)\n",
    "print(c)"
   ]
  },
  {
   "cell_type": "code",
   "execution_count": 12,
   "metadata": {
    "colab": {
     "base_uri": "https://localhost:8080/"
    },
    "executionInfo": {
     "elapsed": 9,
     "status": "ok",
     "timestamp": 1650349418105,
     "user": {
      "displayName": "Rahul Mishra",
      "userId": "09742833377578495523"
     },
     "user_tz": -330
    },
    "id": "NTsEfrfHfIHz",
    "outputId": "7e222307-83fa-4f72-ae49-fbe456006de2"
   },
   "outputs": [
    {
     "name": "stdout",
     "output_type": "stream",
     "text": [
      "Python\n",
      "C++\n"
     ]
    }
   ],
   "source": [
    "# languages list\n",
    "languages = ['Python', 'Java', 'C++']\n",
    "\n",
    "# unpack it and extract only python and C++\n",
    "x,_,y=languages\n",
    "#print python and C++\n",
    "print(x)\n",
    "print(y)"
   ]
  },
  {
   "cell_type": "code",
   "execution_count": 13,
   "metadata": {
    "colab": {
     "base_uri": "https://localhost:8080/"
    },
    "executionInfo": {
     "elapsed": 471,
     "status": "ok",
     "timestamp": 1650349495096,
     "user": {
      "displayName": "Rahul Mishra",
      "userId": "09742833377578495523"
     },
     "user_tz": -330
    },
    "id": "G3aGmI8efnlN",
    "outputId": "ce7f8e6a-bdcf-42a8-a637-27aa0a76b344"
   },
   "outputs": [
    {
     "name": "stdout",
     "output_type": "stream",
     "text": [
      "Python\n",
      "R\n",
      "['Java', 'C++']\n"
     ]
    }
   ],
   "source": [
    "# languages list\n",
    "languages = ['Python', 'Java', 'C++', 'R']\n",
    "\n",
    "# unpack all languages but use atmost 3 variable\n",
    "a,*b,c=languages\n",
    "\n",
    "# print all 3 variables\n",
    "print(a)\n",
    "print(c)\n",
    "print(b)\n",
    "\n"
   ]
  },
  {
   "cell_type": "code",
   "execution_count": 14,
   "metadata": {
    "colab": {
     "base_uri": "https://localhost:8080/"
    },
    "executionInfo": {
     "elapsed": 440,
     "status": "ok",
     "timestamp": 1650350112656,
     "user": {
      "displayName": "Rahul Mishra",
      "userId": "09742833377578495523"
     },
     "user_tz": -330
    },
    "id": "bFH_6X_9T3pJ",
    "outputId": "af80776c-1dbf-49fd-fd12-64dd9f82767c"
   },
   "outputs": [
    {
     "name": "stdout",
     "output_type": "stream",
     "text": [
      "3\n",
      "3\n",
      "3.0\n",
      "<class 'str'>\n",
      "<class 'int'>\n",
      "<class 'float'>\n"
     ]
    }
   ],
   "source": [
    "# Casting of a variable 3 into string, 3.0 into int, 3 into float\n",
    "\n",
    "# x will be '3'\n",
    "x = str(3)    \n",
    "\n",
    "# y will be 3\n",
    "y = int(3)     \n",
    "\n",
    "# z will be 3.0\n",
    "z = float(3.0)   \n",
    "\n",
    "# print x, y, z\n",
    "\n",
    "print(x)\n",
    "print(y)\n",
    "print(z)\n",
    "\n",
    "# print type of x, y, z\n",
    "print(type(x))\n",
    "print(type(y))\n",
    "print(type(z))\n"
   ]
  },
  {
   "cell_type": "code",
   "execution_count": 15,
   "metadata": {
    "id": "bM-4TC-HT3pK",
    "outputId": "695a5bf4-e29a-4321-ce95-3535292412ae"
   },
   "outputs": [
    {
     "name": "stdout",
     "output_type": "stream",
     "text": [
      "4\n",
      "cloud\n"
     ]
    }
   ],
   "source": [
    "# Variables names are case sensitive\n",
    "a = 4\n",
    "A = \"cloud\"\n",
    "#A will not overwrite a\n",
    "print(a)\n",
    "print(A)"
   ]
  },
  {
   "cell_type": "code",
   "execution_count": 18,
   "metadata": {
    "id": "A41PfSkHT3pK",
    "outputId": "6a269cae-3d78-4aef-eb59-ec091ce1dc56"
   },
   "outputs": [
    {
     "name": "stdout",
     "output_type": "stream",
     "text": [
      "cloudy\n",
      "ML\n"
     ]
    }
   ],
   "source": [
    "# define variable A = \"Cloudy\"\n",
    "\n",
    "\n",
    "A=\"cloudy\"\n",
    "# print A\n",
    "\n",
    "print(A)\n",
    "# now define A = \"ML\"\n",
    "A=\"ML\"\n",
    "\n",
    "# print A\n",
    "\n",
    "print(A)\n",
    "\n",
    "\n"
   ]
  },
  {
   "cell_type": "markdown",
   "metadata": {
    "id": "m4qTc_W4jqZD"
   },
   "source": [
    "Note: If you define variable with same name then the variable's old value will be replaced by new value"
   ]
  },
  {
   "cell_type": "code",
   "execution_count": null,
   "metadata": {
    "id": "odp6Ba2wT3pK",
    "outputId": "0ed74f41-2192-43f3-bbf0-c6fe01dc9e3c"
   },
   "outputs": [
    {
     "name": "stdout",
     "output_type": "stream",
     "text": [
      "Python is awesome\n"
     ]
    }
   ],
   "source": [
    "# Would you like to add two variables ? Obviously it's gonna happen so let's learn what can be added\n",
    "\n",
    "var1 = 'Python is ' # observe the space before last comma\n",
    "var2 = 'awesome'\n",
    "# You can add two strings\n",
    "sum = var1 + var2\n",
    "print(sum) # you could simple print(var1 + var2) also"
   ]
  },
  {
   "cell_type": "code",
   "execution_count": 20,
   "metadata": {
    "id": "NOgP-8nYI3ek"
   },
   "outputs": [
    {
     "name": "stdout",
     "output_type": "stream",
     "text": [
      "vasudhaiva kutumbkam ---->The world is one family\n"
     ]
    }
   ],
   "source": [
    "# create var1 = \"vasudhaiva\"\n",
    "var1 =\"vasudhaiva \"\n",
    "\n",
    "# create var2 = \"kutumbkam\"\n",
    "var2 =\"kutumbkam \"\n",
    "\n",
    "# create var3 = \"--->\"\n",
    "var3 =\"---->\"\n",
    "# create var4 = \"The world is one family\"\n",
    "\n",
    "var4 = \"The world is one family\"\n",
    "# create variable sum = sum of all variables above\n",
    "\n",
    "sum=var1+var2+var3+var4\n",
    "# print sum\n",
    "print(sum)\n"
   ]
  },
  {
   "cell_type": "code",
   "execution_count": null,
   "metadata": {
    "id": "oZmYE1bCT3pL",
    "outputId": "422a056a-2f1f-432e-db8d-b4f3ae30c144"
   },
   "outputs": [
    {
     "name": "stdout",
     "output_type": "stream",
     "text": [
      "Adding while my variables are in integer form ---> 66\n",
      "After type casting integer to string, and then adding two numbers ---> 1947\n"
     ]
    }
   ],
   "source": [
    "# Now let's add two integers\n",
    "num1 = 19\n",
    "num2 = 47\n",
    "sum_num = num1 + num2\n",
    "print(\"Adding while my variables are in integer form --->\", sum_num)\n",
    "\n",
    "# suppose if I want to type cast integer to string and then add?? How will I do this??\n",
    "num1_str = str(num1)\n",
    "num2_str = str(num2)\n",
    "print(\"After type casting integer to string, and then adding two numbers --->\",num1_str+num2_str)"
   ]
  },
  {
   "cell_type": "code",
   "execution_count": 22,
   "metadata": {
    "id": "Hc76bJdRT3pL",
    "outputId": "01832ad2-279e-4ac2-a6ad-2a6be2af3bb7"
   },
   "outputs": [],
   "source": [
    "# Suppose you want to add string with numbers or vice versa... I mean different variables...\n",
    "str1 = \"Python version is \"\n",
    "version = \"3.8\"\n",
    "# print(str1 + version)         # it will throw TypeError, You can try running the code"
   ]
  },
  {
   "cell_type": "code",
   "execution_count": 23,
   "metadata": {
    "id": "guVINP9lT3pL",
    "outputId": "4f853c2d-8fc1-469c-8099-ebaa66ba616b"
   },
   "outputs": [
    {
     "name": "stdout",
     "output_type": "stream",
     "text": [
      "Python version is 3.8\n"
     ]
    }
   ],
   "source": [
    "# But you can add string with integer by type casting integer to string\n",
    "print(str1 + str(version))"
   ]
  },
  {
   "cell_type": "code",
   "execution_count": null,
   "metadata": {
    "id": "8epdSGYPT3pL",
    "outputId": "7fd20506-ef10-4f2d-838f-0dcb7f393eb0"
   },
   "outputs": [
    {
     "name": "stdout",
     "output_type": "stream",
     "text": [
      "CloudyML is fantastic\n",
      "CloudyML is awesome\n"
     ]
    }
   ],
   "source": [
    "# What is local and global variable??\n",
    "\n",
    "x = \"awesome\"  # global variable and it is not function dependant\n",
    "\n",
    "def myfunc():\n",
    "    x = \"fantastic\" # Local variable because it is defined inside function and it has scope as long as function has scope\n",
    "    print(\"CloudyML is \" +  x) # here local variable gets priority when name of local and global variable is same\n",
    "\n",
    "myfunc()\n",
    "\n",
    "print(\"CloudyML is \" + x)"
   ]
  },
  {
   "cell_type": "code",
   "execution_count": 27,
   "metadata": {
    "id": "5blVteivKU9V"
   },
   "outputs": [
    {
     "name": "stdout",
     "output_type": "stream",
     "text": [
      " I am going to be billonaire\n",
      "I am going to be millonaire\n"
     ]
    }
   ],
   "source": [
    "# create a variable x = \"millionaire\"\n",
    "x = \"millonaire\"\n",
    "\n",
    "def future():\n",
    "    x = \"billonaire\"\n",
    "    print(\" I am going to be \" + x)\n",
    "  #  create a variable x = \"billionaire\"\n",
    "\n",
    "  # print I'm going to be + x\n",
    "\n",
    "# call function\n",
    "\n",
    "future()\n",
    "# print again I'm going to be + x to see what does it print and observe the difference\n",
    "\n",
    "print(\"I am going to be \" + x)"
   ]
  },
  {
   "cell_type": "code",
   "execution_count": 28,
   "metadata": {
    "colab": {
     "base_uri": "https://localhost:8080/"
    },
    "executionInfo": {
     "elapsed": 435,
     "status": "ok",
     "timestamp": 1650361375482,
     "user": {
      "displayName": "Rahul Mishra",
      "userId": "09742833377578495523"
     },
     "user_tz": -330
    },
    "id": "LQ06nFo3T3pL",
    "outputId": "40626fc8-9c45-4007-bfd5-a3b7636ac98a"
   },
   "outputs": [
    {
     "name": "stdout",
     "output_type": "stream",
     "text": [
      "CloudyML is fantastic\n",
      "CloudyML is fantastic\n"
     ]
    }
   ],
   "source": [
    "# What if you want to call global variable with same name as local inside a function??\n",
    "\n",
    "# Use global keyword\n",
    "\n",
    "\n",
    "x = \"awesome\"  # global variable and it is not function dependant\n",
    "\n",
    "def myfunc():\n",
    "    global x\n",
    "    \n",
    "    # this will change x value on global level too\n",
    "    x = \"fantastic\" # Local variable because it is defined inside function and it has scope as long as function has scope\n",
    "    print(\"CloudyML is \" +  x) # here global variable gets priority because I used global keyword\n",
    "\n",
    "myfunc()\n",
    "\n",
    "print(\"CloudyML is \" + x)\n"
   ]
  },
  {
   "cell_type": "code",
   "execution_count": 43,
   "metadata": {
    "colab": {
     "base_uri": "https://localhost:8080/"
    },
    "executionInfo": {
     "elapsed": 427,
     "status": "ok",
     "timestamp": 1650361733401,
     "user": {
      "displayName": "Rahul Mishra",
      "userId": "09742833377578495523"
     },
     "user_tz": -330
    },
    "id": "kdqWKs-yN2yy",
    "outputId": "3fba823b-e9ec-444a-cf92-b77f8afa6716"
   },
   "outputs": [
    {
     "ename": "IndentationError",
     "evalue": "unindent does not match any outer indentation level (<tokenize>, line 9)",
     "output_type": "error",
     "traceback": [
      "\u001b[1;36m  File \u001b[1;32m<tokenize>:9\u001b[1;36m\u001b[0m\n\u001b[1;33m    print(\"global : \"+1)\u001b[0m\n\u001b[1;37m    ^\u001b[0m\n\u001b[1;31mIndentationError\u001b[0m\u001b[1;31m:\u001b[0m unindent does not match any outer indentation level\n"
     ]
    }
   ],
   "source": [
    "# create a variable a = 1\n",
    "a =\"1\" \n",
    "\n",
    "\n",
    "# Uses global because there is no local 'a'\n",
    "def func1():\n",
    "  # print the value of a inside func1\n",
    "\tglobal a\n",
    "    print(\"global : \"+1)\n",
    "    \n",
    "\n",
    "\n",
    "\n",
    "# Variable 'a' is redefined as a local\n",
    "def func2():\n",
    "  # declare a = 2\n",
    "\ta=\"2\"\n",
    "  # print value of a inside func2\n",
    "\tprint('inside func2 : '+a)\n",
    "\n",
    "\n",
    "  \n",
    "\n",
    "# Uses global keyword to modify global 'a'\n",
    "def func3():\n",
    "  # call global a\n",
    "\tglobal a                         # a=1       global variable becoz privious inside the function \n",
    "  # declare a = 3\n",
    "\ta=\"3\"\n",
    "  # print value of a inside func3\n",
    "\tprint(\"inside func3 : \"+a)\n",
    "\n",
    "\n",
    "# print value of a in global scope\n",
    "\n",
    "print(\"global variable : \"+a)\n",
    "\n",
    "# call func1\n",
    "\n",
    "func1()\n",
    "\n",
    "# print value of a in global scope\n",
    "\n",
    "print(\"global : \"+a)\n",
    "\n",
    "# call func2\n",
    "\n",
    "\n",
    "func2()\n",
    "# print value of a in global scope\n",
    "\n",
    "print(\"global : \"+a)\n",
    "\n",
    "# call func3\n",
    "func3()\n",
    "\n",
    "# print value of a in global scope\n",
    "\n",
    "print(\"global : \"+a)\n",
    "\n",
    "\n",
    "\n",
    "\n",
    "\n",
    "\n",
    "######\n",
    "\n",
    "a=\"1\"\n",
    "def func1():\n",
    "    global a\n",
    "    print(\"inside func1 : \"+a)\n",
    "\n",
    "def func2():\n",
    "    a=\"2\"\n",
    "    print(\"inside func2 :\"+a)\n",
    "\n",
    "def func3():\n",
    "    global a\n",
    "    a=\"3\"\n",
    "    print(\"inside func3 \"+a)\n",
    "\n",
    "\n",
    "print(\"global : \"+a)\n",
    "\n",
    "func1()\n",
    "print(\"global : \"+a)\n",
    "\n",
    "func2()\n",
    "print(\"global : \"+a)\n",
    "\n",
    "func3()\n",
    "print(\"global : \"+a)"
   ]
  },
  {
   "cell_type": "code",
   "execution_count": 35,
   "metadata": {
    "colab": {
     "base_uri": "https://localhost:8080/"
    },
    "executionInfo": {
     "elapsed": 366,
     "status": "ok",
     "timestamp": 1650361927506,
     "user": {
      "displayName": "Rahul Mishra",
      "userId": "09742833377578495523"
     },
     "user_tz": -330
    },
    "id": "VqnrDfU7T3pM",
    "outputId": "756ae1f4-6d40-4f9d-a3b8-339b4aeb9fc7"
   },
   "outputs": [
    {
     "name": "stdout",
     "output_type": "stream",
     "text": [
      "I want 5 pieces of Mango for 10 dollars.\n",
      "I want 5 pieces of Mango for 10 dollars.\n",
      "I want 5 pieces of Mango for 10 dollars.\n",
      "I want 5 pieces of Mango for 10 dollars.\n"
     ]
    }
   ],
   "source": [
    "# String formatting method\n",
    "\n",
    "# Method 1\n",
    "quantity = 5\n",
    "item_name = \"Mango\"\n",
    "price = 10\n",
    "order = \"I want {} pieces of {} for {} dollars.\" # {} is called placeholder, so 3 placeholder for 3 variables to pass\n",
    "print(order.format(quantity, item_name, price))\n",
    "\n",
    "# Method 2\n",
    "order =  \"I want {0} pieces of {1} for {2} dollars.\"  # here 0,1,2 tells the position of quantity, item_name, price\n",
    "print(order.format(quantity, item_name, price))\n",
    "\n",
    "# Method 3\n",
    "print(f\"I want {quantity} pieces of {item_name} for {price} dollars.\")  # Observe the f outside of double quote and the variable\n",
    "                                                                          # names passed in {}\n",
    "\n",
    "# Method 4\n",
    "print(\"I want %d pieces of %s for %.0f dollars.\"%(quantity, item_name, price)) # %d for int, %s for string, %f for float\n",
    "                                                                                # with 0 decimal places"
   ]
  },
  {
   "cell_type": "markdown",
   "metadata": {
    "id": "0-RTrdQjT3pM"
   },
   "source": [
    "<h2>String slicing</h2> \n",
    "\n",
    "<h5>Syntax</h5> \n",
    "let's say we have a string 'a' and we want to use indexing to get something from the string\n",
    "<h5>a[start:stop:step] -----> start means starting index number, stop is the last index no which won't be included, \n",
    "                            # step is the jump from start</h5>\n",
    "                            \n",
    "<img src=\"https://www.learnbyexample.org/wp-content/uploads/python/String-Indexing.png\">\n",
    "<h5>Observe the index numbering from left to right and right to left which we will use in next cell</h5>"
   ]
  },
  {
   "cell_type": "code",
   "execution_count": 56,
   "metadata": {
    "colab": {
     "base_uri": "https://localhost:8080/"
    },
    "executionInfo": {
     "elapsed": 501,
     "status": "ok",
     "timestamp": 1650362759137,
     "user": {
      "displayName": "Rahul Mishra",
      "userId": "09742833377578495523"
     },
     "user_tz": -330
    },
    "id": "YyZYBdHmT3pM",
    "outputId": "b3ab18b1-d235-47b9-a1a6-871c6b70280d"
   },
   "outputs": [
    {
     "name": "stdout",
     "output_type": "stream",
     "text": [
      "Data Scien\n",
      "Dt ce\n",
      "Dt cets stesxetjbo 1tcnuy\n",
      "yrutnec ts12 fo boj tseixes eht si tsitneicS ataD\n",
      "century\n"
     ]
    }
   ],
   "source": [
    "a = \"Data Scientist is the sexiest job of 21st century\"\n",
    "print(a[:10]) # start here is not mentioned means 0, stop is the 10th index which is 't', step is 1 if not mentioned\n",
    "print(a[:10:2]) # this time every 2nd element from a till 10th index no\n",
    "print(a[::2])    # every 2nd element from beginning to end in a\n",
    "print(a[::-1])   # reversing a (if you start indexing from the end of the string, it starts from -1, -2, -3 to the left direction)\n",
    "print(a[-7:])  # extracting century"
   ]
  },
  {
   "cell_type": "code",
   "execution_count": 54,
   "metadata": {
    "id": "3X_xST_xSWIc"
   },
   "outputs": [
    {
     "name": "stdout",
     "output_type": "stream",
     "text": [
      "Cloudyml \n",
      "data science\n",
      "science courses.\n"
     ]
    }
   ],
   "source": [
    "a = \"Cloudyml has many data science courses.\"\n",
    "\n",
    "# slice the \"Cloudyml\" part from a\n",
    "print(a[:9])\n",
    "# slice the \"data science\" from a\n",
    "print(a[18:-9])\n",
    "# slice \"science courses\" in reverse order\n",
    "print(a[-16:])\n"
   ]
  },
  {
   "cell_type": "markdown",
   "metadata": {
    "id": "CndbVq4rT3pM"
   },
   "source": [
    "<h2>Boolean value concept</h2>\n",
    "<ul>\n",
    "    <li>Almost any value is evaluated to True if it has some sort of content.</li>\n",
    "<li>Any string is True, except empty strings.</li>\n",
    "    <li>Any number is True, except 0.</li>\n",
    "    <li>Any list, tuple, set, and dictionary are True, except empty ones.</li></ul>\n",
    "Next few commands where we are using some equality operators will return boolean True or False"
   ]
  },
  {
   "cell_type": "code",
   "execution_count": 55,
   "metadata": {
    "id": "8Ms-10F8T3pM",
    "outputId": "dcf0afd5-5d76-4e28-d40e-c45d2a749874"
   },
   "outputs": [
    {
     "name": "stdout",
     "output_type": "stream",
     "text": [
      "True\n",
      "False\n",
      "False\n"
     ]
    }
   ],
   "source": [
    "print(10 > 9)\n",
    "print(10 == 9)\n",
    "print(10 < 9)"
   ]
  },
  {
   "cell_type": "code",
   "execution_count": 57,
   "metadata": {
    "id": "x8ZU-SLAT3pN",
    "outputId": "05a74eb9-000f-4546-d1ba-9ecd638d2f5a"
   },
   "outputs": [
    {
     "name": "stdout",
     "output_type": "stream",
     "text": [
      "False\n",
      "False\n",
      "False\n",
      "False\n",
      "False\n",
      "False\n",
      "False\n"
     ]
    }
   ],
   "source": [
    "# these print will return False\n",
    "print(bool(False))\n",
    "print(bool(None))\n",
    "print(bool(0))\n",
    "print(bool(\"\"))\n",
    "print(bool(()))\n",
    "print(bool([]))\n",
    "print(bool({}))\n"
   ]
  },
  {
   "cell_type": "code",
   "execution_count": 59,
   "metadata": {
    "id": "jo1Gt4arT3pN",
    "outputId": "1f2b2ef8-f004-487b-ec24-38eb8fc088d2"
   },
   "outputs": [
    {
     "name": "stdout",
     "output_type": "stream",
     "text": [
      "True\n",
      "True\n",
      "True\n"
     ]
    }
   ],
   "source": [
    "# These print will return True\n",
    "print(bool(\"abc\"))\n",
    "print(bool(123))\n",
    "print(bool([\"apple\", \"cherry\", \"banana\"]))"
   ]
  },
  {
   "cell_type": "markdown",
   "metadata": {
    "id": "xuwYruYgT3pN"
   },
   "source": [
    "<h2>Python Arithmetic operators</h2>"
   ]
  },
  {
   "cell_type": "code",
   "execution_count": null,
   "metadata": {
    "id": "kY-vHrsNT3pN",
    "outputId": "52ed5ecb-32d2-438e-cfdc-f8b303f9c0ed"
   },
   "outputs": [
    {
     "name": "stdout",
     "output_type": "stream",
     "text": [
      "x + y = 19\n",
      "x - y = 11\n",
      "x * y = 60\n",
      "x / y = 3.75\n",
      "x // y = 3\n",
      "x ** y = 50625\n",
      "x % y = 3\n"
     ]
    }
   ],
   "source": [
    "x = 15\n",
    "y = 4\n",
    "\n",
    "\n",
    "print('x + y =',x+y)    # Output: x + y = 19\n",
    "\n",
    "print('x - y =',x-y)    # Output: x - y = 11\n",
    "\n",
    "print('x * y =',x*y)    # Output: x * y = 60\n",
    "\n",
    "print('x / y =',x/y)    # Output: x / y = 3.75\n",
    "\n",
    "print('x // y =',x//y)   # Output: x // y = 3\n",
    "\n",
    "print('x ** y =',x**y)   # Output: x ** y = 50625\n",
    "\n",
    "print('x % y =', x % y)  # output  x % y = 3 "
   ]
  },
  {
   "cell_type": "markdown",
   "metadata": {
    "id": "GwqDZnagT3pN"
   },
   "source": [
    "<h2>If elif, else statement</h2>\n",
    "<img src=\"https://cdn.educba.com/academy/wp-content/uploads/2020/03/PYTHON-ELSE-FLOWCHART.jpg\">\n",
    "\n",
    "\n",
    "<h2>These are the conditions used basically in if, elif, and else statement</h2>\n",
    "<ul><li>Equals: a == b</li>\n",
    "    <li>Not Equals: a != b</li>\n",
    "    <li>Less than: a < b</li>\n",
    "    <li>Less than or equal to: a <= b</li>\n",
    "<li>Greater than: a > b</li>\n",
    "    <li>Greater than or equal to: a >= b</li></ul>"
   ]
  },
  {
   "cell_type": "code",
   "execution_count": 60,
   "metadata": {
    "id": "e-P2ka_lT3pN",
    "outputId": "e45321eb-df71-4569-e5a6-48d2f4b4818c"
   },
   "outputs": [
    {
     "name": "stdout",
     "output_type": "stream",
     "text": [
      "b is greater than a\n"
     ]
    }
   ],
   "source": [
    "# simple if statement\n",
    "a = 100\n",
    "b = 101\n",
    "if b > a:  # observe the ':' after if block\n",
    "  print(\"b is greater than a\")  # Observe the print statment line indentation(4 spaces gap from the line of if block)"
   ]
  },
  {
   "cell_type": "code",
   "execution_count": 61,
   "metadata": {
    "id": "FFI5CqV1T3pN",
    "outputId": "6fd330a6-e595-40c5-f632-e6b54ee6896a"
   },
   "outputs": [
    {
     "name": "stdout",
     "output_type": "stream",
     "text": [
      "a is greater than b\n"
     ]
    }
   ],
   "source": [
    "a = 100\n",
    "b = 50\n",
    "if b > a:\n",
    "  print(\"b is greater than a\")\n",
    "elif a == b:                    # elif keyword is pythons way of saying \"if the previous\n",
    "  print(\"a and b are equal\")    # conditions were not true, then try this condition\".\n",
    "                              \n",
    "else:        # else keyword catches anything which isn't caught by the preceding conditions\n",
    "  print(\"a is greater than b\")"
   ]
  },
  {
   "cell_type": "markdown",
   "metadata": {
    "id": "PFWKyZruT3pO"
   },
   "source": [
    "<h3>Explanation</h3>\n",
    "<ol>\n",
    "<li>First if condition is checked, if it meets the requirement then code under if block is executed.</li>\n",
    "<li>If it fails the requirement of first if condition, then it goes to next condition which is elif.</li>\n",
    "<li>If it meets the requirement of elif condition, it executes code inside elif, otherwise it goes to final else block.</li></ol>"
   ]
  },
  {
   "cell_type": "markdown",
   "metadata": {
    "id": "TeqOMuvqT3pO"
   },
   "source": [
    "<h2>For Loop</h2>\n",
    "\n",
    "A for loop is used for iterating over a sequence (that is either a list, a tuple, a dictionary, a set, or a string).<h5></h5>"
   ]
  },
  {
   "cell_type": "code",
   "execution_count": 62,
   "metadata": {
    "id": "ljwU5mi2T3pO",
    "outputId": "8eca90fe-cdfb-4e8f-a9a4-fe68efcfe3d2"
   },
   "outputs": [
    {
     "name": "stdout",
     "output_type": "stream",
     "text": [
      "India\n",
      "China\n",
      "USA\n",
      "UK\n",
      "Russia\n"
     ]
    }
   ],
   "source": [
    "# Simplest for loop over a list\n",
    "\n",
    "Country = [\"India\", \"China\", \"USA\", \"UK\", \"Russia\"]\n",
    "for x in Country:  # iterating each item in the list\n",
    "  print(x)"
   ]
  },
  {
   "cell_type": "code",
   "execution_count": 63,
   "metadata": {
    "id": "ap20ufKyT3pO",
    "outputId": "4348c655-e106-43cf-d358-ae6234288ff9"
   },
   "outputs": [
    {
     "name": "stdout",
     "output_type": "stream",
     "text": [
      "G\n",
      "a\n",
      "l\n",
      "a\n",
      "x\n",
      "y\n"
     ]
    }
   ],
   "source": [
    "# Iterating over a string(each letter of a string)\n",
    "\n",
    "for i in \"Galaxy\":\n",
    "    print(i)"
   ]
  },
  {
   "cell_type": "code",
   "execution_count": 64,
   "metadata": {
    "id": "vKEDm0syT3pO",
    "outputId": "c00a6e4f-325a-4b52-ec52-1456e9c097aa"
   },
   "outputs": [
    {
     "name": "stdout",
     "output_type": "stream",
     "text": [
      "G\n",
      "a\n",
      "l\n",
      "a\n"
     ]
    }
   ],
   "source": [
    "# Using break in the statement with if condition\n",
    "\n",
    "for i in \"Galaxy\":\n",
    "    if i == 'x':         # once i reaches x in 'Galaxy', it will come out of the loop\n",
    "        break                 #  break stop the loop before it has looped through all the items\n",
    "    else:\n",
    "        print(i)"
   ]
  },
  {
   "cell_type": "code",
   "execution_count": null,
   "metadata": {
    "id": "Wck-uBHfT3pO",
    "outputId": "82cd1be4-ab02-45f1-fda3-917966e715f9"
   },
   "outputs": [
    {
     "name": "stdout",
     "output_type": "stream",
     "text": [
      "G\n",
      "a\n",
      "l\n",
      "a\n",
      "y\n"
     ]
    }
   ],
   "source": [
    "# Using continue in the statement with if condition\n",
    "\n",
    "# continue statement---> we can stop the current iteration of the loop, and continue with the next\n",
    "\n",
    "for i in \"Galaxy\":\n",
    "    if i == 'x':         # once i reaches x in 'Galaxy', it will skip the current iteration\n",
    "        continue                 \n",
    "    else:\n",
    "        print(i)"
   ]
  },
  {
   "cell_type": "markdown",
   "metadata": {
    "id": "jtWhA-kBT3pP"
   },
   "source": [
    "<h2>While loop</h2>\n",
    "While loop ---> we can execute a set of statements as long as a condition is true."
   ]
  },
  {
   "cell_type": "code",
   "execution_count": 65,
   "metadata": {
    "id": "glHp_XU0T3pP",
    "outputId": "1ed0e42d-07c2-49e3-86ab-e4751d3324f8"
   },
   "outputs": [
    {
     "name": "stdout",
     "output_type": "stream",
     "text": [
      "Python is cool language.\n",
      "Python is cool language.\n",
      "Python is cool language.\n",
      "Python is cool language.\n",
      "Python is cool language.\n"
     ]
    }
   ],
   "source": [
    "# Let's see an example of while loop\n",
    "\n",
    "i = 0\n",
    "while i < 5:\n",
    "    print(\"Python is cool language.\")\n",
    "    i += 1"
   ]
  },
  {
   "cell_type": "code",
   "execution_count": 66,
   "metadata": {
    "id": "LB66nXNxT3pP",
    "outputId": "cd756ca3-7bb9-42bc-c6ae-c51133caec39"
   },
   "outputs": [
    {
     "name": "stdout",
     "output_type": "stream",
     "text": [
      "Java is also cool.\n",
      "Java is also cool.\n",
      "Java is also cool.\n",
      "Java is also cool.\n",
      "Java is also cool.\n"
     ]
    }
   ],
   "source": [
    "# We can use boolean term in while loop\n",
    "\n",
    "count = 0\n",
    "while True:\n",
    "    print(\"Java is also cool.\")\n",
    "    count += 1\n",
    "    if count == 5:\n",
    "        break"
   ]
  },
  {
   "cell_type": "code",
   "execution_count": 68,
   "metadata": {
    "id": "nu2itj89T3pP",
    "outputId": "f84f5ee0-346e-44ad-cdb4-8d316934f6ff"
   },
   "outputs": [
    {
     "name": "stdout",
     "output_type": "stream",
     "text": [
      "Python is cool language.\n",
      "Python is cool language.\n",
      "Python is cool language.\n",
      "Python is cool language.\n",
      "Python is cool language.\n",
      "Python is more than cool language.\n"
     ]
    }
   ],
   "source": [
    "# We can also use else statement with while statement\n",
    "\n",
    "i = 0\n",
    "while i < 5:\n",
    "    print(\"Python is cool language.\")\n",
    "    i += 1\n",
    "else:\n",
    "    print(\"Python is more than cool language.\") # With the else statement we can run a block of code \n",
    "                                                 # once when the condition no longer is true"
   ]
  },
  {
   "cell_type": "markdown",
   "metadata": {
    "id": "F4r9-RSzT3pP"
   },
   "source": [
    "<h2>Functions in Python</h2>\n",
    "A function is a block of code which only runs when it is called.\n",
    "\n",
    "You can pass data, known as parameters, into a function.\n",
    "\n",
    "A function can return data as a result."
   ]
  },
  {
   "cell_type": "code",
   "execution_count": 69,
   "metadata": {
    "id": "SezHtoJRT3pP",
    "outputId": "729cad19-2831-4e11-b7c0-746d473e810a"
   },
   "outputs": [
    {
     "name": "stdout",
     "output_type": "stream",
     "text": [
      "AI for all is a an affordable course\n"
     ]
    }
   ],
   "source": [
    "# Function with no parguments\n",
    "\n",
    "def cloudyfunc():  # Use def keyword to define your own function\n",
    "    print(\"AI for all is a an affordable course\")\n",
    "\n",
    "# I have used print in the function so I don't need to define a variable here, just call function\n",
    "cloudyfunc()"
   ]
  },
  {
   "cell_type": "code",
   "execution_count": 70,
   "metadata": {
    "id": "yrN8hNMWT3pQ",
    "outputId": "b6a5c414-1e85-4beb-dedb-12d6f1738d3a"
   },
   "outputs": [
    {
     "data": {
      "text/plain": [
       "'AI for all is a an affordable course'"
      ]
     },
     "execution_count": 70,
     "metadata": {},
     "output_type": "execute_result"
    }
   ],
   "source": [
    "# Here I will use return in the same function cloudyfunc and see how it works\n",
    "\n",
    "def cloudyfunc():  # Use def keyword to define your own function\n",
    "    return \"AI for all is a an affordable course\"\n",
    "\n",
    "cloudy = cloudyfunc()  # storing returned value from cloudyfunc()\n",
    "\n",
    "cloudy # print cloudy here(in jupyter or colab, no need to use print in such condition)"
   ]
  },
  {
   "cell_type": "code",
   "execution_count": 71,
   "metadata": {
    "id": "PNXilV2KT3pQ",
    "outputId": "3fad21b9-1f2c-4633-abf6-13d94ee44b61"
   },
   "outputs": [
    {
     "name": "stdout",
     "output_type": "stream",
     "text": [
      "cloudy ML\n"
     ]
    }
   ],
   "source": [
    "# Function with arguments\n",
    "\n",
    "def MLfunc(first_arg, second_arg): # You can define as many arguments\n",
    "    print(first_arg, second_arg)\n",
    "    \n",
    "MLfunc(\"cloudy\", \"ML\")\n",
    "    "
   ]
  },
  {
   "cell_type": "code",
   "execution_count": 72,
   "metadata": {
    "id": "92jBVUbAT3pQ",
    "outputId": "5df8b54e-01c6-4136-f1a8-6cccf2648a5a"
   },
   "outputs": [
    {
     "data": {
      "text/plain": [
       "15"
      ]
     },
     "execution_count": 72,
     "metadata": {},
     "output_type": "execute_result"
    }
   ],
   "source": [
    "# One recursion example using function for fun\n",
    "\n",
    "def recursive_function(some_num):\n",
    "    if some_num > 0:\n",
    "        result = some_num + recursive_function(some_num - 1)\n",
    "    else:\n",
    "        result = 0\n",
    "    return result\n",
    "\n",
    "result = recursive_function(5)\n",
    "result\n",
    "\n",
    "# Explanation\n",
    "# WHen i passed 5, 5>0, so if block code will be executed and result = 5 + recursive_function(4)\n",
    "# for value 4 as argument, 4>0, again if block will be executed, result = 4 + recursive_function(3)\n",
    "# for value 3 as argument, 3>0, again if block will be executed, result = 3 + recursive_function(2)\n",
    "# for value 2 as argument, 2>0, again if block will be executed, result = 2 + ecursive_function(1)\n",
    "# for value 1 as argument, 1>0, again if block will be executed, result = 1 + ecursive_function(0)\n",
    "# for 0, if block condition will fail and else block will be executed where result = 0\n",
    "\n",
    "# so finally let's calculate final result\n",
    "# value 1 will give result = 1\n",
    "# value 2 will give result = 2 + value1 = 2 + 1 = 3\n",
    "# value 3 will give result = 3 + value2 = 3 + 3 = 6\n",
    "# value 4 will give result = 4 + value3 = 4 + 6 = 10\n",
    "# value 5 will give result = 5 + value4 = 5 + 10 = 15\n",
    "\n",
    "# Hope you enjoyed recursion function ......"
   ]
  },
  {
   "cell_type": "markdown",
   "metadata": {
    "id": "XXkTbxnjT3pQ"
   },
   "source": [
    "<h2>List comprehension</h2>\n",
    "List comprehension offers a shorter syntax when you want to create a new list based on the values of an existing list.\n",
    "\n",
    "<h3>newlist = [expression for item in iterable if condition == True]</h3>"
   ]
  },
  {
   "cell_type": "code",
   "execution_count": 74,
   "metadata": {
    "id": "j9sjVaWYT3pQ",
    "outputId": "4e7467f0-647c-4b60-beaf-ca40b32d239c"
   },
   "outputs": [
    {
     "name": "stdout",
     "output_type": "stream",
     "text": [
      "[0, 1, 2, 3, 4, 5, 6, 7, 8, 9]\n",
      "['I', 'n', 'd', 'i', 'a']\n"
     ]
    }
   ],
   "source": [
    "# some simple list comprehension examples\n",
    "\n",
    "num_list = [i for i in range(10)]\n",
    "letter_list = [i for i in \"India\"]\n",
    "\n",
    "print(num_list)\n",
    "print(letter_list)"
   ]
  },
  {
   "cell_type": "code",
   "execution_count": 75,
   "metadata": {
    "id": "jR17rgVLT3pR",
    "outputId": "22483d88-eca4-45fe-8051-698984d85cc0"
   },
   "outputs": [
    {
     "data": {
      "text/plain": [
       "['U', 'i', 'e', 'a', 'e', 'o', 'A', 'e', 'i', 'a']"
      ]
     },
     "execution_count": 75,
     "metadata": {},
     "output_type": "execute_result"
    }
   ],
   "source": [
    "# list comprehension with if condition\n",
    "vowel_list = [i for i in \"UnitedStatesofAmerica\" if i in'aeiouAEIOU']\n",
    "vowel_list"
   ]
  },
  {
   "cell_type": "code",
   "execution_count": 78,
   "metadata": {
    "id": "-_r4GPPWT3pR",
    "outputId": "b7a21e5d-e7de-4af7-f591-ae0430e22e07"
   },
   "outputs": [
    {
     "name": "stdout",
     "output_type": "stream",
     "text": [
      "Normal method way = ['a', 'a', 's', 'a', 'a', 'a', 'a']\n",
      "Short approach using list comp = ['a', 'a', 's', 'a', 'a', 'a', 'a']\n"
     ]
    }
   ],
   "source": [
    "# showing how to convert normal method to list comprehension\n",
    "\n",
    "name = \"India, United States, Canada, South Africa\"\n",
    "my_list = []\n",
    "# Let's say I want to add letters 'a' and 's' in my_list\n",
    "\n",
    "for i in name:\n",
    "    if i in ['a', 's']:\n",
    "        my_list.append(i)\n",
    "        \n",
    "print(\"Normal method way =\", my_list)\n",
    "\n",
    "\n",
    "\n",
    "# That was a little long approach\n",
    "# I could do that in 1 line\n",
    "\n",
    "my_new_list = [i for i in name if i in ['a', 's']]    # 4 line of code merged in this one line from previous cell\n",
    "print(\"Short approach using list comp =\",my_new_list)"
   ]
  },
  {
   "cell_type": "code",
   "execution_count": 79,
   "metadata": {
    "id": "wcJ_9QLHT3pR",
    "outputId": "86939c83-328c-4fbb-c5e8-0dc0ea75fdbf"
   },
   "outputs": [
    {
     "name": "stdout",
     "output_type": "stream",
     "text": [
      "22026.465794806718\n",
      "3.1622776601683795\n",
      "5\n",
      "6\n"
     ]
    },
    {
     "ename": "NameError",
     "evalue": "name 'list_of_num' is not defined",
     "output_type": "error",
     "traceback": [
      "\u001b[1;31m---------------------------------------------------------------------------\u001b[0m",
      "\u001b[1;31mNameError\u001b[0m                                 Traceback (most recent call last)",
      "Input \u001b[1;32mIn [79]\u001b[0m, in \u001b[0;36m<cell line: 16>\u001b[1;34m()\u001b[0m\n\u001b[0;32m     13\u001b[0m \u001b[38;5;28mprint\u001b[39m(math\u001b[38;5;241m.\u001b[39mceil(another_num))   \u001b[38;5;66;03m# rounds a number up to the nearest integer\u001b[39;00m\n\u001b[0;32m     15\u001b[0m ist_of_num \u001b[38;5;241m=\u001b[39m [\u001b[38;5;241m1\u001b[39m,\u001b[38;5;241m2\u001b[39m,\u001b[38;5;241m3\u001b[39m,\u001b[38;5;241m4\u001b[39m]\n\u001b[1;32m---> 16\u001b[0m \u001b[38;5;28mprint\u001b[39m(math\u001b[38;5;241m.\u001b[39mprod(\u001b[43mlist_of_num\u001b[49m)) \u001b[38;5;66;03m# returns product of all numbers in an iterable\u001b[39;00m\n\u001b[0;32m     18\u001b[0m \u001b[38;5;28mprint\u001b[39m(math\u001b[38;5;241m.\u001b[39mpow(\u001b[38;5;241m2\u001b[39m, \u001b[38;5;241m3\u001b[39m))\n",
      "\u001b[1;31mNameError\u001b[0m: name 'list_of_num' is not defined"
     ]
    }
   ],
   "source": [
    "# Let's see some math library functions\n",
    "import math\n",
    "\n",
    "some_num = 10\n",
    "another_num = 5.6\n",
    "\n",
    "print(math.exp(some_num))  # exponentional function\n",
    "\n",
    "print(math.sqrt(some_num))  # square root of some_num\n",
    "\n",
    "print(math.floor(another_num))  # Rounds a number down to the nearest integer\n",
    "\n",
    "print(math.ceil(another_num))   # rounds a number up to the nearest integer\n",
    "\n",
    "ist_of_num = [1,2,3,4]\n",
    "print(math.prod(list_of_num)) # returns product of all numbers in an iterable\n",
    "\n",
    "print(math.pow(2, 3))    # returns value of x to the power of y , here x = 2, y = 3 \n",
    "\n",
    "# there are many such functions in math library, for more information click the below link."
   ]
  },
  {
   "cell_type": "markdown",
   "metadata": {
    "id": "6eVkIco3T3pR"
   },
   "source": [
    "For more math library function, click here --> <a href=\"https://www.w3schools.com/python/module_math.asp\">Click here</a>"
   ]
  },
  {
   "cell_type": "markdown",
   "metadata": {
    "id": "GaqjhGa-T3pR"
   },
   "source": [
    "<h3>That's all for Python basics. For any kind of feedback regarding this notes, you can talk to your Mentors.</h3>"
   ]
  },
  {
   "cell_type": "code",
   "execution_count": null,
   "metadata": {
    "id": "Cv77dcNtT3pR"
   },
   "outputs": [],
   "source": []
  }
 ],
 "metadata": {
  "colab": {
   "collapsed_sections": [],
   "name": "Python dummy assignment_withoutcode.ipynb",
   "provenance": []
  },
  "kernelspec": {
   "display_name": "Python 3 (ipykernel)",
   "language": "python",
   "name": "python3"
  },
  "language_info": {
   "codemirror_mode": {
    "name": "ipython",
    "version": 3
   },
   "file_extension": ".py",
   "mimetype": "text/x-python",
   "name": "python",
   "nbconvert_exporter": "python",
   "pygments_lexer": "ipython3",
   "version": "3.10.0"
  },
  "latex_envs": {
   "LaTeX_envs_menu_present": true,
   "autoclose": false,
   "autocomplete": true,
   "bibliofile": "biblio.bib",
   "cite_by": "apalike",
   "current_citInitial": 1,
   "eqLabelWithNumbers": true,
   "eqNumInitial": 1,
   "hotkeys": {
    "equation": "Ctrl-E",
    "itemize": "Ctrl-I"
   },
   "labels_anchors": false,
   "latex_user_defs": false,
   "report_style_numbering": false,
   "user_envs_cfg": false
  }
 },
 "nbformat": 4,
 "nbformat_minor": 1
}
