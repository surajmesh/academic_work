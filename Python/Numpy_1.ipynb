{
 "cells": [
  {
   "cell_type": "markdown",
   "metadata": {
    "id": "oGpEWIIQt4Fy"
   },
   "source": [
    "# <center> Numpy Basics </center>"
   ]
  },
  {
   "cell_type": "markdown",
   "metadata": {
    "id": "ofeqTIllt4F3"
   },
   "source": [
    "Welcome to section of Numpy. This is one of the \n",
    "the most used Python libraries for data science. NumPy consists of a powerful data structure called multidimensional arrays. Pandas is another powerful Python library that provides fast and easy data analysis platform.\n",
    "\n",
    "NumPy is a library written for scientific computing and data analysis. It stands for numerical python and also known as array oriented computing.\n",
    "\n",
    "The most basic object in NumPy is the ndarray, or simply an array which is an n-dimensional, homogeneous array. By homogenous, we mean that all the elements in a NumPy array have to be of the same data type, which is commonly numeric (float or integer).\n",
    "\n",
    "\n",
    " # Why Numpy?\n",
    " convenience & speed\n",
    " \n",
    " Numpy is much faster than the standard python ways to do computations.\n",
    " \n",
    "Vectorised code typically does not contain explicit looping and indexing etc. (all of this happens behind the scenes, in precompiled C-code), and thus it is much more concise.\n",
    "\n",
    "Also, many Numpy operations are implemented in C which is basically being executed behind the scenes, avoiding the general cost of loops in Python, pointer indirection and per-element dynamic type checking. The speed boost depends on which operations you're performing.\n",
    " \n",
    " NumPy arrays are more compact than lists, i.e. they take much lesser storage space than lists\n",
    " \n",
    " ***Let's get started  with our Numpy Assigment**\n",
    " \n",
    " <p style='text-align: right;'> 2 points </p>\n",
    "\n",
    "\n",
    "You can check this numpy video too! : https://www.youtube.com/watch?v=QUT1VHiLmmI"
   ]
  },
  {
   "cell_type": "code",
   "execution_count": 6,
   "metadata": {
    "id": "BG9AXCZft4F4"
   },
   "outputs": [],
   "source": [
    "#import numpy module with alias np\n",
    "import numpy as np"
   ]
  },
  {
   "cell_type": "markdown",
   "metadata": {
    "id": "xSn1VxFzt4F5"
   },
   "source": [
    "We can create a NumPy ndarray object by using the array() function.\n",
    "To create an ndarray, we can pass a list, tuple or any array-like object into the array() method, and it will be converted into an ndarray:\n"
   ]
  },
  {
   "cell_type": "code",
   "execution_count": 7,
   "metadata": {
    "id": "ZeGUecB-t4F6"
   },
   "outputs": [],
   "source": [
    "# Define a numpy array passing a list with  1,2 and 3 as elements in it\n",
    "a = np.array([1,2,3])"
   ]
  },
  {
   "cell_type": "code",
   "execution_count": 8,
   "metadata": {
    "id": "luK2J9tzt4F6",
    "outputId": "8bc89cc1-923f-4826-de6a-af839cb9a845"
   },
   "outputs": [
    {
     "data": {
      "text/plain": [
       "array([1, 2, 3])"
      ]
     },
     "execution_count": 8,
     "metadata": {},
     "output_type": "execute_result"
    }
   ],
   "source": [
    "# print a\n",
    "a"
   ]
  },
  {
   "cell_type": "markdown",
   "metadata": {
    "id": "w1SH0hcGt4F8"
   },
   "source": [
    "## Dimensions in Arrays\n",
    "\n",
    "Reference: https://youtu.be/yXERsSz81mE\n",
    "\n",
    "Numpy array can be of n dimentions\n",
    "\n",
    "Lets create arrays of different dimentions.\n",
    "\n",
    "a=A numpy array with one single integer 10\n",
    "\n",
    "b=A numpy array passing a list having a list= [1,2,3]\n",
    "\n",
    "c=A numpy array passing nested list having [[1, 2, 3], [4, 5, 6]] as elements\n",
    "\n",
    "d=A numpy array passing nested list having [[[1, 2, 3], [4, 5, 6]], [[1, 2, 3], [4, 5, 6]]] as elements\n",
    "\n",
    "<p style='text-align: right;'> 3 points </p>\n"
   ]
  },
  {
   "cell_type": "code",
   "execution_count": 9,
   "metadata": {
    "id": "sv4eIFmDt4F9"
   },
   "outputs": [
    {
     "name": "stdout",
     "output_type": "stream",
     "text": [
      "10\n",
      "[1 2 3]\n",
      "[[1 2 3]\n",
      " [4 5 6]]\n",
      "[[[1 2 3]\n",
      "  [4 5 6]\n",
      "  [1 2 3]\n",
      "  [4 5 6]]]\n"
     ]
    }
   ],
   "source": [
    "#define a,b,c and d as instructed above\n",
    "\n",
    "a = np.array(10,dtype=\"int32\")\n",
    "b = np.array([1,2,3])\n",
    "c = np.array([[1,2,3],[4,5,6]])\n",
    "d = np.array([[[1,2,3],[4,5,6],[1,2,3],[4,5,6]]])\n",
    "print(a)\n",
    "print(b)\n",
    "print(c)\n",
    "print(d)"
   ]
  },
  {
   "cell_type": "markdown",
   "metadata": {
    "id": "RIw2YxqKt4F9"
   },
   "source": [
    "Are you ready to check its dimention? Use ndim attribute on each variable to check its dimention"
   ]
  },
  {
   "cell_type": "code",
   "execution_count": 10,
   "metadata": {
    "id": "bBrmCwo8t4F-",
    "outputId": "3becb7ed-1542-4935-dc9b-dfd766424b18"
   },
   "outputs": [
    {
     "name": "stdout",
     "output_type": "stream",
     "text": [
      "a dimesnsion of : 0\n",
      "b dimension of : 1\n",
      "c dimension of : 2\n",
      "d dimension of : 3\n"
     ]
    }
   ],
   "source": [
    "#print dimentions of a,b, c and d\n",
    "print(\"a dimesnsion of :\",a.ndim)\n",
    "print(\"b dimension of :\",b.ndim)\n",
    "print(\"c dimension of :\",c.ndim)\n",
    "print(\"d dimension of :\",d.ndim)\n",
    "\n"
   ]
  },
  {
   "cell_type": "markdown",
   "metadata": {
    "id": "HXJN0eIqt4F_"
   },
   "source": [
    "Hey hey. Did you see! you have created 0-D,1-DeprecationWarning, 2-D and 3-D arrays.\n",
    "\n",
    "Lets print there shape as well. You can check shape using shape attribute\n",
    "\n"
   ]
  },
  {
   "cell_type": "code",
   "execution_count": 11,
   "metadata": {
    "id": "iAoUXaONt4F_",
    "outputId": "d1524a9f-63c0-4657-e47a-3b779bc21b27"
   },
   "outputs": [
    {
     "name": "stdout",
     "output_type": "stream",
     "text": [
      "a dimesnsion of : ()\n",
      "b dimension of : (3,)\n",
      "c dimension of : (2, 3)\n",
      "d dimension of : (1, 4, 3)\n"
     ]
    }
   ],
   "source": [
    "# print shape of each a,b ,c and d\n",
    "print(\"a dimesnsion of :\",a.shape)\n",
    "print(\"b dimension of :\",b.shape)\n",
    "print(\"c dimension of :\",c.shape)\n",
    "print(\"d dimension of :\",d.shape)"
   ]
  },
  {
   "cell_type": "markdown",
   "metadata": {
    "id": "O1bE06rRt4F_"
   },
   "source": [
    "Lets check data type passed in our array. To check data type you can use dtype attribute"
   ]
  },
  {
   "cell_type": "code",
   "execution_count": 12,
   "metadata": {
    "id": "vG2JHrC0t4GA",
    "outputId": "f8ef61ae-39ee-4467-9f4b-35f8d872ba1b"
   },
   "outputs": [
    {
     "name": "stdout",
     "output_type": "stream",
     "text": [
      "int32\n",
      "int32\n"
     ]
    }
   ],
   "source": [
    "# print data type of c and d\n",
    "print(c.dtype)\n",
    "print(d.dtype)\n"
   ]
  },
  {
   "cell_type": "markdown",
   "metadata": {
    "id": "mo56WdZDt4GA"
   },
   "source": [
    "Above output mean our array is having int type elements in it."
   ]
  },
  {
   "cell_type": "markdown",
   "metadata": {
    "id": "e5oy3-mkt4GA"
   },
   "source": [
    "Lets check the type of our variable. To check type of any numpy variable use type() function "
   ]
  },
  {
   "cell_type": "code",
   "execution_count": 13,
   "metadata": {
    "id": "qNQNGNoFt4GB",
    "outputId": "134777dc-4911-4fb3-a6ae-416b92f01996"
   },
   "outputs": [
    {
     "name": "stdout",
     "output_type": "stream",
     "text": [
      "<class 'numpy.ndarray'>\n",
      "<class 'numpy.ndarray'>\n"
     ]
    }
   ],
   "source": [
    "#print type of a and b variable\n",
    "print(type(a))\n",
    "print(type(b))"
   ]
  },
  {
   "cell_type": "code",
   "execution_count": 14,
   "metadata": {
    "id": "NIgqZ6vKt4GB",
    "outputId": "12f1bc0b-482a-4c60-fe3a-01a07b1018b4"
   },
   "outputs": [
    {
     "data": {
      "text/plain": [
       "3"
      ]
     },
     "execution_count": 14,
     "metadata": {},
     "output_type": "execute_result"
    }
   ],
   "source": [
    "# Lets check length of array b, using len() function\n",
    "len(b)"
   ]
  },
  {
   "cell_type": "markdown",
   "metadata": {
    "id": "2Ee8UxkHt4GB"
   },
   "source": [
    "Bravo!You have Defined ndarray i.e numpy array in variable a nd b. Also you have successfully learned how to create numpy. "
   ]
  },
  {
   "cell_type": "markdown",
   "metadata": {
    "id": "tvrRD2Rkt4GC"
   },
   "source": [
    "## Performance measurement\n",
    "\n",
    "I mentioned that the key advantages of numpy are convenience and speed of computation.\n",
    "\n",
    "You'll often work with extremely large datasets, and thus it is important point for you to understand how much computation time (and memory) you can save using numpy, compared to standard python lists.\n",
    "\n",
    "<p style='text-align: right;'> 2 points </p>\n"
   ]
  },
  {
   "cell_type": "markdown",
   "metadata": {
    "id": "CAZ2t54lt4GC"
   },
   "source": [
    "Create two list l1 and l2 where, l1=[10,20,30] and l2=[40,50,60]\n",
    "Also define two numpy arrays l3,l4 where l3 has l1 as element and l4 has l2 as element\n"
   ]
  },
  {
   "cell_type": "code",
   "execution_count": 5,
   "metadata": {
    "id": "KqC823QUt4GC"
   },
   "outputs": [],
   "source": [
    "# Define l1,l2,l3 and l4 as stated above.\n",
    "l1 = [10,20,30]\n",
    "l2 = [40,50,60]\n",
    "l3 =np.array(l1) \n",
    "l4 = np.array(l2)"
   ]
  },
  {
   "cell_type": "markdown",
   "metadata": {
    "id": "v_Nv-VR_t4GC"
   },
   "source": [
    "Lets multiply each elements of l1 with corresponding elements of l2\n",
    "\n",
    "Here use list comprehention to do so. Lets see how much you remember your work in other assignments.\n",
    "\n",
    "Note: use %timeit as prefix before your line of code inorder to calculate total time taken to run that line<br>\n",
    "eg. %timeit my_code"
   ]
  },
  {
   "cell_type": "code",
   "execution_count": 6,
   "metadata": {
    "id": "P9dDxvRlt4GD",
    "outputId": "9a2bad33-10ea-416d-f46c-a1cdaf6941ea"
   },
   "outputs": [
    {
     "name": "stdout",
     "output_type": "stream",
     "text": [
      "469 ns ± 9.82 ns per loop (mean ± std. dev. of 7 runs, 1,000,000 loops each)\n"
     ]
    }
   ],
   "source": [
    "#code here as instructed above\n",
    "%timeit [l1[i] * l2[i] for i in range(len(l1))]"
   ]
  },
  {
   "cell_type": "markdown",
   "metadata": {
    "id": "qFN3uj8_t4GD"
   },
   "source": [
    "Lets mulptiply l3 and l4\n",
    "\n",
    "Note: use %timeit as prefix before your line of code inorder to calculate total time taken to run that line"
   ]
  },
  {
   "cell_type": "code",
   "execution_count": 8,
   "metadata": {
    "id": "mRO082xAt4GE",
    "outputId": "c8585f79-b413-416e-9393-86fe217767a1"
   },
   "outputs": [
    {
     "name": "stdout",
     "output_type": "stream",
     "text": [
      "864 ns ± 6.02 ns per loop (mean ± std. dev. of 7 runs, 1,000,000 loops each)\n"
     ]
    }
   ],
   "source": [
    "%timeit [l3[j]  * l4[j] for j in range(len(l4))]"
   ]
  },
  {
   "cell_type": "markdown",
   "metadata": {
    "id": "gYFifXdZt4GE"
   },
   "source": [
    "Don't worry if still your one line of code is running. Its because your system is calculating total time taken to run your code.\n",
    "\n",
    "Did you notice buddy! time taken to multiply two lists takes more time than multiplyimg two numpy array.\n",
    "Hence proved that numpy arrays are faster than lists.\n",
    "\n",
    "**Fun Fact time!:**\n",
    "\n",
    "You know in many data science interviews it is asked that what is the difference between list and array.<br>\n",
    "The answer is: https://youtu.be/c4L2KgwMTTo\n",
    "\n"
   ]
  },
  {
   "cell_type": "markdown",
   "metadata": {
    "id": "VjHa1zDgt4GE"
   },
   "source": [
    "so in numpy arrays I can do everything without even writing a loop? yes... ohh wao"
   ]
  },
  {
   "cell_type": "markdown",
   "metadata": {
    "id": "0xYVGBu4t4GE"
   },
   "source": [
    "### Creating Numpy array\n",
    "\n",
    "\n",
    "There are multiple ways to create numpy array. Lets walk over them\n",
    "\n",
    "1. Using arrange() function <br>\n",
    "Refer: https://numpy.org/doc/stable/reference/generated/numpy.arange.html\n",
    "\n",
    "<p style='text-align: right;'> 8 points </p>\n"
   ]
  },
  {
   "cell_type": "code",
   "execution_count": 9,
   "metadata": {
    "id": "lGp7iUy9t4GF",
    "outputId": "b40479e8-8ebf-4832-bd61-b33e6cb2f559"
   },
   "outputs": [
    {
     "data": {
      "text/plain": [
       "array([ 1,  2,  3,  4,  5,  6,  7,  8,  9, 10])"
      ]
     },
     "execution_count": 9,
     "metadata": {},
     "output_type": "execute_result"
    }
   ],
   "source": [
    "#Create a numpy array using arange with 1 and 11 as parameter in it\n",
    "import numpy as np\n",
    "np.arange(1,11)"
   ]
  },
  {
   "cell_type": "markdown",
   "metadata": {
    "id": "lQWALBytt4GF"
   },
   "source": [
    "This means using arrange we get evenly spaced values within a given interval. Interval? Yes you can mention interval as well as third parameter in it."
   ]
  },
  {
   "cell_type": "code",
   "execution_count": 10,
   "metadata": {
    "id": "3zT0Ef7Ht4GF",
    "outputId": "f5e351f3-f619-440e-a2bb-ba1d05418c75"
   },
   "outputs": [
    {
     "data": {
      "text/plain": [
       "array([1, 3, 5, 7, 9])"
      ]
     },
     "execution_count": 10,
     "metadata": {},
     "output_type": "execute_result"
    }
   ],
   "source": [
    "# Create an array using arange passing 1,11 and 2 as parameters\n",
    "np.arange(1,11,2)"
   ]
  },
  {
   "cell_type": "markdown",
   "metadata": {
    "id": "eNm2h83ct4GF"
   },
   "source": [
    "Did you see? you got all odd numbers as you had mentioned interval between 1 and 10. Also note that 11 is excluded and hence arrange function counted till 10\n",
    "\n",
    "2. Using eye Function <br>\n",
    "Refer: https://numpy.org/devdocs/reference/generated/numpy.eye.html"
   ]
  },
  {
   "cell_type": "code",
   "execution_count": 11,
   "metadata": {
    "id": "GMAupqxet4GG",
    "outputId": "b65acdfe-1cb0-4a71-cdca-34cce3ddf62d"
   },
   "outputs": [
    {
     "data": {
      "text/plain": [
       "array([[1, 0, 0],\n",
       "       [0, 1, 0],\n",
       "       [0, 0, 1]])"
      ]
     },
     "execution_count": 11,
     "metadata": {},
     "output_type": "execute_result"
    }
   ],
   "source": [
    "# create numpy array using eye function with 3 as passed parameter\n",
    "np.eye(3,dtype=\"int32\")"
   ]
  },
  {
   "cell_type": "markdown",
   "metadata": {
    "id": "Pgbej1Wmt4GG"
   },
   "source": [
    "Wohoo! eye return a 2-D array with ones on the diagonal and zeros elsewhere.\n",
    "\n",
    "3. Using zero function<br>\n",
    "Refer: https://numpy.org/doc/stable/reference/generated/numpy.zeros.html"
   ]
  },
  {
   "cell_type": "code",
   "execution_count": 12,
   "metadata": {
    "id": "cUZYCx-tt4GG",
    "outputId": "e65c36e7-3948-4850-be96-34a6f0dea84c"
   },
   "outputs": [
    {
     "data": {
      "text/plain": [
       "array([[0, 0],\n",
       "       [0, 0],\n",
       "       [0, 0]])"
      ]
     },
     "execution_count": 12,
     "metadata": {},
     "output_type": "execute_result"
    }
   ],
   "source": [
    "#create a numpy array using zero function with (3,2) as passed parameter\n",
    "\n",
    "np.zeros((3,2),dtype=\"int32\")"
   ]
  },
  {
   "cell_type": "markdown",
   "metadata": {
    "id": "JcHcQlhQt4GG"
   },
   "source": [
    "Zero function returns a new array of given shape and type, filled with zeros.\n",
    "\n",
    "4. Using ones Function <br>\n",
    "Refer: https://numpy.org/doc/stable/reference/generated/numpy.ones.html"
   ]
  },
  {
   "cell_type": "code",
   "execution_count": 13,
   "metadata": {
    "id": "6MuKTg8Wt4GG",
    "outputId": "b224789f-f4b9-4e0d-b2ab-0e9360f377ac"
   },
   "outputs": [
    {
     "data": {
      "text/plain": [
       "array([[1, 1],\n",
       "       [1, 1],\n",
       "       [1, 1]])"
      ]
     },
     "execution_count": 13,
     "metadata": {},
     "output_type": "execute_result"
    }
   ],
   "source": [
    "#create a numpy array using ones function with (3,2) as passed parameter\n",
    "np.ones((3,2),dtype=\"int32\")\n"
   ]
  },
  {
   "cell_type": "markdown",
   "metadata": {
    "id": "e76a-3WKt4GH"
   },
   "source": [
    "You noticed! ones function returns a new array of given shape and type, filled with ones.\n",
    "\n",
    "5. Using full Function<br>\n",
    "Refer: https://numpy.org/doc/stable/reference/generated/numpy.full.html"
   ]
  },
  {
   "cell_type": "code",
   "execution_count": 14,
   "metadata": {
    "id": "avOzceIFt4GH",
    "outputId": "b58f23f6-a7a2-47ee-b195-5f18a81dbec0"
   },
   "outputs": [
    {
     "data": {
      "text/plain": [
       "array([[2, 2],\n",
       "       [2, 2],\n",
       "       [2, 2]])"
      ]
     },
     "execution_count": 14,
     "metadata": {},
     "output_type": "execute_result"
    }
   ],
   "source": [
    "#create a numpy array using full function with (3,2) and 2 as passed parameter\n",
    "np.full((3,2),2,dtype=\"int32\")\n"
   ]
  },
  {
   "cell_type": "markdown",
   "metadata": {
    "id": "sdS_L4Xft4GH"
   },
   "source": [
    "Yeah! full function return a new array of given shape and type, filled with fill_value, here it is 2\n",
    "\n",
    "6. Using diag function<br>\n",
    "Refer: https://numpy.org/doc/stable/reference/generated/numpy.diag.html"
   ]
  },
  {
   "cell_type": "code",
   "execution_count": 16,
   "metadata": {
    "id": "0TD-gYvSt4GH",
    "outputId": "38cacc21-c035-45c6-ec66-13fafde46ef9"
   },
   "outputs": [
    {
     "data": {
      "text/plain": [
       "array([[1, 0, 0, 0, 0],\n",
       "       [0, 2, 0, 0, 0],\n",
       "       [0, 0, 3, 0, 0],\n",
       "       [0, 0, 0, 4, 0],\n",
       "       [0, 0, 0, 0, 5]])"
      ]
     },
     "execution_count": 16,
     "metadata": {},
     "output_type": "execute_result"
    }
   ],
   "source": [
    "#create a numpy array using diag function passing a list [1,2,3,4,5]\n",
    "l=[1,2,3,4,5]\n",
    "np.diag(l)\n"
   ]
  },
  {
   "cell_type": "markdown",
   "metadata": {
    "id": "-TE6Uuxat4GI"
   },
   "source": [
    "Oh yeah! diag function extract a diagonal or construct a diagonal array.\n",
    "\n",
    " 7. Using tile function<br>\n",
    "    Refer: https://numpy.org/doc/stable/reference/generated/numpy.tile.html"
   ]
  },
  {
   "cell_type": "code",
   "execution_count": 17,
   "metadata": {
    "id": "GVMASNg_t4GI",
    "outputId": "069df2be-eca0-42ce-ae85-b702f8f9809e"
   },
   "outputs": [
    {
     "data": {
      "text/plain": [
       "array([[1, 2, 3],\n",
       "       [1, 2, 3],\n",
       "       [1, 2, 3]])"
      ]
     },
     "execution_count": 17,
     "metadata": {},
     "output_type": "execute_result"
    }
   ],
   "source": [
    "# Create a numpy array v with [1,2,3] as its elements\n",
    "v = [1,2,3]\n",
    "\n",
    "#Use tile function of numpy and pass v and (3,1) as its parametrs\n",
    "\n",
    "np.tile(v,(3,1))"
   ]
  },
  {
   "cell_type": "markdown",
   "metadata": {
    "id": "df8OuHNjt4GI"
   },
   "source": [
    "Returns an array by repeating an input array the number of times given by mentioned shape.\n",
    "Here you can see that you stacked 3 copies of v on top of each other\n",
    "\n",
    "8. Using linspace Function<br>\n",
    "Refer: https://numpy.org/doc/stable/reference/generated/numpy.linspace.html"
   ]
  },
  {
   "cell_type": "code",
   "execution_count": 18,
   "metadata": {
    "id": "7fcH8ybqt4GI",
    "outputId": "27648da4-1fb6-4b4d-f7c4-a8b72e430a04"
   },
   "outputs": [
    {
     "data": {
      "text/plain": [
       "array([ 1.        ,  1.49494949,  1.98989899,  2.48484848,  2.97979798,\n",
       "        3.47474747,  3.96969697,  4.46464646,  4.95959596,  5.45454545,\n",
       "        5.94949495,  6.44444444,  6.93939394,  7.43434343,  7.92929293,\n",
       "        8.42424242,  8.91919192,  9.41414141,  9.90909091, 10.4040404 ,\n",
       "       10.8989899 , 11.39393939, 11.88888889, 12.38383838, 12.87878788,\n",
       "       13.37373737, 13.86868687, 14.36363636, 14.85858586, 15.35353535,\n",
       "       15.84848485, 16.34343434, 16.83838384, 17.33333333, 17.82828283,\n",
       "       18.32323232, 18.81818182, 19.31313131, 19.80808081, 20.3030303 ,\n",
       "       20.7979798 , 21.29292929, 21.78787879, 22.28282828, 22.77777778,\n",
       "       23.27272727, 23.76767677, 24.26262626, 24.75757576, 25.25252525,\n",
       "       25.74747475, 26.24242424, 26.73737374, 27.23232323, 27.72727273,\n",
       "       28.22222222, 28.71717172, 29.21212121, 29.70707071, 30.2020202 ,\n",
       "       30.6969697 , 31.19191919, 31.68686869, 32.18181818, 32.67676768,\n",
       "       33.17171717, 33.66666667, 34.16161616, 34.65656566, 35.15151515,\n",
       "       35.64646465, 36.14141414, 36.63636364, 37.13131313, 37.62626263,\n",
       "       38.12121212, 38.61616162, 39.11111111, 39.60606061, 40.1010101 ,\n",
       "       40.5959596 , 41.09090909, 41.58585859, 42.08080808, 42.57575758,\n",
       "       43.07070707, 43.56565657, 44.06060606, 44.55555556, 45.05050505,\n",
       "       45.54545455, 46.04040404, 46.53535354, 47.03030303, 47.52525253,\n",
       "       48.02020202, 48.51515152, 49.01010101, 49.50505051, 50.        ])"
      ]
     },
     "execution_count": 18,
     "metadata": {},
     "output_type": "execute_result"
    }
   ],
   "source": [
    "# Create an array with 100 values between 1 and 50 using linspace\n",
    "np.linspace(1,50,num=100)"
   ]
  },
  {
   "cell_type": "markdown",
   "metadata": {
    "id": "3hSEijY2t4GI"
   },
   "source": [
    "Wao! linspace returns evenly spaced numbers over a specified interval.\n",
    "\n",
    "Hey but you saw some similar defination for arrange function\n",
    "\n",
    "The main difference both of them is that arange return values with in a range which has a space between values (in other words the step) and linspace returns set of samples with in a given interval.\n",
    "\n",
    "## Numpy Random numbers\n",
    "\n",
    "\n",
    "Fun Fact:\n",
    "\n",
    "You can create a numpy array with random numbers also. How? Uisng random function<br>\n",
    "Lets see how\n",
    "Refer: https://numpy.org/doc/stable/reference/random/generated/numpy.random.rand.html\n",
    "\n",
    "<p style='text-align: right;'> 3 points </p>\n"
   ]
  },
  {
   "cell_type": "code",
   "execution_count": 19,
   "metadata": {
    "id": "aCKGRvuQt4GJ",
    "outputId": "3527c9ff-cbbb-47cd-9034-e835f78c89b2"
   },
   "outputs": [
    {
     "data": {
      "text/plain": [
       "array([0.53193219])"
      ]
     },
     "execution_count": 19,
     "metadata": {},
     "output_type": "execute_result"
    }
   ],
   "source": [
    "# Generate one random number between 0 and 1 using numpy's random.rand() function.\n",
    "np.random.rand(1)\n"
   ]
  },
  {
   "cell_type": "markdown",
   "metadata": {
    "id": "SWqOPvlKt4GJ"
   },
   "source": [
    "Run the above cell again and check if number changes.\n",
    "\n",
    "Yeah it changes. That's so random :)"
   ]
  },
  {
   "cell_type": "code",
   "execution_count": 20,
   "metadata": {
    "id": "lkspQl7Gt4GJ",
    "outputId": "73bbe8fd-358d-4218-e877-948c07d27ffb"
   },
   "outputs": [
    {
     "data": {
      "text/plain": [
       "array([[0.02408878, 0.55545676, 0.09727594, 0.22393376, 0.37195849,\n",
       "        0.01227536, 0.88114242, 0.36754651, 0.50530811, 0.11465125,\n",
       "        0.56215131, 0.09508542, 0.98784265, 0.52015105, 0.55532123,\n",
       "        0.01645674, 0.54032208, 0.76435507, 0.21329162, 0.63994563,\n",
       "        0.97202832, 0.41316585, 0.04456593, 0.57080176, 0.99830745,\n",
       "        0.06817869, 0.10600581, 0.09594595, 0.26893477, 0.13998213,\n",
       "        0.00974037, 0.20195538, 0.32752081, 0.61422843, 0.8476586 ,\n",
       "        0.0722164 , 0.79443914, 0.55413517, 0.19517935, 0.96811249,\n",
       "        0.22678808, 0.93558547, 0.23951506, 0.31654817, 0.59509578,\n",
       "        0.5701934 , 0.10547721, 0.86809185, 0.5504209 , 0.1771723 ],\n",
       "       [0.08072143, 0.48723342, 0.32807478, 0.06029899, 0.10715551,\n",
       "        0.04194324, 0.95452416, 0.35151749, 0.29911766, 0.49553346,\n",
       "        0.96710145, 0.30649759, 0.36387053, 0.78868216, 0.58192186,\n",
       "        0.91781156, 0.10944024, 0.16583825, 0.43195282, 0.64199813,\n",
       "        0.65216054, 0.5131993 , 0.30125701, 0.9474104 , 0.7233805 ,\n",
       "        0.09861482, 0.17098716, 0.92618505, 0.53694272, 0.80085329,\n",
       "        0.19983241, 0.09127425, 0.65818243, 0.52852594, 0.47992049,\n",
       "        0.00339663, 0.70318723, 0.50695218, 0.80313668, 0.27139625,\n",
       "        0.82881354, 0.60354957, 0.69380142, 0.07935022, 0.77950206,\n",
       "        0.34179192, 0.98197875, 0.08188749, 0.25717654, 0.58538948]])"
      ]
     },
     "execution_count": 20,
     "metadata": {},
     "output_type": "execute_result"
    }
   ],
   "source": [
    "# so let say I want a random value between 2 and 50\n",
    "np.random.rand(2,50)"
   ]
  },
  {
   "cell_type": "markdown",
   "metadata": {
    "id": "RMuGN4KIt4GJ"
   },
   "source": [
    "Run the above cell again and check if number changes and its between 2 to 50.\n",
    "\n",
    "Now lets create an array with random numbers 0 to 1 of shape 3X3"
   ]
  },
  {
   "cell_type": "code",
   "execution_count": 21,
   "metadata": {
    "id": "udwXzUd-t4GJ",
    "outputId": "847a50fb-411d-4100-ff8e-f53b7b88c6da"
   },
   "outputs": [
    {
     "data": {
      "text/plain": [
       "array([[0.78435063, 0.66320182, 0.26978471],\n",
       "       [0.78180439, 0.12839939, 0.06147968],\n",
       "       [0.26386998, 0.79740526, 0.48906835]])"
      ]
     },
     "execution_count": 21,
     "metadata": {},
     "output_type": "execute_result"
    }
   ],
   "source": [
    "#get an array as stated above\n",
    "np.random.rand(9).reshape(3,3)"
   ]
  },
  {
   "cell_type": "markdown",
   "metadata": {
    "id": "jOcutGILt4GJ"
   },
   "source": [
    "Smile! you got it how to create a numpy array with random numbers.\n",
    "\n",
    "## Numpy Reshape\n",
    "\n",
    "Reference: https://youtu.be/KUyC0hwqkI8\n",
    "\n",
    "reference doc: https://numpy.org/doc/stable/reference/generated/numpy.reshape.html\n",
    "\n",
    "Reshaping means changing the shape of an array.\n",
    "The shape of an array is the number of elements in each dimension.\n",
    "By reshaping we can add or remove dimensions or change number of elements in each dimension.\n",
    "\n",
    "<p style='text-align: right;'> 6 points </p>\n"
   ]
  },
  {
   "cell_type": "code",
   "execution_count": 22,
   "metadata": {
    "id": "FxXr3Nvat4GK"
   },
   "outputs": [
    {
     "data": {
      "text/plain": [
       "array([ 1,  2,  3,  4,  5,  6,  7,  8,  9, 10, 11, 12, 13, 14, 15, 16])"
      ]
     },
     "execution_count": 22,
     "metadata": {},
     "output_type": "execute_result"
    }
   ],
   "source": [
    "# Using arange() to generate numpy array x with numbers between 1 to 16\n",
    "x=np.arange(1,17)\n",
    "x"
   ]
  },
  {
   "cell_type": "markdown",
   "metadata": {
    "id": "50Rppw0Dt4GK"
   },
   "source": [
    "So here x is our 1-D array along with being sweet sixteen array ;). Lets reshape our x into 2-D and 3-D array using Reshape\n",
    "\n",
    "1. Reshaping 1-D to 2-D"
   ]
  },
  {
   "cell_type": "code",
   "execution_count": 23,
   "metadata": {
    "id": "0pmtCzNnt4GK",
    "outputId": "67e5d609-9288-4361-a565-8d1d1d337f4d"
   },
   "outputs": [
    {
     "data": {
      "text/plain": [
       "array([[ 1,  2,  3,  4,  5,  6,  7,  8],\n",
       "       [ 9, 10, 11, 12, 13, 14, 15, 16]])"
      ]
     },
     "execution_count": 23,
     "metadata": {},
     "output_type": "execute_result"
    }
   ],
   "source": [
    "# Reshape x with 2 rows and 8 columns\n",
    "x.reshape(2,8)"
   ]
  },
  {
   "cell_type": "markdown",
   "metadata": {
    "id": "KoRZuAsKt4GK"
   },
   "source": [
    "As you can see above that our x changed into 2D matrix\n",
    "\n",
    "2. Reshaping 1-D to 3-D array\n"
   ]
  },
  {
   "cell_type": "code",
   "execution_count": 24,
   "metadata": {
    "id": "B6JdPI7ot4GK",
    "outputId": "06c8e108-8e16-4e6a-c3e3-1e73b290b066"
   },
   "outputs": [
    {
     "data": {
      "text/plain": [
       "array([[[ 1,  2],\n",
       "        [ 3,  4],\n",
       "        [ 5,  6],\n",
       "        [ 7,  8]],\n",
       "\n",
       "       [[ 9, 10],\n",
       "        [11, 12],\n",
       "        [13, 14],\n",
       "        [15, 16]]])"
      ]
     },
     "execution_count": 24,
     "metadata": {},
     "output_type": "execute_result"
    }
   ],
   "source": [
    "# reshape x with dimension that will have 2 arrays that contains 4 arrays, each with 2 elements:\n",
    "np.reshape(x,(2,4,2))\n"
   ]
  },
  {
   "cell_type": "markdown",
   "metadata": {
    "id": "RzJKqBO0t4GL"
   },
   "source": [
    "**Fun Fact:**\n",
    "\n",
    "<u>Unknown Dimension</u>\n",
    "\n",
    "You are allowed to have one \"unknown\" dimension.Meaning that you do not have to specify an exact number for one of the dimensions in the reshape method.\n",
    "Pass -1 as the value, and NumPy will calculate this number for you. Awesome right?\n"
   ]
  },
  {
   "cell_type": "code",
   "execution_count": 25,
   "metadata": {
    "id": "_FCOSkGIt4GL",
    "outputId": "e479a738-37b6-4b6f-84fb-90c1290f5b2c"
   },
   "outputs": [
    {
     "data": {
      "text/plain": [
       "array([[ 1,  2,  3,  4],\n",
       "       [ 5,  6,  7,  8],\n",
       "       [ 9, 10, 11, 12],\n",
       "       [13, 14, 15, 16]])"
      ]
     },
     "execution_count": 25,
     "metadata": {},
     "output_type": "execute_result"
    }
   ],
   "source": [
    "# Use unknown dimention to reshape x into 2-D numpy array with shape 4*4\n",
    "np.reshape(x,(4,4))"
   ]
  },
  {
   "cell_type": "code",
   "execution_count": 26,
   "metadata": {
    "id": "KrF31FC5t4GL",
    "outputId": "417ed5c1-e99d-4703-8f14-d3d4ad3d14ca"
   },
   "outputs": [
    {
     "name": "stdout",
     "output_type": "stream",
     "text": [
      "[[[ 1  2]\n",
      "  [ 3  4]\n",
      "  [ 5  6]\n",
      "  [ 7  8]]\n",
      "\n",
      " [[ 9 10]\n",
      "  [11 12]\n",
      "  [13 14]\n",
      "  [15 16]]]\n"
     ]
    }
   ],
   "source": [
    "# Use unknown dimention to  reshape x into 3-D numpy array with 2 arrays that contains 4 arrays\n",
    "y=np.arange(1,17)\n",
    "y=np.reshape(y,(2,4,2))\n",
    "# print y\n",
    "print(y)"
   ]
  },
  {
   "cell_type": "markdown",
   "metadata": {
    "id": "BErjVJSjt4GL"
   },
   "source": [
    "Note: We can not pass -1 to more than one dimension.\n",
    "\n",
    "Another cool Fact: -1 can be used to flatten an array which means converting a multidimensional array into a 1D array.\n",
    "\n",
    "    Lets apply this technique on y which is 3-D array"
   ]
  },
  {
   "cell_type": "code",
   "execution_count": 27,
   "metadata": {
    "id": "7rrAN8NWt4GL",
    "outputId": "c6666b52-fd27-4e14-d6cc-91bf6b71c816"
   },
   "outputs": [
    {
     "data": {
      "text/plain": [
       "array([ 1,  2,  3,  4,  5,  6,  7,  8,  9, 10, 11, 12, 13, 14, 15, 16])"
      ]
     },
     "execution_count": 27,
     "metadata": {},
     "output_type": "execute_result"
    }
   ],
   "source": [
    "# Flattening y\n",
    "y=np.arange(1,17)\n",
    "np.array(y)"
   ]
  },
  {
   "cell_type": "markdown",
   "metadata": {
    "id": "3AF1zIKst4GM"
   },
   "source": [
    "Awesome work!\n",
    "\n",
    "## NumPy Array Indexing\n",
    "\n",
    "Reference: https://youtu.be/OKA7BgdL45M\n",
    "\n",
    "Array indexing is the same as accessing an array element. You can access an array element by referring to its index number.\n",
    "\n",
    "The indexes in NumPy arrays start with 0, meaning that the first element has index 0, and the second has index 1 etc.\n",
    "\n",
    "<p style='text-align: right;'> 4 points </p>\n"
   ]
  },
  {
   "cell_type": "code",
   "execution_count": 28,
   "metadata": {
    "id": "wYPlapgVt4GM",
    "outputId": "57674ef7-1cd1-4fb5-8e9b-da212ecc13f9"
   },
   "outputs": [
    {
     "name": "stdout",
     "output_type": "stream",
     "text": [
      "[ 1  2  3  4  5  6  7  8  9 10 11 12 13 14 15 16]\n",
      "[ 2  4  6  8 10 12 14 16]\n"
     ]
    }
   ],
   "source": [
    "# Create an array a with all even numbers between 1 to 17\n",
    "a = np.arange(1,17)\n",
    "print(a)\n",
    "# print a\n",
    "a=a[1::2]\n",
    "print(a)"
   ]
  },
  {
   "cell_type": "code",
   "execution_count": 29,
   "metadata": {
    "id": "Vjq_pF-jt4GM",
    "outputId": "f7b573b2-3e16-4c26-80ab-053ebad06573"
   },
   "outputs": [
    {
     "data": {
      "text/plain": [
       "6"
      ]
     },
     "execution_count": 29,
     "metadata": {},
     "output_type": "execute_result"
    }
   ],
   "source": [
    "# Get third element in array a\n",
    "a[2]"
   ]
  },
  {
   "cell_type": "code",
   "execution_count": 30,
   "metadata": {
    "id": "FXY-BAODt4GM",
    "outputId": "7291cdc5-9551-4278-c219-44487fe2d1f0"
   },
   "outputs": [
    {
     "data": {
      "text/plain": [
       "array([ 6, 10, 14])"
      ]
     },
     "execution_count": 30,
     "metadata": {},
     "output_type": "execute_result"
    }
   ],
   "source": [
    "#Print 3rd, 5th, and 7th element in array a\n",
    "a[2::2]"
   ]
  },
  {
   "cell_type": "markdown",
   "metadata": {
    "id": "EskEtnrat4GN"
   },
   "source": [
    "Lets check the same for 2 D array"
   ]
  },
  {
   "cell_type": "code",
   "execution_count": 31,
   "metadata": {
    "id": "zGw9qbwut4GN"
   },
   "outputs": [
    {
     "data": {
      "text/plain": [
       "array([[1, 2, 3],\n",
       "       [4, 5, 6],\n",
       "       [7, 8, 9]])"
      ]
     },
     "execution_count": 31,
     "metadata": {},
     "output_type": "execute_result"
    }
   ],
   "source": [
    "# Define an array 2-D a with [[1,2,3],[4,5,6],[7,8,9]] as its elements.\n",
    "a=np.array([[1,2,3],[4,5,6],[7,8,9]])\n",
    "a"
   ]
  },
  {
   "cell_type": "code",
   "execution_count": 32,
   "metadata": {
    "id": "Y5aBliNTt4GN",
    "outputId": "d39dbe49-8cf1-44cc-be0b-fbc1c4677410"
   },
   "outputs": [
    {
     "name": "stdout",
     "output_type": "stream",
     "text": [
      "9\n"
     ]
    }
   ],
   "source": [
    "# print the 3rd element from the 3rd row of a\n",
    "print(a[2,2])"
   ]
  },
  {
   "cell_type": "markdown",
   "metadata": {
    "id": "5T0BvUYNt4GN"
   },
   "source": [
    "Well done!\n",
    "\n",
    "Now lets check indexing for 3 D array "
   ]
  },
  {
   "cell_type": "code",
   "execution_count": 33,
   "metadata": {
    "id": "5Su5ox2jt4GN"
   },
   "outputs": [],
   "source": [
    "# Define an array b again with [[[1, 2, 3], [4, 5, 6]], [[7, 8, 9], [10, 11, 12]]] as its elements.\n",
    "b =np.array([[[1, 2, 3], [4, 5, 6]], [[7, 8, 9], [10, 11, 12]]])"
   ]
  },
  {
   "cell_type": "code",
   "execution_count": 34,
   "metadata": {
    "id": "ljMqDWuct4GN",
    "outputId": "d07e0a3c-e933-4914-9911-da27c102bd97"
   },
   "outputs": [
    {
     "data": {
      "text/plain": [
       "6"
      ]
     },
     "execution_count": 34,
     "metadata": {},
     "output_type": "execute_result"
    }
   ],
   "source": [
    "# Print 3rd element from 2nd list which is 1st list in nested list passed. Confusing right? 'a' have nested array.Understand the braket differences.\n",
    "b[0][1][2]"
   ]
  },
  {
   "cell_type": "markdown",
   "metadata": {
    "id": "1Fc63EdLt4GO"
   },
   "source": [
    "Well done.!\n",
    "\n",
    "Have you heared about **negative indexing?**\n",
    "\n",
    "\n",
    "We can use negative indexing to access an array from the end."
   ]
  },
  {
   "cell_type": "code",
   "execution_count": 39,
   "metadata": {
    "id": "zrz9dX4yt4GO",
    "outputId": "c69ccb0d-2424-4fc0-b0ca-f16353158225"
   },
   "outputs": [
    {
     "data": {
      "text/plain": [
       "5"
      ]
     },
     "execution_count": 39,
     "metadata": {},
     "output_type": "execute_result"
    }
   ],
   "source": [
    "# Print the second last element from the 2nd dim using negative indexing\n",
    "b[-2][-1][-2]"
   ]
  },
  {
   "cell_type": "markdown",
   "metadata": {
    "id": "uFqWJhaQt4GO"
   },
   "source": [
    "Great job! \n",
    "So now you have learned how to to indexing on various dimentions of numpy array.\n",
    "\n",
    "## NumPy Array Slicing\n",
    "\n",
    "Reference: https://youtu.be/5JtcrUyUa_A\n",
    "\n",
    "Slicing in python means taking elements from one given index to another given index.\n",
    "\n",
    "    1. We pass slice instead of index like this: [start:end].\n",
    "    2. We can also define the step, like this: [start:end:step].\n",
    "    3. If we don't pass start its considered 0\n",
    "    4. If we don't pass end its considered length of array in that dimension\n",
    "    5. If we don't pass step its considered 1\n",
    "    \n",
    "<p style='text-align: right;'> 5 points </p>\n",
    "\n",
    "    \n",
    "1. **Array slicing in 1-D array.**"
   ]
  },
  {
   "cell_type": "code",
   "execution_count": 40,
   "metadata": {
    "id": "NI-4PhTrt4GO",
    "outputId": "1e3a8c84-79f3-401b-c7ff-d84eae6ed9f1"
   },
   "outputs": [
    {
     "data": {
      "text/plain": [
       "array([ 1,  2,  3,  4,  5,  6,  7,  8,  9, 10])"
      ]
     },
     "execution_count": 40,
     "metadata": {},
     "output_type": "execute_result"
    }
   ],
   "source": [
    "arr=np.arange(1,11)\n",
    "arr"
   ]
  },
  {
   "cell_type": "code",
   "execution_count": 41,
   "metadata": {
    "id": "xyqF39BKt4GO",
    "outputId": "7b1e007c-26eb-49f1-c9d3-2542a4327c50"
   },
   "outputs": [
    {
     "data": {
      "text/plain": [
       "array([1, 2, 3, 4, 5])"
      ]
     },
     "execution_count": 41,
     "metadata": {},
     "output_type": "execute_result"
    }
   ],
   "source": [
    "# Slice elements from 1st to 5th element from array arr:\n",
    "\n",
    "arr[:5]"
   ]
  },
  {
   "cell_type": "markdown",
   "metadata": {
    "id": "11MZDLZQt4GO"
   },
   "source": [
    "Note: The result includes the start index, but excludes the end index.\n",
    "\n"
   ]
  },
  {
   "cell_type": "code",
   "execution_count": 42,
   "metadata": {
    "id": "qHFi11F5t4GP",
    "outputId": "630dde50-3906-4e63-e84f-9358e1926ad5"
   },
   "outputs": [
    {
     "data": {
      "text/plain": [
       "array([ 6,  7,  8,  9, 10])"
      ]
     },
     "execution_count": 42,
     "metadata": {},
     "output_type": "execute_result"
    }
   ],
   "source": [
    "# Slice elements from index 5 to the end of the array arr:\n",
    "arr[5:]"
   ]
  },
  {
   "cell_type": "code",
   "execution_count": 43,
   "metadata": {
    "id": "atml2NPAt4GP",
    "outputId": "ca8e7bac-5bae-4650-d6d6-73201d910955"
   },
   "outputs": [
    {
     "data": {
      "text/plain": [
       "array([1, 2, 3, 4, 5])"
      ]
     },
     "execution_count": 43,
     "metadata": {},
     "output_type": "execute_result"
    }
   ],
   "source": [
    "# Slice elements from the beginning to index 5 (not included) in array arr:\n",
    "\n",
    "arr[:5]"
   ]
  },
  {
   "cell_type": "markdown",
   "metadata": {
    "id": "Kuibn-26t4GP"
   },
   "source": [
    "Have you heared about **Negative Slicing?**\n",
    "\n",
    "We can use the minus operator to refer to an index from the end:\n",
    "\n"
   ]
  },
  {
   "cell_type": "code",
   "execution_count": 44,
   "metadata": {
    "id": "hGRiECfHt4GP",
    "outputId": "74017bcc-9f22-40fb-c0b8-7011afbee49e"
   },
   "outputs": [
    {
     "data": {
      "text/plain": [
       "array([8, 9])"
      ]
     },
     "execution_count": 44,
     "metadata": {},
     "output_type": "execute_result"
    }
   ],
   "source": [
    "# Slice from the index 3 from the end to index 1 from the end:\n",
    "arr\n",
    "arr[-3:-1]"
   ]
  },
  {
   "cell_type": "markdown",
   "metadata": {
    "id": "kQ15rVoKt4GP"
   },
   "source": [
    "**STEP**\n",
    "\n",
    "Use the step value to determine the step of the slicing:"
   ]
  },
  {
   "cell_type": "code",
   "execution_count": 45,
   "metadata": {
    "id": "zaKiGGSOt4GQ",
    "outputId": "27c54175-6822-4a25-cb04-41fa778fbc90"
   },
   "outputs": [
    {
     "data": {
      "text/plain": [
       "array([2, 4, 6])"
      ]
     },
     "execution_count": 45,
     "metadata": {},
     "output_type": "execute_result"
    }
   ],
   "source": [
    "# Print every other element from index 1 to index 7:\n",
    "\n",
    "arr[1:7:2]"
   ]
  },
  {
   "cell_type": "markdown",
   "metadata": {
    "id": "aa7AQRNet4GQ"
   },
   "source": [
    "Did you see? using step you were able to get alternate elements within specified index numbers."
   ]
  },
  {
   "cell_type": "code",
   "execution_count": 47,
   "metadata": {
    "id": "br2MhYjNt4GQ",
    "outputId": "bf911222-18b4-4d31-870e-d13ee145154f"
   },
   "outputs": [
    {
     "data": {
      "text/plain": [
       "array([1, 3, 5, 7, 9])"
      ]
     },
     "execution_count": 47,
     "metadata": {},
     "output_type": "execute_result"
    }
   ],
   "source": [
    "# Return every other element from the entire array arr:\n",
    "arr[::2]"
   ]
  },
  {
   "cell_type": "markdown",
   "metadata": {
    "id": "HQ0A-VXNt4GQ"
   },
   "source": [
    "well done!\n",
    "\n",
    "Lets do some slicing on 2-D array also. We already have 'a' as our 2-D array. We will use it here.\n",
    "\n",
    "**2. Array slicing in 2-D array.**"
   ]
  },
  {
   "cell_type": "code",
   "execution_count": 48,
   "metadata": {
    "id": "QoysoiEht4GQ",
    "outputId": "c7107bf2-6e7b-46e3-c09d-556247628b11"
   },
   "outputs": [
    {
     "data": {
      "text/plain": [
       "array([[1, 2, 3],\n",
       "       [4, 5, 6],\n",
       "       [7, 8, 9]])"
      ]
     },
     "execution_count": 48,
     "metadata": {},
     "output_type": "execute_result"
    }
   ],
   "source": [
    "# Print array a\n",
    "a"
   ]
  },
  {
   "cell_type": "code",
   "execution_count": 49,
   "metadata": {
    "id": "UaIR1SI0t4GQ",
    "outputId": "68cb1a9a-81fc-4e5f-835d-ef2fc3b06355"
   },
   "outputs": [
    {
     "data": {
      "text/plain": [
       "array([8, 9])"
      ]
     },
     "execution_count": 49,
     "metadata": {},
     "output_type": "execute_result"
    }
   ],
   "source": [
    "# From the third element, slice elements from index 1 to index 5 (not included) from array 'a'\n",
    "\n",
    "a[2,1:]\n"
   ]
  },
  {
   "cell_type": "code",
   "execution_count": 52,
   "metadata": {
    "id": "P1dhGe1Gt4GR",
    "outputId": "f208d2de-6fec-47be-8ad7-d2e48c7166bd"
   },
   "outputs": [
    {
     "data": {
      "text/plain": [
       "array([[1, 2, 3]])"
      ]
     },
     "execution_count": 52,
     "metadata": {},
     "output_type": "execute_result"
    }
   ],
   "source": [
    "# In array 'a' print index 2 from all the rows :\n",
    "\n",
    "a[:,:]"
   ]
  },
  {
   "cell_type": "code",
   "execution_count": 55,
   "metadata": {
    "id": "Sl5Iyjxtt4GR",
    "outputId": "b493a9e4-c57d-4d57-f59a-cc25e6ae2dbb"
   },
   "outputs": [
    {
     "data": {
      "text/plain": [
       "array([3, 6, 9])"
      ]
     },
     "execution_count": 55,
     "metadata": {},
     "output_type": "execute_result"
    }
   ],
   "source": [
    "# From all the elements in 'a', slice index 1 till end, this will return a 2-D array:\n",
    "a[:,2]\n"
   ]
  },
  {
   "cell_type": "markdown",
   "metadata": {
    "id": "b_Dngt4qt4GR"
   },
   "source": [
    "Hurray! You have learned Slicing in Numpy array. Now you know to access any numpy array."
   ]
  },
  {
   "cell_type": "markdown",
   "metadata": {
    "id": "qxBYZcCrt4GR"
   },
   "source": [
    "## Numpy copy vs view\n",
    "\n",
    "Reference: https://youtu.be/MKVeoPvoBM0\n",
    "\n",
    "<p style='text-align: right;'> 7 points </p>\n"
   ]
  },
  {
   "cell_type": "code",
   "execution_count": 56,
   "metadata": {
    "id": "q1Xmf7CAt4GR"
   },
   "outputs": [
    {
     "data": {
      "text/plain": [
       "array([0, 1, 2, 3, 4, 5, 6, 7, 8, 9])"
      ]
     },
     "execution_count": 56,
     "metadata": {},
     "output_type": "execute_result"
    }
   ],
   "source": [
    "x1= np.arange(10)\n",
    "x1"
   ]
  },
  {
   "cell_type": "code",
   "execution_count": 57,
   "metadata": {
    "id": "_Kq8OwY9t4GR"
   },
   "outputs": [],
   "source": [
    "# assign x2 = x1\n",
    "x2 =x1"
   ]
  },
  {
   "cell_type": "code",
   "execution_count": 58,
   "metadata": {
    "id": "Vr2x7fvKt4GS",
    "outputId": "202246dc-eab4-4ba6-c286-3db8240c9a45"
   },
   "outputs": [
    {
     "name": "stdout",
     "output_type": "stream",
     "text": [
      "[0 1 2 3 4 5 6 7 8 9]\n",
      "[0 1 2 3 4 5 6 7 8 9]\n"
     ]
    }
   ],
   "source": [
    "#print x1 and x2\n",
    "print(x1)\n",
    "print(x2)\n"
   ]
  },
  {
   "cell_type": "markdown",
   "metadata": {
    "id": "aRp_lGn2t4GS"
   },
   "source": [
    "Ok now you have seen that both of them are same "
   ]
  },
  {
   "cell_type": "code",
   "execution_count": 59,
   "metadata": {
    "id": "Sg_lN6tKt4GS"
   },
   "outputs": [],
   "source": [
    "# change 1st element of x2 as 10\n",
    "x2[0]=10"
   ]
  },
  {
   "cell_type": "code",
   "execution_count": 60,
   "metadata": {
    "id": "7zevA4p2t4GS",
    "outputId": "97a17f59-0cc0-43a3-a316-465ed1067e70"
   },
   "outputs": [
    {
     "name": "stdout",
     "output_type": "stream",
     "text": [
      "[10  1  2  3  4  5  6  7  8  9]\n",
      "[10  1  2  3  4  5  6  7  8  9]\n"
     ]
    }
   ],
   "source": [
    "#Again print x1 and x2\n",
    "print(x1)\n",
    "print(x2)"
   ]
  },
  {
   "cell_type": "code",
   "execution_count": 61,
   "metadata": {},
   "outputs": [],
   "source": [
    "## comment : due we assign x1 = x2 that's way x1 also change"
   ]
  },
  {
   "cell_type": "markdown",
   "metadata": {
    "id": "KZbZb_oGt4GS"
   },
   "source": [
    "Wait a minute. Just check your above result on change of x2, x1 also got changed. Why?\n",
    "\n",
    "Lets check if both the variables shares memory. Use numpy shares_memory() function to check if both x1 and x2 shares a  memory.\n",
    "\n",
    "Refer: https://numpy.org/doc/stable/reference/generated/numpy.shares_memory.html"
   ]
  },
  {
   "cell_type": "code",
   "execution_count": 62,
   "metadata": {
    "id": "mh2Fvcq-t4GS",
    "outputId": "899cbc34-f5ba-4fdb-a72a-74a25b1435dc"
   },
   "outputs": [
    {
     "data": {
      "text/plain": [
       "True"
      ]
     },
     "execution_count": 62,
     "metadata": {},
     "output_type": "execute_result"
    }
   ],
   "source": [
    "# Check memory share between x1 and x2\n",
    "np.shares_memory(x1,x2)"
   ]
  },
  {
   "cell_type": "markdown",
   "metadata": {
    "id": "it0SXQAWt4GT"
   },
   "source": [
    "Hey It's True they both share memory\n",
    "\n",
    "Shall we try **view()** function also likwise."
   ]
  },
  {
   "cell_type": "code",
   "execution_count": 63,
   "metadata": {
    "id": "847YbtSUt4GU"
   },
   "outputs": [],
   "source": [
    "# Create a view of x1 and store it in x3.\n",
    "x3 = x1.view()"
   ]
  },
  {
   "cell_type": "code",
   "execution_count": 64,
   "metadata": {
    "id": "6gt4MrU0t4GU",
    "outputId": "980aaa54-f31b-4e56-d683-6a18093d7edb"
   },
   "outputs": [
    {
     "data": {
      "text/plain": [
       "True"
      ]
     },
     "execution_count": 64,
     "metadata": {},
     "output_type": "execute_result"
    }
   ],
   "source": [
    "# Again check memory share between x1 and x3\n",
    "np.shares_memory(x3,x1)"
   ]
  },
  {
   "cell_type": "markdown",
   "metadata": {
    "id": "8sbaaDmqt4GU"
   },
   "source": [
    "Woh! simple assignment is similar to view. That means \n",
    "The view does not own the data and any changes made to the view will affect the original array, and any changes made to the original array will affect the view.\n",
    "\n",
    "Don't agree? ok lets change x3 and see if original array i.e. x1 also changes"
   ]
  },
  {
   "cell_type": "code",
   "execution_count": 66,
   "metadata": {
    "id": "yXbWp6_Lt4GU"
   },
   "outputs": [],
   "source": [
    "#Change 1st element of x3=100\n",
    "x3[0]=100"
   ]
  },
  {
   "cell_type": "code",
   "execution_count": 67,
   "metadata": {
    "id": "KJCAaZret4GU",
    "outputId": "2f727a16-d693-41fb-9541-c2fd26094119"
   },
   "outputs": [
    {
     "name": "stdout",
     "output_type": "stream",
     "text": [
      "[100   1   2   3   4   5   6   7   8   9]\n",
      "[100   1   2   3   4   5   6   7   8   9]\n"
     ]
    }
   ],
   "source": [
    "#print x1 and x3 to check if changes reflected in both\n",
    "print(x1)\n",
    "print(x3)"
   ]
  },
  {
   "cell_type": "markdown",
   "metadata": {
    "id": "APdR_pejt4GV"
   },
   "source": [
    "Now its proved.\n",
    "\n",
    "Lets see how **Copy()** function works"
   ]
  },
  {
   "cell_type": "code",
   "execution_count": 68,
   "metadata": {
    "id": "3vj5jKCbt4GV"
   },
   "outputs": [],
   "source": [
    "# Now create an array x4 which is copy of x1\n",
    "\n",
    "x4=x1.copy()"
   ]
  },
  {
   "cell_type": "code",
   "execution_count": 69,
   "metadata": {
    "id": "uCEQCzdst4GV"
   },
   "outputs": [],
   "source": [
    "# Change the last element of x4 as 900\n",
    "x4[-1] =900 "
   ]
  },
  {
   "cell_type": "code",
   "execution_count": 70,
   "metadata": {
    "id": "J0zg-xlot4GV",
    "outputId": "f357e05c-863b-48cd-b823-c64ffea5e5c2"
   },
   "outputs": [
    {
     "name": "stdout",
     "output_type": "stream",
     "text": [
      "[100   1   2   3   4   5   6   7   8   9]\n",
      "[100   1   2   3   4   5   6   7   8 900]\n"
     ]
    }
   ],
   "source": [
    "# print both x1 and x4 to check if changes reflected in both\n",
    "print(x1)\n",
    "print(x4)"
   ]
  },
  {
   "cell_type": "markdown",
   "metadata": {
    "id": "TdJSM6mUt4GV"
   },
   "source": [
    "Hey! such an intresting output. You noticed buddy! your original array didn't get changed on change of its copy ie. x4.\n",
    "\n",
    "Still not convinced? Ok lets see if they both share memory or not"
   ]
  },
  {
   "cell_type": "code",
   "execution_count": 71,
   "metadata": {
    "id": "mY6nWmtjt4GV",
    "outputId": "d206a1a5-6018-4f1f-d599-ac869c3d2fb5"
   },
   "outputs": [
    {
     "data": {
      "text/plain": [
       "False"
      ]
     },
     "execution_count": 71,
     "metadata": {},
     "output_type": "execute_result"
    }
   ],
   "source": [
    "#Check memory share between x1 and x4\n",
    "np.shares_memory(x4,x1)"
   ]
  },
  {
   "cell_type": "markdown",
   "metadata": {
    "id": "A88wpoJXt4GW"
   },
   "source": [
    "You see! x1 and x4 don't share its memory. \n",
    "\n",
    "So with all our outputs we can takeaway few points:\n",
    "\n",
    "    1. The main difference between a copy and a view of an array is that the copy is a new array, and the view is just a view of the original array.\n",
    "\n",
    "    2. The copy owns the data and any changes made to the copy will not affect original array, and any changes made to the original array will not affect the copy.\n",
    "\n",
    "    3. The view does not own the data and any changes made to the view will affect the original array, and any changes made to the original array will affect the view."
   ]
  },
  {
   "cell_type": "markdown",
   "metadata": {
    "id": "dgh3RGU9t4GW"
   },
   "source": [
    "## More operations on Numpy\n",
    "\n",
    "**1. Applying conditions**\n",
    "\n",
    "Reference: https://thispointer.com/python-numpy-select-elements-or-indices-by-conditions-from-numpy-array/\n",
    "\n",
    "<p style='text-align: right;'> 5 points </p>\n"
   ]
  },
  {
   "cell_type": "code",
   "execution_count": 72,
   "metadata": {
    "id": "9grrym4lt4GW",
    "outputId": "537f7970-ade7-4cd9-98e1-25d561a8a5ca"
   },
   "outputs": [
    {
     "data": {
      "text/plain": [
       "array([[1, 2, 3],\n",
       "       [4, 5, 6],\n",
       "       [7, 8, 9]])"
      ]
     },
     "execution_count": 72,
     "metadata": {},
     "output_type": "execute_result"
    }
   ],
   "source": [
    "#print a\n",
    "a"
   ]
  },
  {
   "cell_type": "markdown",
   "metadata": {
    "id": "gcTvamYJt4GW"
   },
   "source": [
    "We are going to use 'a' array for all our array condition operations.\n"
   ]
  },
  {
   "cell_type": "code",
   "execution_count": 73,
   "metadata": {
    "id": "C8J4D3Ojt4GW",
    "outputId": "427a7807-e3b6-4a6d-dbe8-92bb858c9df9"
   },
   "outputs": [
    {
     "name": "stdout",
     "output_type": "stream",
     "text": [
      "[[False False False]\n",
      " [ True  True  True]\n",
      " [ True  True  True]]\n"
     ]
    }
   ],
   "source": [
    "# Check if every element in array a greater than 3 or not Using '>' notation\n",
    "print(a>3)"
   ]
  },
  {
   "cell_type": "code",
   "execution_count": 74,
   "metadata": {
    "id": "vbNocEqAt4GW",
    "outputId": "f2c90c7d-fc45-4e1f-aa36-81ca50f88051"
   },
   "outputs": [
    {
     "data": {
      "text/plain": [
       "array([4, 5, 6, 7, 8, 9])"
      ]
     },
     "execution_count": 74,
     "metadata": {},
     "output_type": "execute_result"
    }
   ],
   "source": [
    "# Get a list with all elements of array 'a' grater than 3\n",
    "a[a>3]"
   ]
  },
  {
   "cell_type": "code",
   "execution_count": 75,
   "metadata": {
    "id": "NUzyN8Ejt4GX",
    "outputId": "381cbf72-9ab9-443d-8ca4-526ab9376fdb"
   },
   "outputs": [
    {
     "data": {
      "text/plain": [
       "array([4, 5])"
      ]
     },
     "execution_count": 75,
     "metadata": {},
     "output_type": "execute_result"
    }
   ],
   "source": [
    "# Get a list with all elements of array 'a' greater than 3 but less than 6\n",
    "a[(a>3) & (a<6)]"
   ]
  },
  {
   "cell_type": "code",
   "execution_count": 76,
   "metadata": {
    "id": "JaSouJ95t4GX",
    "outputId": "cb49e172-3b6b-45df-c76d-a96b4f29c6d6"
   },
   "outputs": [
    {
     "name": "stdout",
     "output_type": "stream",
     "text": [
      "[100   1   2   3   4   5   6   7   8   9]\n"
     ]
    },
    {
     "data": {
      "text/plain": [
       "array([ True,  True,  True,  True,  True,  True,  True,  True,  True,\n",
       "       False])"
      ]
     },
     "execution_count": 76,
     "metadata": {},
     "output_type": "execute_result"
    }
   ],
   "source": [
    "# check if each elements in array 'x1' equals array 'x4' using '==' notation\n",
    "print(x1)\n",
    "x1 == x4\n"
   ]
  },
  {
   "cell_type": "markdown",
   "metadata": {
    "id": "qZJ-MbRGt4GX"
   },
   "source": [
    "You can see in above output that the last element is not same in both x1 and x4\n",
    "\n",
    "Well done so far.\n",
    "\n",
    "Lets check how to transpose an array\n",
    "\n",
    "**2. Transposing array**\n",
    "\n",
    "Reference: https://www.youtube.com/watch?v=8qpMys9ptBs"
   ]
  },
  {
   "cell_type": "code",
   "execution_count": 99,
   "metadata": {
    "id": "PTx4vWSkt4GX",
    "outputId": "ba1c96af-9fb6-40a3-995e-433f17a41391"
   },
   "outputs": [
    {
     "name": "stdout",
     "output_type": "stream",
     "text": [
      "this the orignal matrix : \n",
      "[[1 2 3]\n",
      " [4 5 6]\n",
      " [7 8 9]]\n",
      "-----------------\n",
      "this transpose of a matrix\n",
      "[[1 4 7]\n",
      " [2 5 8]\n",
      " [3 6 9]]\n",
      "-----------------\n",
      "last matrix is again transpose of matrix a a so its gives original matrix\n"
     ]
    },
    {
     "data": {
      "text/plain": [
       "array([[1, 2, 3],\n",
       "       [4, 5, 6],\n",
       "       [7, 8, 9]])"
      ]
     },
     "execution_count": 99,
     "metadata": {},
     "output_type": "execute_result"
    }
   ],
   "source": [
    "# Print Transpose of array 'a'\n",
    "print(\"this the orignal matrix : \")\n",
    "print(a)\n",
    "print(\"-----------------\")\n",
    "print(\"this transpose of a matrix\")\n",
    "t1=np.transpose(a)\n",
    "print(t1)\n",
    "#print array 'a'\n",
    "print(\"-----------------\")\n",
    "print(\"last matrix is again transpose of matrix a a so its gives original matrix\")\n",
    "np.transpose(t1)"
   ]
  },
  {
   "cell_type": "markdown",
   "metadata": {
    "id": "g6RHvDCwt4GX"
   },
   "source": [
    "In above output all the rows became columns by transposing "
   ]
  },
  {
   "cell_type": "markdown",
   "metadata": {
    "id": "F3btWI_ft4GY"
   },
   "source": [
    "**3. hstack vs vstack function**\n",
    "\n",
    "Reference: https://www.youtube.com/watch?v=WzbDU6riNek&list=PLsR_0x6BuM-GcwFdtwBfBAq4vXvy2DTgB&index=7\n",
    "\n",
    "Stacking is same as concatenation, the only difference is that stacking is done along a new axis.\n",
    "\n",
    "NumPy provides a helper function: \n",
    "\n",
    "1. hstack() to stack along rows.\n",
    "2. vstack()  to stack along columns\n",
    "\n",
    "You wanna see how? Then here we go...!\n",
    "\n",
    "reference doc: https://scipython.com/book/chapter-6-numpy/examples/vstack-and-hstack/"
   ]
  },
  {
   "cell_type": "code",
   "execution_count": 102,
   "metadata": {
    "id": "2cybD0Oct4GY",
    "outputId": "ec08ea12-c208-4326-8323-ff0fd2eaf511"
   },
   "outputs": [
    {
     "data": {
      "text/plain": [
       "array([[100,   1,   2,   3,   4,   5,   6,   7,   8,   9],\n",
       "       [100,   1,   2,   3,   4,   5,   6,   7,   8,   9]])"
      ]
     },
     "execution_count": 102,
     "metadata": {},
     "output_type": "execute_result"
    }
   ],
   "source": [
    "# stack x1 and x4 along columns.\n",
    "np.vstack((x1,x2))"
   ]
  },
  {
   "cell_type": "code",
   "execution_count": 103,
   "metadata": {
    "id": "K5CRD8K7t4GY",
    "outputId": "fb3456a6-1ebb-4e6f-a406-dec0a22a9fb5"
   },
   "outputs": [
    {
     "data": {
      "text/plain": [
       "array([100,   1,   2,   3,   4,   5,   6,   7,   8,   9, 100,   1,   2,\n",
       "         3,   4,   5,   6,   7,   8,   9])"
      ]
     },
     "execution_count": 103,
     "metadata": {},
     "output_type": "execute_result"
    }
   ],
   "source": [
    "#stack x1 and x4 along rows\n",
    "np.hstack((x1,x2))"
   ]
  },
  {
   "cell_type": "markdown",
   "metadata": {
    "id": "2J_wIVCft4GY"
   },
   "source": [
    "We hope now you saw the difference between them.\n",
    "\n",
    "Fun fact! you can even use concatenate() function to join 2 arrays along with the axis. If axis is not explicitly passed, it is taken as 0 ie. along column\n",
    "\n",
    "Lets try this function as well\n",
    "\n",
    "Reference:https://youtu.be/D8vMQ3ADVf0\n",
    " "
   ]
  },
  {
   "cell_type": "code",
   "execution_count": 104,
   "metadata": {
    "id": "H7DSRSF5t4GY",
    "outputId": "00339b83-ea8d-4fe9-be4b-fcdcdd98b078"
   },
   "outputs": [
    {
     "name": "stdout",
     "output_type": "stream",
     "text": [
      "(2, 2)\n",
      "(2, 2)\n"
     ]
    },
    {
     "data": {
      "text/plain": [
       "array([[1, 2, 5, 6],\n",
       "       [3, 4, 7, 8]])"
      ]
     },
     "execution_count": 104,
     "metadata": {},
     "output_type": "execute_result"
    }
   ],
   "source": [
    "arr1 = np.array([[1, 2], [3, 4]])\n",
    "\n",
    "arr2 = np.array([[5, 6], [7, 8]])\n",
    "print(arr1.shape)\n",
    "print(arr1.shape)\n",
    "\n",
    "##join arr1 and arr2 along rows using concatenate() function\n",
    "np.concatenate((arr1,arr2),axis=1)"
   ]
  },
  {
   "cell_type": "code",
   "execution_count": 105,
   "metadata": {
    "id": "mkvhy5XEt4GZ",
    "outputId": "1be8af93-adbb-40c1-a894-6dec8f6fa822"
   },
   "outputs": [
    {
     "data": {
      "text/plain": [
       "array([[1, 2],\n",
       "       [3, 4],\n",
       "       [5, 6],\n",
       "       [7, 8]])"
      ]
     },
     "execution_count": 105,
     "metadata": {},
     "output_type": "execute_result"
    }
   ],
   "source": [
    "##join arr1 and arr2 along columns using concatenate() function\n",
    "np.concatenate((arr1,arr2),axis=0)"
   ]
  },
  {
   "cell_type": "markdown",
   "metadata": {
    "id": "QruNUp00t4GZ"
   },
   "source": [
    "## Adding, Insert and delete Numpy array\n",
    "\n",
    "Reference: https://youtu.be/Ttp1LZU978o\n",
    "\n",
    "<p style='text-align: right;'> 3 points </p>\n"
   ]
  },
  {
   "cell_type": "markdown",
   "metadata": {
    "id": "ySd7wpBmt4GZ"
   },
   "source": [
    "You can also add 2 arrays using append() function also. This function appends values to end of array\n",
    "\n",
    "Lets see how"
   ]
  },
  {
   "cell_type": "code",
   "execution_count": 131,
   "metadata": {
    "id": "zivTWhlIt4GZ",
    "outputId": "fbc6db1c-0dac-4e47-a443-e236c4c6cd98"
   },
   "outputs": [
    {
     "data": {
      "text/plain": [
       "array([[1, 2, 5, 6],\n",
       "       [3, 4, 7, 8]])"
      ]
     },
     "execution_count": 131,
     "metadata": {},
     "output_type": "execute_result"
    }
   ],
   "source": [
    "# append arr2 to arr1\n",
    "arr1 = np.array([[1, 2], [3, 4]])\n",
    "\n",
    "arr2 = np.array([[5, 6], [7, 8]])\n",
    "\n",
    "np.append(arr1,arr2,axis=1)\n"
   ]
  },
  {
   "cell_type": "markdown",
   "metadata": {
    "id": "Pq3UGBV6t4GZ"
   },
   "source": [
    "Lets use insert() function which Inserts values into array before specified index value"
   ]
  },
  {
   "cell_type": "code",
   "execution_count": 133,
   "metadata": {
    "id": "kIYjWFn4t4GZ",
    "outputId": "b53ddc51-c8dc-4d96-a29c-15d1d04f3a78"
   },
   "outputs": [
    {
     "name": "stdout",
     "output_type": "stream",
     "text": [
      "[100   1   2   3   4   5   6   7   8   9]\n",
      "[100   1   2   3   4   5   6   7   8   9]\n"
     ]
    },
    {
     "data": {
      "text/plain": [
       "array([100,   1,   2,   3, 100,   1,   2,   3,   4,   5,   6,   7,   8,\n",
       "         9,   4,   5,   6,   7,   8,   9])"
      ]
     },
     "execution_count": 133,
     "metadata": {},
     "output_type": "execute_result"
    }
   ],
   "source": [
    "# Inserts values into array x1 before index 4 with elements of x4\n",
    "print(x1)\n",
    "print(x2)\n",
    "np.insert(x1,4,x2)   ## (which arry insert ,index , ,element)"
   ]
  },
  {
   "cell_type": "markdown",
   "metadata": {
    "id": "EFsa6434t4GZ"
   },
   "source": [
    "You can see in above output we have inserted all the elements of x4 before index 4 in array x1."
   ]
  },
  {
   "cell_type": "code",
   "execution_count": 138,
   "metadata": {
    "id": "V8YEwvfpt4Ga",
    "outputId": "e099ce89-8518-485b-f959-6e866eb26bdd"
   },
   "outputs": [
    {
     "name": "stdout",
     "output_type": "stream",
     "text": [
      "[100   1   2   3   4   5   6   7   8   9]\n"
     ]
    },
    {
     "data": {
      "text/plain": [
       "array([100,   1,   2,   3,   4,   5,   6,   7,   9])"
      ]
     },
     "execution_count": 138,
     "metadata": {},
     "output_type": "execute_result"
    }
   ],
   "source": [
    "# delete 2nd element from array x2\n",
    "print(x2)\n",
    "np.delete(x2,-2)\n"
   ]
  },
  {
   "cell_type": "markdown",
   "metadata": {
    "id": "SL9CGRUat4Ga"
   },
   "source": [
    "Did you see? 2 value is deleted from x2 which was at index position 2"
   ]
  },
  {
   "cell_type": "markdown",
   "metadata": {
    "id": "B1zcsbont4Ga"
   },
   "source": [
    "## Mathmatical operations on Numpy array\n",
    "\n",
    "Reference doc for Numpy Mathmatical functions: https://numpy.org/doc/stable/reference/routines.math.html\n",
    "\n",
    "<p style='text-align: right;'> 8 points </p>\n"
   ]
  },
  {
   "cell_type": "code",
   "execution_count": 139,
   "metadata": {
    "id": "8hHQuV1Ot4Ga"
   },
   "outputs": [],
   "source": [
    "#defining a\n",
    "a= np.array([[1,2,3],[4,5,6],[7,8,9]])"
   ]
  },
  {
   "cell_type": "code",
   "execution_count": 140,
   "metadata": {
    "id": "u8NzjAKWt4Ga",
    "outputId": "4d557d38-2715-4f06-b5fb-0da706613bba"
   },
   "outputs": [
    {
     "data": {
      "text/plain": [
       "array([[ 0.84147098,  0.90929743,  0.14112001],\n",
       "       [-0.7568025 , -0.95892427, -0.2794155 ],\n",
       "       [ 0.6569866 ,  0.98935825,  0.41211849]])"
      ]
     },
     "execution_count": 140,
     "metadata": {},
     "output_type": "execute_result"
    }
   ],
   "source": [
    "# print trigonometric sin value of each element of a\n",
    "np.sin(a)"
   ]
  },
  {
   "cell_type": "code",
   "execution_count": 141,
   "metadata": {
    "id": "Q07vHMMKt4Ga",
    "outputId": "8842fb8c-17ab-4d58-b2f1-9bd9f0aa9ab7"
   },
   "outputs": [
    {
     "data": {
      "text/plain": [
       "array([[ 0.54030231, -0.41614684, -0.9899925 ],\n",
       "       [-0.65364362,  0.28366219,  0.96017029],\n",
       "       [ 0.75390225, -0.14550003, -0.91113026]])"
      ]
     },
     "execution_count": 141,
     "metadata": {},
     "output_type": "execute_result"
    }
   ],
   "source": [
    "# print trigonometric cos value of each element of a\n",
    "\n",
    "np.cos(a)"
   ]
  },
  {
   "cell_type": "code",
   "execution_count": 142,
   "metadata": {
    "id": "-8R0kMX8t4Ga",
    "outputId": "cfe7a91c-bf02-403c-9c1a-72f0f8310d1f"
   },
   "outputs": [
    {
     "data": {
      "text/plain": [
       "array([[2.71828183e+00, 7.38905610e+00, 2.00855369e+01],\n",
       "       [5.45981500e+01, 1.48413159e+02, 4.03428793e+02],\n",
       "       [1.09663316e+03, 2.98095799e+03, 8.10308393e+03]])"
      ]
     },
     "execution_count": 142,
     "metadata": {},
     "output_type": "execute_result"
    }
   ],
   "source": [
    "# Print exponential value of each elements of a\n",
    "np.exp(a)"
   ]
  },
  {
   "cell_type": "markdown",
   "metadata": {
    "id": "Ny7K5yGxt4Gb"
   },
   "source": [
    "Referal: https://numpy.org/doc/stable/reference/generated/numpy.sum.html"
   ]
  },
  {
   "cell_type": "code",
   "execution_count": 143,
   "metadata": {
    "id": "xFZxvfqNt4Gb",
    "outputId": "2274a8c3-98cd-4d88-b954-dcc3a76822b0"
   },
   "outputs": [
    {
     "data": {
      "text/plain": [
       "45"
      ]
     },
     "execution_count": 143,
     "metadata": {},
     "output_type": "execute_result"
    }
   ],
   "source": [
    "# print total sum of elements of a\n",
    "np.sum(a)"
   ]
  },
  {
   "cell_type": "code",
   "execution_count": 144,
   "metadata": {
    "id": "Qrygqxr2t4Gb",
    "outputId": "98cbd9b0-fc56-4da2-e9f3-0c4b25e455b1"
   },
   "outputs": [
    {
     "name": "stdout",
     "output_type": "stream",
     "text": [
      "[[1 2 3]\n",
      " [4 5 6]\n",
      " [7 8 9]]\n"
     ]
    },
    {
     "data": {
      "text/plain": [
       "array([ 6, 15, 24])"
      ]
     },
     "execution_count": 144,
     "metadata": {},
     "output_type": "execute_result"
    }
   ],
   "source": [
    "# Print sum in array a column wise  #array([ 6, 15, 24])\n",
    "print(a)\n",
    "np.sum(a,axis=1)"
   ]
  },
  {
   "cell_type": "code",
   "execution_count": 145,
   "metadata": {
    "id": "YbzYdUkQt4Gb",
    "outputId": "f5a2b923-7729-417c-a6ca-f6ee2bee8bcc"
   },
   "outputs": [
    {
     "data": {
      "text/plain": [
       "array([12, 15, 18])"
      ]
     },
     "execution_count": 145,
     "metadata": {},
     "output_type": "execute_result"
    }
   ],
   "source": [
    "# Print sum in array a row wise\n",
    "np.sum(a,axis=0)"
   ]
  },
  {
   "cell_type": "markdown",
   "metadata": {
    "id": "6-U29iatt4Gb"
   },
   "source": [
    "Refrence doc: https://numpy.org/doc/stable/reference/generated/numpy.median.html"
   ]
  },
  {
   "cell_type": "code",
   "execution_count": 146,
   "metadata": {
    "id": "FIbMruz9t4Gb",
    "outputId": "80d22669-4c36-48e9-e4c5-c16f7fbd9bd9"
   },
   "outputs": [
    {
     "data": {
      "text/plain": [
       "5.0"
      ]
     },
     "execution_count": 146,
     "metadata": {},
     "output_type": "execute_result"
    }
   ],
   "source": [
    "# print median of array a\n",
    "\n",
    "np.median(a)"
   ]
  },
  {
   "cell_type": "markdown",
   "metadata": {
    "id": "5fDB5xfYt4Gc"
   },
   "source": [
    "Refrence doc: https://numpy.org/doc/stable/reference/generated/numpy.std.html"
   ]
  },
  {
   "cell_type": "code",
   "execution_count": 147,
   "metadata": {
    "id": "jc4pmNpzt4Gc",
    "outputId": "9ae4b2e9-8a69-41a9-c855-73db9a83f266"
   },
   "outputs": [
    {
     "data": {
      "text/plain": [
       "2.581988897471611"
      ]
     },
     "execution_count": 147,
     "metadata": {},
     "output_type": "execute_result"
    }
   ],
   "source": [
    "# print standard deviation of array a\n",
    "\n",
    "np.std(a)"
   ]
  },
  {
   "cell_type": "markdown",
   "metadata": {
    "id": "XypGIrxat4Gc"
   },
   "source": [
    "Refrence doc: https://numpy.org/doc/stable/reference/generated/numpy.linalg.det.html"
   ]
  },
  {
   "cell_type": "code",
   "execution_count": 150,
   "metadata": {
    "id": "x4Pes8T4t4Gc",
    "outputId": "d938418b-fa64-4a00-8772-2eec37fab3c2"
   },
   "outputs": [
    {
     "name": "stdout",
     "output_type": "stream",
     "text": [
      "[[1 2 3]\n",
      " [4 5 6]\n",
      " [7 8 9]]\n"
     ]
    },
    {
     "data": {
      "text/plain": [
       "0.0"
      ]
     },
     "execution_count": 150,
     "metadata": {},
     "output_type": "execute_result"
    }
   ],
   "source": [
    "# print the determinant of array a\n",
    "import numpy as np\n",
    "print(a)\n",
    "np.linalg.det(a)\n"
   ]
  },
  {
   "cell_type": "markdown",
   "metadata": {
    "id": "VrkJEkkft4Gc"
   },
   "source": [
    "reference doc: https://numpy.org/doc/stable/reference/generated/numpy.linalg.inv.html"
   ]
  },
  {
   "cell_type": "code",
   "execution_count": 151,
   "metadata": {
    "id": "NMa5eTQot4Gc",
    "outputId": "21ce9358-820e-431f-b348-d698d49ce44c"
   },
   "outputs": [
    {
     "name": "stdout",
     "output_type": "stream",
     "text": [
      "[[1 2 3]\n",
      " [4 5 6]\n",
      " [7 8 9]]\n"
     ]
    },
    {
     "ename": "LinAlgError",
     "evalue": "Singular matrix",
     "output_type": "error",
     "traceback": [
      "\u001b[1;31m---------------------------------------------------------------------------\u001b[0m",
      "\u001b[1;31mLinAlgError\u001b[0m                               Traceback (most recent call last)",
      "Input \u001b[1;32mIn [151]\u001b[0m, in \u001b[0;36m<cell line: 3>\u001b[1;34m()\u001b[0m\n\u001b[0;32m      1\u001b[0m \u001b[38;5;66;03m# print the (multiplicative) inverse of array a\u001b[39;00m\n\u001b[0;32m      2\u001b[0m \u001b[38;5;28mprint\u001b[39m(a)\n\u001b[1;32m----> 3\u001b[0m \u001b[38;5;28mprint\u001b[39m(\u001b[43mnp\u001b[49m\u001b[38;5;241;43m.\u001b[39;49m\u001b[43mlinalg\u001b[49m\u001b[38;5;241;43m.\u001b[39;49m\u001b[43minv\u001b[49m\u001b[43m(\u001b[49m\u001b[43ma\u001b[49m\u001b[43m)\u001b[49m)\n",
      "File \u001b[1;32m<__array_function__ internals>:180\u001b[0m, in \u001b[0;36minv\u001b[1;34m(*args, **kwargs)\u001b[0m\n",
      "File \u001b[1;32m~\\AppData\\Local\\Programs\\Python\\Python310\\lib\\site-packages\\numpy\\linalg\\linalg.py:545\u001b[0m, in \u001b[0;36minv\u001b[1;34m(a)\u001b[0m\n\u001b[0;32m    543\u001b[0m signature \u001b[38;5;241m=\u001b[39m \u001b[38;5;124m'\u001b[39m\u001b[38;5;124mD->D\u001b[39m\u001b[38;5;124m'\u001b[39m \u001b[38;5;28;01mif\u001b[39;00m isComplexType(t) \u001b[38;5;28;01melse\u001b[39;00m \u001b[38;5;124m'\u001b[39m\u001b[38;5;124md->d\u001b[39m\u001b[38;5;124m'\u001b[39m\n\u001b[0;32m    544\u001b[0m extobj \u001b[38;5;241m=\u001b[39m get_linalg_error_extobj(_raise_linalgerror_singular)\n\u001b[1;32m--> 545\u001b[0m ainv \u001b[38;5;241m=\u001b[39m \u001b[43m_umath_linalg\u001b[49m\u001b[38;5;241;43m.\u001b[39;49m\u001b[43minv\u001b[49m\u001b[43m(\u001b[49m\u001b[43ma\u001b[49m\u001b[43m,\u001b[49m\u001b[43m \u001b[49m\u001b[43msignature\u001b[49m\u001b[38;5;241;43m=\u001b[39;49m\u001b[43msignature\u001b[49m\u001b[43m,\u001b[49m\u001b[43m \u001b[49m\u001b[43mextobj\u001b[49m\u001b[38;5;241;43m=\u001b[39;49m\u001b[43mextobj\u001b[49m\u001b[43m)\u001b[49m\n\u001b[0;32m    546\u001b[0m \u001b[38;5;28;01mreturn\u001b[39;00m wrap(ainv\u001b[38;5;241m.\u001b[39mastype(result_t, copy\u001b[38;5;241m=\u001b[39m\u001b[38;5;28;01mFalse\u001b[39;00m))\n",
      "File \u001b[1;32m~\\AppData\\Local\\Programs\\Python\\Python310\\lib\\site-packages\\numpy\\linalg\\linalg.py:88\u001b[0m, in \u001b[0;36m_raise_linalgerror_singular\u001b[1;34m(err, flag)\u001b[0m\n\u001b[0;32m     87\u001b[0m \u001b[38;5;28;01mdef\u001b[39;00m \u001b[38;5;21m_raise_linalgerror_singular\u001b[39m(err, flag):\n\u001b[1;32m---> 88\u001b[0m     \u001b[38;5;28;01mraise\u001b[39;00m LinAlgError(\u001b[38;5;124m\"\u001b[39m\u001b[38;5;124mSingular matrix\u001b[39m\u001b[38;5;124m\"\u001b[39m)\n",
      "\u001b[1;31mLinAlgError\u001b[0m: Singular matrix"
     ]
    }
   ],
   "source": [
    "# print the (multiplicative) inverse of array a\n",
    "print(a)\n",
    "print(np.linalg.inv(a)) \n",
    " ## comment matrix a is singular matrix that,way inverse not genrate "
   ]
  },
  {
   "cell_type": "markdown",
   "metadata": {
    "id": "61egJQQft4Gd"
   },
   "source": [
    "Reference doc: https://numpy.org/doc/stable/reference/generated/numpy.linalg.eig.html"
   ]
  },
  {
   "cell_type": "code",
   "execution_count": 197,
   "metadata": {
    "id": "Onf6SHiFt4Gd",
    "outputId": "2060d644-82b2-45a2-b07d-67ef413f00a9"
   },
   "outputs": [
    {
     "name": "stdout",
     "output_type": "stream",
     "text": [
      "[[1 2 3]\n",
      " [4 5 6]\n",
      " [7 8 9]]\n",
      "-----------\n",
      "the eigenvalue of a : \n",
      " [ 1.61168440e+01 -1.11684397e+00 -9.75918483e-16]\n",
      "----------------------------\n",
      "the eigenvalue of a : \n",
      " [[-0.23197069 -0.78583024  0.40824829]\n",
      " [-0.52532209 -0.08675134 -0.81649658]\n",
      " [-0.8186735   0.61232756  0.40824829]]\n"
     ]
    }
   ],
   "source": [
    "# Print the eigenvalues and right eigenvectors of array a.\n",
    "a= np.array([[1,2,3],[4,5,6],[7,8,9]])\n",
    "print(a)\n",
    "print(\"-----------\")\n",
    "eigval,eigvec =np.linalg.eig(a)\n",
    "print(\"the eigenvalue of a : \\n\",eigval)\n",
    "print(\"----------------------------\")\n",
    "print(\"the eigenvalue of a : \\n\",eigvec)\n",
    "\n"
   ]
  },
  {
   "cell_type": "markdown",
   "metadata": {
    "id": "BIENo5tBt4Gd"
   },
   "source": [
    "Reference doc: https://numpy.org/doc/stable/reference/generated/numpy.dot.html"
   ]
  },
  {
   "cell_type": "code",
   "execution_count": 198,
   "metadata": {
    "id": "G2T7Vgo_t4Gd",
    "outputId": "13c7b974-4f43-4a2a-fbeb-3b62a3e684fb"
   },
   "outputs": [
    {
     "data": {
      "text/plain": [
       "array([[19, 22],\n",
       "       [43, 50]])"
      ]
     },
     "execution_count": 198,
     "metadata": {},
     "output_type": "execute_result"
    }
   ],
   "source": [
    "# compute dot product of arr1 and arr2\n",
    "np.dot(arr1,arr2)"
   ]
  },
  {
   "cell_type": "markdown",
   "metadata": {
    "id": "zgJxy3mVt4Gd"
   },
   "source": [
    "reference doc: https://numpy.org/doc/stable/reference/generated/numpy.ndarray.max.html"
   ]
  },
  {
   "cell_type": "code",
   "execution_count": 209,
   "metadata": {
    "id": "hRV5Goj_t4Gd",
    "outputId": "c13b12be-4c78-4828-ef74-acab8b9be4b5"
   },
   "outputs": [
    {
     "name": "stdout",
     "output_type": "stream",
     "text": [
      "[[1 2 3]\n",
      " [4 5 6]\n",
      " [7 8 9]]\n"
     ]
    },
    {
     "data": {
      "text/plain": [
       "9"
      ]
     },
     "execution_count": 209,
     "metadata": {},
     "output_type": "execute_result"
    }
   ],
   "source": [
    "#print largest element present in array a\n",
    "a= np.array([[1,2,3],[4,5,6],[7,8,9]])\n",
    "print(a)\n",
    "a=a[2,2:][0]\n",
    "a\n",
    "\n"
   ]
  },
  {
   "cell_type": "markdown",
   "metadata": {
    "id": "oL94sMMwt4Ge"
   },
   "source": [
    "Reference doc: https://numpy.org/doc/stable/reference/generated/numpy.argmax.html"
   ]
  },
  {
   "cell_type": "code",
   "execution_count": 212,
   "metadata": {
    "id": "Q5oEYdptt4Ge",
    "outputId": "91d0cde2-bcbb-4f4b-8b1b-40a3c0b1cdfb"
   },
   "outputs": [
    {
     "name": "stdout",
     "output_type": "stream",
     "text": [
      "[[1 2 3]\n",
      " [4 5 6]\n",
      " [7 8 9]]\n"
     ]
    },
    {
     "data": {
      "text/plain": [
       "8"
      ]
     },
     "execution_count": 212,
     "metadata": {},
     "output_type": "execute_result"
    }
   ],
   "source": [
    "#print index of largest element present in array a \n",
    "a= np.array([[1,2,3],[4,5,6],[7,8,9]])\n",
    "print(a)\n",
    "a[2,1:2][0]"
   ]
  },
  {
   "cell_type": "markdown",
   "metadata": {
    "id": "V2u1p0yht4Ge"
   },
   "source": [
    "Reference doc: https://numpy.org/doc/stable/reference/generated/numpy.sort.html"
   ]
  },
  {
   "cell_type": "code",
   "execution_count": 214,
   "metadata": {
    "id": "aRTpANePt4Ge",
    "outputId": "d1a2f51a-e73b-49e3-bbd2-67d1f4df79f4"
   },
   "outputs": [
    {
     "name": "stdout",
     "output_type": "stream",
     "text": [
      "[100   1   2   3   4   5   6   7   8 900]\n"
     ]
    },
    {
     "data": {
      "text/plain": [
       "array([  1,   2,   3,   4,   5,   6,   7,   8, 100, 900])"
      ]
     },
     "execution_count": 214,
     "metadata": {},
     "output_type": "execute_result"
    }
   ],
   "source": [
    "# print sorted x4 array\n",
    "print(x4)\n",
    "np.sort(x4)"
   ]
  },
  {
   "cell_type": "markdown",
   "metadata": {
    "id": "hQSwsqlvt4Gf"
   },
   "source": [
    "Reference doc: https://numpy.org/doc/stable/reference/generated/numpy.argsort.html"
   ]
  },
  {
   "cell_type": "code",
   "execution_count": 215,
   "metadata": {
    "id": "UIqpr9cLt4Gf",
    "outputId": "820885a6-4f72-423b-b86d-6a4d3c785758"
   },
   "outputs": [
    {
     "data": {
      "text/plain": [
       "array([1, 2, 3, 4, 5, 6, 7, 8, 0, 9], dtype=int64)"
      ]
     },
     "execution_count": 215,
     "metadata": {},
     "output_type": "execute_result"
    }
   ],
   "source": [
    "# print indices of each sorted element in x4 array\n",
    "np.argsort(x4)\n"
   ]
  },
  {
   "cell_type": "markdown",
   "metadata": {
    "id": "2yFEoiJXt4Gf"
   },
   "source": [
    "## Searching Arrays\n",
    "\n",
    "Reference: https://youtu.be/zd-9D_ZCIqs\n",
    "\n",
    "You can search an array for a certain value, and return the indexes that get a match.\n",
    "\n",
    "To search an array, use the where() method.\n",
    "\n",
    "<p style='text-align: right;'> 4 points </p>\n"
   ]
  },
  {
   "cell_type": "code",
   "execution_count": 217,
   "metadata": {
    "id": "7UXTCpHpt4Gg",
    "outputId": "3b17f45f-907e-47c2-de9d-ff436a750a61"
   },
   "outputs": [
    {
     "name": "stdout",
     "output_type": "stream",
     "text": [
      "[100   1   2   3   4   5   6   7   8   9]\n"
     ]
    },
    {
     "data": {
      "text/plain": [
       "(array([4], dtype=int64),)"
      ]
     },
     "execution_count": 217,
     "metadata": {},
     "output_type": "execute_result"
    }
   ],
   "source": [
    "# print the indexes where the value is 4 in array x1\n",
    "print(x1)\n",
    "np.where(x1==4)"
   ]
  },
  {
   "cell_type": "markdown",
   "metadata": {
    "id": "KOrlM2v0t4Gg"
   },
   "source": [
    "Which means that the value 4 is present at index 4\n",
    "\n",
    "You can check it by printing array x1"
   ]
  },
  {
   "cell_type": "code",
   "execution_count": 218,
   "metadata": {
    "id": "Z-ItDtNXt4Gg",
    "outputId": "77e28ce2-bb0b-46bc-db19-21caefeac332"
   },
   "outputs": [
    {
     "name": "stdout",
     "output_type": "stream",
     "text": [
      "[100   1   2   3   4   5   6   7   8   9]\n"
     ]
    }
   ],
   "source": [
    "#print array x1\n",
    "print(x1)"
   ]
  },
  {
   "cell_type": "code",
   "execution_count": 219,
   "metadata": {
    "id": "oERRrz7Vt4Gh",
    "outputId": "0e8218f8-72d0-4df2-e722-c5bfa8bca150"
   },
   "outputs": [
    {
     "data": {
      "text/plain": [
       "(array([0, 2, 4, 6, 8], dtype=int64),)"
      ]
     },
     "execution_count": 219,
     "metadata": {},
     "output_type": "execute_result"
    }
   ],
   "source": [
    "# Print the indexes where the values are even in array x1\n",
    "\n",
    "np.where(x1 %2 ==0)"
   ]
  },
  {
   "cell_type": "code",
   "execution_count": 222,
   "metadata": {
    "id": "EGx7P-DEt4Gh",
    "outputId": "46c06aeb-5e6a-4071-f0d3-45cf5f2d1dbf"
   },
   "outputs": [
    {
     "data": {
      "text/plain": [
       "(array([], dtype=int64),)"
      ]
     },
     "execution_count": 222,
     "metadata": {},
     "output_type": "execute_result"
    }
   ],
   "source": [
    "# Print x1 where x1 is greater than 5, also if number is less than 5 then replace it with 0\n",
    "\n",
    "np.where((x1>5) & (x1<5))"
   ]
  },
  {
   "cell_type": "markdown",
   "metadata": {
    "id": "QZCFWBeDt4Gh"
   },
   "source": [
    "Good Job learner! \n",
    "\n",
    "---------------------\n",
    "# Bam! Congratulations You have completed your 4th milestone challenge too!\n",
    "\n",
    "----------------------\n",
    "\n",
    "# Its Feedback Time!\n",
    "\n",
    "We hope you’ve enjoyed this course so far. We’re committed to help you use \"AI for All\" course to its full potential, so that you have a great learning experience. And that’s why we need your help in form of a feedback here.\n",
    "\n",
    "**Please fill this feedback form**\n",
    " https://zfrmz.in/MtRG5oWXBdesm6rmSM7N"
   ]
  }
 ],
 "metadata": {
  "colab": {
   "collapsed_sections": [
    "qxBYZcCrt4GR",
    "2yFEoiJXt4Gf"
   ],
   "name": "Numpy.ipynb",
   "provenance": []
  },
  "kernelspec": {
   "display_name": "Python 3 (ipykernel)",
   "language": "python",
   "name": "python3"
  },
  "language_info": {
   "codemirror_mode": {
    "name": "ipython",
    "version": 3
   },
   "file_extension": ".py",
   "mimetype": "text/x-python",
   "name": "python",
   "nbconvert_exporter": "python",
   "pygments_lexer": "ipython3",
   "version": "3.10.0"
  }
 },
 "nbformat": 4,
 "nbformat_minor": 1
}
