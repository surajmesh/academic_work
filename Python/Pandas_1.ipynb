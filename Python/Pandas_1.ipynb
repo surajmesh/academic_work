{
 "cells": [
  {
   "cell_type": "markdown",
   "id": "uMV_8zRPpnAp",
   "metadata": {
    "id": "uMV_8zRPpnAp"
   },
   "source": [
    "# <center><u>Pandas <u> </center>"
   ]
  },
  {
   "cell_type": "markdown",
   "id": "OL_SXdqjpnAu",
   "metadata": {
    "id": "OL_SXdqjpnAu"
   },
   "source": [
    "## 1.[Pandas Series](https://pandas.pydata.org/pandas-docs/stable/reference/series.html)"
   ]
  },
  {
   "cell_type": "markdown",
   "id": "uiXtfQ6opnAu",
   "metadata": {
    "id": "uiXtfQ6opnAu"
   },
   "source": [
    "resource - https://youtu.be/ymqgwuEM1bQ"
   ]
  },
  {
   "cell_type": "markdown",
   "id": "jpv-BhIypnAv",
   "metadata": {
    "id": "jpv-BhIypnAv"
   },
   "source": [
    "<p style='text-align: right;'> 1*4=4 points</p>\n"
   ]
  },
  {
   "cell_type": "markdown",
   "id": "AMfObYj2pnAv",
   "metadata": {
    "id": "AMfObYj2pnAv"
   },
   "source": [
    "Import pandas and numpy with their aliases"
   ]
  },
  {
   "cell_type": "code",
   "execution_count": 3,
   "id": "JJ25V2aCpnAw",
   "metadata": {
    "id": "JJ25V2aCpnAw"
   },
   "outputs": [],
   "source": [
    "import pandas as pd"
   ]
  },
  {
   "cell_type": "markdown",
   "id": "uMp4caJNpnAw",
   "metadata": {
    "id": "uMp4caJNpnAw"
   },
   "source": [
    "Create a variable a = pd.Series([ 100, 200, 300, 400])"
   ]
  },
  {
   "cell_type": "code",
   "execution_count": 4,
   "id": "21fe711e",
   "metadata": {},
   "outputs": [],
   "source": [
    "import numpy as np\n",
    "data=[100,200,300,400]"
   ]
  },
  {
   "cell_type": "code",
   "execution_count": 5,
   "id": "CWLrfTnDpnAx",
   "metadata": {
    "id": "CWLrfTnDpnAx"
   },
   "outputs": [],
   "source": [
    "a=pd.Series(data)\n"
   ]
  },
  {
   "cell_type": "markdown",
   "id": "3BJd2ls9pnAy",
   "metadata": {
    "id": "3BJd2ls9pnAy"
   },
   "source": [
    "Print a, and data type"
   ]
  },
  {
   "cell_type": "code",
   "execution_count": 6,
   "id": "FyIke5uYpnAy",
   "metadata": {
    "id": "FyIke5uYpnAy",
    "outputId": "05eceffc-ca09-4d35-915a-976957f8b110"
   },
   "outputs": [
    {
     "name": "stdout",
     "output_type": "stream",
     "text": [
      "0    100\n",
      "1    200\n",
      "2    300\n",
      "3    400\n",
      "dtype: int64\n",
      "<class 'pandas.core.series.Series'>\n"
     ]
    }
   ],
   "source": [
    "print(a)\n",
    "print(type(a))"
   ]
  },
  {
   "cell_type": "markdown",
   "id": "9U2PrytJpnAz",
   "metadata": {
    "id": "9U2PrytJpnAz"
   },
   "source": [
    "Using indexing access the element 300 from the series a."
   ]
  },
  {
   "cell_type": "code",
   "execution_count": 7,
   "id": "wzmhiLdSpnA0",
   "metadata": {
    "id": "wzmhiLdSpnA0",
    "outputId": "9e85731f-0192-48fe-8c01-bc1eb28bfc45"
   },
   "outputs": [
    {
     "data": {
      "text/plain": [
       "300"
      ]
     },
     "execution_count": 7,
     "metadata": {},
     "output_type": "execute_result"
    }
   ],
   "source": [
    "a[2]"
   ]
  },
  {
   "cell_type": "markdown",
   "id": "eN4O5LYipnA0",
   "metadata": {
    "id": "eN4O5LYipnA0"
   },
   "source": [
    "What are the values of index for series a?"
   ]
  },
  {
   "cell_type": "markdown",
   "id": "nw2Y9uHupnA1",
   "metadata": {
    "id": "nw2Y9uHupnA1"
   },
   "source": [
    "<p style='text-align: right;'> 2*4 = 8 points</p>\n"
   ]
  },
  {
   "cell_type": "code",
   "execution_count": 8,
   "id": "P1EYjoQ5pnA1",
   "metadata": {
    "id": "P1EYjoQ5pnA1",
    "outputId": "65285963-cafc-4daa-d0b6-16a14a64e2ca"
   },
   "outputs": [
    {
     "data": {
      "text/plain": [
       "RangeIndex(start=0, stop=4, step=1)"
      ]
     },
     "execution_count": 8,
     "metadata": {},
     "output_type": "execute_result"
    }
   ],
   "source": [
    "a.index"
   ]
  },
  {
   "cell_type": "markdown",
   "id": "U-Tg2fgSpnA2",
   "metadata": {
    "id": "U-Tg2fgSpnA2"
   },
   "source": [
    "Change the index to  ['c', 'a', 'b', 'd']"
   ]
  },
  {
   "cell_type": "code",
   "execution_count": 9,
   "id": "IlDwL4-4pnA2",
   "metadata": {
    "id": "IlDwL4-4pnA2",
    "outputId": "5f95805e-4ba2-4a81-fde6-761a08f0c951"
   },
   "outputs": [
    {
     "data": {
      "text/plain": [
       "c    100\n",
       "a    200\n",
       "b    300\n",
       "d    400\n",
       "dtype: int64"
      ]
     },
     "execution_count": 9,
     "metadata": {},
     "output_type": "execute_result"
    }
   ],
   "source": [
    "a.index = ['c','a','b','d']\n",
    "a"
   ]
  },
  {
   "cell_type": "markdown",
   "id": "ivpCSviTpnA2",
   "metadata": {
    "id": "ivpCSviTpnA2"
   },
   "source": [
    "Access the value in the series with index 'd'"
   ]
  },
  {
   "cell_type": "code",
   "execution_count": 10,
   "id": "j1AMdRo_pnA2",
   "metadata": {
    "id": "j1AMdRo_pnA2",
    "outputId": "f5729675-0f3a-4275-8e34-53a60bc6176a"
   },
   "outputs": [
    {
     "data": {
      "text/plain": [
       "400"
      ]
     },
     "execution_count": 10,
     "metadata": {},
     "output_type": "execute_result"
    }
   ],
   "source": [
    "a['d']"
   ]
  },
  {
   "cell_type": "markdown",
   "id": "dJa7rutBpnA3",
   "metadata": {
    "id": "dJa7rutBpnA3"
   },
   "source": [
    "Sort the values wrt to the index and print it"
   ]
  },
  {
   "cell_type": "code",
   "execution_count": 11,
   "id": "SjJfAmqrpnA3",
   "metadata": {
    "id": "SjJfAmqrpnA3",
    "outputId": "61e5b551-e479-46fc-a347-fe9681dda121"
   },
   "outputs": [
    {
     "name": "stdout",
     "output_type": "stream",
     "text": [
      "a    200\n",
      "b    300\n",
      "c    100\n",
      "d    400\n",
      "dtype: int64\n"
     ]
    }
   ],
   "source": [
    "a=a.sort_index()\n",
    "print(a)"
   ]
  },
  {
   "cell_type": "markdown",
   "id": "-g8DQnG8pnA3",
   "metadata": {
    "id": "-g8DQnG8pnA3"
   },
   "source": [
    "Create a new Pandas Series b having index as 'e', 'f', and 'g' and value 800,450,100 and print it"
   ]
  },
  {
   "cell_type": "markdown",
   "id": "VfTLSy7ppnA4",
   "metadata": {
    "id": "VfTLSy7ppnA4"
   },
   "source": [
    "<p style='text-align: right;'> 4*2=8 points</p>\n"
   ]
  },
  {
   "cell_type": "code",
   "execution_count": 12,
   "id": "vCyL3u36pnA4",
   "metadata": {
    "id": "vCyL3u36pnA4",
    "outputId": "bc773b37-8bf3-4976-8112-c09f6e1828a6"
   },
   "outputs": [
    {
     "data": {
      "text/plain": [
       "e    800\n",
       "f    450\n",
       "g    100\n",
       "dtype: int64"
      ]
     },
     "execution_count": 12,
     "metadata": {},
     "output_type": "execute_result"
    }
   ],
   "source": [
    "b=pd.Series([800,450,100],['e','f','g'])\n",
    "b"
   ]
  },
  {
   "cell_type": "markdown",
   "id": "4d0Hkp-mpnA5",
   "metadata": {
    "id": "4d0Hkp-mpnA5"
   },
   "source": [
    "Append b series at the end of a series"
   ]
  },
  {
   "cell_type": "code",
   "execution_count": 13,
   "id": "b238c48c",
   "metadata": {},
   "outputs": [
    {
     "name": "stderr",
     "output_type": "stream",
     "text": [
      "C:\\Users\\Suraj\\AppData\\Local\\Temp\\ipykernel_6524\\1030491723.py:1: FutureWarning: The series.append method is deprecated and will be removed from pandas in a future version. Use pandas.concat instead.\n",
      "  a=a.append(b)\n"
     ]
    }
   ],
   "source": [
    "a=a.append(b)"
   ]
  },
  {
   "cell_type": "code",
   "execution_count": 14,
   "id": "5ca70681",
   "metadata": {},
   "outputs": [
    {
     "name": "stdout",
     "output_type": "stream",
     "text": [
      "a    200\n",
      "b    300\n",
      "c    100\n",
      "d    400\n",
      "e    800\n",
      "f    450\n",
      "g    100\n",
      "dtype: int64\n"
     ]
    }
   ],
   "source": [
    "print(a)"
   ]
  },
  {
   "cell_type": "markdown",
   "id": "SCo0tXNDpnA5",
   "metadata": {
    "id": "SCo0tXNDpnA5"
   },
   "source": [
    "Sort the values in descending order of a and print the index of the sorted series"
   ]
  },
  {
   "cell_type": "code",
   "execution_count": 15,
   "id": "qfZXZ8AQpnA6",
   "metadata": {
    "id": "qfZXZ8AQpnA6"
   },
   "outputs": [
    {
     "data": {
      "text/plain": [
       "g    100\n",
       "f    450\n",
       "e    800\n",
       "d    400\n",
       "c    100\n",
       "b    300\n",
       "a    200\n",
       "dtype: int64"
      ]
     },
     "execution_count": 15,
     "metadata": {},
     "output_type": "execute_result"
    }
   ],
   "source": [
    "a.sort_index(axis=0,ascending=False)"
   ]
  },
  {
   "cell_type": "code",
   "execution_count": 16,
   "id": "veZVKrK-pnA6",
   "metadata": {
    "id": "veZVKrK-pnA6",
    "outputId": "9a1fa5c7-ff2d-460b-cd27-7b6bf8f07f2e"
   },
   "outputs": [
    {
     "name": "stdout",
     "output_type": "stream",
     "text": [
      "Index(['a', 'b', 'c', 'd', 'e', 'f', 'g'], dtype='object')\n"
     ]
    }
   ],
   "source": [
    "# print index of a\n",
    "\n",
    "print(a.index)"
   ]
  },
  {
   "cell_type": "markdown",
   "id": "45DlKJ82pnA6",
   "metadata": {
    "id": "45DlKJ82pnA6"
   },
   "source": [
    "## 2. [Pandas DataFrame](https://pandas.pydata.org/pandas-docs/stable/reference/api/pandas.DataFrame.html)\n",
    "\n",
    "Reference:-https://youtu.be/xPgG6_ZFi8Y"
   ]
  },
  {
   "cell_type": "markdown",
   "id": "GVFZpy68pnA6",
   "metadata": {
    "id": "GVFZpy68pnA6"
   },
   "source": [
    "<p style='text-align: right;'> 8*2 = 16 points</p>\n"
   ]
  },
  {
   "cell_type": "markdown",
   "id": "TO8NieyCpnA7",
   "metadata": {
    "id": "TO8NieyCpnA7"
   },
   "source": [
    "### Part 1"
   ]
  },
  {
   "cell_type": "markdown",
   "id": "VOEVFMlypnA7",
   "metadata": {
    "id": "VOEVFMlypnA7"
   },
   "source": [
    "<p style='text-align: right;'> 5 points</p>\n"
   ]
  },
  {
   "cell_type": "markdown",
   "id": "m50ZDDGQpnA7",
   "metadata": {
    "id": "m50ZDDGQpnA7"
   },
   "source": [
    "Create a pandas dataframe df from the series 'a' that we used in the last section, print the dataframe"
   ]
  },
  {
   "cell_type": "code",
   "execution_count": 17,
   "id": "tgExMEV1pnA7",
   "metadata": {
    "id": "tgExMEV1pnA7",
    "outputId": "2a440fa6-ff36-41b8-9b34-2801aaf018e4"
   },
   "outputs": [
    {
     "data": {
      "text/html": [
       "<div>\n",
       "<style scoped>\n",
       "    .dataframe tbody tr th:only-of-type {\n",
       "        vertical-align: middle;\n",
       "    }\n",
       "\n",
       "    .dataframe tbody tr th {\n",
       "        vertical-align: top;\n",
       "    }\n",
       "\n",
       "    .dataframe thead th {\n",
       "        text-align: right;\n",
       "    }\n",
       "</style>\n",
       "<table border=\"1\" class=\"dataframe\">\n",
       "  <thead>\n",
       "    <tr style=\"text-align: right;\">\n",
       "      <th></th>\n",
       "      <th>0</th>\n",
       "    </tr>\n",
       "  </thead>\n",
       "  <tbody>\n",
       "    <tr>\n",
       "      <th>a</th>\n",
       "      <td>200</td>\n",
       "    </tr>\n",
       "    <tr>\n",
       "      <th>b</th>\n",
       "      <td>300</td>\n",
       "    </tr>\n",
       "    <tr>\n",
       "      <th>c</th>\n",
       "      <td>100</td>\n",
       "    </tr>\n",
       "    <tr>\n",
       "      <th>d</th>\n",
       "      <td>400</td>\n",
       "    </tr>\n",
       "    <tr>\n",
       "      <th>e</th>\n",
       "      <td>800</td>\n",
       "    </tr>\n",
       "    <tr>\n",
       "      <th>f</th>\n",
       "      <td>450</td>\n",
       "    </tr>\n",
       "    <tr>\n",
       "      <th>g</th>\n",
       "      <td>100</td>\n",
       "    </tr>\n",
       "  </tbody>\n",
       "</table>\n",
       "</div>"
      ],
      "text/plain": [
       "     0\n",
       "a  200\n",
       "b  300\n",
       "c  100\n",
       "d  400\n",
       "e  800\n",
       "f  450\n",
       "g  100"
      ]
     },
     "execution_count": 17,
     "metadata": {},
     "output_type": "execute_result"
    }
   ],
   "source": [
    "df=pd.DataFrame(a)\n",
    "df"
   ]
  },
  {
   "cell_type": "markdown",
   "id": "pM4LbdT7pnA7",
   "metadata": {
    "id": "pM4LbdT7pnA7"
   },
   "source": [
    "Point to ponder! Don't you think series a and dataframe df looks alike? But there must be some difference between them. \n",
    "Hey buddy think and write your thoughts below."
   ]
  },
  {
   "cell_type": "code",
   "execution_count": 18,
   "id": "39zmqV93pnA8",
   "metadata": {
    "id": "39zmqV93pnA8"
   },
   "outputs": [],
   "source": [
    "# happy to know your comment\n",
    "# diff is in dataframe output mensioned columnes names as 0 and we can oprate \n",
    "# index and colunms \n",
    "# in Series we accesing element only on index not columns"
   ]
  },
  {
   "cell_type": "markdown",
   "id": "VpHGs421pnA8",
   "metadata": {
    "id": "VpHGs421pnA8"
   },
   "source": [
    "<p style='text-align: right;'> 2 + 1*4 = 6 points</p>\n"
   ]
  },
  {
   "cell_type": "markdown",
   "id": "6mrWwIN3pnA8",
   "metadata": {
    "id": "6mrWwIN3pnA8"
   },
   "source": [
    "What is the shape of the datafarme <br>\n"
   ]
  },
  {
   "cell_type": "code",
   "execution_count": 19,
   "id": "Uc3Z6CRypnA8",
   "metadata": {
    "id": "Uc3Z6CRypnA8",
    "outputId": "7571c4d2-17a9-4102-a03d-89d06cb317d1"
   },
   "outputs": [
    {
     "data": {
      "text/plain": [
       "(7, 1)"
      ]
     },
     "execution_count": 19,
     "metadata": {},
     "output_type": "execute_result"
    }
   ],
   "source": [
    "df.shape"
   ]
  },
  {
   "cell_type": "markdown",
   "id": "jkI57llRpnA8",
   "metadata": {
    "id": "jkI57llRpnA8"
   },
   "source": [
    "Hey! remember shape (7,1) implies dataframe has 7 rows and 1 column. "
   ]
  },
  {
   "cell_type": "markdown",
   "id": "VhgVZe7YpnA8",
   "metadata": {
    "id": "VhgVZe7YpnA8"
   },
   "source": [
    "What is the index of the dataframe, is it same as the series 'a' ?"
   ]
  },
  {
   "cell_type": "code",
   "execution_count": 20,
   "id": "f7TBxLMZpnA9",
   "metadata": {
    "id": "f7TBxLMZpnA9",
    "outputId": "e42c3f18-9837-4e36-97aa-10ae8a171922"
   },
   "outputs": [
    {
     "data": {
      "text/plain": [
       "Index(['a', 'b', 'c', 'd', 'e', 'f', 'g'], dtype='object')"
      ]
     },
     "execution_count": 20,
     "metadata": {},
     "output_type": "execute_result"
    }
   ],
   "source": [
    "df.index"
   ]
  },
  {
   "cell_type": "markdown",
   "id": "oPvUWDPbpnA9",
   "metadata": {
    "id": "oPvUWDPbpnA9"
   },
   "source": [
    "print the head and tail of the dataframe. <br>\n",
    "Additional - (what does head and tali represent?)"
   ]
  },
  {
   "cell_type": "code",
   "execution_count": 21,
   "id": "WT2nuPeMpnA9",
   "metadata": {
    "id": "WT2nuPeMpnA9",
    "outputId": "ae53d205-38c8-4394-e428-bd9114bf8f8d"
   },
   "outputs": [
    {
     "data": {
      "text/html": [
       "<div>\n",
       "<style scoped>\n",
       "    .dataframe tbody tr th:only-of-type {\n",
       "        vertical-align: middle;\n",
       "    }\n",
       "\n",
       "    .dataframe tbody tr th {\n",
       "        vertical-align: top;\n",
       "    }\n",
       "\n",
       "    .dataframe thead th {\n",
       "        text-align: right;\n",
       "    }\n",
       "</style>\n",
       "<table border=\"1\" class=\"dataframe\">\n",
       "  <thead>\n",
       "    <tr style=\"text-align: right;\">\n",
       "      <th></th>\n",
       "      <th>0</th>\n",
       "    </tr>\n",
       "  </thead>\n",
       "  <tbody>\n",
       "    <tr>\n",
       "      <th>a</th>\n",
       "      <td>200</td>\n",
       "    </tr>\n",
       "    <tr>\n",
       "      <th>b</th>\n",
       "      <td>300</td>\n",
       "    </tr>\n",
       "    <tr>\n",
       "      <th>c</th>\n",
       "      <td>100</td>\n",
       "    </tr>\n",
       "    <tr>\n",
       "      <th>d</th>\n",
       "      <td>400</td>\n",
       "    </tr>\n",
       "    <tr>\n",
       "      <th>e</th>\n",
       "      <td>800</td>\n",
       "    </tr>\n",
       "  </tbody>\n",
       "</table>\n",
       "</div>"
      ],
      "text/plain": [
       "     0\n",
       "a  200\n",
       "b  300\n",
       "c  100\n",
       "d  400\n",
       "e  800"
      ]
     },
     "execution_count": 21,
     "metadata": {},
     "output_type": "execute_result"
    }
   ],
   "source": [
    "#head\n",
    "df.head()"
   ]
  },
  {
   "cell_type": "code",
   "execution_count": 22,
   "id": "L6gGwLShpnA9",
   "metadata": {
    "id": "L6gGwLShpnA9",
    "outputId": "7fcd2089-c744-43d5-e8a9-c0d7055f21cd"
   },
   "outputs": [
    {
     "data": {
      "text/html": [
       "<div>\n",
       "<style scoped>\n",
       "    .dataframe tbody tr th:only-of-type {\n",
       "        vertical-align: middle;\n",
       "    }\n",
       "\n",
       "    .dataframe tbody tr th {\n",
       "        vertical-align: top;\n",
       "    }\n",
       "\n",
       "    .dataframe thead th {\n",
       "        text-align: right;\n",
       "    }\n",
       "</style>\n",
       "<table border=\"1\" class=\"dataframe\">\n",
       "  <thead>\n",
       "    <tr style=\"text-align: right;\">\n",
       "      <th></th>\n",
       "      <th>0</th>\n",
       "    </tr>\n",
       "  </thead>\n",
       "  <tbody>\n",
       "    <tr>\n",
       "      <th>c</th>\n",
       "      <td>100</td>\n",
       "    </tr>\n",
       "    <tr>\n",
       "      <th>d</th>\n",
       "      <td>400</td>\n",
       "    </tr>\n",
       "    <tr>\n",
       "      <th>e</th>\n",
       "      <td>800</td>\n",
       "    </tr>\n",
       "    <tr>\n",
       "      <th>f</th>\n",
       "      <td>450</td>\n",
       "    </tr>\n",
       "    <tr>\n",
       "      <th>g</th>\n",
       "      <td>100</td>\n",
       "    </tr>\n",
       "  </tbody>\n",
       "</table>\n",
       "</div>"
      ],
      "text/plain": [
       "     0\n",
       "c  100\n",
       "d  400\n",
       "e  800\n",
       "f  450\n",
       "g  100"
      ]
     },
     "execution_count": 22,
     "metadata": {},
     "output_type": "execute_result"
    }
   ],
   "source": [
    "#tail\n",
    "df.tail()"
   ]
  },
  {
   "cell_type": "markdown",
   "id": "xlO6BFlupnA9",
   "metadata": {
    "id": "xlO6BFlupnA9"
   },
   "source": [
    "Rename the columns of the dataframe as 'points'"
   ]
  },
  {
   "cell_type": "markdown",
   "id": "h55UMOYipnA-",
   "metadata": {
    "id": "h55UMOYipnA-"
   },
   "source": [
    "<p style='text-align: right;'> 2 points</p>\n"
   ]
  },
  {
   "cell_type": "code",
   "execution_count": 23,
   "id": "qwAHk0sspnA-",
   "metadata": {
    "id": "qwAHk0sspnA-",
    "outputId": "427bee62-cbf5-44e3-d8d8-868b1b90e170"
   },
   "outputs": [
    {
     "data": {
      "text/html": [
       "<div>\n",
       "<style scoped>\n",
       "    .dataframe tbody tr th:only-of-type {\n",
       "        vertical-align: middle;\n",
       "    }\n",
       "\n",
       "    .dataframe tbody tr th {\n",
       "        vertical-align: top;\n",
       "    }\n",
       "\n",
       "    .dataframe thead th {\n",
       "        text-align: right;\n",
       "    }\n",
       "</style>\n",
       "<table border=\"1\" class=\"dataframe\">\n",
       "  <thead>\n",
       "    <tr style=\"text-align: right;\">\n",
       "      <th></th>\n",
       "      <th>points</th>\n",
       "    </tr>\n",
       "  </thead>\n",
       "  <tbody>\n",
       "    <tr>\n",
       "      <th>a</th>\n",
       "      <td>200</td>\n",
       "    </tr>\n",
       "    <tr>\n",
       "      <th>b</th>\n",
       "      <td>300</td>\n",
       "    </tr>\n",
       "    <tr>\n",
       "      <th>c</th>\n",
       "      <td>100</td>\n",
       "    </tr>\n",
       "    <tr>\n",
       "      <th>d</th>\n",
       "      <td>400</td>\n",
       "    </tr>\n",
       "    <tr>\n",
       "      <th>e</th>\n",
       "      <td>800</td>\n",
       "    </tr>\n",
       "    <tr>\n",
       "      <th>f</th>\n",
       "      <td>450</td>\n",
       "    </tr>\n",
       "    <tr>\n",
       "      <th>g</th>\n",
       "      <td>100</td>\n",
       "    </tr>\n",
       "  </tbody>\n",
       "</table>\n",
       "</div>"
      ],
      "text/plain": [
       "   points\n",
       "a     200\n",
       "b     300\n",
       "c     100\n",
       "d     400\n",
       "e     800\n",
       "f     450\n",
       "g     100"
      ]
     },
     "execution_count": 23,
     "metadata": {},
     "output_type": "execute_result"
    }
   ],
   "source": [
    "df.columns = ['points']\n",
    "df"
   ]
  },
  {
   "cell_type": "markdown",
   "id": "2Q16fTJVpnA-",
   "metadata": {
    "id": "2Q16fTJVpnA-"
   },
   "source": [
    "Create another Series 'fruits', which contains random names of fruits from ['orange','mango','apple']. The series should contain 7 elements, randomly selected from ['orange','mango','apple']"
   ]
  },
  {
   "cell_type": "markdown",
   "id": "HOhU-mgspnA_",
   "metadata": {
    "id": "HOhU-mgspnA_"
   },
   "source": [
    "<p style='text-align: right;'> 5 points</p>\n"
   ]
  },
  {
   "cell_type": "code",
   "execution_count": 24,
   "id": "-2nZd0uCpnA_",
   "metadata": {
    "id": "-2nZd0uCpnA_",
    "outputId": "a2e0ed8d-db69-4cd3-dc99-460ec3083306"
   },
   "outputs": [
    {
     "data": {
      "text/plain": [
       "array(['orange', 'mango', 'apple', 'orange', 'mango', 'apple', 'mango'],\n",
       "      dtype='<U6')"
      ]
     },
     "execution_count": 24,
     "metadata": {},
     "output_type": "execute_result"
    }
   ],
   "source": [
    "#Create fruits array\n",
    "import numpy as np\n",
    "dat_arr = np.array(['orange','mango','apple','orange','mango','apple','mango'])\n",
    "dat_arr"
   ]
  },
  {
   "cell_type": "markdown",
   "id": "ZESO0B4fpnA_",
   "metadata": {
    "id": "ZESO0B4fpnA_"
   },
   "source": [
    "The above output might vary based randomness"
   ]
  },
  {
   "cell_type": "code",
   "execution_count": 120,
   "id": "keUmglcxpnA_",
   "metadata": {
    "id": "keUmglcxpnA_",
    "outputId": "1915ac23-49b0-448a-9a45-fb2d288113c1"
   },
   "outputs": [
    {
     "data": {
      "text/plain": [
       "0    orange\n",
       "1     mango\n",
       "2     apple\n",
       "3    orange\n",
       "4     mango\n",
       "5     apple\n",
       "6     mango\n",
       "dtype: object"
      ]
     },
     "execution_count": 120,
     "metadata": {},
     "output_type": "execute_result"
    }
   ],
   "source": [
    "#Create series fruits out of fruits array\n",
    "sr = pd.Series(dat_arr)\n",
    "sr"
   ]
  },
  {
   "cell_type": "markdown",
   "id": "bVgSjQlIpnA_",
   "metadata": {
    "id": "bVgSjQlIpnA_"
   },
   "source": [
    "Change the index of fruits to the index of dataframe df"
   ]
  },
  {
   "cell_type": "markdown",
   "id": "Yja3YjK_pnBA",
   "metadata": {
    "id": "Yja3YjK_pnBA"
   },
   "source": [
    "<p style='text-align: right;'> 5 points</p>\n"
   ]
  },
  {
   "cell_type": "code",
   "execution_count": 122,
   "id": "zeEDQx4fpnBA",
   "metadata": {
    "id": "zeEDQx4fpnBA",
    "outputId": "42eebfba-eba1-46ab-9cb8-646e2956f319"
   },
   "outputs": [
    {
     "data": {
      "text/html": [
       "<div>\n",
       "<style scoped>\n",
       "    .dataframe tbody tr th:only-of-type {\n",
       "        vertical-align: middle;\n",
       "    }\n",
       "\n",
       "    .dataframe tbody tr th {\n",
       "        vertical-align: top;\n",
       "    }\n",
       "\n",
       "    .dataframe thead th {\n",
       "        text-align: right;\n",
       "    }\n",
       "</style>\n",
       "<table border=\"1\" class=\"dataframe\">\n",
       "  <thead>\n",
       "    <tr style=\"text-align: right;\">\n",
       "      <th></th>\n",
       "      <th>0</th>\n",
       "    </tr>\n",
       "  </thead>\n",
       "  <tbody>\n",
       "    <tr>\n",
       "      <th>a</th>\n",
       "      <td>orange</td>\n",
       "    </tr>\n",
       "    <tr>\n",
       "      <th>b</th>\n",
       "      <td>mango</td>\n",
       "    </tr>\n",
       "    <tr>\n",
       "      <th>c</th>\n",
       "      <td>apple</td>\n",
       "    </tr>\n",
       "    <tr>\n",
       "      <th>d</th>\n",
       "      <td>orange</td>\n",
       "    </tr>\n",
       "    <tr>\n",
       "      <th>e</th>\n",
       "      <td>mango</td>\n",
       "    </tr>\n",
       "    <tr>\n",
       "      <th>f</th>\n",
       "      <td>apple</td>\n",
       "    </tr>\n",
       "    <tr>\n",
       "      <th>g</th>\n",
       "      <td>mango</td>\n",
       "    </tr>\n",
       "  </tbody>\n",
       "</table>\n",
       "</div>"
      ],
      "text/plain": [
       "        0\n",
       "a  orange\n",
       "b   mango\n",
       "c   apple\n",
       "d  orange\n",
       "e   mango\n",
       "f   apple\n",
       "g   mango"
      ]
     },
     "execution_count": 122,
     "metadata": {},
     "output_type": "execute_result"
    }
   ],
   "source": [
    "df=pd.DataFrame(dat_arr,['a','b','c','d','e','f','g'])\n",
    "df"
   ]
  },
  {
   "cell_type": "markdown",
   "id": "X2DU-SqPpnBA",
   "metadata": {
    "id": "X2DU-SqPpnBA"
   },
   "source": [
    "Add this fruits series as a new column to the dataframe df with its column name as 'fruits' <br> print the head of the dataframe to verify"
   ]
  },
  {
   "cell_type": "code",
   "execution_count": 123,
   "id": "GdLcl5pHpnBA",
   "metadata": {
    "id": "GdLcl5pHpnBA",
    "outputId": "6c9e48d8-ce59-4a5e-fb8b-12dd2c1eb3bf"
   },
   "outputs": [
    {
     "data": {
      "text/html": [
       "<div>\n",
       "<style scoped>\n",
       "    .dataframe tbody tr th:only-of-type {\n",
       "        vertical-align: middle;\n",
       "    }\n",
       "\n",
       "    .dataframe tbody tr th {\n",
       "        vertical-align: top;\n",
       "    }\n",
       "\n",
       "    .dataframe thead th {\n",
       "        text-align: right;\n",
       "    }\n",
       "</style>\n",
       "<table border=\"1\" class=\"dataframe\">\n",
       "  <thead>\n",
       "    <tr style=\"text-align: right;\">\n",
       "      <th></th>\n",
       "      <th>fruits</th>\n",
       "    </tr>\n",
       "  </thead>\n",
       "  <tbody>\n",
       "    <tr>\n",
       "      <th>a</th>\n",
       "      <td>orange</td>\n",
       "    </tr>\n",
       "    <tr>\n",
       "      <th>b</th>\n",
       "      <td>mango</td>\n",
       "    </tr>\n",
       "    <tr>\n",
       "      <th>c</th>\n",
       "      <td>apple</td>\n",
       "    </tr>\n",
       "    <tr>\n",
       "      <th>d</th>\n",
       "      <td>orange</td>\n",
       "    </tr>\n",
       "    <tr>\n",
       "      <th>e</th>\n",
       "      <td>mango</td>\n",
       "    </tr>\n",
       "  </tbody>\n",
       "</table>\n",
       "</div>"
      ],
      "text/plain": [
       "   fruits\n",
       "a  orange\n",
       "b   mango\n",
       "c   apple\n",
       "d  orange\n",
       "e   mango"
      ]
     },
     "execution_count": 123,
     "metadata": {},
     "output_type": "execute_result"
    }
   ],
   "source": [
    "df.columns =['fruits']\n",
    "df.head()"
   ]
  },
  {
   "cell_type": "markdown",
   "id": "vqH05VYipnBA",
   "metadata": {
    "id": "vqH05VYipnBA"
   },
   "source": [
    "<u>Bonus optional question:</u> <br>\n",
    "What if we had to changed the index of the dataframe? <br>\n",
    "Try to add any series to the dataframe with the origianl index (when index of series is not same as to the index of dataframe)\n",
    "\n",
    "Use series as pd.Series([100,200,300,400,500,600,700]) and try to add it to df with column name Bonus_number.\n",
    "\n",
    "Bonus marks: 5 points"
   ]
  },
  {
   "cell_type": "code",
   "execution_count": 101,
   "id": "lWlw44unpnBA",
   "metadata": {
    "id": "lWlw44unpnBA"
   },
   "outputs": [
    {
     "data": {
      "text/html": [
       "<div>\n",
       "<style scoped>\n",
       "    .dataframe tbody tr th:only-of-type {\n",
       "        vertical-align: middle;\n",
       "    }\n",
       "\n",
       "    .dataframe tbody tr th {\n",
       "        vertical-align: top;\n",
       "    }\n",
       "\n",
       "    .dataframe thead th {\n",
       "        text-align: right;\n",
       "    }\n",
       "</style>\n",
       "<table border=\"1\" class=\"dataframe\">\n",
       "  <thead>\n",
       "    <tr style=\"text-align: right;\">\n",
       "      <th></th>\n",
       "      <th>Bonus_number</th>\n",
       "    </tr>\n",
       "  </thead>\n",
       "  <tbody>\n",
       "    <tr>\n",
       "      <th>a</th>\n",
       "      <td>100</td>\n",
       "    </tr>\n",
       "    <tr>\n",
       "      <th>b</th>\n",
       "      <td>200</td>\n",
       "    </tr>\n",
       "    <tr>\n",
       "      <th>c</th>\n",
       "      <td>300</td>\n",
       "    </tr>\n",
       "    <tr>\n",
       "      <th>d</th>\n",
       "      <td>400</td>\n",
       "    </tr>\n",
       "    <tr>\n",
       "      <th>e</th>\n",
       "      <td>500</td>\n",
       "    </tr>\n",
       "    <tr>\n",
       "      <th>f</th>\n",
       "      <td>600</td>\n",
       "    </tr>\n",
       "    <tr>\n",
       "      <th>g</th>\n",
       "      <td>700</td>\n",
       "    </tr>\n",
       "  </tbody>\n",
       "</table>\n",
       "</div>"
      ],
      "text/plain": [
       "   Bonus_number\n",
       "a           100\n",
       "b           200\n",
       "c           300\n",
       "d           400\n",
       "e           500\n",
       "f           600\n",
       "g           700"
      ]
     },
     "execution_count": 101,
     "metadata": {},
     "output_type": "execute_result"
    }
   ],
   "source": [
    "data=[100,200,300,400,500,600,700]\n",
    "sr=pd.Series(data,['a','b','c','d','e','f','g'])\n",
    "df=pd.DataFrame(sr)\n",
    "df.columns =['Bonus_number']\n",
    "df\n",
    "\n",
    "\n"
   ]
  },
  {
   "cell_type": "code",
   "execution_count": null,
   "id": "2db37c9a",
   "metadata": {},
   "outputs": [],
   "source": [
    "## its takes series index in datframe \n",
    "# not change when we put series in dataframe with original index"
   ]
  },
  {
   "cell_type": "markdown",
   "id": "TEKOhR4vpnBB",
   "metadata": {
    "id": "TEKOhR4vpnBB"
   },
   "source": [
    "### Part 2\n",
    "Reference:- https://www.youtube.com/watch?v=yPVQZZmheCg"
   ]
  },
  {
   "cell_type": "markdown",
   "id": "xT6YXAk4pnBB",
   "metadata": {
    "id": "xT6YXAk4pnBB"
   },
   "source": [
    "Create a dataframe  d1 where the columns are  ‘city’ : [‘Chandigarh’, ‘Delhi’, ‘Kanpur’, ‘Chennai’, ‘Manali’ ] and ‘Temperature’ : [15, 22, 20, 26,-2] "
   ]
  },
  {
   "cell_type": "markdown",
   "id": "Ff_cZoebpnBB",
   "metadata": {
    "id": "Ff_cZoebpnBB"
   },
   "source": [
    "<p style='text-align: right;'> 2*5=10 points</p>\n"
   ]
  },
  {
   "cell_type": "code",
   "execution_count": 32,
   "id": "vam50C35pnBB",
   "metadata": {
    "id": "vam50C35pnBB"
   },
   "outputs": [],
   "source": [
    "d1=pd.DataFrame({\"city\":['Chandigarh','Delhi','Kanpur','Channai','Manali'],\n",
    "                'Temprature':[15,22,20,26,-2]})"
   ]
  },
  {
   "cell_type": "markdown",
   "id": "Cb69s015pnBB",
   "metadata": {
    "id": "Cb69s015pnBB"
   },
   "source": [
    "Print d1"
   ]
  },
  {
   "cell_type": "code",
   "execution_count": 33,
   "id": "R7kDZ9aApnBB",
   "metadata": {
    "id": "R7kDZ9aApnBB",
    "outputId": "c1fbc0a7-02b5-4f39-fd1f-795da3f2d81f"
   },
   "outputs": [
    {
     "name": "stdout",
     "output_type": "stream",
     "text": [
      "         city  Temprature\n",
      "0  Chandigarh          15\n",
      "1       Delhi          22\n",
      "2      Kanpur          20\n",
      "3     Channai          26\n",
      "4      Manali          -2\n"
     ]
    }
   ],
   "source": [
    "print(d1)"
   ]
  },
  {
   "cell_type": "markdown",
   "id": "dfvRzSUZpnBC",
   "metadata": {
    "id": "dfvRzSUZpnBC"
   },
   "source": [
    "What is the shape of d1."
   ]
  },
  {
   "cell_type": "code",
   "execution_count": 34,
   "id": "zWIs8bFWpnBC",
   "metadata": {
    "id": "zWIs8bFWpnBC",
    "outputId": "877f8faa-645b-4253-e96c-b00072b366e0"
   },
   "outputs": [
    {
     "data": {
      "text/plain": [
       "(5, 2)"
      ]
     },
     "execution_count": 34,
     "metadata": {},
     "output_type": "execute_result"
    }
   ],
   "source": [
    "d1.shape"
   ]
  },
  {
   "cell_type": "markdown",
   "id": "b4DNI7ZWpnBC",
   "metadata": {
    "id": "b4DNI7ZWpnBC"
   },
   "source": [
    "Set city = d1['city']"
   ]
  },
  {
   "cell_type": "code",
   "execution_count": 35,
   "id": "VkHxU70DpnBC",
   "metadata": {
    "id": "VkHxU70DpnBC"
   },
   "outputs": [],
   "source": [
    "Set_city =d1['city']"
   ]
  },
  {
   "cell_type": "markdown",
   "id": "z70NQ0sqpnBC",
   "metadata": {
    "id": "z70NQ0sqpnBC"
   },
   "source": [
    "print city <br>\n",
    "What is the type of city."
   ]
  },
  {
   "cell_type": "code",
   "execution_count": 36,
   "id": "gHQGr8idpnBC",
   "metadata": {
    "id": "gHQGr8idpnBC",
    "outputId": "fde8f6ec-71e1-4729-c689-fa4fcfd641bf"
   },
   "outputs": [
    {
     "name": "stdout",
     "output_type": "stream",
     "text": [
      "0    Chandigarh\n",
      "1         Delhi\n",
      "2        Kanpur\n",
      "3       Channai\n",
      "4        Manali\n",
      "Name: city, dtype: object\n",
      "<class 'pandas.core.series.Series'>\n"
     ]
    }
   ],
   "source": [
    "print(Set_city)\n",
    "print(type(Set_city))"
   ]
  },
  {
   "cell_type": "markdown",
   "id": "e4YXwL-7pnBC",
   "metadata": {
    "id": "e4YXwL-7pnBC"
   },
   "source": [
    "Create another dataframe d2 where the columns are <br>\n",
    "'city' - ['Bengalaru','Coimbatore','Srirangam','Pondicherry'] <br>\n",
    "'Temperature' - [24,35,36,39]"
   ]
  },
  {
   "cell_type": "markdown",
   "id": "-JgI1y4npnBD",
   "metadata": {
    "id": "-JgI1y4npnBD"
   },
   "source": [
    "<p style='text-align: right;'> 3+2+5 = 10 points</p>\n"
   ]
  },
  {
   "cell_type": "code",
   "execution_count": 37,
   "id": "0tViwPyqpnBD",
   "metadata": {
    "id": "0tViwPyqpnBD",
    "outputId": "c4025268-f57a-43ef-8284-7ae8e2211bc8"
   },
   "outputs": [
    {
     "data": {
      "text/html": [
       "<div>\n",
       "<style scoped>\n",
       "    .dataframe tbody tr th:only-of-type {\n",
       "        vertical-align: middle;\n",
       "    }\n",
       "\n",
       "    .dataframe tbody tr th {\n",
       "        vertical-align: top;\n",
       "    }\n",
       "\n",
       "    .dataframe thead th {\n",
       "        text-align: right;\n",
       "    }\n",
       "</style>\n",
       "<table border=\"1\" class=\"dataframe\">\n",
       "  <thead>\n",
       "    <tr style=\"text-align: right;\">\n",
       "      <th></th>\n",
       "      <th>city</th>\n",
       "      <th>Temprature</th>\n",
       "    </tr>\n",
       "  </thead>\n",
       "  <tbody>\n",
       "    <tr>\n",
       "      <th>0</th>\n",
       "      <td>Banglaru</td>\n",
       "      <td>24</td>\n",
       "    </tr>\n",
       "    <tr>\n",
       "      <th>1</th>\n",
       "      <td>Coimbatore</td>\n",
       "      <td>35</td>\n",
       "    </tr>\n",
       "    <tr>\n",
       "      <th>2</th>\n",
       "      <td>Srirangam</td>\n",
       "      <td>36</td>\n",
       "    </tr>\n",
       "    <tr>\n",
       "      <th>3</th>\n",
       "      <td>Pondicherry</td>\n",
       "      <td>39</td>\n",
       "    </tr>\n",
       "  </tbody>\n",
       "</table>\n",
       "</div>"
      ],
      "text/plain": [
       "          city  Temprature\n",
       "0     Banglaru          24\n",
       "1   Coimbatore          35\n",
       "2    Srirangam          36\n",
       "3  Pondicherry          39"
      ]
     },
     "execution_count": 37,
     "metadata": {},
     "output_type": "execute_result"
    }
   ],
   "source": [
    "d2=pd.DataFrame({'city':['Banglaru','Coimbatore','Srirangam','Pondicherry'],\n",
    "                'Temprature':[24,35,36,39]})\n",
    "d2"
   ]
  },
  {
   "cell_type": "markdown",
   "id": "mR7Un5cZpnBD",
   "metadata": {
    "id": "mR7Un5cZpnBD"
   },
   "source": [
    "print the shape of this dataframe"
   ]
  },
  {
   "cell_type": "code",
   "execution_count": 38,
   "id": "a1bdWnEupnBD",
   "metadata": {
    "id": "a1bdWnEupnBD",
    "outputId": "3d3f2ad7-8444-441b-ade1-48314ebb73c8"
   },
   "outputs": [
    {
     "data": {
      "text/plain": [
       "(4, 2)"
      ]
     },
     "execution_count": 38,
     "metadata": {},
     "output_type": "execute_result"
    }
   ],
   "source": [
    "d2.shape"
   ]
  },
  {
   "cell_type": "markdown",
   "id": "kBHfs1irpnBD",
   "metadata": {
    "id": "kBHfs1irpnBD"
   },
   "source": [
    "merge the two dataframes together, save it in a new dataframe named 'd3'\n"
   ]
  },
  {
   "cell_type": "code",
   "execution_count": 39,
   "id": "N7ITCWHcpnBD",
   "metadata": {
    "id": "N7ITCWHcpnBD",
    "outputId": "c2251fc6-8cb4-4b98-b1b0-f7d3b5da2c22"
   },
   "outputs": [
    {
     "data": {
      "text/html": [
       "<div>\n",
       "<style scoped>\n",
       "    .dataframe tbody tr th:only-of-type {\n",
       "        vertical-align: middle;\n",
       "    }\n",
       "\n",
       "    .dataframe tbody tr th {\n",
       "        vertical-align: top;\n",
       "    }\n",
       "\n",
       "    .dataframe thead th {\n",
       "        text-align: right;\n",
       "    }\n",
       "</style>\n",
       "<table border=\"1\" class=\"dataframe\">\n",
       "  <thead>\n",
       "    <tr style=\"text-align: right;\">\n",
       "      <th></th>\n",
       "      <th>city</th>\n",
       "      <th>Temprature</th>\n",
       "    </tr>\n",
       "  </thead>\n",
       "  <tbody>\n",
       "    <tr>\n",
       "      <th>0</th>\n",
       "      <td>Chandigarh</td>\n",
       "      <td>15</td>\n",
       "    </tr>\n",
       "    <tr>\n",
       "      <th>1</th>\n",
       "      <td>Delhi</td>\n",
       "      <td>22</td>\n",
       "    </tr>\n",
       "    <tr>\n",
       "      <th>2</th>\n",
       "      <td>Kanpur</td>\n",
       "      <td>20</td>\n",
       "    </tr>\n",
       "    <tr>\n",
       "      <th>3</th>\n",
       "      <td>Channai</td>\n",
       "      <td>26</td>\n",
       "    </tr>\n",
       "    <tr>\n",
       "      <th>4</th>\n",
       "      <td>Manali</td>\n",
       "      <td>-2</td>\n",
       "    </tr>\n",
       "    <tr>\n",
       "      <th>0</th>\n",
       "      <td>Banglaru</td>\n",
       "      <td>24</td>\n",
       "    </tr>\n",
       "    <tr>\n",
       "      <th>1</th>\n",
       "      <td>Coimbatore</td>\n",
       "      <td>35</td>\n",
       "    </tr>\n",
       "    <tr>\n",
       "      <th>2</th>\n",
       "      <td>Srirangam</td>\n",
       "      <td>36</td>\n",
       "    </tr>\n",
       "    <tr>\n",
       "      <th>3</th>\n",
       "      <td>Pondicherry</td>\n",
       "      <td>39</td>\n",
       "    </tr>\n",
       "  </tbody>\n",
       "</table>\n",
       "</div>"
      ],
      "text/plain": [
       "          city  Temprature\n",
       "0   Chandigarh          15\n",
       "1        Delhi          22\n",
       "2       Kanpur          20\n",
       "3      Channai          26\n",
       "4       Manali          -2\n",
       "0     Banglaru          24\n",
       "1   Coimbatore          35\n",
       "2    Srirangam          36\n",
       "3  Pondicherry          39"
      ]
     },
     "execution_count": 39,
     "metadata": {},
     "output_type": "execute_result"
    }
   ],
   "source": [
    "\n",
    "d3 = pd.concat([d1,d2])\n",
    "d3"
   ]
  },
  {
   "cell_type": "markdown",
   "id": "-q9QJx-gpnBE",
   "metadata": {
    "id": "-q9QJx-gpnBE"
   },
   "source": [
    "# fun fact at high level\n",
    "\n",
    "1. .concat() simply stacks multiple DataFrame together either vertically, or stitches horizontally after aligning on index\n",
    "2. .merge() first aligns two DataFrame' selected common column(s) or index, and then pick up the remaining columns from the aligned rows of each DataFrame\n",
    "\n",
    "Do you know about join function? This interesting quest we give to you to find. "
   ]
  },
  {
   "cell_type": "markdown",
   "id": "eVrp98pXpnBE",
   "metadata": {
    "id": "eVrp98pXpnBE"
   },
   "source": [
    "Select the part of the dataframe such that it contains cities where temp is less then or equal to 20 <br>\n",
    "How many cities are there? "
   ]
  },
  {
   "cell_type": "markdown",
   "id": "oezwwxZHpnBE",
   "metadata": {
    "id": "oezwwxZHpnBE"
   },
   "source": [
    "<p style='text-align: right;'> 5+5=10 points</p>\n"
   ]
  },
  {
   "cell_type": "code",
   "execution_count": 40,
   "id": "UPqCHYAVpnBE",
   "metadata": {
    "id": "UPqCHYAVpnBE",
    "outputId": "0adeab0d-e2b6-4dbe-ca40-dfe6ca36a344"
   },
   "outputs": [
    {
     "data": {
      "text/html": [
       "<div>\n",
       "<style scoped>\n",
       "    .dataframe tbody tr th:only-of-type {\n",
       "        vertical-align: middle;\n",
       "    }\n",
       "\n",
       "    .dataframe tbody tr th {\n",
       "        vertical-align: top;\n",
       "    }\n",
       "\n",
       "    .dataframe thead th {\n",
       "        text-align: right;\n",
       "    }\n",
       "</style>\n",
       "<table border=\"1\" class=\"dataframe\">\n",
       "  <thead>\n",
       "    <tr style=\"text-align: right;\">\n",
       "      <th></th>\n",
       "      <th>city</th>\n",
       "      <th>Temprature</th>\n",
       "    </tr>\n",
       "  </thead>\n",
       "  <tbody>\n",
       "    <tr>\n",
       "      <th>0</th>\n",
       "      <td>Chandigarh</td>\n",
       "      <td>15</td>\n",
       "    </tr>\n",
       "    <tr>\n",
       "      <th>2</th>\n",
       "      <td>Kanpur</td>\n",
       "      <td>20</td>\n",
       "    </tr>\n",
       "    <tr>\n",
       "      <th>4</th>\n",
       "      <td>Manali</td>\n",
       "      <td>-2</td>\n",
       "    </tr>\n",
       "  </tbody>\n",
       "</table>\n",
       "</div>"
      ],
      "text/plain": [
       "         city  Temprature\n",
       "0  Chandigarh          15\n",
       "2      Kanpur          20\n",
       "4      Manali          -2"
      ]
     },
     "execution_count": 40,
     "metadata": {},
     "output_type": "execute_result"
    }
   ],
   "source": [
    "d3[d3[\"Temprature\"] <= 20]"
   ]
  },
  {
   "cell_type": "markdown",
   "id": "FrrNtRF4pnBE",
   "metadata": {
    "id": "FrrNtRF4pnBE"
   },
   "source": [
    "Select the part of the dataframe such that it contains the cities where tempearature greater than or equal to 35"
   ]
  },
  {
   "cell_type": "code",
   "execution_count": 41,
   "id": "P4MDr6G1pnBE",
   "metadata": {
    "id": "P4MDr6G1pnBE",
    "outputId": "0759011b-253a-4651-98ff-049e268db3bf"
   },
   "outputs": [
    {
     "data": {
      "text/html": [
       "<div>\n",
       "<style scoped>\n",
       "    .dataframe tbody tr th:only-of-type {\n",
       "        vertical-align: middle;\n",
       "    }\n",
       "\n",
       "    .dataframe tbody tr th {\n",
       "        vertical-align: top;\n",
       "    }\n",
       "\n",
       "    .dataframe thead th {\n",
       "        text-align: right;\n",
       "    }\n",
       "</style>\n",
       "<table border=\"1\" class=\"dataframe\">\n",
       "  <thead>\n",
       "    <tr style=\"text-align: right;\">\n",
       "      <th></th>\n",
       "      <th>city</th>\n",
       "      <th>Temprature</th>\n",
       "    </tr>\n",
       "  </thead>\n",
       "  <tbody>\n",
       "    <tr>\n",
       "      <th>1</th>\n",
       "      <td>Coimbatore</td>\n",
       "      <td>35</td>\n",
       "    </tr>\n",
       "    <tr>\n",
       "      <th>2</th>\n",
       "      <td>Srirangam</td>\n",
       "      <td>36</td>\n",
       "    </tr>\n",
       "    <tr>\n",
       "      <th>3</th>\n",
       "      <td>Pondicherry</td>\n",
       "      <td>39</td>\n",
       "    </tr>\n",
       "  </tbody>\n",
       "</table>\n",
       "</div>"
      ],
      "text/plain": [
       "          city  Temprature\n",
       "1   Coimbatore          35\n",
       "2    Srirangam          36\n",
       "3  Pondicherry          39"
      ]
     },
     "execution_count": 41,
     "metadata": {},
     "output_type": "execute_result"
    }
   ],
   "source": [
    "d3[d3['Temprature'] >= 35 ]"
   ]
  },
  {
   "cell_type": "markdown",
   "id": "WRrm5QsZpnBF",
   "metadata": {
    "id": "WRrm5QsZpnBF"
   },
   "source": [
    "## 3. Applying functions to columns and creating new columns\n",
    "\n",
    "Reference: https://youtu.be/MxSHDIxm6JA"
   ]
  },
  {
   "cell_type": "markdown",
   "id": "7Dnhq4zDpnBF",
   "metadata": {
    "id": "7Dnhq4zDpnBF"
   },
   "source": [
    "<p style='text-align: right;'> 20 points</p>\n"
   ]
  },
  {
   "cell_type": "markdown",
   "id": "e_V0e7q5pnBF",
   "metadata": {
    "id": "e_V0e7q5pnBF"
   },
   "source": [
    "We need to create another column in d3, which contains  a boolean value for each city to indicate whether it's a union territory or not. \n",
    "- HINT: Chandigarh, Pondicherry and Delhi are only 3 union territories here. \n"
   ]
  },
  {
   "cell_type": "code",
   "execution_count": 42,
   "id": "_sdxbCzIpnBF",
   "metadata": {
    "id": "_sdxbCzIpnBF"
   },
   "outputs": [],
   "source": [
    "# write function here\n",
    "d3[\"is_ut\"] = (d3['city'] =='Chandigarh') | (d3['city'] =='Delhi') |(d3['city'] =='Pondicherry')"
   ]
  },
  {
   "cell_type": "code",
   "execution_count": 43,
   "id": "QEgoCx-YpnBF",
   "metadata": {
    "id": "QEgoCx-YpnBF",
    "outputId": "405e7792-b79f-40d6-8d96-779a960393ea"
   },
   "outputs": [
    {
     "data": {
      "text/html": [
       "<div>\n",
       "<style scoped>\n",
       "    .dataframe tbody tr th:only-of-type {\n",
       "        vertical-align: middle;\n",
       "    }\n",
       "\n",
       "    .dataframe tbody tr th {\n",
       "        vertical-align: top;\n",
       "    }\n",
       "\n",
       "    .dataframe thead th {\n",
       "        text-align: right;\n",
       "    }\n",
       "</style>\n",
       "<table border=\"1\" class=\"dataframe\">\n",
       "  <thead>\n",
       "    <tr style=\"text-align: right;\">\n",
       "      <th></th>\n",
       "      <th>city</th>\n",
       "      <th>Temprature</th>\n",
       "      <th>is_ut</th>\n",
       "    </tr>\n",
       "  </thead>\n",
       "  <tbody>\n",
       "    <tr>\n",
       "      <th>0</th>\n",
       "      <td>Chandigarh</td>\n",
       "      <td>15</td>\n",
       "      <td>True</td>\n",
       "    </tr>\n",
       "    <tr>\n",
       "      <th>1</th>\n",
       "      <td>Delhi</td>\n",
       "      <td>22</td>\n",
       "      <td>True</td>\n",
       "    </tr>\n",
       "    <tr>\n",
       "      <th>2</th>\n",
       "      <td>Kanpur</td>\n",
       "      <td>20</td>\n",
       "      <td>False</td>\n",
       "    </tr>\n",
       "    <tr>\n",
       "      <th>3</th>\n",
       "      <td>Channai</td>\n",
       "      <td>26</td>\n",
       "      <td>False</td>\n",
       "    </tr>\n",
       "    <tr>\n",
       "      <th>4</th>\n",
       "      <td>Manali</td>\n",
       "      <td>-2</td>\n",
       "      <td>False</td>\n",
       "    </tr>\n",
       "    <tr>\n",
       "      <th>0</th>\n",
       "      <td>Banglaru</td>\n",
       "      <td>24</td>\n",
       "      <td>False</td>\n",
       "    </tr>\n",
       "    <tr>\n",
       "      <th>1</th>\n",
       "      <td>Coimbatore</td>\n",
       "      <td>35</td>\n",
       "      <td>False</td>\n",
       "    </tr>\n",
       "    <tr>\n",
       "      <th>2</th>\n",
       "      <td>Srirangam</td>\n",
       "      <td>36</td>\n",
       "      <td>False</td>\n",
       "    </tr>\n",
       "    <tr>\n",
       "      <th>3</th>\n",
       "      <td>Pondicherry</td>\n",
       "      <td>39</td>\n",
       "      <td>True</td>\n",
       "    </tr>\n",
       "  </tbody>\n",
       "</table>\n",
       "</div>"
      ],
      "text/plain": [
       "          city  Temprature  is_ut\n",
       "0   Chandigarh          15   True\n",
       "1        Delhi          22   True\n",
       "2       Kanpur          20  False\n",
       "3      Channai          26  False\n",
       "4       Manali          -2  False\n",
       "0     Banglaru          24  False\n",
       "1   Coimbatore          35  False\n",
       "2    Srirangam          36  False\n",
       "3  Pondicherry          39   True"
      ]
     },
     "execution_count": 43,
     "metadata": {},
     "output_type": "execute_result"
    }
   ],
   "source": [
    "#print d3\n",
    "d3"
   ]
  },
  {
   "cell_type": "markdown",
   "id": "DSoVJ0ZepnBF",
   "metadata": {
    "id": "DSoVJ0ZepnBF"
   },
   "source": [
    "The temperatures mentioned in ‘Temperature’ column are mentioned in Celsius, we need another column which contains the same in Fahrenheit. "
   ]
  },
  {
   "cell_type": "markdown",
   "id": "t6zKKXf6pnBG",
   "metadata": {
    "id": "t6zKKXf6pnBG"
   },
   "source": [
    "HINT - \n",
    "- Define a function c_to_f which takes input temp in celsius and returns a value with temperature in Fahrenheit.\n",
    "- To check: c_to_f(10) should return 50. \n"
   ]
  },
  {
   "cell_type": "code",
   "execution_count": 54,
   "id": "1CE1XdE9pnBG",
   "metadata": {
    "id": "1CE1XdE9pnBG"
   },
   "outputs": [],
   "source": [
    "# write function here\n",
    "def c_to_f(x) :\n",
    "    return (x * 1.8) + 32\n",
    "\n"
   ]
  },
  {
   "cell_type": "code",
   "execution_count": 55,
   "id": "s7lthJXXpnBH",
   "metadata": {
    "id": "s7lthJXXpnBH",
    "outputId": "7aeaacdd-8b21-4768-963b-b14487958a7c"
   },
   "outputs": [
    {
     "data": {
      "text/plain": [
       "50.0"
      ]
     },
     "execution_count": 55,
     "metadata": {},
     "output_type": "execute_result"
    }
   ],
   "source": [
    "# check  function c_to_f(10)\n",
    "c_to_f(10)\n"
   ]
  },
  {
   "cell_type": "code",
   "execution_count": 59,
   "id": "sfcwI6-3pnBH",
   "metadata": {
    "id": "sfcwI6-3pnBH",
    "outputId": "5121a626-7e1d-43f6-acd4-f8306e9885d8"
   },
   "outputs": [
    {
     "data": {
      "text/html": [
       "<div>\n",
       "<style scoped>\n",
       "    .dataframe tbody tr th:only-of-type {\n",
       "        vertical-align: middle;\n",
       "    }\n",
       "\n",
       "    .dataframe tbody tr th {\n",
       "        vertical-align: top;\n",
       "    }\n",
       "\n",
       "    .dataframe thead th {\n",
       "        text-align: right;\n",
       "    }\n",
       "</style>\n",
       "<table border=\"1\" class=\"dataframe\">\n",
       "  <thead>\n",
       "    <tr style=\"text-align: right;\">\n",
       "      <th></th>\n",
       "      <th>city</th>\n",
       "      <th>Temprature</th>\n",
       "      <th>is_ut</th>\n",
       "      <th>temp_farenhiet</th>\n",
       "    </tr>\n",
       "  </thead>\n",
       "  <tbody>\n",
       "    <tr>\n",
       "      <th>0</th>\n",
       "      <td>Chandigarh</td>\n",
       "      <td>15</td>\n",
       "      <td>True</td>\n",
       "      <td>59.0</td>\n",
       "    </tr>\n",
       "    <tr>\n",
       "      <th>1</th>\n",
       "      <td>Delhi</td>\n",
       "      <td>22</td>\n",
       "      <td>True</td>\n",
       "      <td>71.6</td>\n",
       "    </tr>\n",
       "    <tr>\n",
       "      <th>2</th>\n",
       "      <td>Kanpur</td>\n",
       "      <td>20</td>\n",
       "      <td>False</td>\n",
       "      <td>68.0</td>\n",
       "    </tr>\n",
       "    <tr>\n",
       "      <th>3</th>\n",
       "      <td>Channai</td>\n",
       "      <td>26</td>\n",
       "      <td>False</td>\n",
       "      <td>78.8</td>\n",
       "    </tr>\n",
       "    <tr>\n",
       "      <th>4</th>\n",
       "      <td>Manali</td>\n",
       "      <td>-2</td>\n",
       "      <td>False</td>\n",
       "      <td>28.4</td>\n",
       "    </tr>\n",
       "    <tr>\n",
       "      <th>0</th>\n",
       "      <td>Banglaru</td>\n",
       "      <td>24</td>\n",
       "      <td>False</td>\n",
       "      <td>75.2</td>\n",
       "    </tr>\n",
       "    <tr>\n",
       "      <th>1</th>\n",
       "      <td>Coimbatore</td>\n",
       "      <td>35</td>\n",
       "      <td>False</td>\n",
       "      <td>95.0</td>\n",
       "    </tr>\n",
       "    <tr>\n",
       "      <th>2</th>\n",
       "      <td>Srirangam</td>\n",
       "      <td>36</td>\n",
       "      <td>False</td>\n",
       "      <td>96.8</td>\n",
       "    </tr>\n",
       "    <tr>\n",
       "      <th>3</th>\n",
       "      <td>Pondicherry</td>\n",
       "      <td>39</td>\n",
       "      <td>True</td>\n",
       "      <td>102.2</td>\n",
       "    </tr>\n",
       "  </tbody>\n",
       "</table>\n",
       "</div>"
      ],
      "text/plain": [
       "          city  Temprature  is_ut  temp_farenhiet\n",
       "0   Chandigarh          15   True            59.0\n",
       "1        Delhi          22   True            71.6\n",
       "2       Kanpur          20  False            68.0\n",
       "3      Channai          26  False            78.8\n",
       "4       Manali          -2  False            28.4\n",
       "0     Banglaru          24  False            75.2\n",
       "1   Coimbatore          35  False            95.0\n",
       "2    Srirangam          36  False            96.8\n",
       "3  Pondicherry          39   True           102.2"
      ]
     },
     "execution_count": 59,
     "metadata": {},
     "output_type": "execute_result"
    }
   ],
   "source": [
    "# apply function c_to_f to d3 to create a column 'temp_farenhiet'\n",
    "\n",
    "d3['temp_farenhiet'] = d3['Temprature'].apply([c_to_f])\n",
    "d3"
   ]
  },
  {
   "cell_type": "markdown",
   "id": "Q1lu2B5ppnBH",
   "metadata": {
    "id": "Q1lu2B5ppnBH"
   },
   "source": [
    "## 4. Indexing and selecting rows in DataFrame\n",
    "\n",
    "Reference:-https://youtu.be/TB0pXxTyH6g"
   ]
  },
  {
   "cell_type": "markdown",
   "id": "aquV_Z1DpnBH",
   "metadata": {
    "id": "aquV_Z1DpnBH"
   },
   "source": [
    "<p style='text-align: right;'> 20 points</p>\n"
   ]
  },
  {
   "cell_type": "markdown",
   "id": "O4YPEi7NpnBI",
   "metadata": {
    "id": "O4YPEi7NpnBI"
   },
   "source": [
    "Select subset of the dataframe d1 such that it contains the cities which are union territories."
   ]
  },
  {
   "cell_type": "code",
   "execution_count": 79,
   "id": "vsEOZdeMpnBI",
   "metadata": {
    "id": "vsEOZdeMpnBI",
    "outputId": "46c3b148-bd5b-4a81-abce-cba08e68fec7"
   },
   "outputs": [
    {
     "data": {
      "text/html": [
       "<div>\n",
       "<style scoped>\n",
       "    .dataframe tbody tr th:only-of-type {\n",
       "        vertical-align: middle;\n",
       "    }\n",
       "\n",
       "    .dataframe tbody tr th {\n",
       "        vertical-align: top;\n",
       "    }\n",
       "\n",
       "    .dataframe thead th {\n",
       "        text-align: right;\n",
       "    }\n",
       "</style>\n",
       "<table border=\"1\" class=\"dataframe\">\n",
       "  <thead>\n",
       "    <tr style=\"text-align: right;\">\n",
       "      <th></th>\n",
       "      <th>city</th>\n",
       "      <th>Temprature</th>\n",
       "      <th>is_ut</th>\n",
       "      <th>temp_farenhiet</th>\n",
       "    </tr>\n",
       "  </thead>\n",
       "  <tbody>\n",
       "    <tr>\n",
       "      <th>a</th>\n",
       "      <td>Chandigarh</td>\n",
       "      <td>15</td>\n",
       "      <td>True</td>\n",
       "      <td>59.0</td>\n",
       "    </tr>\n",
       "    <tr>\n",
       "      <th>b</th>\n",
       "      <td>Delhi</td>\n",
       "      <td>22</td>\n",
       "      <td>True</td>\n",
       "      <td>71.6</td>\n",
       "    </tr>\n",
       "    <tr>\n",
       "      <th>h</th>\n",
       "      <td>Pondicherry</td>\n",
       "      <td>39</td>\n",
       "      <td>True</td>\n",
       "      <td>102.2</td>\n",
       "    </tr>\n",
       "  </tbody>\n",
       "</table>\n",
       "</div>"
      ],
      "text/plain": [
       "          city  Temprature  is_ut  temp_farenhiet\n",
       "a   Chandigarh          15   True            59.0\n",
       "b        Delhi          22   True            71.6\n",
       "h  Pondicherry          39   True           102.2"
      ]
     },
     "execution_count": 79,
     "metadata": {},
     "output_type": "execute_result"
    }
   ],
   "source": [
    "\n",
    "d3.index = ['a','b','c','d','e','f','g','e','h']\n",
    "d3.loc[['a','b','h']]"
   ]
  },
  {
   "cell_type": "markdown",
   "id": "LhGRYaV9pnBI",
   "metadata": {
    "id": "LhGRYaV9pnBI"
   },
   "source": [
    "Select a subset of the dataframe d1 such that it contains the cities which only have temperature above 90 Farenhiet."
   ]
  },
  {
   "cell_type": "code",
   "execution_count": 83,
   "id": "I6H60l4RpnBI",
   "metadata": {
    "id": "I6H60l4RpnBI",
    "outputId": "12c38361-8830-4ebb-82df-d8ac84f6a549"
   },
   "outputs": [
    {
     "data": {
      "text/html": [
       "<div>\n",
       "<style scoped>\n",
       "    .dataframe tbody tr th:only-of-type {\n",
       "        vertical-align: middle;\n",
       "    }\n",
       "\n",
       "    .dataframe tbody tr th {\n",
       "        vertical-align: top;\n",
       "    }\n",
       "\n",
       "    .dataframe thead th {\n",
       "        text-align: right;\n",
       "    }\n",
       "</style>\n",
       "<table border=\"1\" class=\"dataframe\">\n",
       "  <thead>\n",
       "    <tr style=\"text-align: right;\">\n",
       "      <th></th>\n",
       "      <th>city</th>\n",
       "      <th>Temprature</th>\n",
       "      <th>is_ut</th>\n",
       "      <th>temp_farenhiet</th>\n",
       "    </tr>\n",
       "  </thead>\n",
       "  <tbody>\n",
       "    <tr>\n",
       "      <th>g</th>\n",
       "      <td>Coimbatore</td>\n",
       "      <td>35</td>\n",
       "      <td>False</td>\n",
       "      <td>95.0</td>\n",
       "    </tr>\n",
       "    <tr>\n",
       "      <th>e</th>\n",
       "      <td>Srirangam</td>\n",
       "      <td>36</td>\n",
       "      <td>False</td>\n",
       "      <td>96.8</td>\n",
       "    </tr>\n",
       "    <tr>\n",
       "      <th>h</th>\n",
       "      <td>Pondicherry</td>\n",
       "      <td>39</td>\n",
       "      <td>True</td>\n",
       "      <td>102.2</td>\n",
       "    </tr>\n",
       "  </tbody>\n",
       "</table>\n",
       "</div>"
      ],
      "text/plain": [
       "          city  Temprature  is_ut  temp_farenhiet\n",
       "g   Coimbatore          35  False            95.0\n",
       "e    Srirangam          36  False            96.8\n",
       "h  Pondicherry          39   True           102.2"
      ]
     },
     "execution_count": 83,
     "metadata": {},
     "output_type": "execute_result"
    }
   ],
   "source": [
    "d3[d3['temp_farenhiet'] >90]"
   ]
  },
  {
   "cell_type": "markdown",
   "id": "XW1avDwHpnBI",
   "metadata": {
    "id": "XW1avDwHpnBI"
   },
   "source": [
    "Select only the first three rows of the dataframe d1. \n"
   ]
  },
  {
   "cell_type": "code",
   "execution_count": 86,
   "id": "oG5Ry1WmpnBI",
   "metadata": {
    "id": "oG5Ry1WmpnBI",
    "outputId": "b623cab0-af4a-4522-c546-685595db5f52"
   },
   "outputs": [
    {
     "data": {
      "text/html": [
       "<div>\n",
       "<style scoped>\n",
       "    .dataframe tbody tr th:only-of-type {\n",
       "        vertical-align: middle;\n",
       "    }\n",
       "\n",
       "    .dataframe tbody tr th {\n",
       "        vertical-align: top;\n",
       "    }\n",
       "\n",
       "    .dataframe thead th {\n",
       "        text-align: right;\n",
       "    }\n",
       "</style>\n",
       "<table border=\"1\" class=\"dataframe\">\n",
       "  <thead>\n",
       "    <tr style=\"text-align: right;\">\n",
       "      <th></th>\n",
       "      <th>city</th>\n",
       "      <th>Temprature</th>\n",
       "    </tr>\n",
       "  </thead>\n",
       "  <tbody>\n",
       "    <tr>\n",
       "      <th>0</th>\n",
       "      <td>Chandigarh</td>\n",
       "      <td>15</td>\n",
       "    </tr>\n",
       "    <tr>\n",
       "      <th>1</th>\n",
       "      <td>Delhi</td>\n",
       "      <td>22</td>\n",
       "    </tr>\n",
       "    <tr>\n",
       "      <th>2</th>\n",
       "      <td>Kanpur</td>\n",
       "      <td>20</td>\n",
       "    </tr>\n",
       "  </tbody>\n",
       "</table>\n",
       "</div>"
      ],
      "text/plain": [
       "         city  Temprature\n",
       "0  Chandigarh          15\n",
       "1       Delhi          22\n",
       "2      Kanpur          20"
      ]
     },
     "execution_count": 86,
     "metadata": {},
     "output_type": "execute_result"
    }
   ],
   "source": [
    "d1.iloc[:3]"
   ]
  },
  {
   "cell_type": "markdown",
   "id": "yFkVfwYbpnBJ",
   "metadata": {
    "id": "yFkVfwYbpnBJ"
   },
   "source": [
    "Select all the rows and last two columns in the dataframe.\n",
    "\n",
    "\n"
   ]
  },
  {
   "cell_type": "code",
   "execution_count": 90,
   "id": "3yIf5WNxpnBJ",
   "metadata": {
    "id": "3yIf5WNxpnBJ",
    "outputId": "158b4202-bbb3-468d-a61f-8cd537b88935"
   },
   "outputs": [
    {
     "data": {
      "text/html": [
       "<div>\n",
       "<style scoped>\n",
       "    .dataframe tbody tr th:only-of-type {\n",
       "        vertical-align: middle;\n",
       "    }\n",
       "\n",
       "    .dataframe tbody tr th {\n",
       "        vertical-align: top;\n",
       "    }\n",
       "\n",
       "    .dataframe thead th {\n",
       "        text-align: right;\n",
       "    }\n",
       "</style>\n",
       "<table border=\"1\" class=\"dataframe\">\n",
       "  <thead>\n",
       "    <tr style=\"text-align: right;\">\n",
       "      <th></th>\n",
       "      <th>is_ut</th>\n",
       "      <th>temp_farenhiet</th>\n",
       "    </tr>\n",
       "  </thead>\n",
       "  <tbody>\n",
       "    <tr>\n",
       "      <th>a</th>\n",
       "      <td>True</td>\n",
       "      <td>59.0</td>\n",
       "    </tr>\n",
       "    <tr>\n",
       "      <th>b</th>\n",
       "      <td>True</td>\n",
       "      <td>71.6</td>\n",
       "    </tr>\n",
       "    <tr>\n",
       "      <th>c</th>\n",
       "      <td>False</td>\n",
       "      <td>68.0</td>\n",
       "    </tr>\n",
       "    <tr>\n",
       "      <th>d</th>\n",
       "      <td>False</td>\n",
       "      <td>78.8</td>\n",
       "    </tr>\n",
       "    <tr>\n",
       "      <th>e</th>\n",
       "      <td>False</td>\n",
       "      <td>28.4</td>\n",
       "    </tr>\n",
       "    <tr>\n",
       "      <th>f</th>\n",
       "      <td>False</td>\n",
       "      <td>75.2</td>\n",
       "    </tr>\n",
       "    <tr>\n",
       "      <th>g</th>\n",
       "      <td>False</td>\n",
       "      <td>95.0</td>\n",
       "    </tr>\n",
       "    <tr>\n",
       "      <th>e</th>\n",
       "      <td>False</td>\n",
       "      <td>96.8</td>\n",
       "    </tr>\n",
       "    <tr>\n",
       "      <th>h</th>\n",
       "      <td>True</td>\n",
       "      <td>102.2</td>\n",
       "    </tr>\n",
       "  </tbody>\n",
       "</table>\n",
       "</div>"
      ],
      "text/plain": [
       "   is_ut  temp_farenhiet\n",
       "a   True            59.0\n",
       "b   True            71.6\n",
       "c  False            68.0\n",
       "d  False            78.8\n",
       "e  False            28.4\n",
       "f  False            75.2\n",
       "g  False            95.0\n",
       "e  False            96.8\n",
       "h   True           102.2"
      ]
     },
     "execution_count": 90,
     "metadata": {},
     "output_type": "execute_result"
    }
   ],
   "source": [
    "d3.iloc[:,2:]"
   ]
  },
  {
   "cell_type": "markdown",
   "id": "fbZAqXRmpnBJ",
   "metadata": {
    "id": "fbZAqXRmpnBJ"
   },
   "source": [
    "## 5. Reading csv file and group by\n",
    "\n",
    "Reference: https://youtu.be/e22QpyC_bYo <br>\n",
    "https://youtu.be/Qm2ohA-f3fU"
   ]
  },
  {
   "cell_type": "markdown",
   "id": "z7DDtJhYpnBJ",
   "metadata": {
    "id": "z7DDtJhYpnBJ"
   },
   "source": [
    "<p style='text-align: right;'> 2*2=4 points</p>\n"
   ]
  },
  {
   "cell_type": "markdown",
   "id": "XauCcxoopnBJ",
   "metadata": {
    "id": "XauCcxoopnBJ"
   },
   "source": [
    "Read the file 'weather_data.csv' and store it in a pandas dataframe 'df' "
   ]
  },
  {
   "cell_type": "code",
   "execution_count": 98,
   "id": "Gzvx46PIpnBJ",
   "metadata": {
    "id": "Gzvx46PIpnBJ"
   },
   "outputs": [],
   "source": [
    "df = pd.read_csv('weather_data.csv')"
   ]
  },
  {
   "cell_type": "code",
   "execution_count": 99,
   "id": "d7069d52",
   "metadata": {},
   "outputs": [
    {
     "data": {
      "text/html": [
       "<div>\n",
       "<style scoped>\n",
       "    .dataframe tbody tr th:only-of-type {\n",
       "        vertical-align: middle;\n",
       "    }\n",
       "\n",
       "    .dataframe tbody tr th {\n",
       "        vertical-align: top;\n",
       "    }\n",
       "\n",
       "    .dataframe thead th {\n",
       "        text-align: right;\n",
       "    }\n",
       "</style>\n",
       "<table border=\"1\" class=\"dataframe\">\n",
       "  <thead>\n",
       "    <tr style=\"text-align: right;\">\n",
       "      <th></th>\n",
       "      <th>day</th>\n",
       "      <th>temperature</th>\n",
       "      <th>windspeed</th>\n",
       "      <th>event</th>\n",
       "    </tr>\n",
       "  </thead>\n",
       "  <tbody>\n",
       "    <tr>\n",
       "      <th>0</th>\n",
       "      <td>1/1/2017</td>\n",
       "      <td>32</td>\n",
       "      <td>6</td>\n",
       "      <td>Rain</td>\n",
       "    </tr>\n",
       "    <tr>\n",
       "      <th>1</th>\n",
       "      <td>1/2/2017</td>\n",
       "      <td>35</td>\n",
       "      <td>7</td>\n",
       "      <td>Sunny</td>\n",
       "    </tr>\n",
       "    <tr>\n",
       "      <th>2</th>\n",
       "      <td>1/3/2017</td>\n",
       "      <td>28</td>\n",
       "      <td>2</td>\n",
       "      <td>Snow</td>\n",
       "    </tr>\n",
       "    <tr>\n",
       "      <th>3</th>\n",
       "      <td>1/4/2017</td>\n",
       "      <td>24</td>\n",
       "      <td>7</td>\n",
       "      <td>Snow</td>\n",
       "    </tr>\n",
       "    <tr>\n",
       "      <th>4</th>\n",
       "      <td>1/5/2017</td>\n",
       "      <td>32</td>\n",
       "      <td>4</td>\n",
       "      <td>Rain</td>\n",
       "    </tr>\n",
       "    <tr>\n",
       "      <th>5</th>\n",
       "      <td>1/6/2017</td>\n",
       "      <td>31</td>\n",
       "      <td>2</td>\n",
       "      <td>Sunny</td>\n",
       "    </tr>\n",
       "  </tbody>\n",
       "</table>\n",
       "</div>"
      ],
      "text/plain": [
       "        day  temperature  windspeed  event\n",
       "0  1/1/2017           32          6   Rain\n",
       "1  1/2/2017           35          7  Sunny\n",
       "2  1/3/2017           28          2   Snow\n",
       "3  1/4/2017           24          7   Snow\n",
       "4  1/5/2017           32          4   Rain\n",
       "5  1/6/2017           31          2  Sunny"
      ]
     },
     "execution_count": 99,
     "metadata": {},
     "output_type": "execute_result"
    }
   ],
   "source": [
    "df"
   ]
  },
  {
   "cell_type": "markdown",
   "id": "jYGnZxgwpnBJ",
   "metadata": {
    "id": "jYGnZxgwpnBJ"
   },
   "source": [
    "print the shape and head of the dataframe"
   ]
  },
  {
   "cell_type": "code",
   "execution_count": 100,
   "id": "pNoX_-3CpnBK",
   "metadata": {
    "id": "pNoX_-3CpnBK",
    "outputId": "026659fd-4d34-4644-ae11-329574d05886"
   },
   "outputs": [
    {
     "name": "stdout",
     "output_type": "stream",
     "text": [
      "(6, 4)\n",
      "        day  temperature  windspeed  event\n",
      "0  1/1/2017           32          6   Rain\n",
      "1  1/2/2017           35          7  Sunny\n",
      "2  1/3/2017           28          2   Snow\n",
      "3  1/4/2017           24          7   Snow\n",
      "4  1/5/2017           32          4   Rain\n"
     ]
    }
   ],
   "source": [
    "print(df.shape)\n",
    "print(df.head())"
   ]
  },
  {
   "cell_type": "markdown",
   "id": "HDMixIZepnBK",
   "metadata": {
    "id": "HDMixIZepnBK"
   },
   "source": [
    "Group the dataframe wrt to 'event' and save the resulting output in a variable named 'g'"
   ]
  },
  {
   "cell_type": "markdown",
   "id": "4B09ObaWpnBK",
   "metadata": {
    "id": "4B09ObaWpnBK"
   },
   "source": [
    "<p style='text-align: right;'> 5*3 = 15 points</p>\n"
   ]
  },
  {
   "cell_type": "code",
   "execution_count": 101,
   "id": "xgmXZRflpnBK",
   "metadata": {
    "id": "xgmXZRflpnBK"
   },
   "outputs": [],
   "source": [
    "g=df.groupby('event')"
   ]
  },
  {
   "cell_type": "markdown",
   "id": "ea6PXRdDpnBK",
   "metadata": {
    "id": "ea6PXRdDpnBK"
   },
   "source": [
    "Print g and  type(g)"
   ]
  },
  {
   "cell_type": "code",
   "execution_count": 102,
   "id": "X5yVhiyhpnBK",
   "metadata": {
    "id": "X5yVhiyhpnBK",
    "outputId": "66cc607d-d344-4e6a-c85e-06ab51f2365a"
   },
   "outputs": [
    {
     "name": "stdout",
     "output_type": "stream",
     "text": [
      "<pandas.core.groupby.generic.DataFrameGroupBy object at 0x000001BA84A75DE0>\n",
      "<class 'pandas.core.groupby.generic.DataFrameGroupBy'>\n"
     ]
    }
   ],
   "source": [
    "print(g)\n",
    "print(type(g))"
   ]
  },
  {
   "cell_type": "markdown",
   "id": "qvO6thfXpnBK",
   "metadata": {
    "id": "qvO6thfXpnBK"
   },
   "source": [
    "Iterate over all the temperatures in g and print them "
   ]
  },
  {
   "cell_type": "code",
   "execution_count": 109,
   "id": "Kzrf4FA5pnBM",
   "metadata": {
    "id": "Kzrf4FA5pnBM",
    "outputId": "d3bac9a9-5de4-497a-f4b8-57595ffb4454"
   },
   "outputs": [
    {
     "name": "stdout",
     "output_type": "stream",
     "text": [
      "('Rain',         day  temperature  windspeed event  Hot_temp\n",
      "0  1/1/2017           32          6  Rain      True\n",
      "4  1/5/2017           32          4  Rain      True)\n",
      "('Snow',         day  temperature  windspeed event  Hot_temp\n",
      "2  1/3/2017           28          2  Snow     False\n",
      "3  1/4/2017           24          7  Snow     False)\n",
      "('Sunny',         day  temperature  windspeed  event  Hot_temp\n",
      "1  1/2/2017           35          7  Sunny      True\n",
      "5  1/6/2017           31          2  Sunny      True)\n"
     ]
    }
   ],
   "source": [
    "for i in g :\n",
    "    print(i)"
   ]
  },
  {
   "cell_type": "markdown",
   "id": "b6enLEIipnBM",
   "metadata": {
    "id": "b6enLEIipnBM"
   },
   "source": [
    "Use the describle method on g to get the complete description on it."
   ]
  },
  {
   "cell_type": "code",
   "execution_count": 104,
   "id": "DkWigZSfpnBM",
   "metadata": {
    "id": "DkWigZSfpnBM",
    "outputId": "9dd269f2-e149-41d3-f995-597a4469c889"
   },
   "outputs": [
    {
     "data": {
      "text/html": [
       "<div>\n",
       "<style scoped>\n",
       "    .dataframe tbody tr th:only-of-type {\n",
       "        vertical-align: middle;\n",
       "    }\n",
       "\n",
       "    .dataframe tbody tr th {\n",
       "        vertical-align: top;\n",
       "    }\n",
       "\n",
       "    .dataframe thead tr th {\n",
       "        text-align: left;\n",
       "    }\n",
       "\n",
       "    .dataframe thead tr:last-of-type th {\n",
       "        text-align: right;\n",
       "    }\n",
       "</style>\n",
       "<table border=\"1\" class=\"dataframe\">\n",
       "  <thead>\n",
       "    <tr>\n",
       "      <th></th>\n",
       "      <th colspan=\"8\" halign=\"left\">temperature</th>\n",
       "      <th colspan=\"8\" halign=\"left\">windspeed</th>\n",
       "    </tr>\n",
       "    <tr>\n",
       "      <th></th>\n",
       "      <th>count</th>\n",
       "      <th>mean</th>\n",
       "      <th>std</th>\n",
       "      <th>min</th>\n",
       "      <th>25%</th>\n",
       "      <th>50%</th>\n",
       "      <th>75%</th>\n",
       "      <th>max</th>\n",
       "      <th>count</th>\n",
       "      <th>mean</th>\n",
       "      <th>std</th>\n",
       "      <th>min</th>\n",
       "      <th>25%</th>\n",
       "      <th>50%</th>\n",
       "      <th>75%</th>\n",
       "      <th>max</th>\n",
       "    </tr>\n",
       "    <tr>\n",
       "      <th>event</th>\n",
       "      <th></th>\n",
       "      <th></th>\n",
       "      <th></th>\n",
       "      <th></th>\n",
       "      <th></th>\n",
       "      <th></th>\n",
       "      <th></th>\n",
       "      <th></th>\n",
       "      <th></th>\n",
       "      <th></th>\n",
       "      <th></th>\n",
       "      <th></th>\n",
       "      <th></th>\n",
       "      <th></th>\n",
       "      <th></th>\n",
       "      <th></th>\n",
       "    </tr>\n",
       "  </thead>\n",
       "  <tbody>\n",
       "    <tr>\n",
       "      <th>Rain</th>\n",
       "      <td>2.0</td>\n",
       "      <td>32.0</td>\n",
       "      <td>0.000000</td>\n",
       "      <td>32.0</td>\n",
       "      <td>32.0</td>\n",
       "      <td>32.0</td>\n",
       "      <td>32.0</td>\n",
       "      <td>32.0</td>\n",
       "      <td>2.0</td>\n",
       "      <td>5.0</td>\n",
       "      <td>1.414214</td>\n",
       "      <td>4.0</td>\n",
       "      <td>4.50</td>\n",
       "      <td>5.0</td>\n",
       "      <td>5.50</td>\n",
       "      <td>6.0</td>\n",
       "    </tr>\n",
       "    <tr>\n",
       "      <th>Snow</th>\n",
       "      <td>2.0</td>\n",
       "      <td>26.0</td>\n",
       "      <td>2.828427</td>\n",
       "      <td>24.0</td>\n",
       "      <td>25.0</td>\n",
       "      <td>26.0</td>\n",
       "      <td>27.0</td>\n",
       "      <td>28.0</td>\n",
       "      <td>2.0</td>\n",
       "      <td>4.5</td>\n",
       "      <td>3.535534</td>\n",
       "      <td>2.0</td>\n",
       "      <td>3.25</td>\n",
       "      <td>4.5</td>\n",
       "      <td>5.75</td>\n",
       "      <td>7.0</td>\n",
       "    </tr>\n",
       "    <tr>\n",
       "      <th>Sunny</th>\n",
       "      <td>2.0</td>\n",
       "      <td>33.0</td>\n",
       "      <td>2.828427</td>\n",
       "      <td>31.0</td>\n",
       "      <td>32.0</td>\n",
       "      <td>33.0</td>\n",
       "      <td>34.0</td>\n",
       "      <td>35.0</td>\n",
       "      <td>2.0</td>\n",
       "      <td>4.5</td>\n",
       "      <td>3.535534</td>\n",
       "      <td>2.0</td>\n",
       "      <td>3.25</td>\n",
       "      <td>4.5</td>\n",
       "      <td>5.75</td>\n",
       "      <td>7.0</td>\n",
       "    </tr>\n",
       "  </tbody>\n",
       "</table>\n",
       "</div>"
      ],
      "text/plain": [
       "      temperature                                               windspeed  \\\n",
       "            count  mean       std   min   25%   50%   75%   max     count   \n",
       "event                                                                       \n",
       "Rain          2.0  32.0  0.000000  32.0  32.0  32.0  32.0  32.0       2.0   \n",
       "Snow          2.0  26.0  2.828427  24.0  25.0  26.0  27.0  28.0       2.0   \n",
       "Sunny         2.0  33.0  2.828427  31.0  32.0  33.0  34.0  35.0       2.0   \n",
       "\n",
       "                                                 \n",
       "      mean       std  min   25%  50%   75%  max  \n",
       "event                                            \n",
       "Rain   5.0  1.414214  4.0  4.50  5.0  5.50  6.0  \n",
       "Snow   4.5  3.535534  2.0  3.25  4.5  5.75  7.0  \n",
       "Sunny  4.5  3.535534  2.0  3.25  4.5  5.75  7.0  "
      ]
     },
     "execution_count": 104,
     "metadata": {},
     "output_type": "execute_result"
    }
   ],
   "source": [
    "g.describe()"
   ]
  },
  {
   "cell_type": "markdown",
   "id": "-a_rvowCpnBM",
   "metadata": {
    "id": "-a_rvowCpnBM"
   },
   "source": [
    "Create a new column in the dataframe df, named 'hot_temp' which contains True if temp is above 30, else False"
   ]
  },
  {
   "cell_type": "markdown",
   "id": "zXURg4kApnBM",
   "metadata": {
    "id": "zXURg4kApnBM"
   },
   "source": [
    "<p style='text-align: right;'> 5 points</p>\n"
   ]
  },
  {
   "cell_type": "code",
   "execution_count": 107,
   "id": "TkKVMEpfpnBN",
   "metadata": {
    "id": "TkKVMEpfpnBN"
   },
   "outputs": [],
   "source": [
    "#code here to filter df with above condition\n",
    "df['Hot_temp'] = df['temperature'] > 30"
   ]
  },
  {
   "cell_type": "code",
   "execution_count": 108,
   "id": "J_t6jdMppnBN",
   "metadata": {
    "id": "J_t6jdMppnBN",
    "outputId": "6c3d73ca-d426-49f1-bf92-865e84d13cc2"
   },
   "outputs": [
    {
     "name": "stdout",
     "output_type": "stream",
     "text": [
      "        day  temperature  windspeed  event  Hot_temp\n",
      "0  1/1/2017           32          6   Rain      True\n",
      "1  1/2/2017           35          7  Sunny      True\n",
      "2  1/3/2017           28          2   Snow     False\n",
      "3  1/4/2017           24          7   Snow     False\n",
      "4  1/5/2017           32          4   Rain      True\n",
      "5  1/6/2017           31          2  Sunny      True\n"
     ]
    }
   ],
   "source": [
    "# print df\n",
    "print(df)"
   ]
  },
  {
   "cell_type": "markdown",
   "id": "pTWp910fpnBN",
   "metadata": {
    "id": "pTWp910fpnBN"
   },
   "source": [
    "## Data Range\n",
    "\n",
    "Reference:-https://youtu.be/_gcJfwKElxs"
   ]
  },
  {
   "cell_type": "markdown",
   "id": "BXHklVx7pnBN",
   "metadata": {
    "id": "BXHklVx7pnBN"
   },
   "source": [
    "<p style='text-align: right;'> 5*3 = 15 points</p>\n"
   ]
  },
  {
   "cell_type": "markdown",
   "id": "Qy972x4KpnBN",
   "metadata": {
    "id": "Qy972x4KpnBN"
   },
   "source": [
    "Create a pandas daterange where starting date is 1st of January,2020 and end date is 1st of April 2021, store it in a new variable named 'a'"
   ]
  },
  {
   "cell_type": "code",
   "execution_count": 116,
   "id": "c5bi5XIXpnBN",
   "metadata": {
    "id": "c5bi5XIXpnBN"
   },
   "outputs": [],
   "source": [
    "a= pd.date_range(start='2020-1-1 00:00:00',end='2020-4-1',freq='D')"
   ]
  },
  {
   "cell_type": "markdown",
   "id": "XGXIzRYcpnBN",
   "metadata": {
    "id": "XGXIzRYcpnBN"
   },
   "source": [
    "print a"
   ]
  },
  {
   "cell_type": "code",
   "execution_count": 117,
   "id": "GdJZwgcbpnBO",
   "metadata": {
    "id": "GdJZwgcbpnBO",
    "outputId": "d1874544-7b0c-4fff-bdfc-81f4917c5841"
   },
   "outputs": [
    {
     "name": "stdout",
     "output_type": "stream",
     "text": [
      "DatetimeIndex(['2020-01-01', '2020-01-02', '2020-01-03', '2020-01-04',\n",
      "               '2020-01-05', '2020-01-06', '2020-01-07', '2020-01-08',\n",
      "               '2020-01-09', '2020-01-10', '2020-01-11', '2020-01-12',\n",
      "               '2020-01-13', '2020-01-14', '2020-01-15', '2020-01-16',\n",
      "               '2020-01-17', '2020-01-18', '2020-01-19', '2020-01-20',\n",
      "               '2020-01-21', '2020-01-22', '2020-01-23', '2020-01-24',\n",
      "               '2020-01-25', '2020-01-26', '2020-01-27', '2020-01-28',\n",
      "               '2020-01-29', '2020-01-30', '2020-01-31', '2020-02-01',\n",
      "               '2020-02-02', '2020-02-03', '2020-02-04', '2020-02-05',\n",
      "               '2020-02-06', '2020-02-07', '2020-02-08', '2020-02-09',\n",
      "               '2020-02-10', '2020-02-11', '2020-02-12', '2020-02-13',\n",
      "               '2020-02-14', '2020-02-15', '2020-02-16', '2020-02-17',\n",
      "               '2020-02-18', '2020-02-19', '2020-02-20', '2020-02-21',\n",
      "               '2020-02-22', '2020-02-23', '2020-02-24', '2020-02-25',\n",
      "               '2020-02-26', '2020-02-27', '2020-02-28', '2020-02-29',\n",
      "               '2020-03-01', '2020-03-02', '2020-03-03', '2020-03-04',\n",
      "               '2020-03-05', '2020-03-06', '2020-03-07', '2020-03-08',\n",
      "               '2020-03-09', '2020-03-10', '2020-03-11', '2020-03-12',\n",
      "               '2020-03-13', '2020-03-14', '2020-03-15', '2020-03-16',\n",
      "               '2020-03-17', '2020-03-18', '2020-03-19', '2020-03-20',\n",
      "               '2020-03-21', '2020-03-22', '2020-03-23', '2020-03-24',\n",
      "               '2020-03-25', '2020-03-26', '2020-03-27', '2020-03-28',\n",
      "               '2020-03-29', '2020-03-30', '2020-03-31', '2020-04-01'],\n",
      "              dtype='datetime64[ns]', freq='D')\n"
     ]
    }
   ],
   "source": [
    "print(a)"
   ]
  },
  {
   "cell_type": "markdown",
   "id": "jJsc89PgpnBO",
   "metadata": {
    "id": "jJsc89PgpnBO"
   },
   "source": [
    "What is the len of a?"
   ]
  },
  {
   "cell_type": "code",
   "execution_count": 118,
   "id": "jR-g4k2cpnBO",
   "metadata": {
    "id": "jR-g4k2cpnBO",
    "outputId": "fe08fdde-e03c-491b-87af-eb883a3ca297"
   },
   "outputs": [
    {
     "name": "stdout",
     "output_type": "stream",
     "text": [
      "92\n"
     ]
    }
   ],
   "source": [
    "print(len(a))"
   ]
  },
  {
   "cell_type": "markdown",
   "id": "QmN2hiOzpnBO",
   "metadata": {
    "id": "QmN2hiOzpnBO"
   },
   "source": [
    "What is the type of a?"
   ]
  },
  {
   "cell_type": "code",
   "execution_count": 119,
   "id": "R3wwTUqCpnBO",
   "metadata": {
    "id": "R3wwTUqCpnBO",
    "outputId": "49c66d7b-93bf-4c49-e954-821825a721ee"
   },
   "outputs": [
    {
     "name": "stdout",
     "output_type": "stream",
     "text": [
      "<class 'pandas.core.indexes.datetimes.DatetimeIndex'>\n"
     ]
    }
   ],
   "source": [
    "print(type(a))"
   ]
  },
  {
   "cell_type": "markdown",
   "id": "X_VukN8BpnBO",
   "metadata": {
    "id": "X_VukN8BpnBO"
   },
   "source": [
    "________________\n",
    "# Hey high five! You solved the 4th milestone challenge too! Pawri to banti hai ;)\n",
    "________________"
   ]
  }
 ],
 "metadata": {
  "colab": {
   "collapsed_sections": [
    "45DlKJ82pnA6",
    "TO8NieyCpnA7",
    "TEKOhR4vpnBB",
    "Q1lu2B5ppnBH",
    "fbZAqXRmpnBJ",
    "pTWp910fpnBN"
   ],
   "name": "Pandas.ipynb",
   "provenance": []
  },
  "kernelspec": {
   "display_name": "Python 3 (ipykernel)",
   "language": "python",
   "name": "python3"
  },
  "language_info": {
   "codemirror_mode": {
    "name": "ipython",
    "version": 3
   },
   "file_extension": ".py",
   "mimetype": "text/x-python",
   "name": "python",
   "nbconvert_exporter": "python",
   "pygments_lexer": "ipython3",
   "version": "3.10.0"
  }
 },
 "nbformat": 4,
 "nbformat_minor": 5
}
