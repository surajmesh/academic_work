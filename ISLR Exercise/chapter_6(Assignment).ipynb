{
 "cells": [
  {
   "cell_type": "markdown",
   "id": "6007eab8",
   "metadata": {},
   "source": [
    "# Chapter 6 - Exercises\n",
    "Applied Questions"
   ]
  },
  {
   "cell_type": "markdown",
   "id": "e79d3488",
   "metadata": {},
   "source": [
    "Name : Suraj Meshram\n",
    "\n",
    "Roll No. - MT2114"
   ]
  },
  {
   "cell_type": "markdown",
   "id": "8614da20",
   "metadata": {},
   "source": [
    "# ----------------------------------------------------------------------------------------------------"
   ]
  },
  {
   "cell_type": "code",
   "execution_count": 1,
   "id": "05175f05",
   "metadata": {},
   "outputs": [],
   "source": [
    "import pandas as pd\n",
    "import numpy as np\n",
    "\n",
    "from sklearn.preprocessing import PolynomialFeatures\n",
    "from sklearn.model_selection import cross_val_score,train_test_split\n",
    "from sklearn.linear_model import LinearRegression"
   ]
  },
  {
   "cell_type": "markdown",
   "id": "86299fb3",
   "metadata": {},
   "source": [
    "8. In this exercise, we will generate simulated data, and will then use this data to perform best subset selection."
   ]
  },
  {
   "cell_type": "markdown",
   "id": "49af96ea",
   "metadata": {},
   "source": [
    "(a) Use the rnorm() function to generate a predictor X of length n = 100, as well as a noise vector of length n = 100."
   ]
  },
  {
   "cell_type": "code",
   "execution_count": 2,
   "id": "ba56bd9c",
   "metadata": {},
   "outputs": [
    {
     "name": "stdout",
     "output_type": "stream",
     "text": [
      "Size of X is  100\n"
     ]
    }
   ],
   "source": [
    "np.random.seed(1)\n",
    "\n",
    "X = np.random.randn(100)\n",
    "eps = np.random.randn(100)\n",
    "print('Size of X is ',len(X))"
   ]
  },
  {
   "cell_type": "markdown",
   "id": "f052df35",
   "metadata": {},
   "source": [
    "(b) Generate a response vector Y of length n = 100 according to the model\n",
    "\n",
    "Y = β0 + β1X + β2X2 + β3X3 + eps\n"
   ]
  },
  {
   "cell_type": "code",
   "execution_count": 3,
   "id": "371ffd1b",
   "metadata": {},
   "outputs": [],
   "source": [
    "# weights are of our choice\n",
    "beta = [3,4,2,1]\n",
    "Y = beta[0] + beta[1]*X + beta[2]*X**2 + beta[3]*X**3 + eps"
   ]
  },
  {
   "cell_type": "markdown",
   "id": "6473703d",
   "metadata": {},
   "source": [
    "(c) Use the regsubsets() function to perform best subset selection in order to choose the best model containing the predictors X, X2,...,X10. What is the best model obtained according to Cp, BIC, and adjusted R2? Show some plots to provide evidence for your answer, and report the coefficients of the best model obtained."
   ]
  },
  {
   "cell_type": "code",
   "execution_count": 4,
   "id": "2ba29002",
   "metadata": {},
   "outputs": [
    {
     "data": {
      "text/html": [
       "<div>\n",
       "<style scoped>\n",
       "    .dataframe tbody tr th:only-of-type {\n",
       "        vertical-align: middle;\n",
       "    }\n",
       "\n",
       "    .dataframe tbody tr th {\n",
       "        vertical-align: top;\n",
       "    }\n",
       "\n",
       "    .dataframe thead th {\n",
       "        text-align: right;\n",
       "    }\n",
       "</style>\n",
       "<table border=\"1\" class=\"dataframe\">\n",
       "  <thead>\n",
       "    <tr style=\"text-align: right;\">\n",
       "      <th></th>\n",
       "      <th>X1</th>\n",
       "      <th>X2</th>\n",
       "      <th>X3</th>\n",
       "      <th>X4</th>\n",
       "      <th>X5</th>\n",
       "      <th>X6</th>\n",
       "      <th>X7</th>\n",
       "      <th>X8</th>\n",
       "      <th>X9</th>\n",
       "      <th>X10</th>\n",
       "    </tr>\n",
       "  </thead>\n",
       "  <tbody>\n",
       "    <tr>\n",
       "      <th>0</th>\n",
       "      <td>1.624345</td>\n",
       "      <td>2.638498</td>\n",
       "      <td>4.285832</td>\n",
       "      <td>6.961671</td>\n",
       "      <td>11.308158</td>\n",
       "      <td>18.368354</td>\n",
       "      <td>29.836551</td>\n",
       "      <td>48.464863</td>\n",
       "      <td>78.723675</td>\n",
       "      <td>127.874436</td>\n",
       "    </tr>\n",
       "    <tr>\n",
       "      <th>1</th>\n",
       "      <td>-0.611756</td>\n",
       "      <td>0.374246</td>\n",
       "      <td>-0.228947</td>\n",
       "      <td>0.140060</td>\n",
       "      <td>-0.085683</td>\n",
       "      <td>0.052417</td>\n",
       "      <td>-0.032066</td>\n",
       "      <td>0.019617</td>\n",
       "      <td>-0.012001</td>\n",
       "      <td>0.007342</td>\n",
       "    </tr>\n",
       "    <tr>\n",
       "      <th>2</th>\n",
       "      <td>-0.528172</td>\n",
       "      <td>0.278965</td>\n",
       "      <td>-0.147342</td>\n",
       "      <td>0.077822</td>\n",
       "      <td>-0.041103</td>\n",
       "      <td>0.021710</td>\n",
       "      <td>-0.011466</td>\n",
       "      <td>0.006056</td>\n",
       "      <td>-0.003199</td>\n",
       "      <td>0.001689</td>\n",
       "    </tr>\n",
       "    <tr>\n",
       "      <th>3</th>\n",
       "      <td>-1.072969</td>\n",
       "      <td>1.151262</td>\n",
       "      <td>-1.235268</td>\n",
       "      <td>1.325403</td>\n",
       "      <td>-1.422116</td>\n",
       "      <td>1.525886</td>\n",
       "      <td>-1.637228</td>\n",
       "      <td>1.756694</td>\n",
       "      <td>-1.884878</td>\n",
       "      <td>2.022415</td>\n",
       "    </tr>\n",
       "    <tr>\n",
       "      <th>4</th>\n",
       "      <td>0.865408</td>\n",
       "      <td>0.748930</td>\n",
       "      <td>0.648130</td>\n",
       "      <td>0.560897</td>\n",
       "      <td>0.485404</td>\n",
       "      <td>0.420073</td>\n",
       "      <td>0.363534</td>\n",
       "      <td>0.314605</td>\n",
       "      <td>0.272262</td>\n",
       "      <td>0.235617</td>\n",
       "    </tr>\n",
       "  </tbody>\n",
       "</table>\n",
       "</div>"
      ],
      "text/plain": [
       "         X1        X2        X3        X4         X5         X6         X7  \\\n",
       "0  1.624345  2.638498  4.285832  6.961671  11.308158  18.368354  29.836551   \n",
       "1 -0.611756  0.374246 -0.228947  0.140060  -0.085683   0.052417  -0.032066   \n",
       "2 -0.528172  0.278965 -0.147342  0.077822  -0.041103   0.021710  -0.011466   \n",
       "3 -1.072969  1.151262 -1.235268  1.325403  -1.422116   1.525886  -1.637228   \n",
       "4  0.865408  0.748930  0.648130  0.560897   0.485404   0.420073   0.363534   \n",
       "\n",
       "          X8         X9         X10  \n",
       "0  48.464863  78.723675  127.874436  \n",
       "1   0.019617  -0.012001    0.007342  \n",
       "2   0.006056  -0.003199    0.001689  \n",
       "3   1.756694  -1.884878    2.022415  \n",
       "4   0.314605   0.272262    0.235617  "
      ]
     },
     "execution_count": 4,
     "metadata": {},
     "output_type": "execute_result"
    }
   ],
   "source": [
    "poly = PolynomialFeatures(10,include_bias=False)\n",
    "predictors = poly.fit_transform(pd.DataFrame({'X':X}))\n",
    "predictors = pd.DataFrame(predictors)\n",
    "#print(predictors)\n",
    "col = ['X' + str(i) for i in range(1,11)]\n",
    "predictors.columns = col\n",
    "predictors.head()"
   ]
  },
  {
   "cell_type": "markdown",
   "id": "6324dbf1",
   "metadata": {},
   "source": [
    "(f) Now generate a response vector Y according to the model, and perform best subset selection and the lasso. Discuss the results obtained.\n",
    "\n",
    "Y = β0 + β7X7 + eps\n"
   ]
  },
  {
   "cell_type": "code",
   "execution_count": 5,
   "id": "3918938e",
   "metadata": {},
   "outputs": [],
   "source": [
    "beta = [0.5,2]\n",
    "Y =  beta[0] + beta[1]*X**7 + eps\n",
    "#print(Y)"
   ]
  },
  {
   "cell_type": "markdown",
   "id": "cba65d59",
   "metadata": {},
   "source": [
    "# --------------------------------------------------------------"
   ]
  },
  {
   "cell_type": "markdown",
   "id": "55a4caf0",
   "metadata": {},
   "source": [
    "9. In this exercise, we will predict the number of applications received using the other variables in the College data set."
   ]
  },
  {
   "cell_type": "code",
   "execution_count": 6,
   "id": "9668fe5d",
   "metadata": {},
   "outputs": [],
   "source": [
    "import os \n",
    "os.chdir(\"c:\\workfile\")"
   ]
  },
  {
   "cell_type": "code",
   "execution_count": 7,
   "id": "a355eb09",
   "metadata": {},
   "outputs": [
    {
     "data": {
      "text/html": [
       "<div>\n",
       "<style scoped>\n",
       "    .dataframe tbody tr th:only-of-type {\n",
       "        vertical-align: middle;\n",
       "    }\n",
       "\n",
       "    .dataframe tbody tr th {\n",
       "        vertical-align: top;\n",
       "    }\n",
       "\n",
       "    .dataframe thead th {\n",
       "        text-align: right;\n",
       "    }\n",
       "</style>\n",
       "<table border=\"1\" class=\"dataframe\">\n",
       "  <thead>\n",
       "    <tr style=\"text-align: right;\">\n",
       "      <th></th>\n",
       "      <th>Unnamed: 0</th>\n",
       "      <th>Private</th>\n",
       "      <th>Apps</th>\n",
       "      <th>Accept</th>\n",
       "      <th>Enroll</th>\n",
       "      <th>Top10perc</th>\n",
       "      <th>Top25perc</th>\n",
       "      <th>F.Undergrad</th>\n",
       "      <th>P.Undergrad</th>\n",
       "      <th>Outstate</th>\n",
       "      <th>Room.Board</th>\n",
       "      <th>Books</th>\n",
       "      <th>Personal</th>\n",
       "      <th>PhD</th>\n",
       "      <th>Terminal</th>\n",
       "      <th>S.F.Ratio</th>\n",
       "      <th>perc.alumni</th>\n",
       "      <th>Expend</th>\n",
       "      <th>Grad.Rate</th>\n",
       "    </tr>\n",
       "  </thead>\n",
       "  <tbody>\n",
       "    <tr>\n",
       "      <th>0</th>\n",
       "      <td>Abilene Christian University</td>\n",
       "      <td>Yes</td>\n",
       "      <td>1660</td>\n",
       "      <td>1232</td>\n",
       "      <td>721</td>\n",
       "      <td>23</td>\n",
       "      <td>52</td>\n",
       "      <td>2885</td>\n",
       "      <td>537</td>\n",
       "      <td>7440</td>\n",
       "      <td>3300</td>\n",
       "      <td>450</td>\n",
       "      <td>2200</td>\n",
       "      <td>70</td>\n",
       "      <td>78</td>\n",
       "      <td>18.1</td>\n",
       "      <td>12</td>\n",
       "      <td>7041</td>\n",
       "      <td>60</td>\n",
       "    </tr>\n",
       "    <tr>\n",
       "      <th>1</th>\n",
       "      <td>Adelphi University</td>\n",
       "      <td>Yes</td>\n",
       "      <td>2186</td>\n",
       "      <td>1924</td>\n",
       "      <td>512</td>\n",
       "      <td>16</td>\n",
       "      <td>29</td>\n",
       "      <td>2683</td>\n",
       "      <td>1227</td>\n",
       "      <td>12280</td>\n",
       "      <td>6450</td>\n",
       "      <td>750</td>\n",
       "      <td>1500</td>\n",
       "      <td>29</td>\n",
       "      <td>30</td>\n",
       "      <td>12.2</td>\n",
       "      <td>16</td>\n",
       "      <td>10527</td>\n",
       "      <td>56</td>\n",
       "    </tr>\n",
       "    <tr>\n",
       "      <th>2</th>\n",
       "      <td>Adrian College</td>\n",
       "      <td>Yes</td>\n",
       "      <td>1428</td>\n",
       "      <td>1097</td>\n",
       "      <td>336</td>\n",
       "      <td>22</td>\n",
       "      <td>50</td>\n",
       "      <td>1036</td>\n",
       "      <td>99</td>\n",
       "      <td>11250</td>\n",
       "      <td>3750</td>\n",
       "      <td>400</td>\n",
       "      <td>1165</td>\n",
       "      <td>53</td>\n",
       "      <td>66</td>\n",
       "      <td>12.9</td>\n",
       "      <td>30</td>\n",
       "      <td>8735</td>\n",
       "      <td>54</td>\n",
       "    </tr>\n",
       "    <tr>\n",
       "      <th>3</th>\n",
       "      <td>Agnes Scott College</td>\n",
       "      <td>Yes</td>\n",
       "      <td>417</td>\n",
       "      <td>349</td>\n",
       "      <td>137</td>\n",
       "      <td>60</td>\n",
       "      <td>89</td>\n",
       "      <td>510</td>\n",
       "      <td>63</td>\n",
       "      <td>12960</td>\n",
       "      <td>5450</td>\n",
       "      <td>450</td>\n",
       "      <td>875</td>\n",
       "      <td>92</td>\n",
       "      <td>97</td>\n",
       "      <td>7.7</td>\n",
       "      <td>37</td>\n",
       "      <td>19016</td>\n",
       "      <td>59</td>\n",
       "    </tr>\n",
       "    <tr>\n",
       "      <th>4</th>\n",
       "      <td>Alaska Pacific University</td>\n",
       "      <td>Yes</td>\n",
       "      <td>193</td>\n",
       "      <td>146</td>\n",
       "      <td>55</td>\n",
       "      <td>16</td>\n",
       "      <td>44</td>\n",
       "      <td>249</td>\n",
       "      <td>869</td>\n",
       "      <td>7560</td>\n",
       "      <td>4120</td>\n",
       "      <td>800</td>\n",
       "      <td>1500</td>\n",
       "      <td>76</td>\n",
       "      <td>72</td>\n",
       "      <td>11.9</td>\n",
       "      <td>2</td>\n",
       "      <td>10922</td>\n",
       "      <td>15</td>\n",
       "    </tr>\n",
       "  </tbody>\n",
       "</table>\n",
       "</div>"
      ],
      "text/plain": [
       "                     Unnamed: 0 Private  Apps  Accept  Enroll  Top10perc  \\\n",
       "0  Abilene Christian University     Yes  1660    1232     721         23   \n",
       "1            Adelphi University     Yes  2186    1924     512         16   \n",
       "2                Adrian College     Yes  1428    1097     336         22   \n",
       "3           Agnes Scott College     Yes   417     349     137         60   \n",
       "4     Alaska Pacific University     Yes   193     146      55         16   \n",
       "\n",
       "   Top25perc  F.Undergrad  P.Undergrad  Outstate  Room.Board  Books  Personal  \\\n",
       "0         52         2885          537      7440        3300    450      2200   \n",
       "1         29         2683         1227     12280        6450    750      1500   \n",
       "2         50         1036           99     11250        3750    400      1165   \n",
       "3         89          510           63     12960        5450    450       875   \n",
       "4         44          249          869      7560        4120    800      1500   \n",
       "\n",
       "   PhD  Terminal  S.F.Ratio  perc.alumni  Expend  Grad.Rate  \n",
       "0   70        78       18.1           12    7041         60  \n",
       "1   29        30       12.2           16   10527         56  \n",
       "2   53        66       12.9           30    8735         54  \n",
       "3   92        97        7.7           37   19016         59  \n",
       "4   76        72       11.9            2   10922         15  "
      ]
     },
     "execution_count": 7,
     "metadata": {},
     "output_type": "execute_result"
    }
   ],
   "source": [
    "data = pd.read_csv(\"College.csv\")\n",
    "data.head()"
   ]
  },
  {
   "cell_type": "code",
   "execution_count": 8,
   "id": "f36dc931",
   "metadata": {},
   "outputs": [
    {
     "data": {
      "text/html": [
       "<div>\n",
       "<style scoped>\n",
       "    .dataframe tbody tr th:only-of-type {\n",
       "        vertical-align: middle;\n",
       "    }\n",
       "\n",
       "    .dataframe tbody tr th {\n",
       "        vertical-align: top;\n",
       "    }\n",
       "\n",
       "    .dataframe thead th {\n",
       "        text-align: right;\n",
       "    }\n",
       "</style>\n",
       "<table border=\"1\" class=\"dataframe\">\n",
       "  <thead>\n",
       "    <tr style=\"text-align: right;\">\n",
       "      <th></th>\n",
       "      <th>Private</th>\n",
       "      <th>Apps</th>\n",
       "      <th>Accept</th>\n",
       "      <th>Enroll</th>\n",
       "      <th>Top10perc</th>\n",
       "      <th>Top25perc</th>\n",
       "      <th>F.Undergrad</th>\n",
       "      <th>P.Undergrad</th>\n",
       "      <th>Outstate</th>\n",
       "      <th>Room.Board</th>\n",
       "      <th>Books</th>\n",
       "      <th>Personal</th>\n",
       "      <th>PhD</th>\n",
       "      <th>Terminal</th>\n",
       "      <th>S.F.Ratio</th>\n",
       "      <th>perc.alumni</th>\n",
       "      <th>Expend</th>\n",
       "      <th>Grad.Rate</th>\n",
       "    </tr>\n",
       "  </thead>\n",
       "  <tbody>\n",
       "    <tr>\n",
       "      <th>0</th>\n",
       "      <td>Yes</td>\n",
       "      <td>1660</td>\n",
       "      <td>1232</td>\n",
       "      <td>721</td>\n",
       "      <td>23</td>\n",
       "      <td>52</td>\n",
       "      <td>2885</td>\n",
       "      <td>537</td>\n",
       "      <td>7440</td>\n",
       "      <td>3300</td>\n",
       "      <td>450</td>\n",
       "      <td>2200</td>\n",
       "      <td>70</td>\n",
       "      <td>78</td>\n",
       "      <td>18.1</td>\n",
       "      <td>12</td>\n",
       "      <td>7041</td>\n",
       "      <td>60</td>\n",
       "    </tr>\n",
       "    <tr>\n",
       "      <th>1</th>\n",
       "      <td>Yes</td>\n",
       "      <td>2186</td>\n",
       "      <td>1924</td>\n",
       "      <td>512</td>\n",
       "      <td>16</td>\n",
       "      <td>29</td>\n",
       "      <td>2683</td>\n",
       "      <td>1227</td>\n",
       "      <td>12280</td>\n",
       "      <td>6450</td>\n",
       "      <td>750</td>\n",
       "      <td>1500</td>\n",
       "      <td>29</td>\n",
       "      <td>30</td>\n",
       "      <td>12.2</td>\n",
       "      <td>16</td>\n",
       "      <td>10527</td>\n",
       "      <td>56</td>\n",
       "    </tr>\n",
       "    <tr>\n",
       "      <th>2</th>\n",
       "      <td>Yes</td>\n",
       "      <td>1428</td>\n",
       "      <td>1097</td>\n",
       "      <td>336</td>\n",
       "      <td>22</td>\n",
       "      <td>50</td>\n",
       "      <td>1036</td>\n",
       "      <td>99</td>\n",
       "      <td>11250</td>\n",
       "      <td>3750</td>\n",
       "      <td>400</td>\n",
       "      <td>1165</td>\n",
       "      <td>53</td>\n",
       "      <td>66</td>\n",
       "      <td>12.9</td>\n",
       "      <td>30</td>\n",
       "      <td>8735</td>\n",
       "      <td>54</td>\n",
       "    </tr>\n",
       "    <tr>\n",
       "      <th>3</th>\n",
       "      <td>Yes</td>\n",
       "      <td>417</td>\n",
       "      <td>349</td>\n",
       "      <td>137</td>\n",
       "      <td>60</td>\n",
       "      <td>89</td>\n",
       "      <td>510</td>\n",
       "      <td>63</td>\n",
       "      <td>12960</td>\n",
       "      <td>5450</td>\n",
       "      <td>450</td>\n",
       "      <td>875</td>\n",
       "      <td>92</td>\n",
       "      <td>97</td>\n",
       "      <td>7.7</td>\n",
       "      <td>37</td>\n",
       "      <td>19016</td>\n",
       "      <td>59</td>\n",
       "    </tr>\n",
       "    <tr>\n",
       "      <th>4</th>\n",
       "      <td>Yes</td>\n",
       "      <td>193</td>\n",
       "      <td>146</td>\n",
       "      <td>55</td>\n",
       "      <td>16</td>\n",
       "      <td>44</td>\n",
       "      <td>249</td>\n",
       "      <td>869</td>\n",
       "      <td>7560</td>\n",
       "      <td>4120</td>\n",
       "      <td>800</td>\n",
       "      <td>1500</td>\n",
       "      <td>76</td>\n",
       "      <td>72</td>\n",
       "      <td>11.9</td>\n",
       "      <td>2</td>\n",
       "      <td>10922</td>\n",
       "      <td>15</td>\n",
       "    </tr>\n",
       "  </tbody>\n",
       "</table>\n",
       "</div>"
      ],
      "text/plain": [
       "  Private  Apps  Accept  Enroll  Top10perc  Top25perc  F.Undergrad  \\\n",
       "0     Yes  1660    1232     721         23         52         2885   \n",
       "1     Yes  2186    1924     512         16         29         2683   \n",
       "2     Yes  1428    1097     336         22         50         1036   \n",
       "3     Yes   417     349     137         60         89          510   \n",
       "4     Yes   193     146      55         16         44          249   \n",
       "\n",
       "   P.Undergrad  Outstate  Room.Board  Books  Personal  PhD  Terminal  \\\n",
       "0          537      7440        3300    450      2200   70        78   \n",
       "1         1227     12280        6450    750      1500   29        30   \n",
       "2           99     11250        3750    400      1165   53        66   \n",
       "3           63     12960        5450    450       875   92        97   \n",
       "4          869      7560        4120    800      1500   76        72   \n",
       "\n",
       "   S.F.Ratio  perc.alumni  Expend  Grad.Rate  \n",
       "0       18.1           12    7041         60  \n",
       "1       12.2           16   10527         56  \n",
       "2       12.9           30    8735         54  \n",
       "3        7.7           37   19016         59  \n",
       "4       11.9            2   10922         15  "
      ]
     },
     "execution_count": 8,
     "metadata": {},
     "output_type": "execute_result"
    }
   ],
   "source": [
    "data.drop(\"Unnamed: 0\",axis =1 ,inplace=True )\n",
    "data.head()"
   ]
  },
  {
   "cell_type": "code",
   "execution_count": 9,
   "id": "6b239835",
   "metadata": {},
   "outputs": [
    {
     "data": {
      "text/html": [
       "<div>\n",
       "<style scoped>\n",
       "    .dataframe tbody tr th:only-of-type {\n",
       "        vertical-align: middle;\n",
       "    }\n",
       "\n",
       "    .dataframe tbody tr th {\n",
       "        vertical-align: top;\n",
       "    }\n",
       "\n",
       "    .dataframe thead th {\n",
       "        text-align: right;\n",
       "    }\n",
       "</style>\n",
       "<table border=\"1\" class=\"dataframe\">\n",
       "  <thead>\n",
       "    <tr style=\"text-align: right;\">\n",
       "      <th></th>\n",
       "      <th>Private</th>\n",
       "      <th>Apps</th>\n",
       "      <th>Accept</th>\n",
       "      <th>Enroll</th>\n",
       "      <th>Top10perc</th>\n",
       "      <th>Top25perc</th>\n",
       "      <th>F.Undergrad</th>\n",
       "      <th>P.Undergrad</th>\n",
       "      <th>Outstate</th>\n",
       "      <th>Room.Board</th>\n",
       "      <th>Books</th>\n",
       "      <th>Personal</th>\n",
       "      <th>PhD</th>\n",
       "      <th>Terminal</th>\n",
       "      <th>S.F.Ratio</th>\n",
       "      <th>perc.alumni</th>\n",
       "      <th>Expend</th>\n",
       "      <th>Grad.Rate</th>\n",
       "    </tr>\n",
       "  </thead>\n",
       "  <tbody>\n",
       "    <tr>\n",
       "      <th>0</th>\n",
       "      <td>1</td>\n",
       "      <td>1660</td>\n",
       "      <td>1232</td>\n",
       "      <td>721</td>\n",
       "      <td>23</td>\n",
       "      <td>52</td>\n",
       "      <td>2885</td>\n",
       "      <td>537</td>\n",
       "      <td>7440</td>\n",
       "      <td>3300</td>\n",
       "      <td>450</td>\n",
       "      <td>2200</td>\n",
       "      <td>70</td>\n",
       "      <td>78</td>\n",
       "      <td>18.1</td>\n",
       "      <td>12</td>\n",
       "      <td>7041</td>\n",
       "      <td>60</td>\n",
       "    </tr>\n",
       "    <tr>\n",
       "      <th>1</th>\n",
       "      <td>1</td>\n",
       "      <td>2186</td>\n",
       "      <td>1924</td>\n",
       "      <td>512</td>\n",
       "      <td>16</td>\n",
       "      <td>29</td>\n",
       "      <td>2683</td>\n",
       "      <td>1227</td>\n",
       "      <td>12280</td>\n",
       "      <td>6450</td>\n",
       "      <td>750</td>\n",
       "      <td>1500</td>\n",
       "      <td>29</td>\n",
       "      <td>30</td>\n",
       "      <td>12.2</td>\n",
       "      <td>16</td>\n",
       "      <td>10527</td>\n",
       "      <td>56</td>\n",
       "    </tr>\n",
       "    <tr>\n",
       "      <th>2</th>\n",
       "      <td>1</td>\n",
       "      <td>1428</td>\n",
       "      <td>1097</td>\n",
       "      <td>336</td>\n",
       "      <td>22</td>\n",
       "      <td>50</td>\n",
       "      <td>1036</td>\n",
       "      <td>99</td>\n",
       "      <td>11250</td>\n",
       "      <td>3750</td>\n",
       "      <td>400</td>\n",
       "      <td>1165</td>\n",
       "      <td>53</td>\n",
       "      <td>66</td>\n",
       "      <td>12.9</td>\n",
       "      <td>30</td>\n",
       "      <td>8735</td>\n",
       "      <td>54</td>\n",
       "    </tr>\n",
       "    <tr>\n",
       "      <th>3</th>\n",
       "      <td>1</td>\n",
       "      <td>417</td>\n",
       "      <td>349</td>\n",
       "      <td>137</td>\n",
       "      <td>60</td>\n",
       "      <td>89</td>\n",
       "      <td>510</td>\n",
       "      <td>63</td>\n",
       "      <td>12960</td>\n",
       "      <td>5450</td>\n",
       "      <td>450</td>\n",
       "      <td>875</td>\n",
       "      <td>92</td>\n",
       "      <td>97</td>\n",
       "      <td>7.7</td>\n",
       "      <td>37</td>\n",
       "      <td>19016</td>\n",
       "      <td>59</td>\n",
       "    </tr>\n",
       "    <tr>\n",
       "      <th>4</th>\n",
       "      <td>1</td>\n",
       "      <td>193</td>\n",
       "      <td>146</td>\n",
       "      <td>55</td>\n",
       "      <td>16</td>\n",
       "      <td>44</td>\n",
       "      <td>249</td>\n",
       "      <td>869</td>\n",
       "      <td>7560</td>\n",
       "      <td>4120</td>\n",
       "      <td>800</td>\n",
       "      <td>1500</td>\n",
       "      <td>76</td>\n",
       "      <td>72</td>\n",
       "      <td>11.9</td>\n",
       "      <td>2</td>\n",
       "      <td>10922</td>\n",
       "      <td>15</td>\n",
       "    </tr>\n",
       "  </tbody>\n",
       "</table>\n",
       "</div>"
      ],
      "text/plain": [
       "   Private  Apps  Accept  Enroll  Top10perc  Top25perc  F.Undergrad  \\\n",
       "0        1  1660    1232     721         23         52         2885   \n",
       "1        1  2186    1924     512         16         29         2683   \n",
       "2        1  1428    1097     336         22         50         1036   \n",
       "3        1   417     349     137         60         89          510   \n",
       "4        1   193     146      55         16         44          249   \n",
       "\n",
       "   P.Undergrad  Outstate  Room.Board  Books  Personal  PhD  Terminal  \\\n",
       "0          537      7440        3300    450      2200   70        78   \n",
       "1         1227     12280        6450    750      1500   29        30   \n",
       "2           99     11250        3750    400      1165   53        66   \n",
       "3           63     12960        5450    450       875   92        97   \n",
       "4          869      7560        4120    800      1500   76        72   \n",
       "\n",
       "   S.F.Ratio  perc.alumni  Expend  Grad.Rate  \n",
       "0       18.1           12    7041         60  \n",
       "1       12.2           16   10527         56  \n",
       "2       12.9           30    8735         54  \n",
       "3        7.7           37   19016         59  \n",
       "4       11.9            2   10922         15  "
      ]
     },
     "execution_count": 9,
     "metadata": {},
     "output_type": "execute_result"
    }
   ],
   "source": [
    "# 1st we convert categorical to numrical\n",
    "data['Private'] = data['Private'].map({'Yes':1,'No':0})\n",
    "data.head()"
   ]
  },
  {
   "cell_type": "code",
   "execution_count": 10,
   "id": "5845c0df",
   "metadata": {},
   "outputs": [],
   "source": [
    "X_train,X_test,y_train,y_test = train_test_split(data.drop('Apps',axis = 1),\n",
    "                                        data['Apps'],test_size = 0.3,random_state = 0)"
   ]
  },
  {
   "cell_type": "code",
   "execution_count": 11,
   "id": "44d3dab8",
   "metadata": {},
   "outputs": [
    {
     "name": "stdout",
     "output_type": "stream",
     "text": [
      "(543, 17)\n"
     ]
    }
   ],
   "source": [
    "print(X_train.shape)"
   ]
  },
  {
   "cell_type": "code",
   "execution_count": 12,
   "id": "3a99a0fb",
   "metadata": {},
   "outputs": [
    {
     "name": "stdout",
     "output_type": "stream",
     "text": [
      "(234, 17)\n"
     ]
    }
   ],
   "source": [
    "print(X_test.shape)"
   ]
  },
  {
   "cell_type": "markdown",
   "id": "d6d4693e",
   "metadata": {},
   "source": [
    "(b) Fit a linear model using least squares on the training set, and report the test error obtained."
   ]
  },
  {
   "cell_type": "code",
   "execution_count": 14,
   "id": "b7bad041",
   "metadata": {},
   "outputs": [
    {
     "name": "stdout",
     "output_type": "stream",
     "text": [
      "Score is  0.9086043157818349\n"
     ]
    }
   ],
   "source": [
    "from sklearn.metrics import r2_score\n",
    "\n",
    "results_dict = {}\n",
    "\n",
    "lin_reg = LinearRegression()\n",
    "lin_reg.fit(X_train,y_train)\n",
    "pred = lin_reg.predict(X_test)\n",
    "print('Score is ',r2_score(y_test,pred))\n",
    "results_dict['Least_squares'] = r2_score(y_test,pred)"
   ]
  },
  {
   "cell_type": "markdown",
   "id": "27cc5529",
   "metadata": {},
   "source": [
    "(c) Fit a ridge regression model on the training set, with λ chosen by cross-validation. Report the test error obtained."
   ]
  },
  {
   "cell_type": "code",
   "execution_count": 15,
   "id": "ceeb8020",
   "metadata": {},
   "outputs": [
    {
     "name": "stderr",
     "output_type": "stream",
     "text": [
      "C:\\Users\\Suraj\\AppData\\Local\\Programs\\Python\\Python310\\lib\\site-packages\\sklearn\\linear_model\\_base.py:141: FutureWarning: 'normalize' was deprecated in version 1.0 and will be removed in 1.2.\n",
      "If you wish to scale the data, use Pipeline with a StandardScaler in a preprocessing stage. To reproduce the previous behavior:\n",
      "\n",
      "from sklearn.pipeline import make_pipeline\n",
      "\n",
      "model = make_pipeline(StandardScaler(with_mean=False), _RidgeGCV())\n",
      "\n",
      "If you wish to pass a sample_weight parameter, you need to pass it as a fit parameter to each step of the pipeline as follows:\n",
      "\n",
      "kwargs = {s[0] + '__sample_weight': sample_weight for s in model.steps}\n",
      "model.fit(X, y, **kwargs)\n",
      "\n",
      "Set parameter alphas to: original_alphas * n_samples. \n",
      "  warnings.warn(\n"
     ]
    },
    {
     "data": {
      "text/html": [
       "<style>#sk-container-id-1 {color: black;background-color: white;}#sk-container-id-1 pre{padding: 0;}#sk-container-id-1 div.sk-toggleable {background-color: white;}#sk-container-id-1 label.sk-toggleable__label {cursor: pointer;display: block;width: 100%;margin-bottom: 0;padding: 0.3em;box-sizing: border-box;text-align: center;}#sk-container-id-1 label.sk-toggleable__label-arrow:before {content: \"▸\";float: left;margin-right: 0.25em;color: #696969;}#sk-container-id-1 label.sk-toggleable__label-arrow:hover:before {color: black;}#sk-container-id-1 div.sk-estimator:hover label.sk-toggleable__label-arrow:before {color: black;}#sk-container-id-1 div.sk-toggleable__content {max-height: 0;max-width: 0;overflow: hidden;text-align: left;background-color: #f0f8ff;}#sk-container-id-1 div.sk-toggleable__content pre {margin: 0.2em;color: black;border-radius: 0.25em;background-color: #f0f8ff;}#sk-container-id-1 input.sk-toggleable__control:checked~div.sk-toggleable__content {max-height: 200px;max-width: 100%;overflow: auto;}#sk-container-id-1 input.sk-toggleable__control:checked~label.sk-toggleable__label-arrow:before {content: \"▾\";}#sk-container-id-1 div.sk-estimator input.sk-toggleable__control:checked~label.sk-toggleable__label {background-color: #d4ebff;}#sk-container-id-1 div.sk-label input.sk-toggleable__control:checked~label.sk-toggleable__label {background-color: #d4ebff;}#sk-container-id-1 input.sk-hidden--visually {border: 0;clip: rect(1px 1px 1px 1px);clip: rect(1px, 1px, 1px, 1px);height: 1px;margin: -1px;overflow: hidden;padding: 0;position: absolute;width: 1px;}#sk-container-id-1 div.sk-estimator {font-family: monospace;background-color: #f0f8ff;border: 1px dotted black;border-radius: 0.25em;box-sizing: border-box;margin-bottom: 0.5em;}#sk-container-id-1 div.sk-estimator:hover {background-color: #d4ebff;}#sk-container-id-1 div.sk-parallel-item::after {content: \"\";width: 100%;border-bottom: 1px solid gray;flex-grow: 1;}#sk-container-id-1 div.sk-label:hover label.sk-toggleable__label {background-color: #d4ebff;}#sk-container-id-1 div.sk-serial::before {content: \"\";position: absolute;border-left: 1px solid gray;box-sizing: border-box;top: 0;bottom: 0;left: 50%;z-index: 0;}#sk-container-id-1 div.sk-serial {display: flex;flex-direction: column;align-items: center;background-color: white;padding-right: 0.2em;padding-left: 0.2em;position: relative;}#sk-container-id-1 div.sk-item {position: relative;z-index: 1;}#sk-container-id-1 div.sk-parallel {display: flex;align-items: stretch;justify-content: center;background-color: white;position: relative;}#sk-container-id-1 div.sk-item::before, #sk-container-id-1 div.sk-parallel-item::before {content: \"\";position: absolute;border-left: 1px solid gray;box-sizing: border-box;top: 0;bottom: 0;left: 50%;z-index: -1;}#sk-container-id-1 div.sk-parallel-item {display: flex;flex-direction: column;z-index: 1;position: relative;background-color: white;}#sk-container-id-1 div.sk-parallel-item:first-child::after {align-self: flex-end;width: 50%;}#sk-container-id-1 div.sk-parallel-item:last-child::after {align-self: flex-start;width: 50%;}#sk-container-id-1 div.sk-parallel-item:only-child::after {width: 0;}#sk-container-id-1 div.sk-dashed-wrapped {border: 1px dashed gray;margin: 0 0.4em 0.5em 0.4em;box-sizing: border-box;padding-bottom: 0.4em;background-color: white;}#sk-container-id-1 div.sk-label label {font-family: monospace;font-weight: bold;display: inline-block;line-height: 1.2em;}#sk-container-id-1 div.sk-label-container {text-align: center;}#sk-container-id-1 div.sk-container {/* jupyter's `normalize.less` sets `[hidden] { display: none; }` but bootstrap.min.css set `[hidden] { display: none !important; }` so we also need the `!important` here to be able to override the default hidden behavior on the sphinx rendered scikit-learn.org. See: https://github.com/scikit-learn/scikit-learn/issues/21755 */display: inline-block !important;position: relative;}#sk-container-id-1 div.sk-text-repr-fallback {display: none;}</style><div id=\"sk-container-id-1\" class=\"sk-top-container\"><div class=\"sk-text-repr-fallback\"><pre>RidgeCV(alphas=array([1.00000000e-04, 1.09749877e-04, 1.20450354e-04, 1.32194115e-04,\n",
       "       1.45082878e-04, 1.59228279e-04, 1.74752840e-04, 1.91791026e-04,\n",
       "       2.10490414e-04, 2.31012970e-04, 2.53536449e-04, 2.78255940e-04,\n",
       "       3.05385551e-04, 3.35160265e-04, 3.67837977e-04, 4.03701726e-04,\n",
       "       4.43062146e-04, 4.86260158e-04, 5.33669923e-04, 5.85702082e-04,\n",
       "       6.42807312e-04, 7.05480231e-0...\n",
       "       1.17681195e-01, 1.29154967e-01, 1.41747416e-01, 1.55567614e-01,\n",
       "       1.70735265e-01, 1.87381742e-01, 2.05651231e-01, 2.25701972e-01,\n",
       "       2.47707636e-01, 2.71858824e-01, 2.98364724e-01, 3.27454916e-01,\n",
       "       3.59381366e-01, 3.94420606e-01, 4.32876128e-01, 4.75081016e-01,\n",
       "       5.21400829e-01, 5.72236766e-01, 6.28029144e-01, 6.89261210e-01,\n",
       "       7.56463328e-01, 8.30217568e-01, 9.11162756e-01, 1.00000000e+00]),\n",
       "        normalize=True, store_cv_values=True)</pre><b>In a Jupyter environment, please rerun this cell to show the HTML representation or trust the notebook. <br />On GitHub, the HTML representation is unable to render, please try loading this page with nbviewer.org.</b></div><div class=\"sk-container\" hidden><div class=\"sk-item\"><div class=\"sk-estimator sk-toggleable\"><input class=\"sk-toggleable__control sk-hidden--visually\" id=\"sk-estimator-id-1\" type=\"checkbox\" checked><label for=\"sk-estimator-id-1\" class=\"sk-toggleable__label sk-toggleable__label-arrow\">RidgeCV</label><div class=\"sk-toggleable__content\"><pre>RidgeCV(alphas=array([1.00000000e-04, 1.09749877e-04, 1.20450354e-04, 1.32194115e-04,\n",
       "       1.45082878e-04, 1.59228279e-04, 1.74752840e-04, 1.91791026e-04,\n",
       "       2.10490414e-04, 2.31012970e-04, 2.53536449e-04, 2.78255940e-04,\n",
       "       3.05385551e-04, 3.35160265e-04, 3.67837977e-04, 4.03701726e-04,\n",
       "       4.43062146e-04, 4.86260158e-04, 5.33669923e-04, 5.85702082e-04,\n",
       "       6.42807312e-04, 7.05480231e-0...\n",
       "       1.17681195e-01, 1.29154967e-01, 1.41747416e-01, 1.55567614e-01,\n",
       "       1.70735265e-01, 1.87381742e-01, 2.05651231e-01, 2.25701972e-01,\n",
       "       2.47707636e-01, 2.71858824e-01, 2.98364724e-01, 3.27454916e-01,\n",
       "       3.59381366e-01, 3.94420606e-01, 4.32876128e-01, 4.75081016e-01,\n",
       "       5.21400829e-01, 5.72236766e-01, 6.28029144e-01, 6.89261210e-01,\n",
       "       7.56463328e-01, 8.30217568e-01, 9.11162756e-01, 1.00000000e+00]),\n",
       "        normalize=True, store_cv_values=True)</pre></div></div></div></div></div>"
      ],
      "text/plain": [
       "RidgeCV(alphas=array([1.00000000e-04, 1.09749877e-04, 1.20450354e-04, 1.32194115e-04,\n",
       "       1.45082878e-04, 1.59228279e-04, 1.74752840e-04, 1.91791026e-04,\n",
       "       2.10490414e-04, 2.31012970e-04, 2.53536449e-04, 2.78255940e-04,\n",
       "       3.05385551e-04, 3.35160265e-04, 3.67837977e-04, 4.03701726e-04,\n",
       "       4.43062146e-04, 4.86260158e-04, 5.33669923e-04, 5.85702082e-04,\n",
       "       6.42807312e-04, 7.05480231e-0...\n",
       "       1.17681195e-01, 1.29154967e-01, 1.41747416e-01, 1.55567614e-01,\n",
       "       1.70735265e-01, 1.87381742e-01, 2.05651231e-01, 2.25701972e-01,\n",
       "       2.47707636e-01, 2.71858824e-01, 2.98364724e-01, 3.27454916e-01,\n",
       "       3.59381366e-01, 3.94420606e-01, 4.32876128e-01, 4.75081016e-01,\n",
       "       5.21400829e-01, 5.72236766e-01, 6.28029144e-01, 6.89261210e-01,\n",
       "       7.56463328e-01, 8.30217568e-01, 9.11162756e-01, 1.00000000e+00]),\n",
       "        normalize=True, store_cv_values=True)"
      ]
     },
     "execution_count": 15,
     "metadata": {},
     "output_type": "execute_result"
    }
   ],
   "source": [
    "from sklearn.linear_model import RidgeCV\n",
    "\n",
    "alphas = 10**(np.linspace(-4,0,100))\n",
    "ridge_cv = RidgeCV(alphas = alphas,normalize=True,store_cv_values=True)\n",
    "ridge_cv.fit(X_train,y_train)"
   ]
  },
  {
   "cell_type": "code",
   "execution_count": 16,
   "id": "11e4b3ad",
   "metadata": {},
   "outputs": [
    {
     "name": "stdout",
     "output_type": "stream",
     "text": [
      "valur of alpha choosen is  0.0041320124001153384\n"
     ]
    }
   ],
   "source": [
    "print('valur of alpha choosen is ',ridge_cv.alpha_)"
   ]
  },
  {
   "cell_type": "code",
   "execution_count": 18,
   "id": "f5c375ca",
   "metadata": {},
   "outputs": [
    {
     "data": {
      "text/plain": [
       "Text(0.5, 1.0, 'Ridge Regression')"
      ]
     },
     "execution_count": 18,
     "metadata": {},
     "output_type": "execute_result"
    },
    {
     "data": {
      "image/png": "[encoded data removed]",
      "text/plain": [
       "<Figure size 432x288 with 1 Axes>"
      ]
     },
     "metadata": {
      "needs_background": "light"
     },
     "output_type": "display_data"
    }
   ],
   "source": [
    "import matplotlib.pyplot as plt\n",
    "mse_values = ridge_cv.cv_values_\n",
    "#mse_values.shape\n",
    "mse_errors = np.mean(mse_values,axis = 0)\n",
    "plt.plot(ridge_cv.alphas,mse_errors)\n",
    "plt.plot(ridge_cv.alpha_,np.min(mse_errors),marker = '*',markersize = 10,color = 'red')\n",
    "plt.xscale('log')\n",
    "plt.xlabel('Alphas')\n",
    "plt.ylabel('MSE with cv = 5')\n",
    "plt.title('Ridge Regression')"
   ]
  },
  {
   "cell_type": "code",
   "execution_count": 19,
   "id": "149be978",
   "metadata": {},
   "outputs": [
    {
     "name": "stdout",
     "output_type": "stream",
     "text": [
      "R2 Score is  0.9028402319645505\n"
     ]
    }
   ],
   "source": [
    "pred = ridge_cv.predict(X_test)\n",
    "print('R2 Score is ',r2_score(y_test,pred))\n",
    "results_dict['Ridge'] = r2_score(y_test,pred)"
   ]
  },
  {
   "cell_type": "code",
   "execution_count": 21,
   "id": "2e158164",
   "metadata": {},
   "outputs": [
    {
     "name": "stdout",
     "output_type": "stream",
     "text": [
      "Intercept     -418.377749\n",
      "Private       -686.576113\n",
      "Accept           1.203935\n",
      "Enroll          -0.210836\n",
      "Top10perc       49.876799\n",
      "Top25perc      -14.321659\n",
      "F.Undergrad      0.092081\n",
      "P.Undergrad      0.035984\n",
      "Outstate        -0.036489\n",
      "Room.Board       0.225146\n",
      "Books            0.036336\n",
      "Personal        -0.048860\n",
      "PhD             -8.943022\n",
      "Terminal        -5.093359\n",
      "S.F.Ratio        4.544561\n",
      "perc.alumni     -8.628554\n",
      "Expend           0.065120\n",
      "Grad.Rate       10.695085\n",
      "dtype: float64\n"
     ]
    }
   ],
   "source": [
    "print(pd.Series(np.hstack([ridge_cv.intercept_,ridge_cv.coef_]),index = ['Intercept'] + list(data.drop('Apps',axis = 1).columns)))"
   ]
  },
  {
   "cell_type": "markdown",
   "id": "de848201",
   "metadata": {},
   "source": [
    "(d) Fit a lasso model on the training set, with λ chosen by crossvalidation. Report the test error obtained, along with the number of non-zero coefficient estimates."
   ]
  },
  {
   "cell_type": "code",
   "execution_count": 22,
   "id": "807170a5",
   "metadata": {},
   "outputs": [
    {
     "name": "stderr",
     "output_type": "stream",
     "text": [
      "C:\\Users\\Suraj\\AppData\\Local\\Programs\\Python\\Python310\\lib\\site-packages\\sklearn\\linear_model\\_base.py:141: FutureWarning: 'normalize' was deprecated in version 1.0 and will be removed in 1.2.\n",
      "If you wish to scale the data, use Pipeline with a StandardScaler in a preprocessing stage. To reproduce the previous behavior:\n",
      "\n",
      "from sklearn.pipeline import make_pipeline\n",
      "\n",
      "model = make_pipeline(StandardScaler(with_mean=False), Lasso())\n",
      "\n",
      "If you wish to pass a sample_weight parameter, you need to pass it as a fit parameter to each step of the pipeline as follows:\n",
      "\n",
      "kwargs = {s[0] + '__sample_weight': sample_weight for s in model.steps}\n",
      "model.fit(X, y, **kwargs)\n",
      "\n",
      "Set parameter alpha to: original_alpha * np.sqrt(n_samples). \n",
      "  warnings.warn(\n"
     ]
    },
    {
     "data": {
      "text/html": [
       "<style>#sk-container-id-2 {color: black;background-color: white;}#sk-container-id-2 pre{padding: 0;}#sk-container-id-2 div.sk-toggleable {background-color: white;}#sk-container-id-2 label.sk-toggleable__label {cursor: pointer;display: block;width: 100%;margin-bottom: 0;padding: 0.3em;box-sizing: border-box;text-align: center;}#sk-container-id-2 label.sk-toggleable__label-arrow:before {content: \"▸\";float: left;margin-right: 0.25em;color: #696969;}#sk-container-id-2 label.sk-toggleable__label-arrow:hover:before {color: black;}#sk-container-id-2 div.sk-estimator:hover label.sk-toggleable__label-arrow:before {color: black;}#sk-container-id-2 div.sk-toggleable__content {max-height: 0;max-width: 0;overflow: hidden;text-align: left;background-color: #f0f8ff;}#sk-container-id-2 div.sk-toggleable__content pre {margin: 0.2em;color: black;border-radius: 0.25em;background-color: #f0f8ff;}#sk-container-id-2 input.sk-toggleable__control:checked~div.sk-toggleable__content {max-height: 200px;max-width: 100%;overflow: auto;}#sk-container-id-2 input.sk-toggleable__control:checked~label.sk-toggleable__label-arrow:before {content: \"▾\";}#sk-container-id-2 div.sk-estimator input.sk-toggleable__control:checked~label.sk-toggleable__label {background-color: #d4ebff;}#sk-container-id-2 div.sk-label input.sk-toggleable__control:checked~label.sk-toggleable__label {background-color: #d4ebff;}#sk-container-id-2 input.sk-hidden--visually {border: 0;clip: rect(1px 1px 1px 1px);clip: rect(1px, 1px, 1px, 1px);height: 1px;margin: -1px;overflow: hidden;padding: 0;position: absolute;width: 1px;}#sk-container-id-2 div.sk-estimator {font-family: monospace;background-color: #f0f8ff;border: 1px dotted black;border-radius: 0.25em;box-sizing: border-box;margin-bottom: 0.5em;}#sk-container-id-2 div.sk-estimator:hover {background-color: #d4ebff;}#sk-container-id-2 div.sk-parallel-item::after {content: \"\";width: 100%;border-bottom: 1px solid gray;flex-grow: 1;}#sk-container-id-2 div.sk-label:hover label.sk-toggleable__label {background-color: #d4ebff;}#sk-container-id-2 div.sk-serial::before {content: \"\";position: absolute;border-left: 1px solid gray;box-sizing: border-box;top: 0;bottom: 0;left: 50%;z-index: 0;}#sk-container-id-2 div.sk-serial {display: flex;flex-direction: column;align-items: center;background-color: white;padding-right: 0.2em;padding-left: 0.2em;position: relative;}#sk-container-id-2 div.sk-item {position: relative;z-index: 1;}#sk-container-id-2 div.sk-parallel {display: flex;align-items: stretch;justify-content: center;background-color: white;position: relative;}#sk-container-id-2 div.sk-item::before, #sk-container-id-2 div.sk-parallel-item::before {content: \"\";position: absolute;border-left: 1px solid gray;box-sizing: border-box;top: 0;bottom: 0;left: 50%;z-index: -1;}#sk-container-id-2 div.sk-parallel-item {display: flex;flex-direction: column;z-index: 1;position: relative;background-color: white;}#sk-container-id-2 div.sk-parallel-item:first-child::after {align-self: flex-end;width: 50%;}#sk-container-id-2 div.sk-parallel-item:last-child::after {align-self: flex-start;width: 50%;}#sk-container-id-2 div.sk-parallel-item:only-child::after {width: 0;}#sk-container-id-2 div.sk-dashed-wrapped {border: 1px dashed gray;margin: 0 0.4em 0.5em 0.4em;box-sizing: border-box;padding-bottom: 0.4em;background-color: white;}#sk-container-id-2 div.sk-label label {font-family: monospace;font-weight: bold;display: inline-block;line-height: 1.2em;}#sk-container-id-2 div.sk-label-container {text-align: center;}#sk-container-id-2 div.sk-container {/* jupyter's `normalize.less` sets `[hidden] { display: none; }` but bootstrap.min.css set `[hidden] { display: none !important; }` so we also need the `!important` here to be able to override the default hidden behavior on the sphinx rendered scikit-learn.org. See: https://github.com/scikit-learn/scikit-learn/issues/21755 */display: inline-block !important;position: relative;}#sk-container-id-2 div.sk-text-repr-fallback {display: none;}</style><div id=\"sk-container-id-2\" class=\"sk-top-container\"><div class=\"sk-text-repr-fallback\"><pre>LassoCV(alphas=array([1.00000000e-04, 1.09749877e-04, 1.20450354e-04, 1.32194115e-04,\n",
       "       1.45082878e-04, 1.59228279e-04, 1.74752840e-04, 1.91791026e-04,\n",
       "       2.10490414e-04, 2.31012970e-04, 2.53536449e-04, 2.78255940e-04,\n",
       "       3.05385551e-04, 3.35160265e-04, 3.67837977e-04, 4.03701726e-04,\n",
       "       4.43062146e-04, 4.86260158e-04, 5.33669923e-04, 5.85702082e-04,\n",
       "       6.42807312e-04, 7.05480231e-0...\n",
       "       1.17681195e-01, 1.29154967e-01, 1.41747416e-01, 1.55567614e-01,\n",
       "       1.70735265e-01, 1.87381742e-01, 2.05651231e-01, 2.25701972e-01,\n",
       "       2.47707636e-01, 2.71858824e-01, 2.98364724e-01, 3.27454916e-01,\n",
       "       3.59381366e-01, 3.94420606e-01, 4.32876128e-01, 4.75081016e-01,\n",
       "       5.21400829e-01, 5.72236766e-01, 6.28029144e-01, 6.89261210e-01,\n",
       "       7.56463328e-01, 8.30217568e-01, 9.11162756e-01, 1.00000000e+00]),\n",
       "        cv=10, normalize=True)</pre><b>In a Jupyter environment, please rerun this cell to show the HTML representation or trust the notebook. <br />On GitHub, the HTML representation is unable to render, please try loading this page with nbviewer.org.</b></div><div class=\"sk-container\" hidden><div class=\"sk-item\"><div class=\"sk-estimator sk-toggleable\"><input class=\"sk-toggleable__control sk-hidden--visually\" id=\"sk-estimator-id-2\" type=\"checkbox\" checked><label for=\"sk-estimator-id-2\" class=\"sk-toggleable__label sk-toggleable__label-arrow\">LassoCV</label><div class=\"sk-toggleable__content\"><pre>LassoCV(alphas=array([1.00000000e-04, 1.09749877e-04, 1.20450354e-04, 1.32194115e-04,\n",
       "       1.45082878e-04, 1.59228279e-04, 1.74752840e-04, 1.91791026e-04,\n",
       "       2.10490414e-04, 2.31012970e-04, 2.53536449e-04, 2.78255940e-04,\n",
       "       3.05385551e-04, 3.35160265e-04, 3.67837977e-04, 4.03701726e-04,\n",
       "       4.43062146e-04, 4.86260158e-04, 5.33669923e-04, 5.85702082e-04,\n",
       "       6.42807312e-04, 7.05480231e-0...\n",
       "       1.17681195e-01, 1.29154967e-01, 1.41747416e-01, 1.55567614e-01,\n",
       "       1.70735265e-01, 1.87381742e-01, 2.05651231e-01, 2.25701972e-01,\n",
       "       2.47707636e-01, 2.71858824e-01, 2.98364724e-01, 3.27454916e-01,\n",
       "       3.59381366e-01, 3.94420606e-01, 4.32876128e-01, 4.75081016e-01,\n",
       "       5.21400829e-01, 5.72236766e-01, 6.28029144e-01, 6.89261210e-01,\n",
       "       7.56463328e-01, 8.30217568e-01, 9.11162756e-01, 1.00000000e+00]),\n",
       "        cv=10, normalize=True)</pre></div></div></div></div></div>"
      ],
      "text/plain": [
       "LassoCV(alphas=array([1.00000000e-04, 1.09749877e-04, 1.20450354e-04, 1.32194115e-04,\n",
       "       1.45082878e-04, 1.59228279e-04, 1.74752840e-04, 1.91791026e-04,\n",
       "       2.10490414e-04, 2.31012970e-04, 2.53536449e-04, 2.78255940e-04,\n",
       "       3.05385551e-04, 3.35160265e-04, 3.67837977e-04, 4.03701726e-04,\n",
       "       4.43062146e-04, 4.86260158e-04, 5.33669923e-04, 5.85702082e-04,\n",
       "       6.42807312e-04, 7.05480231e-0...\n",
       "       1.17681195e-01, 1.29154967e-01, 1.41747416e-01, 1.55567614e-01,\n",
       "       1.70735265e-01, 1.87381742e-01, 2.05651231e-01, 2.25701972e-01,\n",
       "       2.47707636e-01, 2.71858824e-01, 2.98364724e-01, 3.27454916e-01,\n",
       "       3.59381366e-01, 3.94420606e-01, 4.32876128e-01, 4.75081016e-01,\n",
       "       5.21400829e-01, 5.72236766e-01, 6.28029144e-01, 6.89261210e-01,\n",
       "       7.56463328e-01, 8.30217568e-01, 9.11162756e-01, 1.00000000e+00]),\n",
       "        cv=10, normalize=True)"
      ]
     },
     "execution_count": 22,
     "metadata": {},
     "output_type": "execute_result"
    }
   ],
   "source": [
    "from sklearn.linear_model import LinearRegression,Lasso,LassoCV,RidgeCV\n",
    "\n",
    "lasso_cv = LassoCV(alphas = alphas,normalize = True,cv = 10)\n",
    "lasso_cv.fit(X_train,y_train)"
   ]
  },
  {
   "cell_type": "code",
   "execution_count": 23,
   "id": "95fcf85a",
   "metadata": {},
   "outputs": [
    {
     "data": {
      "text/plain": [
       "0.4750810162102798"
      ]
     },
     "execution_count": 23,
     "metadata": {},
     "output_type": "execute_result"
    }
   ],
   "source": [
    "lasso_cv.alpha_"
   ]
  },
  {
   "cell_type": "code",
   "execution_count": 24,
   "id": "30de0326",
   "metadata": {},
   "outputs": [
    {
     "data": {
      "image/png": "[encoded data removed]",
      "text/plain": [
       "<Figure size 432x288 with 1 Axes>"
      ]
     },
     "metadata": {
      "needs_background": "light"
     },
     "output_type": "display_data"
    }
   ],
   "source": [
    "mse_lasso = np.mean(lasso_cv.mse_path_,axis = 1)\n",
    "plt.plot(lasso_cv.alphas,mse_lasso)\n",
    "plt.axhline(y = min(mse_lasso),linewidth = 0.5,linestyle = 'dashed',color = 'r')\n",
    "plt.plot(lasso_cv.alpha_,np.min(mse_lasso),marker = 'o',markersize = 10)\n",
    "plt.xscale('log')"
   ]
  },
  {
   "cell_type": "markdown",
   "id": "14f5aca4",
   "metadata": {},
   "source": [
    "After lots of hair pulling i am still not ablet to get why this dot is not on the line, please if you can find it, \n",
    " do leave an issue"
   ]
  },
  {
   "cell_type": "code",
   "execution_count": 25,
   "id": "0cc35c5b",
   "metadata": {},
   "outputs": [
    {
     "name": "stdout",
     "output_type": "stream",
     "text": [
      "R2 score is  0.9034594192776941\n"
     ]
    }
   ],
   "source": [
    "pred = lasso_cv.predict(X_test)\n",
    "print('R2 score is ',r2_score(y_test,pred))\n",
    "results_dict['Lasso'] = r2_score(y_test,pred)"
   ]
  },
  {
   "cell_type": "code",
   "execution_count": 26,
   "id": "8670ff76",
   "metadata": {},
   "outputs": [
    {
     "name": "stdout",
     "output_type": "stream",
     "text": [
      "Intercept     -465.630008\n",
      "Private       -670.751294\n",
      "Accept           1.199801\n",
      "Enroll          -0.000000\n",
      "Top10perc       44.166457\n",
      "Top25perc       -9.580167\n",
      "F.Undergrad      0.054075\n",
      "P.Undergrad      0.030898\n",
      "Outstate        -0.025573\n",
      "Room.Board       0.205365\n",
      "Books            0.000000\n",
      "Personal        -0.018548\n",
      "PhD             -7.816703\n",
      "Terminal        -4.509051\n",
      "S.F.Ratio        0.000000\n",
      "perc.alumni     -7.671402\n",
      "Expend           0.058111\n",
      "Grad.Rate        8.396615\n",
      "dtype: float64\n"
     ]
    }
   ],
   "source": [
    "print(pd.Series(np.hstack([lasso_cv.intercept_,lasso_cv.coef_]),index = ['Intercept'] + list(data.drop('Apps',axis = 1).columns)))"
   ]
  },
  {
   "cell_type": "markdown",
   "id": "ba709f06",
   "metadata": {},
   "source": [
    "Three coefficients are shrunk to zero."
   ]
  },
  {
   "cell_type": "markdown",
   "id": "c1458e39",
   "metadata": {},
   "source": [
    "# -----------------------------------------------------------------"
   ]
  },
  {
   "cell_type": "markdown",
   "id": "b5a6c55f",
   "metadata": {},
   "source": [
    "10. We have seen that as the number of features used in a model increases, the training error will necessarily decrease, but the test error may not. We will now explore this in a simulated data set¶"
   ]
  },
  {
   "cell_type": "markdown",
   "id": "1eb9105f",
   "metadata": {},
   "source": [
    "(a) Generate a data set with p = 20 features, n = 1,000 observations, and an associated quantitative response vector generated according to the model. where β has some elements that are exactly equal to zero.¶"
   ]
  },
  {
   "cell_type": "code",
   "execution_count": 27,
   "id": "e4c26c0d",
   "metadata": {},
   "outputs": [
    {
     "name": "stdout",
     "output_type": "stream",
     "text": [
      "Shape of X is  (1000, 20)\n"
     ]
    }
   ],
   "source": [
    "X = np.random.normal(size = (1000,20))\n",
    "print('Shape of X is ',X.shape)"
   ]
  },
  {
   "cell_type": "code",
   "execution_count": 28,
   "id": "cf746ba0",
   "metadata": {},
   "outputs": [
    {
     "data": {
      "text/plain": [
       "array([  9.,   0.,   0.,   0.,   0.,   0.,  -4., -10.,   0.,   0.,  -2.,\n",
       "         1.,   0.,  -7.,   0.,   0.,   0.,  -1.,   0.,   0.])"
      ]
     },
     "execution_count": 28,
     "metadata": {},
     "output_type": "execute_result"
    }
   ],
   "source": [
    "np.random.seed(3)\n",
    "\n",
    "# we are going to select beta in such a way that half of the value contain 0\n",
    "beta = np.random.randint(-10,10,10)\n",
    "beta = np.concatenate([beta,np.zeros(10)])\n",
    "np.random.shuffle(beta)\n",
    "beta"
   ]
  },
  {
   "cell_type": "code",
   "execution_count": 29,
   "id": "7e1d50c3",
   "metadata": {},
   "outputs": [
    {
     "data": {
      "text/plain": [
       "(20, 1)"
      ]
     },
     "execution_count": 29,
     "metadata": {},
     "output_type": "execute_result"
    }
   ],
   "source": [
    "beta = np.expand_dims(beta,axis = 1)\n",
    "beta.shape"
   ]
  },
  {
   "cell_type": "code",
   "execution_count": 30,
   "id": "2639e1fc",
   "metadata": {},
   "outputs": [],
   "source": [
    "np.random.seed(1)\n",
    "# Y = X*Beta + eps\n",
    "# shapees - (1000,1) = (1000,20)*(20,1) + (1000,1)\n",
    "Y = np.dot(X,beta) + np.random.normal(size = (1000,1))"
   ]
  },
  {
   "cell_type": "code",
   "execution_count": 31,
   "id": "42dd2ec4",
   "metadata": {},
   "outputs": [
    {
     "name": "stdout",
     "output_type": "stream",
     "text": [
      "(1000, 20)\n"
     ]
    },
    {
     "data": {
      "text/html": [
       "<div>\n",
       "<style scoped>\n",
       "    .dataframe tbody tr th:only-of-type {\n",
       "        vertical-align: middle;\n",
       "    }\n",
       "\n",
       "    .dataframe tbody tr th {\n",
       "        vertical-align: top;\n",
       "    }\n",
       "\n",
       "    .dataframe thead th {\n",
       "        text-align: right;\n",
       "    }\n",
       "</style>\n",
       "<table border=\"1\" class=\"dataframe\">\n",
       "  <thead>\n",
       "    <tr style=\"text-align: right;\">\n",
       "      <th></th>\n",
       "      <th>X_1</th>\n",
       "      <th>X_2</th>\n",
       "      <th>X_3</th>\n",
       "      <th>X_4</th>\n",
       "      <th>X_5</th>\n",
       "      <th>X_6</th>\n",
       "      <th>X_7</th>\n",
       "      <th>X_8</th>\n",
       "      <th>X_9</th>\n",
       "      <th>X_10</th>\n",
       "      <th>X_11</th>\n",
       "      <th>X_12</th>\n",
       "      <th>X_13</th>\n",
       "      <th>X_14</th>\n",
       "      <th>X_15</th>\n",
       "      <th>X_16</th>\n",
       "      <th>X_17</th>\n",
       "      <th>X_18</th>\n",
       "      <th>X_19</th>\n",
       "      <th>X_20</th>\n",
       "    </tr>\n",
       "  </thead>\n",
       "  <tbody>\n",
       "    <tr>\n",
       "      <th>0</th>\n",
       "      <td>0.410444</td>\n",
       "      <td>-0.719096</td>\n",
       "      <td>-0.762959</td>\n",
       "      <td>-0.446420</td>\n",
       "      <td>-0.930669</td>\n",
       "      <td>0.395849</td>\n",
       "      <td>0.226992</td>\n",
       "      <td>-0.094350</td>\n",
       "      <td>-0.921557</td>\n",
       "      <td>0.057758</td>\n",
       "      <td>-0.263338</td>\n",
       "      <td>-1.097054</td>\n",
       "      <td>-1.803579</td>\n",
       "      <td>0.205810</td>\n",
       "      <td>-0.303640</td>\n",
       "      <td>-1.678214</td>\n",
       "      <td>1.506766</td>\n",
       "      <td>-0.681425</td>\n",
       "      <td>0.574622</td>\n",
       "      <td>-1.515758</td>\n",
       "    </tr>\n",
       "    <tr>\n",
       "      <th>1</th>\n",
       "      <td>-0.213175</td>\n",
       "      <td>-0.532299</td>\n",
       "      <td>0.342087</td>\n",
       "      <td>-1.586459</td>\n",
       "      <td>-1.007328</td>\n",
       "      <td>2.677643</td>\n",
       "      <td>0.718302</td>\n",
       "      <td>-0.082678</td>\n",
       "      <td>-0.513678</td>\n",
       "      <td>-0.124617</td>\n",
       "      <td>-0.438768</td>\n",
       "      <td>-1.589194</td>\n",
       "      <td>0.368750</td>\n",
       "      <td>-1.825914</td>\n",
       "      <td>0.312024</td>\n",
       "      <td>0.199917</td>\n",
       "      <td>0.354442</td>\n",
       "      <td>1.484433</td>\n",
       "      <td>-0.277343</td>\n",
       "      <td>-1.225871</td>\n",
       "    </tr>\n",
       "    <tr>\n",
       "      <th>2</th>\n",
       "      <td>2.618032</td>\n",
       "      <td>-2.157299</td>\n",
       "      <td>-1.239550</td>\n",
       "      <td>0.138052</td>\n",
       "      <td>-1.275739</td>\n",
       "      <td>0.667743</td>\n",
       "      <td>-0.352651</td>\n",
       "      <td>-1.086572</td>\n",
       "      <td>-1.268559</td>\n",
       "      <td>0.010079</td>\n",
       "      <td>1.334289</td>\n",
       "      <td>0.244716</td>\n",
       "      <td>0.365815</td>\n",
       "      <td>-0.483129</td>\n",
       "      <td>1.274984</td>\n",
       "      <td>-1.061585</td>\n",
       "      <td>1.001921</td>\n",
       "      <td>0.495380</td>\n",
       "      <td>0.186772</td>\n",
       "      <td>1.175674</td>\n",
       "    </tr>\n",
       "    <tr>\n",
       "      <th>3</th>\n",
       "      <td>-0.016844</td>\n",
       "      <td>2.058922</td>\n",
       "      <td>-1.384259</td>\n",
       "      <td>0.037915</td>\n",
       "      <td>0.275998</td>\n",
       "      <td>0.317659</td>\n",
       "      <td>-0.224200</td>\n",
       "      <td>0.112809</td>\n",
       "      <td>2.450289</td>\n",
       "      <td>-1.822410</td>\n",
       "      <td>0.788957</td>\n",
       "      <td>0.114624</td>\n",
       "      <td>-0.532782</td>\n",
       "      <td>0.184201</td>\n",
       "      <td>-0.082332</td>\n",
       "      <td>-1.938192</td>\n",
       "      <td>-1.710514</td>\n",
       "      <td>-0.830703</td>\n",
       "      <td>-0.730943</td>\n",
       "      <td>-0.019587</td>\n",
       "    </tr>\n",
       "    <tr>\n",
       "      <th>4</th>\n",
       "      <td>-0.409501</td>\n",
       "      <td>0.258779</td>\n",
       "      <td>0.838085</td>\n",
       "      <td>0.174673</td>\n",
       "      <td>1.373440</td>\n",
       "      <td>1.196078</td>\n",
       "      <td>0.268100</td>\n",
       "      <td>1.552374</td>\n",
       "      <td>-0.877470</td>\n",
       "      <td>-0.000402</td>\n",
       "      <td>0.306365</td>\n",
       "      <td>-1.079155</td>\n",
       "      <td>1.544823</td>\n",
       "      <td>-0.572645</td>\n",
       "      <td>0.664711</td>\n",
       "      <td>0.215609</td>\n",
       "      <td>-1.114301</td>\n",
       "      <td>0.714626</td>\n",
       "      <td>0.487724</td>\n",
       "      <td>-2.817440</td>\n",
       "    </tr>\n",
       "  </tbody>\n",
       "</table>\n",
       "</div>"
      ],
      "text/plain": [
       "        X_1       X_2       X_3       X_4       X_5       X_6       X_7  \\\n",
       "0  0.410444 -0.719096 -0.762959 -0.446420 -0.930669  0.395849  0.226992   \n",
       "1 -0.213175 -0.532299  0.342087 -1.586459 -1.007328  2.677643  0.718302   \n",
       "2  2.618032 -2.157299 -1.239550  0.138052 -1.275739  0.667743 -0.352651   \n",
       "3 -0.016844  2.058922 -1.384259  0.037915  0.275998  0.317659 -0.224200   \n",
       "4 -0.409501  0.258779  0.838085  0.174673  1.373440  1.196078  0.268100   \n",
       "\n",
       "        X_8       X_9      X_10      X_11      X_12      X_13      X_14  \\\n",
       "0 -0.094350 -0.921557  0.057758 -0.263338 -1.097054 -1.803579  0.205810   \n",
       "1 -0.082678 -0.513678 -0.124617 -0.438768 -1.589194  0.368750 -1.825914   \n",
       "2 -1.086572 -1.268559  0.010079  1.334289  0.244716  0.365815 -0.483129   \n",
       "3  0.112809  2.450289 -1.822410  0.788957  0.114624 -0.532782  0.184201   \n",
       "4  1.552374 -0.877470 -0.000402  0.306365 -1.079155  1.544823 -0.572645   \n",
       "\n",
       "       X_15      X_16      X_17      X_18      X_19      X_20  \n",
       "0 -0.303640 -1.678214  1.506766 -0.681425  0.574622 -1.515758  \n",
       "1  0.312024  0.199917  0.354442  1.484433 -0.277343 -1.225871  \n",
       "2  1.274984 -1.061585  1.001921  0.495380  0.186772  1.175674  \n",
       "3 -0.082332 -1.938192 -1.710514 -0.830703 -0.730943 -0.019587  \n",
       "4  0.664711  0.215609 -1.114301  0.714626  0.487724 -2.817440  "
      ]
     },
     "execution_count": 31,
     "metadata": {},
     "output_type": "execute_result"
    }
   ],
   "source": [
    "# Converting it into a dataframe\n",
    "data = pd.DataFrame(X,columns=['X_' + str(i) for i in range(1,21)])\n",
    "print(data.shape)\n",
    "data.head()"
   ]
  },
  {
   "cell_type": "markdown",
   "id": "548c8ce3",
   "metadata": {},
   "source": [
    "(b) Split your data set into a training set containing 100 observations and a test set containing 900 observations"
   ]
  },
  {
   "cell_type": "code",
   "execution_count": 36,
   "id": "ef01d62d",
   "metadata": {},
   "outputs": [
    {
     "name": "stdout",
     "output_type": "stream",
     "text": [
      "Shape of X_train and X_test are respecitively  (100, 20) (900, 20)\n"
     ]
    }
   ],
   "source": [
    "X_train,X_test,y_train,y_test = train_test_split(data,Y,test_size = 0.9,random_state = 1)\n",
    "print('Shape of X_train and X_test are respecitively ',X_train.shape,X_test.shape)"
   ]
  },
  {
   "cell_type": "markdown",
   "id": "7dfc3ba2",
   "metadata": {},
   "source": [
    "# ---------------------------------------------------------------"
   ]
  },
  {
   "cell_type": "code",
   "execution_count": 37,
   "id": "13987710",
   "metadata": {},
   "outputs": [
    {
     "name": "stderr",
     "output_type": "stream",
     "text": [
      "C:\\Users\\Suraj\\AppData\\Local\\Programs\\Python\\Python310\\lib\\site-packages\\sklearn\\utils\\deprecation.py:87: FutureWarning: Function load_boston is deprecated; `load_boston` is deprecated in 1.0 and will be removed in 1.2.\n",
      "\n",
      "    The Boston housing prices dataset has an ethical problem. You can refer to\n",
      "    the documentation of this function for further details.\n",
      "\n",
      "    The scikit-learn maintainers therefore strongly discourage the use of this\n",
      "    dataset unless the purpose of the code is to study and educate about\n",
      "    ethical issues in data science and machine learning.\n",
      "\n",
      "    In this special case, you can fetch the dataset from the original\n",
      "    source::\n",
      "\n",
      "        import pandas as pd\n",
      "        import numpy as np\n",
      "\n",
      "        data_url = \"http://lib.stat.cmu.edu/datasets/boston\"\n",
      "        raw_df = pd.read_csv(data_url, sep=\"\\s+\", skiprows=22, header=None)\n",
      "        data = np.hstack([raw_df.values[::2, :], raw_df.values[1::2, :2]])\n",
      "        target = raw_df.values[1::2, 2]\n",
      "\n",
      "    Alternative datasets include the California housing dataset (i.e.\n",
      "    :func:`~sklearn.datasets.fetch_california_housing`) and the Ames housing\n",
      "    dataset. You can load the datasets as follows::\n",
      "\n",
      "        from sklearn.datasets import fetch_california_housing\n",
      "        housing = fetch_california_housing()\n",
      "\n",
      "    for the California housing dataset and::\n",
      "\n",
      "        from sklearn.datasets import fetch_openml\n",
      "        housing = fetch_openml(name=\"house_prices\", as_frame=True)\n",
      "\n",
      "    for the Ames housing dataset.\n",
      "  warnings.warn(msg, category=FutureWarning)\n"
     ]
    }
   ],
   "source": [
    "from sklearn.datasets import load_boston\n",
    "boston = load_boston()"
   ]
  },
  {
   "cell_type": "code",
   "execution_count": 38,
   "id": "4c39c162",
   "metadata": {},
   "outputs": [
    {
     "data": {
      "text/html": [
       "<div>\n",
       "<style scoped>\n",
       "    .dataframe tbody tr th:only-of-type {\n",
       "        vertical-align: middle;\n",
       "    }\n",
       "\n",
       "    .dataframe tbody tr th {\n",
       "        vertical-align: top;\n",
       "    }\n",
       "\n",
       "    .dataframe thead th {\n",
       "        text-align: right;\n",
       "    }\n",
       "</style>\n",
       "<table border=\"1\" class=\"dataframe\">\n",
       "  <thead>\n",
       "    <tr style=\"text-align: right;\">\n",
       "      <th></th>\n",
       "      <th>CRIM</th>\n",
       "      <th>ZN</th>\n",
       "      <th>INDUS</th>\n",
       "      <th>CHAS</th>\n",
       "      <th>NOX</th>\n",
       "      <th>RM</th>\n",
       "      <th>AGE</th>\n",
       "      <th>DIS</th>\n",
       "      <th>RAD</th>\n",
       "      <th>TAX</th>\n",
       "      <th>PTRATIO</th>\n",
       "      <th>B</th>\n",
       "      <th>LSTAT</th>\n",
       "    </tr>\n",
       "  </thead>\n",
       "  <tbody>\n",
       "    <tr>\n",
       "      <th>0</th>\n",
       "      <td>0.00632</td>\n",
       "      <td>18.0</td>\n",
       "      <td>2.31</td>\n",
       "      <td>0.0</td>\n",
       "      <td>0.538</td>\n",
       "      <td>6.575</td>\n",
       "      <td>65.2</td>\n",
       "      <td>4.0900</td>\n",
       "      <td>1.0</td>\n",
       "      <td>296.0</td>\n",
       "      <td>15.3</td>\n",
       "      <td>396.90</td>\n",
       "      <td>4.98</td>\n",
       "    </tr>\n",
       "    <tr>\n",
       "      <th>1</th>\n",
       "      <td>0.02731</td>\n",
       "      <td>0.0</td>\n",
       "      <td>7.07</td>\n",
       "      <td>0.0</td>\n",
       "      <td>0.469</td>\n",
       "      <td>6.421</td>\n",
       "      <td>78.9</td>\n",
       "      <td>4.9671</td>\n",
       "      <td>2.0</td>\n",
       "      <td>242.0</td>\n",
       "      <td>17.8</td>\n",
       "      <td>396.90</td>\n",
       "      <td>9.14</td>\n",
       "    </tr>\n",
       "    <tr>\n",
       "      <th>2</th>\n",
       "      <td>0.02729</td>\n",
       "      <td>0.0</td>\n",
       "      <td>7.07</td>\n",
       "      <td>0.0</td>\n",
       "      <td>0.469</td>\n",
       "      <td>7.185</td>\n",
       "      <td>61.1</td>\n",
       "      <td>4.9671</td>\n",
       "      <td>2.0</td>\n",
       "      <td>242.0</td>\n",
       "      <td>17.8</td>\n",
       "      <td>392.83</td>\n",
       "      <td>4.03</td>\n",
       "    </tr>\n",
       "    <tr>\n",
       "      <th>3</th>\n",
       "      <td>0.03237</td>\n",
       "      <td>0.0</td>\n",
       "      <td>2.18</td>\n",
       "      <td>0.0</td>\n",
       "      <td>0.458</td>\n",
       "      <td>6.998</td>\n",
       "      <td>45.8</td>\n",
       "      <td>6.0622</td>\n",
       "      <td>3.0</td>\n",
       "      <td>222.0</td>\n",
       "      <td>18.7</td>\n",
       "      <td>394.63</td>\n",
       "      <td>2.94</td>\n",
       "    </tr>\n",
       "    <tr>\n",
       "      <th>4</th>\n",
       "      <td>0.06905</td>\n",
       "      <td>0.0</td>\n",
       "      <td>2.18</td>\n",
       "      <td>0.0</td>\n",
       "      <td>0.458</td>\n",
       "      <td>7.147</td>\n",
       "      <td>54.2</td>\n",
       "      <td>6.0622</td>\n",
       "      <td>3.0</td>\n",
       "      <td>222.0</td>\n",
       "      <td>18.7</td>\n",
       "      <td>396.90</td>\n",
       "      <td>5.33</td>\n",
       "    </tr>\n",
       "  </tbody>\n",
       "</table>\n",
       "</div>"
      ],
      "text/plain": [
       "      CRIM    ZN  INDUS  CHAS    NOX     RM   AGE     DIS  RAD    TAX  \\\n",
       "0  0.00632  18.0   2.31   0.0  0.538  6.575  65.2  4.0900  1.0  296.0   \n",
       "1  0.02731   0.0   7.07   0.0  0.469  6.421  78.9  4.9671  2.0  242.0   \n",
       "2  0.02729   0.0   7.07   0.0  0.469  7.185  61.1  4.9671  2.0  242.0   \n",
       "3  0.03237   0.0   2.18   0.0  0.458  6.998  45.8  6.0622  3.0  222.0   \n",
       "4  0.06905   0.0   2.18   0.0  0.458  7.147  54.2  6.0622  3.0  222.0   \n",
       "\n",
       "   PTRATIO       B  LSTAT  \n",
       "0     15.3  396.90   4.98  \n",
       "1     17.8  396.90   9.14  \n",
       "2     17.8  392.83   4.03  \n",
       "3     18.7  394.63   2.94  \n",
       "4     18.7  396.90   5.33  "
      ]
     },
     "execution_count": 38,
     "metadata": {},
     "output_type": "execute_result"
    }
   ],
   "source": [
    "data = pd.DataFrame(boston.data,columns = boston.feature_names)\n",
    "data.head()"
   ]
  },
  {
   "cell_type": "code",
   "execution_count": 39,
   "id": "1a0f5acd",
   "metadata": {},
   "outputs": [
    {
     "data": {
      "text/html": [
       "<div>\n",
       "<style scoped>\n",
       "    .dataframe tbody tr th:only-of-type {\n",
       "        vertical-align: middle;\n",
       "    }\n",
       "\n",
       "    .dataframe tbody tr th {\n",
       "        vertical-align: top;\n",
       "    }\n",
       "\n",
       "    .dataframe thead th {\n",
       "        text-align: right;\n",
       "    }\n",
       "</style>\n",
       "<table border=\"1\" class=\"dataframe\">\n",
       "  <thead>\n",
       "    <tr style=\"text-align: right;\">\n",
       "      <th></th>\n",
       "      <th>ZN</th>\n",
       "      <th>INDUS</th>\n",
       "      <th>CHAS</th>\n",
       "      <th>NOX</th>\n",
       "      <th>RM</th>\n",
       "      <th>AGE</th>\n",
       "      <th>DIS</th>\n",
       "      <th>RAD</th>\n",
       "      <th>TAX</th>\n",
       "      <th>PTRATIO</th>\n",
       "      <th>B</th>\n",
       "      <th>LSTAT</th>\n",
       "    </tr>\n",
       "  </thead>\n",
       "  <tbody>\n",
       "    <tr>\n",
       "      <th>0</th>\n",
       "      <td>18.0</td>\n",
       "      <td>2.31</td>\n",
       "      <td>0.0</td>\n",
       "      <td>0.538</td>\n",
       "      <td>6.575</td>\n",
       "      <td>65.2</td>\n",
       "      <td>4.0900</td>\n",
       "      <td>1.0</td>\n",
       "      <td>296.0</td>\n",
       "      <td>15.3</td>\n",
       "      <td>396.90</td>\n",
       "      <td>4.98</td>\n",
       "    </tr>\n",
       "    <tr>\n",
       "      <th>1</th>\n",
       "      <td>0.0</td>\n",
       "      <td>7.07</td>\n",
       "      <td>0.0</td>\n",
       "      <td>0.469</td>\n",
       "      <td>6.421</td>\n",
       "      <td>78.9</td>\n",
       "      <td>4.9671</td>\n",
       "      <td>2.0</td>\n",
       "      <td>242.0</td>\n",
       "      <td>17.8</td>\n",
       "      <td>396.90</td>\n",
       "      <td>9.14</td>\n",
       "    </tr>\n",
       "    <tr>\n",
       "      <th>2</th>\n",
       "      <td>0.0</td>\n",
       "      <td>7.07</td>\n",
       "      <td>0.0</td>\n",
       "      <td>0.469</td>\n",
       "      <td>7.185</td>\n",
       "      <td>61.1</td>\n",
       "      <td>4.9671</td>\n",
       "      <td>2.0</td>\n",
       "      <td>242.0</td>\n",
       "      <td>17.8</td>\n",
       "      <td>392.83</td>\n",
       "      <td>4.03</td>\n",
       "    </tr>\n",
       "    <tr>\n",
       "      <th>3</th>\n",
       "      <td>0.0</td>\n",
       "      <td>2.18</td>\n",
       "      <td>0.0</td>\n",
       "      <td>0.458</td>\n",
       "      <td>6.998</td>\n",
       "      <td>45.8</td>\n",
       "      <td>6.0622</td>\n",
       "      <td>3.0</td>\n",
       "      <td>222.0</td>\n",
       "      <td>18.7</td>\n",
       "      <td>394.63</td>\n",
       "      <td>2.94</td>\n",
       "    </tr>\n",
       "    <tr>\n",
       "      <th>4</th>\n",
       "      <td>0.0</td>\n",
       "      <td>2.18</td>\n",
       "      <td>0.0</td>\n",
       "      <td>0.458</td>\n",
       "      <td>7.147</td>\n",
       "      <td>54.2</td>\n",
       "      <td>6.0622</td>\n",
       "      <td>3.0</td>\n",
       "      <td>222.0</td>\n",
       "      <td>18.7</td>\n",
       "      <td>396.90</td>\n",
       "      <td>5.33</td>\n",
       "    </tr>\n",
       "  </tbody>\n",
       "</table>\n",
       "</div>"
      ],
      "text/plain": [
       "     ZN  INDUS  CHAS    NOX     RM   AGE     DIS  RAD    TAX  PTRATIO       B  \\\n",
       "0  18.0   2.31   0.0  0.538  6.575  65.2  4.0900  1.0  296.0     15.3  396.90   \n",
       "1   0.0   7.07   0.0  0.469  6.421  78.9  4.9671  2.0  242.0     17.8  396.90   \n",
       "2   0.0   7.07   0.0  0.469  7.185  61.1  4.9671  2.0  242.0     17.8  392.83   \n",
       "3   0.0   2.18   0.0  0.458  6.998  45.8  6.0622  3.0  222.0     18.7  394.63   \n",
       "4   0.0   2.18   0.0  0.458  7.147  54.2  6.0622  3.0  222.0     18.7  396.90   \n",
       "\n",
       "   LSTAT  \n",
       "0   4.98  \n",
       "1   9.14  \n",
       "2   4.03  \n",
       "3   2.94  \n",
       "4   5.33  "
      ]
     },
     "execution_count": 39,
     "metadata": {},
     "output_type": "execute_result"
    }
   ],
   "source": [
    "predictors = data.drop('CRIM',axis = 1)\n",
    "y = data['CRIM']\n",
    "predictors.head()"
   ]
  },
  {
   "cell_type": "code",
   "execution_count": 41,
   "id": "7ff21150",
   "metadata": {},
   "outputs": [
    {
     "name": "stderr",
     "output_type": "stream",
     "text": [
      "C:\\Users\\Suraj\\AppData\\Local\\Programs\\Python\\Python310\\lib\\site-packages\\seaborn\\_decorators.py:36: FutureWarning: Pass the following variables as keyword args: x, y. From version 0.12, the only valid positional argument will be `data`, and passing other arguments without an explicit keyword will result in an error or misinterpretation.\n",
      "  warnings.warn(\n"
     ]
    },
    {
     "data": {
      "image/png": "[encoded data removed]",
      "text/plain": [
       "<Figure size 432x288 with 1 Axes>"
      ]
     },
     "metadata": {
      "needs_background": "light"
     },
     "output_type": "display_data"
    },
    {
     "name": "stderr",
     "output_type": "stream",
     "text": [
      "C:\\Users\\Suraj\\AppData\\Local\\Programs\\Python\\Python310\\lib\\site-packages\\seaborn\\_decorators.py:36: FutureWarning: Pass the following variables as keyword args: x, y. From version 0.12, the only valid positional argument will be `data`, and passing other arguments without an explicit keyword will result in an error or misinterpretation.\n",
      "  warnings.warn(\n"
     ]
    },
    {
     "data": {
      "image/png": "[encoded data removed]",
      "text/plain": [
       "<Figure size 432x288 with 1 Axes>"
      ]
     },
     "metadata": {
      "needs_background": "light"
     },
     "output_type": "display_data"
    },
    {
     "name": "stderr",
     "output_type": "stream",
     "text": [
      "C:\\Users\\Suraj\\AppData\\Local\\Programs\\Python\\Python310\\lib\\site-packages\\seaborn\\_decorators.py:36: FutureWarning: Pass the following variables as keyword args: x, y. From version 0.12, the only valid positional argument will be `data`, and passing other arguments without an explicit keyword will result in an error or misinterpretation.\n",
      "  warnings.warn(\n"
     ]
    },
    {
     "data": {
      "image/png": "[encoded data removed]",
      "text/plain": [
       "<Figure size 432x288 with 1 Axes>"
      ]
     },
     "metadata": {
      "needs_background": "light"
     },
     "output_type": "display_data"
    },
    {
     "name": "stderr",
     "output_type": "stream",
     "text": [
      "C:\\Users\\Suraj\\AppData\\Local\\Programs\\Python\\Python310\\lib\\site-packages\\seaborn\\_decorators.py:36: FutureWarning: Pass the following variables as keyword args: x, y. From version 0.12, the only valid positional argument will be `data`, and passing other arguments without an explicit keyword will result in an error or misinterpretation.\n",
      "  warnings.warn(\n"
     ]
    },
    {
     "data": {
      "image/png": "[encoded data removed]",
      "text/plain": [
       "<Figure size 432x288 with 1 Axes>"
      ]
     },
     "metadata": {
      "needs_background": "light"
     },
     "output_type": "display_data"
    },
    {
     "name": "stderr",
     "output_type": "stream",
     "text": [
      "C:\\Users\\Suraj\\AppData\\Local\\Programs\\Python\\Python310\\lib\\site-packages\\seaborn\\_decorators.py:36: FutureWarning: Pass the following variables as keyword args: x, y. From version 0.12, the only valid positional argument will be `data`, and passing other arguments without an explicit keyword will result in an error or misinterpretation.\n",
      "  warnings.warn(\n"
     ]
    },
    {
     "data": {
      "image/png": "[encoded data removed]",
      "text/plain": [
       "<Figure size 432x288 with 1 Axes>"
      ]
     },
     "metadata": {
      "needs_background": "light"
     },
     "output_type": "display_data"
    },
    {
     "name": "stderr",
     "output_type": "stream",
     "text": [
      "C:\\Users\\Suraj\\AppData\\Local\\Programs\\Python\\Python310\\lib\\site-packages\\seaborn\\_decorators.py:36: FutureWarning: Pass the following variables as keyword args: x, y. From version 0.12, the only valid positional argument will be `data`, and passing other arguments without an explicit keyword will result in an error or misinterpretation.\n",
      "  warnings.warn(\n"
     ]
    },
    {
     "data": {
      "image/png": "[encoded data removed]",
      "text/plain": [
       "<Figure size 432x288 with 1 Axes>"
      ]
     },
     "metadata": {
      "needs_background": "light"
     },
     "output_type": "display_data"
    },
    {
     "name": "stderr",
     "output_type": "stream",
     "text": [
      "C:\\Users\\Suraj\\AppData\\Local\\Programs\\Python\\Python310\\lib\\site-packages\\seaborn\\_decorators.py:36: FutureWarning: Pass the following variables as keyword args: x, y. From version 0.12, the only valid positional argument will be `data`, and passing other arguments without an explicit keyword will result in an error or misinterpretation.\n",
      "  warnings.warn(\n"
     ]
    },
    {
     "data": {
      "image/png": "[encoded data removed]",
      "text/plain": [
       "<Figure size 432x288 with 1 Axes>"
      ]
     },
     "metadata": {
      "needs_background": "light"
     },
     "output_type": "display_data"
    },
    {
     "name": "stderr",
     "output_type": "stream",
     "text": [
      "C:\\Users\\Suraj\\AppData\\Local\\Programs\\Python\\Python310\\lib\\site-packages\\seaborn\\_decorators.py:36: FutureWarning: Pass the following variables as keyword args: x, y. From version 0.12, the only valid positional argument will be `data`, and passing other arguments without an explicit keyword will result in an error or misinterpretation.\n",
      "  warnings.warn(\n"
     ]
    },
    {
     "data": {
      "image/png": "[encoded data removed]",
      "text/plain": [
       "<Figure size 432x288 with 1 Axes>"
      ]
     },
     "metadata": {
      "needs_background": "light"
     },
     "output_type": "display_data"
    },
    {
     "name": "stderr",
     "output_type": "stream",
     "text": [
      "C:\\Users\\Suraj\\AppData\\Local\\Programs\\Python\\Python310\\lib\\site-packages\\seaborn\\_decorators.py:36: FutureWarning: Pass the following variables as keyword args: x, y. From version 0.12, the only valid positional argument will be `data`, and passing other arguments without an explicit keyword will result in an error or misinterpretation.\n",
      "  warnings.warn(\n"
     ]
    },
    {
     "data": {
      "image/png": "[encoded data removed]",
      "text/plain": [
       "<Figure size 432x288 with 1 Axes>"
      ]
     },
     "metadata": {
      "needs_background": "light"
     },
     "output_type": "display_data"
    },
    {
     "name": "stderr",
     "output_type": "stream",
     "text": [
      "C:\\Users\\Suraj\\AppData\\Local\\Programs\\Python\\Python310\\lib\\site-packages\\seaborn\\_decorators.py:36: FutureWarning: Pass the following variables as keyword args: x, y. From version 0.12, the only valid positional argument will be `data`, and passing other arguments without an explicit keyword will result in an error or misinterpretation.\n",
      "  warnings.warn(\n"
     ]
    },
    {
     "data": {
      "image/png": "[encoded data removed]",
      "text/plain": [
       "<Figure size 432x288 with 1 Axes>"
      ]
     },
     "metadata": {
      "needs_background": "light"
     },
     "output_type": "display_data"
    },
    {
     "name": "stderr",
     "output_type": "stream",
     "text": [
      "C:\\Users\\Suraj\\AppData\\Local\\Programs\\Python\\Python310\\lib\\site-packages\\seaborn\\_decorators.py:36: FutureWarning: Pass the following variables as keyword args: x, y. From version 0.12, the only valid positional argument will be `data`, and passing other arguments without an explicit keyword will result in an error or misinterpretation.\n",
      "  warnings.warn(\n"
     ]
    },
    {
     "data": {
      "image/png": "[encoded data removed]",
      "text/plain": [
       "<Figure size 432x288 with 1 Axes>"
      ]
     },
     "metadata": {
      "needs_background": "light"
     },
     "output_type": "display_data"
    },
    {
     "name": "stderr",
     "output_type": "stream",
     "text": [
      "C:\\Users\\Suraj\\AppData\\Local\\Programs\\Python\\Python310\\lib\\site-packages\\seaborn\\_decorators.py:36: FutureWarning: Pass the following variables as keyword args: x, y. From version 0.12, the only valid positional argument will be `data`, and passing other arguments without an explicit keyword will result in an error or misinterpretation.\n",
      "  warnings.warn(\n"
     ]
    },
    {
     "data": {
      "image/png": "[encoded data removed]",
      "text/plain": [
       "<Figure size 432x288 with 1 Axes>"
      ]
     },
     "metadata": {
      "needs_background": "light"
     },
     "output_type": "display_data"
    }
   ],
   "source": [
    "import seaborn as sns\n",
    "for feature in predictors.columns:\n",
    "    sns.scatterplot(predictors[feature],data['CRIM'])\n",
    "    plt.title(feature)\n",
    "    plt.show()"
   ]
  },
  {
   "cell_type": "markdown",
   "id": "7305c974",
   "metadata": {},
   "source": [
    "(a) Try out some of the regression methods explored in this chapter, such as best subset selection, the lasso, ridge regression, and PCR. Present and discuss results for the approaches that you consider."
   ]
  },
  {
   "cell_type": "code",
   "execution_count": 42,
   "id": "761a574f",
   "metadata": {},
   "outputs": [
    {
     "name": "stdout",
     "output_type": "stream",
     "text": [
      "Error for best subset selection is  44.46861428992999\n"
     ]
    }
   ],
   "source": [
    "# Best subset selection\n",
    "results_dict = {}\n",
    "\n",
    "hand_selected_features = ['NOX','DIS','RAD','LSTAT']\n",
    "lin_reg = LinearRegression()\n",
    "error = cross_val_score(lin_reg,predictors[hand_selected_features],y,cv = 5,scoring = 'neg_mean_squared_error')\n",
    "print('Error for best subset selection is ',-np.mean(error))\n",
    "results_dict['Best_subset'] = -np.mean(error)"
   ]
  },
  {
   "cell_type": "code",
   "execution_count": 43,
   "id": "740d1ce4",
   "metadata": {},
   "outputs": [
    {
     "name": "stdout",
     "output_type": "stream",
     "text": [
      "Error for best subset selection is  48.57680751139624\n"
     ]
    }
   ],
   "source": [
    "# Least Squares\n",
    "lin_reg = LinearRegression()\n",
    "error = cross_val_score(lin_reg,predictors,y,cv = 5,scoring = 'neg_mean_squared_error')\n",
    "print('Error for best subset selection is ',-np.mean(error))\n",
    "results_dict['least_squares'] = -np.mean(error)"
   ]
  },
  {
   "cell_type": "code",
   "execution_count": 44,
   "id": "0f0e6c2b",
   "metadata": {},
   "outputs": [
    {
     "name": "stderr",
     "output_type": "stream",
     "text": [
      "C:\\Users\\Suraj\\AppData\\Local\\Programs\\Python\\Python310\\lib\\site-packages\\sklearn\\linear_model\\_base.py:141: FutureWarning: 'normalize' was deprecated in version 1.0 and will be removed in 1.2.\n",
      "If you wish to scale the data, use Pipeline with a StandardScaler in a preprocessing stage. To reproduce the previous behavior:\n",
      "\n",
      "from sklearn.pipeline import make_pipeline\n",
      "\n",
      "model = make_pipeline(StandardScaler(with_mean=False), _RidgeGCV())\n",
      "\n",
      "If you wish to pass a sample_weight parameter, you need to pass it as a fit parameter to each step of the pipeline as follows:\n",
      "\n",
      "kwargs = {s[0] + '__sample_weight': sample_weight for s in model.steps}\n",
      "model.fit(X, y, **kwargs)\n",
      "\n",
      "Set parameter alphas to: original_alphas * n_samples. \n",
      "  warnings.warn(\n"
     ]
    },
    {
     "data": {
      "text/plain": [
       "(506, 100)"
      ]
     },
     "execution_count": 44,
     "metadata": {},
     "output_type": "execute_result"
    }
   ],
   "source": [
    "#RIdge Regression\n",
    "\n",
    "ridgecv = RidgeCV(alphas = 10**np.linspace(-4,0,100),normalize = True,store_cv_values=True)\n",
    "ridgecv.fit(predictors,y)\n",
    "#lets look at the shape of cv values\n",
    "ridgecv.cv_values_.shape"
   ]
  },
  {
   "cell_type": "code",
   "execution_count": 45,
   "id": "c34ef6bd",
   "metadata": {},
   "outputs": [
    {
     "name": "stdout",
     "output_type": "stream",
     "text": [
      "The best score for ridge regression is  0.44152817621421947\n"
     ]
    }
   ],
   "source": [
    "print(\"The best score for ridge regression is \",ridgecv.score(predictors,y))\n",
    "results_dict['Ridge'] = ridgecv.score(predictors,y)"
   ]
  },
  {
   "cell_type": "code",
   "execution_count": 46,
   "id": "b641f051",
   "metadata": {},
   "outputs": [
    {
     "data": {
      "text/plain": [
       "Text(0, 0.5, 'CV ERROR MSE')"
      ]
     },
     "execution_count": 46,
     "metadata": {},
     "output_type": "execute_result"
    },
    {
     "data": {
      "image/png": "[encoded data removed]",
      "text/plain": [
       "<Figure size 432x288 with 1 Axes>"
      ]
     },
     "metadata": {
      "needs_background": "light"
     },
     "output_type": "display_data"
    }
   ],
   "source": [
    "# Cv value are having a shape of (506,100), which means that for each alpha we have to take mean at axis = 0, t0\n",
    "# get mean cv values. 506 suggets that it is LOOCV\n",
    "mse_cv = np.mean(ridgecv.cv_values_,axis = 0)\n",
    "plt.plot(ridge_cv.alphas,mse_cv)\n",
    "plt.plot(ridge_cv.alpha_,np.min(mse_cv),marker = 'o',color = 'red',markersize = 8)\n",
    "plt.xscale('log')\n",
    "plt.xlabel('Alpha')\n",
    "plt.ylabel('CV ERROR MSE')\n"
   ]
  },
  {
   "cell_type": "code",
   "execution_count": 47,
   "id": "f9a796e1",
   "metadata": {},
   "outputs": [
    {
     "data": {
      "text/plain": [
       "Intercept    8.217616\n",
       "ZN           0.033446\n",
       "INDUS       -0.078059\n",
       "CHAS        -1.244094\n",
       "NOX         -5.822660\n",
       "RM          -0.289045\n",
       "AGE          0.001512\n",
       "DIS         -0.656616\n",
       "RAD          0.486683\n",
       "TAX          0.001082\n",
       "PTRATIO     -0.060691\n",
       "B           -0.009707\n",
       "LSTAT        0.229104\n",
       "dtype: float64"
      ]
     },
     "execution_count": 47,
     "metadata": {},
     "output_type": "execute_result"
    }
   ],
   "source": [
    "# We will use hstack, for horizontal stacing of numpy arrays, for vertical we would use vstack\n",
    "pd.Series(np.hstack([ridgecv.intercept_,ridgecv.coef_]),index = ['Intercept'] + list(predictors.columns))"
   ]
  },
  {
   "cell_type": "code",
   "execution_count": 49,
   "id": "216fb568",
   "metadata": {},
   "outputs": [
    {
     "name": "stderr",
     "output_type": "stream",
     "text": [
      "C:\\Users\\Suraj\\AppData\\Local\\Programs\\Python\\Python310\\lib\\site-packages\\sklearn\\linear_model\\_base.py:141: FutureWarning: 'normalize' was deprecated in version 1.0 and will be removed in 1.2.\n",
      "If you wish to scale the data, use Pipeline with a StandardScaler in a preprocessing stage. To reproduce the previous behavior:\n",
      "\n",
      "from sklearn.pipeline import make_pipeline\n",
      "\n",
      "model = make_pipeline(StandardScaler(with_mean=False), Lasso())\n",
      "\n",
      "If you wish to pass a sample_weight parameter, you need to pass it as a fit parameter to each step of the pipeline as follows:\n",
      "\n",
      "kwargs = {s[0] + '__sample_weight': sample_weight for s in model.steps}\n",
      "model.fit(X, y, **kwargs)\n",
      "\n",
      "Set parameter alpha to: original_alpha * np.sqrt(n_samples). \n",
      "  warnings.warn(\n"
     ]
    },
    {
     "data": {
      "text/plain": [
       "(100, 5)"
      ]
     },
     "execution_count": 49,
     "metadata": {},
     "output_type": "execute_result"
    }
   ],
   "source": [
    "# Lasso\n",
    "lassocv = LassoCV(alphas = 10**np.linspace(-4,0,100),normalize = True,cv = 5)\n",
    "lassocv.fit(predictors,y)\n",
    "\n",
    "lassocv.mse_path_.shape"
   ]
  },
  {
   "cell_type": "code",
   "execution_count": 50,
   "id": "13e53b81",
   "metadata": {},
   "outputs": [
    {
     "name": "stdout",
     "output_type": "stream",
     "text": [
      "The best score for lasso is  0.425720149350171\n"
     ]
    }
   ],
   "source": [
    "print(\"The best score for lasso is \",lassocv.score(predictors,y))\n",
    "results_dict['Lasso'] = lassocv.score(predictors,y)"
   ]
  },
  {
   "cell_type": "code",
   "execution_count": 51,
   "id": "778fb0d5",
   "metadata": {},
   "outputs": [
    {
     "data": {
      "text/plain": [
       "Text(0, 0.5, 'CV ERROR MSE')"
      ]
     },
     "execution_count": 51,
     "metadata": {},
     "output_type": "execute_result"
    },
    {
     "data": {
      "image/png": "[encoded data removed]",
      "text/plain": [
       "<Figure size 432x288 with 1 Axes>"
      ]
     },
     "metadata": {
      "needs_background": "light"
     },
     "output_type": "display_data"
    }
   ],
   "source": [
    "# in this case we will take the mean at axis = 1\n",
    "mse_cv = np.mean(lassocv.mse_path_,axis = 1)\n",
    "plt.plot(lassocv.alphas_,mse_cv)\n",
    "plt.plot(lassocv.alpha_,np.min(mse_cv),marker = 'o',color = 'red',markersize = 8)\n",
    "plt.xscale('log')\n",
    "plt.xlabel('Alpha')\n",
    "plt.ylabel('CV ERROR MSE')\n"
   ]
  },
  {
   "cell_type": "code",
   "execution_count": 52,
   "id": "9310b0da",
   "metadata": {},
   "outputs": [
    {
     "data": {
      "text/plain": [
       "Intercept   -0.545888\n",
       "ZN           0.000000\n",
       "INDUS        0.000000\n",
       "CHAS        -0.000000\n",
       "NOX          0.000000\n",
       "RM          -0.000000\n",
       "AGE          0.000000\n",
       "DIS         -0.023275\n",
       "RAD          0.466255\n",
       "TAX          0.000000\n",
       "PTRATIO     -0.000000\n",
       "B           -0.007033\n",
       "LSTAT        0.182062\n",
       "dtype: float64"
      ]
     },
     "execution_count": 52,
     "metadata": {},
     "output_type": "execute_result"
    }
   ],
   "source": [
    "pd.Series(np.hstack([lassocv.intercept_,lassocv.coef_]),index = ['Intercept'] + list(predictors.columns))"
   ]
  },
  {
   "cell_type": "markdown",
   "id": "56f60251",
   "metadata": {},
   "source": [
    "8 coefficients have been reduced to 0 weights"
   ]
  },
  {
   "cell_type": "markdown",
   "id": "6eee9078",
   "metadata": {},
   "source": [
    "(b) Propose a model (or set of models) that seem to perform well on this data set, and justify your answer. Make sure that you are evaluating model performance using validation set error, crossvalidation, or some other reasonable alternative, as opposed to using training error."
   ]
  },
  {
   "cell_type": "code",
   "execution_count": 53,
   "id": "9a1e7152",
   "metadata": {},
   "outputs": [
    {
     "data": {
      "text/html": [
       "<div>\n",
       "<style scoped>\n",
       "    .dataframe tbody tr th:only-of-type {\n",
       "        vertical-align: middle;\n",
       "    }\n",
       "\n",
       "    .dataframe tbody tr th {\n",
       "        vertical-align: top;\n",
       "    }\n",
       "\n",
       "    .dataframe thead th {\n",
       "        text-align: right;\n",
       "    }\n",
       "</style>\n",
       "<table border=\"1\" class=\"dataframe\">\n",
       "  <thead>\n",
       "    <tr style=\"text-align: right;\">\n",
       "      <th></th>\n",
       "      <th>Error</th>\n",
       "    </tr>\n",
       "  </thead>\n",
       "  <tbody>\n",
       "    <tr>\n",
       "      <th>Lasso</th>\n",
       "      <td>0.425720</td>\n",
       "    </tr>\n",
       "    <tr>\n",
       "      <th>Ridge</th>\n",
       "      <td>0.441528</td>\n",
       "    </tr>\n",
       "    <tr>\n",
       "      <th>Best_subset</th>\n",
       "      <td>44.468614</td>\n",
       "    </tr>\n",
       "    <tr>\n",
       "      <th>least_squares</th>\n",
       "      <td>48.576808</td>\n",
       "    </tr>\n",
       "  </tbody>\n",
       "</table>\n",
       "</div>"
      ],
      "text/plain": [
       "                   Error\n",
       "Lasso           0.425720\n",
       "Ridge           0.441528\n",
       "Best_subset    44.468614\n",
       "least_squares  48.576808"
      ]
     },
     "execution_count": 53,
     "metadata": {},
     "output_type": "execute_result"
    }
   ],
   "source": [
    "pd.DataFrame(results_dict,index = ['Error']).T.sort_values(by = 'Error')"
   ]
  },
  {
   "cell_type": "markdown",
   "id": "e3671ea9",
   "metadata": {},
   "source": [
    "(c) Does your chosen model involve all of the features in the data set? Why or why not?"
   ]
  },
  {
   "cell_type": "markdown",
   "id": "1d970dea",
   "metadata": {},
   "source": [
    "Ans: No the choosen model, does not contain all the features. In fact, 8 of the features, have 0 coefficients."
   ]
  },
  {
   "cell_type": "code",
   "execution_count": null,
   "id": "4706ffc1",
   "metadata": {},
   "outputs": [],
   "source": []
  }
 ],
 "metadata": {
  "kernelspec": {
   "display_name": "Python 3 (ipykernel)",
   "language": "python",
   "name": "python3"
  },
  "language_info": {
   "codemirror_mode": {
    "name": "ipython",
    "version": 3
   },
   "file_extension": ".py",
   "mimetype": "text/x-python",
   "name": "python",
   "nbconvert_exporter": "python",
   "pygments_lexer": "ipython3",
   "version": "3.10.0"
  }
 },
 "nbformat": 4,
 "nbformat_minor": 5
}
