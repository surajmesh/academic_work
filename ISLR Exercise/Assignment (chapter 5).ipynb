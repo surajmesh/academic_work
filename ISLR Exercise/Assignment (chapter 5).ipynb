{
 "cells": [
  {
   "cell_type": "code",
   "execution_count": 215,
   "id": "83698715",
   "metadata": {},
   "outputs": [],
   "source": [
    "import pandas as pd\n",
    "import numpy as np\n",
    "\n",
    "from sklearn.model_selection import train_test_split\n",
    "from sklearn.linear_model import LogisticRegression,LinearRegression\n",
    "from sklearn.metrics import accuracy_score\n",
    "\n",
    "import statsmodels.api as sm\n",
    "\n",
    "import seaborn as sns\n",
    "\n"
   ]
  },
  {
   "cell_type": "code",
   "execution_count": 184,
   "id": "76f1ce9d",
   "metadata": {},
   "outputs": [],
   "source": [
    "import os \n",
    "os.chdir(\"C:\\WorkFile\")"
   ]
  },
  {
   "cell_type": "markdown",
   "id": "45938efd",
   "metadata": {},
   "source": [
    "# Que.5"
   ]
  },
  {
   "cell_type": "code",
   "execution_count": 185,
   "id": "577683cd",
   "metadata": {},
   "outputs": [
    {
     "name": "stderr",
     "output_type": "stream",
     "text": [
      "C:\\Users\\Suraj\\AppData\\Local\\Programs\\Python\\Python310\\lib\\site-packages\\openpyxl\\styles\\stylesheet.py:226: UserWarning: Workbook contains no default style, apply openpyxl's default\n",
      "  warn(\"Workbook contains no default style, apply openpyxl's default\")\n"
     ]
    },
    {
     "name": "stdout",
     "output_type": "stream",
     "text": [
      "(10000, 5)\n"
     ]
    },
    {
     "data": {
      "text/html": [
       "<div>\n",
       "<style scoped>\n",
       "    .dataframe tbody tr th:only-of-type {\n",
       "        vertical-align: middle;\n",
       "    }\n",
       "\n",
       "    .dataframe tbody tr th {\n",
       "        vertical-align: top;\n",
       "    }\n",
       "\n",
       "    .dataframe thead th {\n",
       "        text-align: right;\n",
       "    }\n",
       "</style>\n",
       "<table border=\"1\" class=\"dataframe\">\n",
       "  <thead>\n",
       "    <tr style=\"text-align: right;\">\n",
       "      <th></th>\n",
       "      <th>Unnamed: 0</th>\n",
       "      <th>default</th>\n",
       "      <th>student</th>\n",
       "      <th>balance</th>\n",
       "      <th>income</th>\n",
       "    </tr>\n",
       "  </thead>\n",
       "  <tbody>\n",
       "    <tr>\n",
       "      <th>0</th>\n",
       "      <td>1</td>\n",
       "      <td>No</td>\n",
       "      <td>No</td>\n",
       "      <td>729.526495</td>\n",
       "      <td>44361.625074</td>\n",
       "    </tr>\n",
       "    <tr>\n",
       "      <th>1</th>\n",
       "      <td>2</td>\n",
       "      <td>No</td>\n",
       "      <td>Yes</td>\n",
       "      <td>817.180407</td>\n",
       "      <td>12106.134700</td>\n",
       "    </tr>\n",
       "    <tr>\n",
       "      <th>2</th>\n",
       "      <td>3</td>\n",
       "      <td>No</td>\n",
       "      <td>No</td>\n",
       "      <td>1073.549164</td>\n",
       "      <td>31767.138947</td>\n",
       "    </tr>\n",
       "    <tr>\n",
       "      <th>3</th>\n",
       "      <td>4</td>\n",
       "      <td>No</td>\n",
       "      <td>No</td>\n",
       "      <td>529.250605</td>\n",
       "      <td>35704.493935</td>\n",
       "    </tr>\n",
       "    <tr>\n",
       "      <th>4</th>\n",
       "      <td>5</td>\n",
       "      <td>No</td>\n",
       "      <td>No</td>\n",
       "      <td>785.655883</td>\n",
       "      <td>38463.495879</td>\n",
       "    </tr>\n",
       "  </tbody>\n",
       "</table>\n",
       "</div>"
      ],
      "text/plain": [
       "   Unnamed: 0 default student      balance        income\n",
       "0           1      No      No   729.526495  44361.625074\n",
       "1           2      No     Yes   817.180407  12106.134700\n",
       "2           3      No      No  1073.549164  31767.138947\n",
       "3           4      No      No   529.250605  35704.493935\n",
       "4           5      No      No   785.655883  38463.495879"
      ]
     },
     "execution_count": 185,
     "metadata": {},
     "output_type": "execute_result"
    }
   ],
   "source": [
    "import pandas as pd\n",
    "\n",
    "default = pd.read_excel('Default.xlsx',index_col=0)\n",
    "print(df.shape)\n",
    "df.head()"
   ]
  },
  {
   "cell_type": "code",
   "execution_count": 186,
   "id": "e702512a",
   "metadata": {},
   "outputs": [
    {
     "data": {
      "text/plain": [
       "(10000, 4)"
      ]
     },
     "execution_count": 186,
     "metadata": {},
     "output_type": "execute_result"
    }
   ],
   "source": [
    "default.shape"
   ]
  },
  {
   "cell_type": "code",
   "execution_count": 187,
   "id": "81bf2299",
   "metadata": {},
   "outputs": [
    {
     "data": {
      "text/html": [
       "<div>\n",
       "<style scoped>\n",
       "    .dataframe tbody tr th:only-of-type {\n",
       "        vertical-align: middle;\n",
       "    }\n",
       "\n",
       "    .dataframe tbody tr th {\n",
       "        vertical-align: top;\n",
       "    }\n",
       "\n",
       "    .dataframe thead th {\n",
       "        text-align: right;\n",
       "    }\n",
       "</style>\n",
       "<table border=\"1\" class=\"dataframe\">\n",
       "  <thead>\n",
       "    <tr style=\"text-align: right;\">\n",
       "      <th></th>\n",
       "      <th>default</th>\n",
       "      <th>student</th>\n",
       "      <th>balance</th>\n",
       "      <th>income</th>\n",
       "    </tr>\n",
       "  </thead>\n",
       "  <tbody>\n",
       "    <tr>\n",
       "      <th>1</th>\n",
       "      <td>No</td>\n",
       "      <td>No</td>\n",
       "      <td>729.526495</td>\n",
       "      <td>44361.625074</td>\n",
       "    </tr>\n",
       "    <tr>\n",
       "      <th>2</th>\n",
       "      <td>No</td>\n",
       "      <td>Yes</td>\n",
       "      <td>817.180407</td>\n",
       "      <td>12106.134700</td>\n",
       "    </tr>\n",
       "    <tr>\n",
       "      <th>3</th>\n",
       "      <td>No</td>\n",
       "      <td>No</td>\n",
       "      <td>1073.549164</td>\n",
       "      <td>31767.138947</td>\n",
       "    </tr>\n",
       "    <tr>\n",
       "      <th>4</th>\n",
       "      <td>No</td>\n",
       "      <td>No</td>\n",
       "      <td>529.250605</td>\n",
       "      <td>35704.493935</td>\n",
       "    </tr>\n",
       "    <tr>\n",
       "      <th>5</th>\n",
       "      <td>No</td>\n",
       "      <td>No</td>\n",
       "      <td>785.655883</td>\n",
       "      <td>38463.495879</td>\n",
       "    </tr>\n",
       "  </tbody>\n",
       "</table>\n",
       "</div>"
      ],
      "text/plain": [
       "  default student      balance        income\n",
       "1      No      No   729.526495  44361.625074\n",
       "2      No     Yes   817.180407  12106.134700\n",
       "3      No      No  1073.549164  31767.138947\n",
       "4      No      No   529.250605  35704.493935\n",
       "5      No      No   785.655883  38463.495879"
      ]
     },
     "execution_count": 187,
     "metadata": {},
     "output_type": "execute_result"
    }
   ],
   "source": [
    "default.head()"
   ]
  },
  {
   "cell_type": "code",
   "execution_count": 188,
   "id": "422d014b",
   "metadata": {},
   "outputs": [
    {
     "data": {
      "text/html": [
       "<div>\n",
       "<style scoped>\n",
       "    .dataframe tbody tr th:only-of-type {\n",
       "        vertical-align: middle;\n",
       "    }\n",
       "\n",
       "    .dataframe tbody tr th {\n",
       "        vertical-align: top;\n",
       "    }\n",
       "\n",
       "    .dataframe thead th {\n",
       "        text-align: right;\n",
       "    }\n",
       "</style>\n",
       "<table border=\"1\" class=\"dataframe\">\n",
       "  <thead>\n",
       "    <tr style=\"text-align: right;\">\n",
       "      <th></th>\n",
       "      <th>default</th>\n",
       "      <th>student</th>\n",
       "      <th>balance</th>\n",
       "      <th>income</th>\n",
       "    </tr>\n",
       "  </thead>\n",
       "  <tbody>\n",
       "    <tr>\n",
       "      <th>2584</th>\n",
       "      <td>0</td>\n",
       "      <td>No</td>\n",
       "      <td>412.687613</td>\n",
       "      <td>33923.458043</td>\n",
       "    </tr>\n",
       "    <tr>\n",
       "      <th>5159</th>\n",
       "      <td>0</td>\n",
       "      <td>No</td>\n",
       "      <td>211.983028</td>\n",
       "      <td>33448.244784</td>\n",
       "    </tr>\n",
       "    <tr>\n",
       "      <th>7045</th>\n",
       "      <td>0</td>\n",
       "      <td>Yes</td>\n",
       "      <td>997.936283</td>\n",
       "      <td>25788.363154</td>\n",
       "    </tr>\n",
       "    <tr>\n",
       "      <th>1991</th>\n",
       "      <td>0</td>\n",
       "      <td>No</td>\n",
       "      <td>0.000000</td>\n",
       "      <td>49792.757259</td>\n",
       "    </tr>\n",
       "    <tr>\n",
       "      <th>1295</th>\n",
       "      <td>0</td>\n",
       "      <td>No</td>\n",
       "      <td>1576.306916</td>\n",
       "      <td>30547.799971</td>\n",
       "    </tr>\n",
       "    <tr>\n",
       "      <th>7004</th>\n",
       "      <td>0</td>\n",
       "      <td>No</td>\n",
       "      <td>57.647049</td>\n",
       "      <td>38218.184473</td>\n",
       "    </tr>\n",
       "    <tr>\n",
       "      <th>5342</th>\n",
       "      <td>0</td>\n",
       "      <td>No</td>\n",
       "      <td>1024.326377</td>\n",
       "      <td>33832.489629</td>\n",
       "    </tr>\n",
       "    <tr>\n",
       "      <th>7473</th>\n",
       "      <td>0</td>\n",
       "      <td>Yes</td>\n",
       "      <td>1669.763112</td>\n",
       "      <td>23741.510598</td>\n",
       "    </tr>\n",
       "    <tr>\n",
       "      <th>5016</th>\n",
       "      <td>0</td>\n",
       "      <td>No</td>\n",
       "      <td>556.017498</td>\n",
       "      <td>33705.078650</td>\n",
       "    </tr>\n",
       "    <tr>\n",
       "      <th>5522</th>\n",
       "      <td>0</td>\n",
       "      <td>No</td>\n",
       "      <td>674.204630</td>\n",
       "      <td>46481.952680</td>\n",
       "    </tr>\n",
       "  </tbody>\n",
       "</table>\n",
       "</div>"
      ],
      "text/plain": [
       "      default student      balance        income\n",
       "2584        0      No   412.687613  33923.458043\n",
       "5159        0      No   211.983028  33448.244784\n",
       "7045        0     Yes   997.936283  25788.363154\n",
       "1991        0      No     0.000000  49792.757259\n",
       "1295        0      No  1576.306916  30547.799971\n",
       "7004        0      No    57.647049  38218.184473\n",
       "5342        0      No  1024.326377  33832.489629\n",
       "7473        0     Yes  1669.763112  23741.510598\n",
       "5016        0      No   556.017498  33705.078650\n",
       "5522        0      No   674.204630  46481.952680"
      ]
     },
     "execution_count": 188,
     "metadata": {},
     "output_type": "execute_result"
    }
   ],
   "source": [
    "encoding_dict = {'Yes':1,'No':0}\n",
    "default['default'] = default['default'].map(encoding_dict)\n",
    "default.sample(10)"
   ]
  },
  {
   "cell_type": "markdown",
   "id": "0548f59d",
   "metadata": {},
   "source": [
    "(a) Fit a logistic regression model that uses income and balance to predict default."
   ]
  },
  {
   "cell_type": "code",
   "execution_count": 189,
   "id": "7ba13697",
   "metadata": {},
   "outputs": [
    {
     "name": "stdout",
     "output_type": "stream",
     "text": [
      "train accuracy is 0.9737\n"
     ]
    }
   ],
   "source": [
    "LR = LogisticRegression()\n",
    "LR.fit(default[['income','balance']],default['default'])\n",
    "pred = LR.predict(default[['income','balance']])\n",
    "print('train accuracy is',accuracy_score(pred,default['default']))"
   ]
  },
  {
   "cell_type": "markdown",
   "id": "2a76b175",
   "metadata": {},
   "source": [
    "(b) Using the validation set approach, estimate the test error of this model"
   ]
  },
  {
   "cell_type": "markdown",
   "id": "89d77b7b",
   "metadata": {},
   "source": [
    "i) spliting the sample set into training set and validation set"
   ]
  },
  {
   "cell_type": "code",
   "execution_count": 190,
   "id": "1a40ab8e",
   "metadata": {},
   "outputs": [
    {
     "name": "stdout",
     "output_type": "stream",
     "text": [
      "shape of X_train (7000, 2)\n",
      "shape of X_valid (3000, 2)\n"
     ]
    }
   ],
   "source": [
    "X_train,X_valid,Y_train,Y_valid = train_test_split(default.drop(['default','student'],\n",
    "                                        axis = 1) ,default['default'],test_size=0.3,                       \n",
    "                                               random_state=0 )\n",
    "print('shape of X_train',X_train.shape)\n",
    "print('shape of X_valid',X_valid.shape)"
   ]
  },
  {
   "cell_type": "markdown",
   "id": "aeaa66d8",
   "metadata": {},
   "source": [
    "ii) Fit a multiple logistic regression model using only the trainig observation"
   ]
  },
  {
   "cell_type": "code",
   "execution_count": 191,
   "id": "608807a0",
   "metadata": {},
   "outputs": [
    {
     "data": {
      "text/html": [
       "<style>#sk-container-id-13 {color: black;background-color: white;}#sk-container-id-13 pre{padding: 0;}#sk-container-id-13 div.sk-toggleable {background-color: white;}#sk-container-id-13 label.sk-toggleable__label {cursor: pointer;display: block;width: 100%;margin-bottom: 0;padding: 0.3em;box-sizing: border-box;text-align: center;}#sk-container-id-13 label.sk-toggleable__label-arrow:before {content: \"▸\";float: left;margin-right: 0.25em;color: #696969;}#sk-container-id-13 label.sk-toggleable__label-arrow:hover:before {color: black;}#sk-container-id-13 div.sk-estimator:hover label.sk-toggleable__label-arrow:before {color: black;}#sk-container-id-13 div.sk-toggleable__content {max-height: 0;max-width: 0;overflow: hidden;text-align: left;background-color: #f0f8ff;}#sk-container-id-13 div.sk-toggleable__content pre {margin: 0.2em;color: black;border-radius: 0.25em;background-color: #f0f8ff;}#sk-container-id-13 input.sk-toggleable__control:checked~div.sk-toggleable__content {max-height: 200px;max-width: 100%;overflow: auto;}#sk-container-id-13 input.sk-toggleable__control:checked~label.sk-toggleable__label-arrow:before {content: \"▾\";}#sk-container-id-13 div.sk-estimator input.sk-toggleable__control:checked~label.sk-toggleable__label {background-color: #d4ebff;}#sk-container-id-13 div.sk-label input.sk-toggleable__control:checked~label.sk-toggleable__label {background-color: #d4ebff;}#sk-container-id-13 input.sk-hidden--visually {border: 0;clip: rect(1px 1px 1px 1px);clip: rect(1px, 1px, 1px, 1px);height: 1px;margin: -1px;overflow: hidden;padding: 0;position: absolute;width: 1px;}#sk-container-id-13 div.sk-estimator {font-family: monospace;background-color: #f0f8ff;border: 1px dotted black;border-radius: 0.25em;box-sizing: border-box;margin-bottom: 0.5em;}#sk-container-id-13 div.sk-estimator:hover {background-color: #d4ebff;}#sk-container-id-13 div.sk-parallel-item::after {content: \"\";width: 100%;border-bottom: 1px solid gray;flex-grow: 1;}#sk-container-id-13 div.sk-label:hover label.sk-toggleable__label {background-color: #d4ebff;}#sk-container-id-13 div.sk-serial::before {content: \"\";position: absolute;border-left: 1px solid gray;box-sizing: border-box;top: 0;bottom: 0;left: 50%;z-index: 0;}#sk-container-id-13 div.sk-serial {display: flex;flex-direction: column;align-items: center;background-color: white;padding-right: 0.2em;padding-left: 0.2em;position: relative;}#sk-container-id-13 div.sk-item {position: relative;z-index: 1;}#sk-container-id-13 div.sk-parallel {display: flex;align-items: stretch;justify-content: center;background-color: white;position: relative;}#sk-container-id-13 div.sk-item::before, #sk-container-id-13 div.sk-parallel-item::before {content: \"\";position: absolute;border-left: 1px solid gray;box-sizing: border-box;top: 0;bottom: 0;left: 50%;z-index: -1;}#sk-container-id-13 div.sk-parallel-item {display: flex;flex-direction: column;z-index: 1;position: relative;background-color: white;}#sk-container-id-13 div.sk-parallel-item:first-child::after {align-self: flex-end;width: 50%;}#sk-container-id-13 div.sk-parallel-item:last-child::after {align-self: flex-start;width: 50%;}#sk-container-id-13 div.sk-parallel-item:only-child::after {width: 0;}#sk-container-id-13 div.sk-dashed-wrapped {border: 1px dashed gray;margin: 0 0.4em 0.5em 0.4em;box-sizing: border-box;padding-bottom: 0.4em;background-color: white;}#sk-container-id-13 div.sk-label label {font-family: monospace;font-weight: bold;display: inline-block;line-height: 1.2em;}#sk-container-id-13 div.sk-label-container {text-align: center;}#sk-container-id-13 div.sk-container {/* jupyter's `normalize.less` sets `[hidden] { display: none; }` but bootstrap.min.css set `[hidden] { display: none !important; }` so we also need the `!important` here to be able to override the default hidden behavior on the sphinx rendered scikit-learn.org. See: https://github.com/scikit-learn/scikit-learn/issues/21755 */display: inline-block !important;position: relative;}#sk-container-id-13 div.sk-text-repr-fallback {display: none;}</style><div id=\"sk-container-id-13\" class=\"sk-top-container\"><div class=\"sk-text-repr-fallback\"><pre>LogisticRegression()</pre><b>In a Jupyter environment, please rerun this cell to show the HTML representation or trust the notebook. <br />On GitHub, the HTML representation is unable to render, please try loading this page with nbviewer.org.</b></div><div class=\"sk-container\" hidden><div class=\"sk-item\"><div class=\"sk-estimator sk-toggleable\"><input class=\"sk-toggleable__control sk-hidden--visually\" id=\"sk-estimator-id-13\" type=\"checkbox\" checked><label for=\"sk-estimator-id-13\" class=\"sk-toggleable__label sk-toggleable__label-arrow\">LogisticRegression</label><div class=\"sk-toggleable__content\"><pre>LogisticRegression()</pre></div></div></div></div></div>"
      ],
      "text/plain": [
       "LogisticRegression()"
      ]
     },
     "execution_count": 191,
     "metadata": {},
     "output_type": "execute_result"
    }
   ],
   "source": [
    "LR = LogisticRegression()\n",
    "LR.fit(X_train,Y_train)\n"
   ]
  },
  {
   "cell_type": "markdown",
   "id": "4f6ab2db",
   "metadata": {},
   "source": [
    "iv) Compute the validation set error"
   ]
  },
  {
   "cell_type": "code",
   "execution_count": 192,
   "id": "ea23b1b2",
   "metadata": {},
   "outputs": [
    {
     "name": "stdout",
     "output_type": "stream",
     "text": [
      "Validation error is  0.0273\n"
     ]
    }
   ],
   "source": [
    "pred = LR.predict(X_valid)\n",
    "validation_err = 1 - accuracy_score(pred,Y_valid)\n",
    "print('Validation error is ',round(validation_err,4))"
   ]
  },
  {
   "cell_type": "markdown",
   "id": "57b2fe65",
   "metadata": {},
   "source": [
    "C) Repeat the process in (b) two times "
   ]
  },
  {
   "cell_type": "code",
   "execution_count": 193,
   "id": "649377e2",
   "metadata": {},
   "outputs": [
    {
     "name": "stdout",
     "output_type": "stream",
     "text": [
      "shape of X_train (7000, 2)\n",
      "shape of X_valid (3000, 2)\n",
      "Validation error is  0.034\n"
     ]
    }
   ],
   "source": [
    "# when randiom_state = 5 \n",
    "\n",
    "# spliting data into training set and validation set\n",
    "\n",
    "X_train,X_valid,Y_train,Y_valid =train_test_split(default.drop(['default','student'],axis=1),\n",
    "         \n",
    "                                    default['default'],test_size=0.3,random_state=5)\n",
    "\n",
    "print('shape of X_train',X_train.shape)\n",
    "print('shape of X_valid',X_valid.shape)\n",
    "\n",
    "LR = LogisticRegression()\n",
    "LR.fit(X_train,Y_train)\n",
    "\n",
    "pred = LR.predict(X_valid)\n",
    "validation_err = 1 - accuracy_score(pred,Y_valid)\n",
    "print('Validation error is ',round(validation_err,4))\n"
   ]
  },
  {
   "cell_type": "code",
   "execution_count": 194,
   "id": "3224e54b",
   "metadata": {},
   "outputs": [
    {
     "name": "stdout",
     "output_type": "stream",
     "text": [
      "shape of X_train (7000, 2)\n",
      "shape of X_valid (3000, 2)\n",
      "Validation error is  0.0377\n"
     ]
    }
   ],
   "source": [
    "# when randiom_state = 10\n",
    "\n",
    "# spliting data into training set and validation set\n",
    "\n",
    "X_train,X_valid,Y_train,Y_valid =train_test_split(default.drop(['default','student'],axis=1),\n",
    "         \n",
    "                                    default['default'],test_size=0.3,random_state=10)\n",
    "\n",
    "print('shape of X_train',X_train.shape)\n",
    "print('shape of X_valid',X_valid.shape)\n",
    "\n",
    "LR = LogisticRegression()\n",
    "LR.fit(X_train,Y_train)\n",
    "\n",
    "pred = LR.predict(X_valid)\n",
    "validation_err = 1 - accuracy_score(pred,Y_valid)\n",
    "print('Validation error is ',round(validation_err,4))\n"
   ]
  },
  {
   "cell_type": "markdown",
   "id": "a5ce9b9d",
   "metadata": {},
   "source": [
    "Comment : we can see that there no big diffrence , the result of validation error is \n",
    "#close to each other "
   ]
  },
  {
   "cell_type": "markdown",
   "id": "0b808cb1",
   "metadata": {},
   "source": [
    "d) Now consider a logistic regression model that predicts\n",
    "the probability of default using income, balance, and a dummy variable for student. \n",
    "Estimate the test error for this model using the validation set approach\n",
    "and also comment on Results"
   ]
  },
  {
   "cell_type": "code",
   "execution_count": 195,
   "id": "6b28ecc0",
   "metadata": {},
   "outputs": [],
   "source": [
    "default['student'] = default['student'].map(encoding_dict)"
   ]
  },
  {
   "cell_type": "code",
   "execution_count": 196,
   "id": "beb4bd49",
   "metadata": {},
   "outputs": [
    {
     "name": "stdout",
     "output_type": "stream",
     "text": [
      "Shape of X_train  (7000, 3)\n",
      "Shape of X_valid  (3000, 3)\n",
      "Validation error is  0.03200000000000003\n"
     ]
    }
   ],
   "source": [
    "# splitting the data into train and test\n",
    "# we only drop default for the train data\n",
    "# NOTE - We are using random state = 1\n",
    "X_train,X_valid,y_train,y_valid = train_test_split(default.drop(['default'],axis = 1),default['default'],test_size = 0.3,\n",
    "                                                  random_state = 1)\n",
    "print('Shape of X_train ',X_train.shape)\n",
    "print('Shape of X_valid ',X_valid.shape)\n",
    "\n",
    "# fit the logisitc regression on training data\n",
    "lr = LogisticRegression()\n",
    "lr.fit(X_train,y_train)\n",
    "\n",
    "# obtain the predictions\n",
    "pred = lr.predict(X_valid)\n",
    "\n",
    "# computing the validation error\n",
    "print('Validation error is ', 1 - accuracy_score(pred,y_valid))"
   ]
  },
  {
   "cell_type": "markdown",
   "id": "801ad08b",
   "metadata": {},
   "source": [
    " Comment :we can see above that while using balance and income for predicting default, validation error was 30.0333. When we added \n",
    "a new dummy variable student, the error remains the same ( random_state = 1)"
   ]
  },
  {
   "cell_type": "markdown",
   "id": "c38e19d8",
   "metadata": {},
   "source": [
    "# Que.6 "
   ]
  },
  {
   "cell_type": "code",
   "execution_count": 182,
   "id": "e7ca46c1",
   "metadata": {},
   "outputs": [
    {
     "name": "stdout",
     "output_type": "stream",
     "text": [
      "(10000, 4)\n"
     ]
    },
    {
     "data": {
      "text/html": [
       "<div>\n",
       "<style scoped>\n",
       "    .dataframe tbody tr th:only-of-type {\n",
       "        vertical-align: middle;\n",
       "    }\n",
       "\n",
       "    .dataframe tbody tr th {\n",
       "        vertical-align: top;\n",
       "    }\n",
       "\n",
       "    .dataframe thead th {\n",
       "        text-align: right;\n",
       "    }\n",
       "</style>\n",
       "<table border=\"1\" class=\"dataframe\">\n",
       "  <thead>\n",
       "    <tr style=\"text-align: right;\">\n",
       "      <th></th>\n",
       "      <th>default</th>\n",
       "      <th>student</th>\n",
       "      <th>balance</th>\n",
       "      <th>income</th>\n",
       "    </tr>\n",
       "  </thead>\n",
       "  <tbody>\n",
       "    <tr>\n",
       "      <th>1</th>\n",
       "      <td>0</td>\n",
       "      <td>0</td>\n",
       "      <td>729.526495</td>\n",
       "      <td>44361.625074</td>\n",
       "    </tr>\n",
       "    <tr>\n",
       "      <th>2</th>\n",
       "      <td>0</td>\n",
       "      <td>1</td>\n",
       "      <td>817.180407</td>\n",
       "      <td>12106.134700</td>\n",
       "    </tr>\n",
       "    <tr>\n",
       "      <th>3</th>\n",
       "      <td>0</td>\n",
       "      <td>0</td>\n",
       "      <td>1073.549164</td>\n",
       "      <td>31767.138947</td>\n",
       "    </tr>\n",
       "    <tr>\n",
       "      <th>4</th>\n",
       "      <td>0</td>\n",
       "      <td>0</td>\n",
       "      <td>529.250605</td>\n",
       "      <td>35704.493935</td>\n",
       "    </tr>\n",
       "    <tr>\n",
       "      <th>5</th>\n",
       "      <td>0</td>\n",
       "      <td>0</td>\n",
       "      <td>785.655883</td>\n",
       "      <td>38463.495879</td>\n",
       "    </tr>\n",
       "  </tbody>\n",
       "</table>\n",
       "</div>"
      ],
      "text/plain": [
       "   default  student      balance        income\n",
       "1        0        0   729.526495  44361.625074\n",
       "2        0        1   817.180407  12106.134700\n",
       "3        0        0  1073.549164  31767.138947\n",
       "4        0        0   529.250605  35704.493935\n",
       "5        0        0   785.655883  38463.495879"
      ]
     },
     "execution_count": 182,
     "metadata": {},
     "output_type": "execute_result"
    }
   ],
   "source": [
    "print(default.shape)\n",
    "default.head()"
   ]
  },
  {
   "cell_type": "markdown",
   "id": "475cf19e",
   "metadata": {},
   "source": [
    "(a) Using the summary() and glm() functions, determine the estimated standard errors for the coefficients associated with income and balance in a multiple logistic regression model that uses both predictors"
   ]
  },
  {
   "cell_type": "code",
   "execution_count": 204,
   "id": "e056b5ad",
   "metadata": {},
   "outputs": [],
   "source": [
    "X = default[['balance','income']]\n",
    "X = sm.add_constant(X)\n",
    "Y=default['default']"
   ]
  },
  {
   "cell_type": "code",
   "execution_count": 206,
   "id": "1a9e6239",
   "metadata": {},
   "outputs": [
    {
     "name": "stdout",
     "output_type": "stream",
     "text": [
      "Optimization terminated successfully.\n",
      "         Current function value: 0.078948\n",
      "         Iterations 10\n",
      "                           Logit Regression Results                           \n",
      "==============================================================================\n",
      "Dep. Variable:                default   No. Observations:                10000\n",
      "Model:                          Logit   Df Residuals:                     9997\n",
      "Method:                           MLE   Df Model:                            2\n",
      "Date:                Tue, 02 Aug 2022   Pseudo R-squ.:                  0.4594\n",
      "Time:                        20:53:17   Log-Likelihood:                -789.48\n",
      "converged:                       True   LL-Null:                       -1460.3\n",
      "Covariance Type:            nonrobust   LLR p-value:                4.541e-292\n",
      "==============================================================================\n",
      "                 coef    std err          z      P>|z|      [0.025      0.975]\n",
      "------------------------------------------------------------------------------\n",
      "const        -11.5405      0.435    -26.544      0.000     -12.393     -10.688\n",
      "balance        0.0056      0.000     24.835      0.000       0.005       0.006\n",
      "income      2.081e-05   4.99e-06      4.174      0.000     1.1e-05    3.06e-05\n",
      "==============================================================================\n",
      "\n",
      "Possibly complete quasi-separation: A fraction 0.14 of observations can be\n",
      "perfectly predicted. This might indicate that there is complete\n",
      "quasi-separation. In this case some parameters will not be identified.\n"
     ]
    }
   ],
   "source": [
    "results = sm.Logit(Y,X).fit()\n",
    "print(results.summary())"
   ]
  },
  {
   "cell_type": "markdown",
   "id": "8baff3c3",
   "metadata": {},
   "source": [
    "we can see that  std error for balance = 0, std error for incomes = 4.99e-06"
   ]
  },
  {
   "cell_type": "markdown",
   "id": "d859bc40",
   "metadata": {},
   "source": [
    "(b) Write a function, boot.fn(), that takes as input the Default data set as well as an index of the observations, \n",
    "and that outputs the coefficient estimates for income and balance in the multiple logistic regression model."
   ]
  },
  {
   "cell_type": "code",
   "execution_count": 207,
   "id": "a7ab02c7",
   "metadata": {},
   "outputs": [],
   "source": [
    "# to get random indices of given size \n",
    "#since the classes are imbalanced , we want to the random indices to contain\n",
    "#both classes ,otherwise it will produces error , as model can't train if all observation belong\n",
    "# to ine class \n",
    "\n",
    "\n",
    "def get_indices(data,num_samples) :\n",
    "    positive_data = data[data['default'] == 1]\n",
    "    negative_data = data[data['default'] == 0]\n",
    "    \n",
    "    positive_indices = np.random.choice(positive_data.index, int(num_samples / 4), replace=True)\n",
    "    negative_indices = np.random.choice(negative_data.index, int(3*num_samples / 4), replace=True)\n",
    "    total = np.concatenate([positive_indices,negative_indices])\n",
    "    np.random.shuffle(total)\n",
    "    return total\n",
    "\n"
   ]
  },
  {
   "cell_type": "code",
   "execution_count": 208,
   "id": "601c3589",
   "metadata": {},
   "outputs": [],
   "source": [
    "# similar to boot.fn in exercise\n",
    "\n",
    "def boot_fn(data,index):\n",
    "    X = data[['balance','income']].loc[index]\n",
    "    y = data['default'].loc[index]\n",
    "    \n",
    "    lr = LogisticRegression()\n",
    "    lr.fit(X,y)\n",
    "    intercept = lr.intercept_\n",
    "    coef_balance = lr.coef_[0][0]\n",
    "    coef_income = lr.coef_[0][1]\n",
    "    return [intercept,coef_balance,coef_income]"
   ]
  },
  {
   "cell_type": "code",
   "execution_count": 209,
   "id": "e39225e2",
   "metadata": {},
   "outputs": [
    {
     "name": "stdout",
     "output_type": "stream",
     "text": [
      "Intercept is [-2.33221762e-07], the coeff of balance is 0.0018846388499059914 , the coeff for income is -8.619621346047968e-05 \n"
     ]
    }
   ],
   "source": [
    "intercept,coef_balance,coef_income = boot_fn(default,get_indices(default,100))\n",
    "print('Intercept is {}, the coeff of balance is {} , the coeff for income is {} '.format(intercept,coef_balance,coef_income))"
   ]
  },
  {
   "cell_type": "markdown",
   "id": "04eeacab",
   "metadata": {},
   "source": [
    "(c) Use the boot() function together with your boot.fn() function \n",
    "to estimate the standard errors of the logistic regression coefficients for income and balance."
   ]
  },
  {
   "cell_type": "code",
   "execution_count": 210,
   "id": "c06679f7",
   "metadata": {},
   "outputs": [],
   "source": [
    "def boot(data,func,R):\n",
    "    intercept = []\n",
    "    coeff_balance = []\n",
    "    coeff_income = []\n",
    "    for i in range(R):\n",
    "        \n",
    "        [inter,balance,income] = func(data,get_indices(data,100))\n",
    "        intercept.append(float(inter))\n",
    "        coeff_balance.append(balance)\n",
    "        coeff_income.append(income)\n",
    "        \n",
    "    intercept_statistics = {'estimated_value':np.mean(intercept),'std_error':np.std(intercept)}   \n",
    "    balance_statistics = {'estimated_value':np.mean(coeff_balance),'std_error':np.std(coeff_balance)}\n",
    "    income_statistics = {'estimated_value':np.mean(coeff_income),'std_error':np.std(coeff_income)}\n",
    "    return {'intercept':intercept_statistics,'balance_statistices':balance_statistics,'income_statistics':income_statistics}"
   ]
  },
  {
   "cell_type": "code",
   "execution_count": 211,
   "id": "8aa56b37",
   "metadata": {},
   "outputs": [],
   "source": [
    "results = boot(default,boot_fn,1000)"
   ]
  },
  {
   "cell_type": "code",
   "execution_count": 212,
   "id": "070d5216",
   "metadata": {},
   "outputs": [
    {
     "name": "stdout",
     "output_type": "stream",
     "text": [
      "Balance -  {'estimated_value': 0.003089322673748292, 'std_error': 0.00248553766841419}\n",
      "Income -  {'estimated_value': -5.032607837086382e-05, 'std_error': 5.1612061474323556e-05}\n"
     ]
    }
   ],
   "source": [
    "print('Balance - ',results['balance_statistices'])\n",
    "print('Income - ', results['income_statistics'])"
   ]
  },
  {
   "cell_type": "markdown",
   "id": "1c9c7d60",
   "metadata": {},
   "source": [
    " we can see that the standard errors obtained from model and from boostrap are similar"
   ]
  },
  {
   "cell_type": "markdown",
   "id": "194e097b",
   "metadata": {},
   "source": [
    "# Que.8"
   ]
  },
  {
   "cell_type": "markdown",
   "id": "7e3ea996",
   "metadata": {},
   "source": [
    "We will now perform cross-validation on a simulated data set."
   ]
  },
  {
   "cell_type": "markdown",
   "id": "ea8bc0de",
   "metadata": {},
   "source": [
    "(a) Generate a simulated data set as follows:"
   ]
  },
  {
   "cell_type": "code",
   "execution_count": 214,
   "id": "21e1f0ab",
   "metadata": {},
   "outputs": [],
   "source": [
    "np.random.seed(1)\n",
    "y = np.random.normal(size = 100)\n",
    "X = np.random.normal(size = 100)\n",
    "y = X - 2*(X**2) + np.random.normal(size = 100) "
   ]
  },
  {
   "cell_type": "markdown",
   "id": "59e6e191",
   "metadata": {},
   "source": [
    "Comment : N is 100 and p is 2 (Number of features ,i.e X and X^2)"
   ]
  },
  {
   "cell_type": "markdown",
   "id": "37a29f9b",
   "metadata": {},
   "source": [
    "(b) Create a scatterplot of X against Y . Comment on what you find"
   ]
  },
  {
   "cell_type": "code",
   "execution_count": 220,
   "id": "3c50b7e8",
   "metadata": {},
   "outputs": [
    {
     "name": "stderr",
     "output_type": "stream",
     "text": [
      "C:\\Users\\Suraj\\AppData\\Local\\Programs\\Python\\Python310\\lib\\site-packages\\seaborn\\_decorators.py:36: FutureWarning: Pass the following variables as keyword args: x, y. From version 0.12, the only valid positional argument will be `data`, and passing other arguments without an explicit keyword will result in an error or misinterpretation.\n",
      "  warnings.warn(\n"
     ]
    },
    {
     "data": {
      "text/plain": [
       "Text(0.5, 1.0, 'Scatterplot')"
      ]
     },
     "execution_count": 220,
     "metadata": {},
     "output_type": "execute_result"
    },
    {
     "data": {
      "image/png": "[encoded data removed]",
      "text/plain": [
       "<Figure size 432x288 with 1 Axes>"
      ]
     },
     "metadata": {
      "needs_background": "light"
     },
     "output_type": "display_data"
    }
   ],
   "source": [
    "sns.scatterplot(X,y)\n",
    "plt.xlabel(\"X-axis\")\n",
    "plt.ylabel(\"Y-axis\")\n",
    "plt.title('Scatterplot')"
   ]
  },
  {
   "cell_type": "code",
   "execution_count": null,
   "id": "058bae8c",
   "metadata": {},
   "outputs": [],
   "source": []
  }
 ],
 "metadata": {
  "kernelspec": {
   "display_name": "Python 3 (ipykernel)",
   "language": "python",
   "name": "python3"
  },
  "language_info": {
   "codemirror_mode": {
    "name": "ipython",
    "version": 3
   },
   "file_extension": ".py",
   "mimetype": "text/x-python",
   "name": "python",
   "nbconvert_exporter": "python",
   "pygments_lexer": "ipython3",
   "version": "3.10.0"
  }
 },
 "nbformat": 4,
 "nbformat_minor": 5
}
